{
  "nbformat": 4,
  "nbformat_minor": 0,
  "metadata": {
    "colab": {
      "provenance": []
    },
    "kernelspec": {
      "name": "python3",
      "display_name": "Python 3"
    },
    "language_info": {
      "name": "python"
    }
  },
  "cells": [
    {
      "cell_type": "markdown",
      "source": [
        "In this project we take data of Airbnb listings in the US and try to predict the price of stay in that listing.\n",
        "The source of the dataset:\n",
        "https://www.kaggle.com/stevezhenghp/airbnb-price-prediction#train.csv\n",
        "\n",
        "The data includes 74411 listings and 29 columns - including log_price, what we are trying to predict.\n",
        "\n",
        "There was no information about this data so we assume that since all the listings are in the US, the price (or log_price) that we are trying to predict is the general pricing per 1 night stay of the listing, in USD.\n"
      ],
      "metadata": {
        "id": "9kKLKWfhY3tM"
      }
    },
    {
      "cell_type": "code",
      "execution_count": 74,
      "metadata": {
        "id": "0Sd0UGa3EcIx"
      },
      "outputs": [],
      "source": [
        "import pandas as pd\n",
        "import numpy as np\n",
        "import math\n",
        "import matplotlib.pyplot as plt\n",
        "import seaborn as sns\n",
        "import time\n",
        "import warnings\n",
        "import pickle"
      ]
    },
    {
      "cell_type": "code",
      "source": [
        "warnings.filterwarnings('ignore')"
      ],
      "metadata": {
        "id": "szpExL6Nsu75"
      },
      "execution_count": 75,
      "outputs": []
    },
    {
      "cell_type": "code",
      "source": [
        "df=pd.read_csv('/content/drive/MyDrive/PROJECTS DS/AIRBNB/train.csv')"
      ],
      "metadata": {
        "id": "B-A0CE-HID4Q"
      },
      "execution_count": 76,
      "outputs": []
    },
    {
      "cell_type": "markdown",
      "source": [
        "### Data Exploration"
      ],
      "metadata": {
        "id": "GobJE7cIMzWC"
      }
    },
    {
      "cell_type": "code",
      "source": [
        "df.info()"
      ],
      "metadata": {
        "colab": {
          "base_uri": "https://localhost:8080/"
        },
        "id": "qRMiG5TXIIup",
        "outputId": "d184dde6-f1d8-4cfe-a1b4-038fa06a2567"
      },
      "execution_count": 77,
      "outputs": [
        {
          "output_type": "stream",
          "name": "stdout",
          "text": [
            "<class 'pandas.core.frame.DataFrame'>\n",
            "RangeIndex: 74111 entries, 0 to 74110\n",
            "Data columns (total 29 columns):\n",
            " #   Column                  Non-Null Count  Dtype  \n",
            "---  ------                  --------------  -----  \n",
            " 0   id                      74111 non-null  int64  \n",
            " 1   log_price               74111 non-null  float64\n",
            " 2   property_type           74111 non-null  object \n",
            " 3   room_type               74111 non-null  object \n",
            " 4   amenities               74111 non-null  object \n",
            " 5   accommodates            74111 non-null  int64  \n",
            " 6   bathrooms               73911 non-null  float64\n",
            " 7   bed_type                74111 non-null  object \n",
            " 8   cancellation_policy     74111 non-null  object \n",
            " 9   cleaning_fee            74111 non-null  bool   \n",
            " 10  city                    74111 non-null  object \n",
            " 11  description             74111 non-null  object \n",
            " 12  first_review            58247 non-null  object \n",
            " 13  host_has_profile_pic    73923 non-null  object \n",
            " 14  host_identity_verified  73923 non-null  object \n",
            " 15  host_response_rate      55812 non-null  object \n",
            " 16  host_since              73923 non-null  object \n",
            " 17  instant_bookable        74111 non-null  object \n",
            " 18  last_review             58284 non-null  object \n",
            " 19  latitude                74111 non-null  float64\n",
            " 20  longitude               74111 non-null  float64\n",
            " 21  name                    74111 non-null  object \n",
            " 22  neighbourhood           67239 non-null  object \n",
            " 23  number_of_reviews       74111 non-null  int64  \n",
            " 24  review_scores_rating    57389 non-null  float64\n",
            " 25  thumbnail_url           65895 non-null  object \n",
            " 26  zipcode                 73145 non-null  object \n",
            " 27  bedrooms                74020 non-null  float64\n",
            " 28  beds                    73980 non-null  float64\n",
            "dtypes: bool(1), float64(7), int64(3), object(18)\n",
            "memory usage: 15.9+ MB\n"
          ]
        }
      ]
    },
    {
      "cell_type": "code",
      "source": [
        "df.head()"
      ],
      "metadata": {
        "colab": {
          "base_uri": "https://localhost:8080/",
          "height": 498
        },
        "id": "1D6ByzvIIuFx",
        "outputId": "5a380d75-a381-424f-dd80-f9db1cca2959"
      },
      "execution_count": 78,
      "outputs": [
        {
          "output_type": "execute_result",
          "data": {
            "text/plain": [
              "         id  log_price property_type        room_type  \\\n",
              "0   6901257   5.010635     Apartment  Entire home/apt   \n",
              "1   6304928   5.129899     Apartment  Entire home/apt   \n",
              "2   7919400   4.976734     Apartment  Entire home/apt   \n",
              "3  13418779   6.620073         House  Entire home/apt   \n",
              "4   3808709   4.744932     Apartment  Entire home/apt   \n",
              "\n",
              "                                           amenities  accommodates  bathrooms  \\\n",
              "0  {\"Wireless Internet\",\"Air conditioning\",Kitche...             3        1.0   \n",
              "1  {\"Wireless Internet\",\"Air conditioning\",Kitche...             7        1.0   \n",
              "2  {TV,\"Cable TV\",\"Wireless Internet\",\"Air condit...             5        1.0   \n",
              "3  {TV,\"Cable TV\",Internet,\"Wireless Internet\",Ki...             4        1.0   \n",
              "4  {TV,Internet,\"Wireless Internet\",\"Air conditio...             2        1.0   \n",
              "\n",
              "   bed_type cancellation_policy  cleaning_fee  ...   latitude   longitude  \\\n",
              "0  Real Bed              strict          True  ...  40.696524  -73.991617   \n",
              "1  Real Bed              strict          True  ...  40.766115  -73.989040   \n",
              "2  Real Bed            moderate          True  ...  40.808110  -73.943756   \n",
              "3  Real Bed            flexible          True  ...  37.772004 -122.431619   \n",
              "4  Real Bed            moderate          True  ...  38.925627  -77.034596   \n",
              "\n",
              "                                       name     neighbourhood  \\\n",
              "0            Beautiful brownstone 1-bedroom  Brooklyn Heights   \n",
              "1  Superb 3BR Apt Located Near Times Square    Hell's Kitchen   \n",
              "2                          The Garden Oasis            Harlem   \n",
              "3        Beautiful Flat in the Heart of SF!      Lower Haight   \n",
              "4                Great studio in midtown DC  Columbia Heights   \n",
              "\n",
              "  number_of_reviews review_scores_rating  \\\n",
              "0                 2                100.0   \n",
              "1                 6                 93.0   \n",
              "2                10                 92.0   \n",
              "3                 0                  NaN   \n",
              "4                 4                 40.0   \n",
              "\n",
              "                                       thumbnail_url  zipcode bedrooms  beds  \n",
              "0  https://a0.muscache.com/im/pictures/6d7cbbf7-c...    11201      1.0   1.0  \n",
              "1  https://a0.muscache.com/im/pictures/348a55fe-4...    10019      3.0   3.0  \n",
              "2  https://a0.muscache.com/im/pictures/6fae5362-9...    10027      1.0   3.0  \n",
              "3  https://a0.muscache.com/im/pictures/72208dad-9...  94117.0      2.0   2.0  \n",
              "4                                                NaN    20009      0.0   1.0  \n",
              "\n",
              "[5 rows x 29 columns]"
            ],
            "text/html": [
              "\n",
              "  <div id=\"df-6ccd5314-8cdb-432f-aa45-d69da99f4021\" class=\"colab-df-container\">\n",
              "    <div>\n",
              "<style scoped>\n",
              "    .dataframe tbody tr th:only-of-type {\n",
              "        vertical-align: middle;\n",
              "    }\n",
              "\n",
              "    .dataframe tbody tr th {\n",
              "        vertical-align: top;\n",
              "    }\n",
              "\n",
              "    .dataframe thead th {\n",
              "        text-align: right;\n",
              "    }\n",
              "</style>\n",
              "<table border=\"1\" class=\"dataframe\">\n",
              "  <thead>\n",
              "    <tr style=\"text-align: right;\">\n",
              "      <th></th>\n",
              "      <th>id</th>\n",
              "      <th>log_price</th>\n",
              "      <th>property_type</th>\n",
              "      <th>room_type</th>\n",
              "      <th>amenities</th>\n",
              "      <th>accommodates</th>\n",
              "      <th>bathrooms</th>\n",
              "      <th>bed_type</th>\n",
              "      <th>cancellation_policy</th>\n",
              "      <th>cleaning_fee</th>\n",
              "      <th>...</th>\n",
              "      <th>latitude</th>\n",
              "      <th>longitude</th>\n",
              "      <th>name</th>\n",
              "      <th>neighbourhood</th>\n",
              "      <th>number_of_reviews</th>\n",
              "      <th>review_scores_rating</th>\n",
              "      <th>thumbnail_url</th>\n",
              "      <th>zipcode</th>\n",
              "      <th>bedrooms</th>\n",
              "      <th>beds</th>\n",
              "    </tr>\n",
              "  </thead>\n",
              "  <tbody>\n",
              "    <tr>\n",
              "      <th>0</th>\n",
              "      <td>6901257</td>\n",
              "      <td>5.010635</td>\n",
              "      <td>Apartment</td>\n",
              "      <td>Entire home/apt</td>\n",
              "      <td>{\"Wireless Internet\",\"Air conditioning\",Kitche...</td>\n",
              "      <td>3</td>\n",
              "      <td>1.0</td>\n",
              "      <td>Real Bed</td>\n",
              "      <td>strict</td>\n",
              "      <td>True</td>\n",
              "      <td>...</td>\n",
              "      <td>40.696524</td>\n",
              "      <td>-73.991617</td>\n",
              "      <td>Beautiful brownstone 1-bedroom</td>\n",
              "      <td>Brooklyn Heights</td>\n",
              "      <td>2</td>\n",
              "      <td>100.0</td>\n",
              "      <td>https://a0.muscache.com/im/pictures/6d7cbbf7-c...</td>\n",
              "      <td>11201</td>\n",
              "      <td>1.0</td>\n",
              "      <td>1.0</td>\n",
              "    </tr>\n",
              "    <tr>\n",
              "      <th>1</th>\n",
              "      <td>6304928</td>\n",
              "      <td>5.129899</td>\n",
              "      <td>Apartment</td>\n",
              "      <td>Entire home/apt</td>\n",
              "      <td>{\"Wireless Internet\",\"Air conditioning\",Kitche...</td>\n",
              "      <td>7</td>\n",
              "      <td>1.0</td>\n",
              "      <td>Real Bed</td>\n",
              "      <td>strict</td>\n",
              "      <td>True</td>\n",
              "      <td>...</td>\n",
              "      <td>40.766115</td>\n",
              "      <td>-73.989040</td>\n",
              "      <td>Superb 3BR Apt Located Near Times Square</td>\n",
              "      <td>Hell's Kitchen</td>\n",
              "      <td>6</td>\n",
              "      <td>93.0</td>\n",
              "      <td>https://a0.muscache.com/im/pictures/348a55fe-4...</td>\n",
              "      <td>10019</td>\n",
              "      <td>3.0</td>\n",
              "      <td>3.0</td>\n",
              "    </tr>\n",
              "    <tr>\n",
              "      <th>2</th>\n",
              "      <td>7919400</td>\n",
              "      <td>4.976734</td>\n",
              "      <td>Apartment</td>\n",
              "      <td>Entire home/apt</td>\n",
              "      <td>{TV,\"Cable TV\",\"Wireless Internet\",\"Air condit...</td>\n",
              "      <td>5</td>\n",
              "      <td>1.0</td>\n",
              "      <td>Real Bed</td>\n",
              "      <td>moderate</td>\n",
              "      <td>True</td>\n",
              "      <td>...</td>\n",
              "      <td>40.808110</td>\n",
              "      <td>-73.943756</td>\n",
              "      <td>The Garden Oasis</td>\n",
              "      <td>Harlem</td>\n",
              "      <td>10</td>\n",
              "      <td>92.0</td>\n",
              "      <td>https://a0.muscache.com/im/pictures/6fae5362-9...</td>\n",
              "      <td>10027</td>\n",
              "      <td>1.0</td>\n",
              "      <td>3.0</td>\n",
              "    </tr>\n",
              "    <tr>\n",
              "      <th>3</th>\n",
              "      <td>13418779</td>\n",
              "      <td>6.620073</td>\n",
              "      <td>House</td>\n",
              "      <td>Entire home/apt</td>\n",
              "      <td>{TV,\"Cable TV\",Internet,\"Wireless Internet\",Ki...</td>\n",
              "      <td>4</td>\n",
              "      <td>1.0</td>\n",
              "      <td>Real Bed</td>\n",
              "      <td>flexible</td>\n",
              "      <td>True</td>\n",
              "      <td>...</td>\n",
              "      <td>37.772004</td>\n",
              "      <td>-122.431619</td>\n",
              "      <td>Beautiful Flat in the Heart of SF!</td>\n",
              "      <td>Lower Haight</td>\n",
              "      <td>0</td>\n",
              "      <td>NaN</td>\n",
              "      <td>https://a0.muscache.com/im/pictures/72208dad-9...</td>\n",
              "      <td>94117.0</td>\n",
              "      <td>2.0</td>\n",
              "      <td>2.0</td>\n",
              "    </tr>\n",
              "    <tr>\n",
              "      <th>4</th>\n",
              "      <td>3808709</td>\n",
              "      <td>4.744932</td>\n",
              "      <td>Apartment</td>\n",
              "      <td>Entire home/apt</td>\n",
              "      <td>{TV,Internet,\"Wireless Internet\",\"Air conditio...</td>\n",
              "      <td>2</td>\n",
              "      <td>1.0</td>\n",
              "      <td>Real Bed</td>\n",
              "      <td>moderate</td>\n",
              "      <td>True</td>\n",
              "      <td>...</td>\n",
              "      <td>38.925627</td>\n",
              "      <td>-77.034596</td>\n",
              "      <td>Great studio in midtown DC</td>\n",
              "      <td>Columbia Heights</td>\n",
              "      <td>4</td>\n",
              "      <td>40.0</td>\n",
              "      <td>NaN</td>\n",
              "      <td>20009</td>\n",
              "      <td>0.0</td>\n",
              "      <td>1.0</td>\n",
              "    </tr>\n",
              "  </tbody>\n",
              "</table>\n",
              "<p>5 rows × 29 columns</p>\n",
              "</div>\n",
              "    <div class=\"colab-df-buttons\">\n",
              "\n",
              "  <div class=\"colab-df-container\">\n",
              "    <button class=\"colab-df-convert\" onclick=\"convertToInteractive('df-6ccd5314-8cdb-432f-aa45-d69da99f4021')\"\n",
              "            title=\"Convert this dataframe to an interactive table.\"\n",
              "            style=\"display:none;\">\n",
              "\n",
              "  <svg xmlns=\"http://www.w3.org/2000/svg\" height=\"24px\" viewBox=\"0 -960 960 960\">\n",
              "    <path d=\"M120-120v-720h720v720H120Zm60-500h600v-160H180v160Zm220 220h160v-160H400v160Zm0 220h160v-160H400v160ZM180-400h160v-160H180v160Zm440 0h160v-160H620v160ZM180-180h160v-160H180v160Zm440 0h160v-160H620v160Z\"/>\n",
              "  </svg>\n",
              "    </button>\n",
              "\n",
              "  <style>\n",
              "    .colab-df-container {\n",
              "      display:flex;\n",
              "      gap: 12px;\n",
              "    }\n",
              "\n",
              "    .colab-df-convert {\n",
              "      background-color: #E8F0FE;\n",
              "      border: none;\n",
              "      border-radius: 50%;\n",
              "      cursor: pointer;\n",
              "      display: none;\n",
              "      fill: #1967D2;\n",
              "      height: 32px;\n",
              "      padding: 0 0 0 0;\n",
              "      width: 32px;\n",
              "    }\n",
              "\n",
              "    .colab-df-convert:hover {\n",
              "      background-color: #E2EBFA;\n",
              "      box-shadow: 0px 1px 2px rgba(60, 64, 67, 0.3), 0px 1px 3px 1px rgba(60, 64, 67, 0.15);\n",
              "      fill: #174EA6;\n",
              "    }\n",
              "\n",
              "    .colab-df-buttons div {\n",
              "      margin-bottom: 4px;\n",
              "    }\n",
              "\n",
              "    [theme=dark] .colab-df-convert {\n",
              "      background-color: #3B4455;\n",
              "      fill: #D2E3FC;\n",
              "    }\n",
              "\n",
              "    [theme=dark] .colab-df-convert:hover {\n",
              "      background-color: #434B5C;\n",
              "      box-shadow: 0px 1px 3px 1px rgba(0, 0, 0, 0.15);\n",
              "      filter: drop-shadow(0px 1px 2px rgba(0, 0, 0, 0.3));\n",
              "      fill: #FFFFFF;\n",
              "    }\n",
              "  </style>\n",
              "\n",
              "    <script>\n",
              "      const buttonEl =\n",
              "        document.querySelector('#df-6ccd5314-8cdb-432f-aa45-d69da99f4021 button.colab-df-convert');\n",
              "      buttonEl.style.display =\n",
              "        google.colab.kernel.accessAllowed ? 'block' : 'none';\n",
              "\n",
              "      async function convertToInteractive(key) {\n",
              "        const element = document.querySelector('#df-6ccd5314-8cdb-432f-aa45-d69da99f4021');\n",
              "        const dataTable =\n",
              "          await google.colab.kernel.invokeFunction('convertToInteractive',\n",
              "                                                    [key], {});\n",
              "        if (!dataTable) return;\n",
              "\n",
              "        const docLinkHtml = 'Like what you see? Visit the ' +\n",
              "          '<a target=\"_blank\" href=https://colab.research.google.com/notebooks/data_table.ipynb>data table notebook</a>'\n",
              "          + ' to learn more about interactive tables.';\n",
              "        element.innerHTML = '';\n",
              "        dataTable['output_type'] = 'display_data';\n",
              "        await google.colab.output.renderOutput(dataTable, element);\n",
              "        const docLink = document.createElement('div');\n",
              "        docLink.innerHTML = docLinkHtml;\n",
              "        element.appendChild(docLink);\n",
              "      }\n",
              "    </script>\n",
              "  </div>\n",
              "\n",
              "\n",
              "<div id=\"df-6956c264-a442-42b6-9859-906cb7c8c96e\">\n",
              "  <button class=\"colab-df-quickchart\" onclick=\"quickchart('df-6956c264-a442-42b6-9859-906cb7c8c96e')\"\n",
              "            title=\"Suggest charts\"\n",
              "            style=\"display:none;\">\n",
              "\n",
              "<svg xmlns=\"http://www.w3.org/2000/svg\" height=\"24px\"viewBox=\"0 0 24 24\"\n",
              "     width=\"24px\">\n",
              "    <g>\n",
              "        <path d=\"M19 3H5c-1.1 0-2 .9-2 2v14c0 1.1.9 2 2 2h14c1.1 0 2-.9 2-2V5c0-1.1-.9-2-2-2zM9 17H7v-7h2v7zm4 0h-2V7h2v10zm4 0h-2v-4h2v4z\"/>\n",
              "    </g>\n",
              "</svg>\n",
              "  </button>\n",
              "\n",
              "<style>\n",
              "  .colab-df-quickchart {\n",
              "      --bg-color: #E8F0FE;\n",
              "      --fill-color: #1967D2;\n",
              "      --hover-bg-color: #E2EBFA;\n",
              "      --hover-fill-color: #174EA6;\n",
              "      --disabled-fill-color: #AAA;\n",
              "      --disabled-bg-color: #DDD;\n",
              "  }\n",
              "\n",
              "  [theme=dark] .colab-df-quickchart {\n",
              "      --bg-color: #3B4455;\n",
              "      --fill-color: #D2E3FC;\n",
              "      --hover-bg-color: #434B5C;\n",
              "      --hover-fill-color: #FFFFFF;\n",
              "      --disabled-bg-color: #3B4455;\n",
              "      --disabled-fill-color: #666;\n",
              "  }\n",
              "\n",
              "  .colab-df-quickchart {\n",
              "    background-color: var(--bg-color);\n",
              "    border: none;\n",
              "    border-radius: 50%;\n",
              "    cursor: pointer;\n",
              "    display: none;\n",
              "    fill: var(--fill-color);\n",
              "    height: 32px;\n",
              "    padding: 0;\n",
              "    width: 32px;\n",
              "  }\n",
              "\n",
              "  .colab-df-quickchart:hover {\n",
              "    background-color: var(--hover-bg-color);\n",
              "    box-shadow: 0 1px 2px rgba(60, 64, 67, 0.3), 0 1px 3px 1px rgba(60, 64, 67, 0.15);\n",
              "    fill: var(--button-hover-fill-color);\n",
              "  }\n",
              "\n",
              "  .colab-df-quickchart-complete:disabled,\n",
              "  .colab-df-quickchart-complete:disabled:hover {\n",
              "    background-color: var(--disabled-bg-color);\n",
              "    fill: var(--disabled-fill-color);\n",
              "    box-shadow: none;\n",
              "  }\n",
              "\n",
              "  .colab-df-spinner {\n",
              "    border: 2px solid var(--fill-color);\n",
              "    border-color: transparent;\n",
              "    border-bottom-color: var(--fill-color);\n",
              "    animation:\n",
              "      spin 1s steps(1) infinite;\n",
              "  }\n",
              "\n",
              "  @keyframes spin {\n",
              "    0% {\n",
              "      border-color: transparent;\n",
              "      border-bottom-color: var(--fill-color);\n",
              "      border-left-color: var(--fill-color);\n",
              "    }\n",
              "    20% {\n",
              "      border-color: transparent;\n",
              "      border-left-color: var(--fill-color);\n",
              "      border-top-color: var(--fill-color);\n",
              "    }\n",
              "    30% {\n",
              "      border-color: transparent;\n",
              "      border-left-color: var(--fill-color);\n",
              "      border-top-color: var(--fill-color);\n",
              "      border-right-color: var(--fill-color);\n",
              "    }\n",
              "    40% {\n",
              "      border-color: transparent;\n",
              "      border-right-color: var(--fill-color);\n",
              "      border-top-color: var(--fill-color);\n",
              "    }\n",
              "    60% {\n",
              "      border-color: transparent;\n",
              "      border-right-color: var(--fill-color);\n",
              "    }\n",
              "    80% {\n",
              "      border-color: transparent;\n",
              "      border-right-color: var(--fill-color);\n",
              "      border-bottom-color: var(--fill-color);\n",
              "    }\n",
              "    90% {\n",
              "      border-color: transparent;\n",
              "      border-bottom-color: var(--fill-color);\n",
              "    }\n",
              "  }\n",
              "</style>\n",
              "\n",
              "  <script>\n",
              "    async function quickchart(key) {\n",
              "      const quickchartButtonEl =\n",
              "        document.querySelector('#' + key + ' button');\n",
              "      quickchartButtonEl.disabled = true;  // To prevent multiple clicks.\n",
              "      quickchartButtonEl.classList.add('colab-df-spinner');\n",
              "      try {\n",
              "        const charts = await google.colab.kernel.invokeFunction(\n",
              "            'suggestCharts', [key], {});\n",
              "      } catch (error) {\n",
              "        console.error('Error during call to suggestCharts:', error);\n",
              "      }\n",
              "      quickchartButtonEl.classList.remove('colab-df-spinner');\n",
              "      quickchartButtonEl.classList.add('colab-df-quickchart-complete');\n",
              "    }\n",
              "    (() => {\n",
              "      let quickchartButtonEl =\n",
              "        document.querySelector('#df-6956c264-a442-42b6-9859-906cb7c8c96e button');\n",
              "      quickchartButtonEl.style.display =\n",
              "        google.colab.kernel.accessAllowed ? 'block' : 'none';\n",
              "    })();\n",
              "  </script>\n",
              "</div>\n",
              "\n",
              "    </div>\n",
              "  </div>\n"
            ],
            "application/vnd.google.colaboratory.intrinsic+json": {
              "type": "dataframe",
              "variable_name": "df"
            }
          },
          "metadata": {},
          "execution_count": 78
        }
      ]
    },
    {
      "cell_type": "code",
      "source": [
        "df.duplicated().sum()"
      ],
      "metadata": {
        "colab": {
          "base_uri": "https://localhost:8080/"
        },
        "id": "6DxWihPsKk2M",
        "outputId": "63f8be8f-4cf9-4cdf-ac38-94d8228b014f"
      },
      "execution_count": 79,
      "outputs": [
        {
          "output_type": "execute_result",
          "data": {
            "text/plain": [
              "0"
            ]
          },
          "metadata": {},
          "execution_count": 79
        }
      ]
    },
    {
      "cell_type": "code",
      "source": [
        "df.describe().T"
      ],
      "metadata": {
        "colab": {
          "base_uri": "https://localhost:8080/",
          "height": 363
        },
        "id": "DMThSSgKKn7D",
        "outputId": "7a6d00ed-71bb-4625-bb73-2238dec33a99"
      },
      "execution_count": 80,
      "outputs": [
        {
          "output_type": "execute_result",
          "data": {
            "text/plain": [
              "                        count          mean           std         min  \\\n",
              "id                    74111.0  1.126662e+07  6.081735e+06  344.000000   \n",
              "log_price             74111.0  4.782069e+00  7.173938e-01    0.000000   \n",
              "accommodates          74111.0  3.155146e+00  2.153589e+00    1.000000   \n",
              "bathrooms             73911.0  1.235263e+00  5.820441e-01    0.000000   \n",
              "latitude              74111.0  3.844596e+01  3.080167e+00   33.338905   \n",
              "longitude             74111.0 -9.239753e+01  2.170532e+01 -122.511500   \n",
              "number_of_reviews     74111.0  2.090057e+01  3.782864e+01    0.000000   \n",
              "review_scores_rating  57389.0  9.406736e+01  7.836556e+00   20.000000   \n",
              "bedrooms              74020.0  1.265793e+00  8.521435e-01    0.000000   \n",
              "beds                  73980.0  1.710868e+00  1.254142e+00    0.000000   \n",
              "\n",
              "                               25%           50%           75%           max  \n",
              "id                    6.261964e+06  1.225415e+07  1.640226e+07  2.123090e+07  \n",
              "log_price             4.317488e+00  4.709530e+00  5.220356e+00  7.600402e+00  \n",
              "accommodates          2.000000e+00  2.000000e+00  4.000000e+00  1.600000e+01  \n",
              "bathrooms             1.000000e+00  1.000000e+00  1.000000e+00  8.000000e+00  \n",
              "latitude              3.412791e+01  4.066214e+01  4.074610e+01  4.239044e+01  \n",
              "longitude            -1.183424e+02 -7.699696e+01 -7.395466e+01 -7.098505e+01  \n",
              "number_of_reviews     1.000000e+00  6.000000e+00  2.300000e+01  6.050000e+02  \n",
              "review_scores_rating  9.200000e+01  9.600000e+01  1.000000e+02  1.000000e+02  \n",
              "bedrooms              1.000000e+00  1.000000e+00  1.000000e+00  1.000000e+01  \n",
              "beds                  1.000000e+00  1.000000e+00  2.000000e+00  1.800000e+01  "
            ],
            "text/html": [
              "\n",
              "  <div id=\"df-7e3aa169-8a65-4274-a400-7a68c79e7ec4\" class=\"colab-df-container\">\n",
              "    <div>\n",
              "<style scoped>\n",
              "    .dataframe tbody tr th:only-of-type {\n",
              "        vertical-align: middle;\n",
              "    }\n",
              "\n",
              "    .dataframe tbody tr th {\n",
              "        vertical-align: top;\n",
              "    }\n",
              "\n",
              "    .dataframe thead th {\n",
              "        text-align: right;\n",
              "    }\n",
              "</style>\n",
              "<table border=\"1\" class=\"dataframe\">\n",
              "  <thead>\n",
              "    <tr style=\"text-align: right;\">\n",
              "      <th></th>\n",
              "      <th>count</th>\n",
              "      <th>mean</th>\n",
              "      <th>std</th>\n",
              "      <th>min</th>\n",
              "      <th>25%</th>\n",
              "      <th>50%</th>\n",
              "      <th>75%</th>\n",
              "      <th>max</th>\n",
              "    </tr>\n",
              "  </thead>\n",
              "  <tbody>\n",
              "    <tr>\n",
              "      <th>id</th>\n",
              "      <td>74111.0</td>\n",
              "      <td>1.126662e+07</td>\n",
              "      <td>6.081735e+06</td>\n",
              "      <td>344.000000</td>\n",
              "      <td>6.261964e+06</td>\n",
              "      <td>1.225415e+07</td>\n",
              "      <td>1.640226e+07</td>\n",
              "      <td>2.123090e+07</td>\n",
              "    </tr>\n",
              "    <tr>\n",
              "      <th>log_price</th>\n",
              "      <td>74111.0</td>\n",
              "      <td>4.782069e+00</td>\n",
              "      <td>7.173938e-01</td>\n",
              "      <td>0.000000</td>\n",
              "      <td>4.317488e+00</td>\n",
              "      <td>4.709530e+00</td>\n",
              "      <td>5.220356e+00</td>\n",
              "      <td>7.600402e+00</td>\n",
              "    </tr>\n",
              "    <tr>\n",
              "      <th>accommodates</th>\n",
              "      <td>74111.0</td>\n",
              "      <td>3.155146e+00</td>\n",
              "      <td>2.153589e+00</td>\n",
              "      <td>1.000000</td>\n",
              "      <td>2.000000e+00</td>\n",
              "      <td>2.000000e+00</td>\n",
              "      <td>4.000000e+00</td>\n",
              "      <td>1.600000e+01</td>\n",
              "    </tr>\n",
              "    <tr>\n",
              "      <th>bathrooms</th>\n",
              "      <td>73911.0</td>\n",
              "      <td>1.235263e+00</td>\n",
              "      <td>5.820441e-01</td>\n",
              "      <td>0.000000</td>\n",
              "      <td>1.000000e+00</td>\n",
              "      <td>1.000000e+00</td>\n",
              "      <td>1.000000e+00</td>\n",
              "      <td>8.000000e+00</td>\n",
              "    </tr>\n",
              "    <tr>\n",
              "      <th>latitude</th>\n",
              "      <td>74111.0</td>\n",
              "      <td>3.844596e+01</td>\n",
              "      <td>3.080167e+00</td>\n",
              "      <td>33.338905</td>\n",
              "      <td>3.412791e+01</td>\n",
              "      <td>4.066214e+01</td>\n",
              "      <td>4.074610e+01</td>\n",
              "      <td>4.239044e+01</td>\n",
              "    </tr>\n",
              "    <tr>\n",
              "      <th>longitude</th>\n",
              "      <td>74111.0</td>\n",
              "      <td>-9.239753e+01</td>\n",
              "      <td>2.170532e+01</td>\n",
              "      <td>-122.511500</td>\n",
              "      <td>-1.183424e+02</td>\n",
              "      <td>-7.699696e+01</td>\n",
              "      <td>-7.395466e+01</td>\n",
              "      <td>-7.098505e+01</td>\n",
              "    </tr>\n",
              "    <tr>\n",
              "      <th>number_of_reviews</th>\n",
              "      <td>74111.0</td>\n",
              "      <td>2.090057e+01</td>\n",
              "      <td>3.782864e+01</td>\n",
              "      <td>0.000000</td>\n",
              "      <td>1.000000e+00</td>\n",
              "      <td>6.000000e+00</td>\n",
              "      <td>2.300000e+01</td>\n",
              "      <td>6.050000e+02</td>\n",
              "    </tr>\n",
              "    <tr>\n",
              "      <th>review_scores_rating</th>\n",
              "      <td>57389.0</td>\n",
              "      <td>9.406736e+01</td>\n",
              "      <td>7.836556e+00</td>\n",
              "      <td>20.000000</td>\n",
              "      <td>9.200000e+01</td>\n",
              "      <td>9.600000e+01</td>\n",
              "      <td>1.000000e+02</td>\n",
              "      <td>1.000000e+02</td>\n",
              "    </tr>\n",
              "    <tr>\n",
              "      <th>bedrooms</th>\n",
              "      <td>74020.0</td>\n",
              "      <td>1.265793e+00</td>\n",
              "      <td>8.521435e-01</td>\n",
              "      <td>0.000000</td>\n",
              "      <td>1.000000e+00</td>\n",
              "      <td>1.000000e+00</td>\n",
              "      <td>1.000000e+00</td>\n",
              "      <td>1.000000e+01</td>\n",
              "    </tr>\n",
              "    <tr>\n",
              "      <th>beds</th>\n",
              "      <td>73980.0</td>\n",
              "      <td>1.710868e+00</td>\n",
              "      <td>1.254142e+00</td>\n",
              "      <td>0.000000</td>\n",
              "      <td>1.000000e+00</td>\n",
              "      <td>1.000000e+00</td>\n",
              "      <td>2.000000e+00</td>\n",
              "      <td>1.800000e+01</td>\n",
              "    </tr>\n",
              "  </tbody>\n",
              "</table>\n",
              "</div>\n",
              "    <div class=\"colab-df-buttons\">\n",
              "\n",
              "  <div class=\"colab-df-container\">\n",
              "    <button class=\"colab-df-convert\" onclick=\"convertToInteractive('df-7e3aa169-8a65-4274-a400-7a68c79e7ec4')\"\n",
              "            title=\"Convert this dataframe to an interactive table.\"\n",
              "            style=\"display:none;\">\n",
              "\n",
              "  <svg xmlns=\"http://www.w3.org/2000/svg\" height=\"24px\" viewBox=\"0 -960 960 960\">\n",
              "    <path d=\"M120-120v-720h720v720H120Zm60-500h600v-160H180v160Zm220 220h160v-160H400v160Zm0 220h160v-160H400v160ZM180-400h160v-160H180v160Zm440 0h160v-160H620v160ZM180-180h160v-160H180v160Zm440 0h160v-160H620v160Z\"/>\n",
              "  </svg>\n",
              "    </button>\n",
              "\n",
              "  <style>\n",
              "    .colab-df-container {\n",
              "      display:flex;\n",
              "      gap: 12px;\n",
              "    }\n",
              "\n",
              "    .colab-df-convert {\n",
              "      background-color: #E8F0FE;\n",
              "      border: none;\n",
              "      border-radius: 50%;\n",
              "      cursor: pointer;\n",
              "      display: none;\n",
              "      fill: #1967D2;\n",
              "      height: 32px;\n",
              "      padding: 0 0 0 0;\n",
              "      width: 32px;\n",
              "    }\n",
              "\n",
              "    .colab-df-convert:hover {\n",
              "      background-color: #E2EBFA;\n",
              "      box-shadow: 0px 1px 2px rgba(60, 64, 67, 0.3), 0px 1px 3px 1px rgba(60, 64, 67, 0.15);\n",
              "      fill: #174EA6;\n",
              "    }\n",
              "\n",
              "    .colab-df-buttons div {\n",
              "      margin-bottom: 4px;\n",
              "    }\n",
              "\n",
              "    [theme=dark] .colab-df-convert {\n",
              "      background-color: #3B4455;\n",
              "      fill: #D2E3FC;\n",
              "    }\n",
              "\n",
              "    [theme=dark] .colab-df-convert:hover {\n",
              "      background-color: #434B5C;\n",
              "      box-shadow: 0px 1px 3px 1px rgba(0, 0, 0, 0.15);\n",
              "      filter: drop-shadow(0px 1px 2px rgba(0, 0, 0, 0.3));\n",
              "      fill: #FFFFFF;\n",
              "    }\n",
              "  </style>\n",
              "\n",
              "    <script>\n",
              "      const buttonEl =\n",
              "        document.querySelector('#df-7e3aa169-8a65-4274-a400-7a68c79e7ec4 button.colab-df-convert');\n",
              "      buttonEl.style.display =\n",
              "        google.colab.kernel.accessAllowed ? 'block' : 'none';\n",
              "\n",
              "      async function convertToInteractive(key) {\n",
              "        const element = document.querySelector('#df-7e3aa169-8a65-4274-a400-7a68c79e7ec4');\n",
              "        const dataTable =\n",
              "          await google.colab.kernel.invokeFunction('convertToInteractive',\n",
              "                                                    [key], {});\n",
              "        if (!dataTable) return;\n",
              "\n",
              "        const docLinkHtml = 'Like what you see? Visit the ' +\n",
              "          '<a target=\"_blank\" href=https://colab.research.google.com/notebooks/data_table.ipynb>data table notebook</a>'\n",
              "          + ' to learn more about interactive tables.';\n",
              "        element.innerHTML = '';\n",
              "        dataTable['output_type'] = 'display_data';\n",
              "        await google.colab.output.renderOutput(dataTable, element);\n",
              "        const docLink = document.createElement('div');\n",
              "        docLink.innerHTML = docLinkHtml;\n",
              "        element.appendChild(docLink);\n",
              "      }\n",
              "    </script>\n",
              "  </div>\n",
              "\n",
              "\n",
              "<div id=\"df-0dfb9485-2bca-4126-a3a0-26dc34baba54\">\n",
              "  <button class=\"colab-df-quickchart\" onclick=\"quickchart('df-0dfb9485-2bca-4126-a3a0-26dc34baba54')\"\n",
              "            title=\"Suggest charts\"\n",
              "            style=\"display:none;\">\n",
              "\n",
              "<svg xmlns=\"http://www.w3.org/2000/svg\" height=\"24px\"viewBox=\"0 0 24 24\"\n",
              "     width=\"24px\">\n",
              "    <g>\n",
              "        <path d=\"M19 3H5c-1.1 0-2 .9-2 2v14c0 1.1.9 2 2 2h14c1.1 0 2-.9 2-2V5c0-1.1-.9-2-2-2zM9 17H7v-7h2v7zm4 0h-2V7h2v10zm4 0h-2v-4h2v4z\"/>\n",
              "    </g>\n",
              "</svg>\n",
              "  </button>\n",
              "\n",
              "<style>\n",
              "  .colab-df-quickchart {\n",
              "      --bg-color: #E8F0FE;\n",
              "      --fill-color: #1967D2;\n",
              "      --hover-bg-color: #E2EBFA;\n",
              "      --hover-fill-color: #174EA6;\n",
              "      --disabled-fill-color: #AAA;\n",
              "      --disabled-bg-color: #DDD;\n",
              "  }\n",
              "\n",
              "  [theme=dark] .colab-df-quickchart {\n",
              "      --bg-color: #3B4455;\n",
              "      --fill-color: #D2E3FC;\n",
              "      --hover-bg-color: #434B5C;\n",
              "      --hover-fill-color: #FFFFFF;\n",
              "      --disabled-bg-color: #3B4455;\n",
              "      --disabled-fill-color: #666;\n",
              "  }\n",
              "\n",
              "  .colab-df-quickchart {\n",
              "    background-color: var(--bg-color);\n",
              "    border: none;\n",
              "    border-radius: 50%;\n",
              "    cursor: pointer;\n",
              "    display: none;\n",
              "    fill: var(--fill-color);\n",
              "    height: 32px;\n",
              "    padding: 0;\n",
              "    width: 32px;\n",
              "  }\n",
              "\n",
              "  .colab-df-quickchart:hover {\n",
              "    background-color: var(--hover-bg-color);\n",
              "    box-shadow: 0 1px 2px rgba(60, 64, 67, 0.3), 0 1px 3px 1px rgba(60, 64, 67, 0.15);\n",
              "    fill: var(--button-hover-fill-color);\n",
              "  }\n",
              "\n",
              "  .colab-df-quickchart-complete:disabled,\n",
              "  .colab-df-quickchart-complete:disabled:hover {\n",
              "    background-color: var(--disabled-bg-color);\n",
              "    fill: var(--disabled-fill-color);\n",
              "    box-shadow: none;\n",
              "  }\n",
              "\n",
              "  .colab-df-spinner {\n",
              "    border: 2px solid var(--fill-color);\n",
              "    border-color: transparent;\n",
              "    border-bottom-color: var(--fill-color);\n",
              "    animation:\n",
              "      spin 1s steps(1) infinite;\n",
              "  }\n",
              "\n",
              "  @keyframes spin {\n",
              "    0% {\n",
              "      border-color: transparent;\n",
              "      border-bottom-color: var(--fill-color);\n",
              "      border-left-color: var(--fill-color);\n",
              "    }\n",
              "    20% {\n",
              "      border-color: transparent;\n",
              "      border-left-color: var(--fill-color);\n",
              "      border-top-color: var(--fill-color);\n",
              "    }\n",
              "    30% {\n",
              "      border-color: transparent;\n",
              "      border-left-color: var(--fill-color);\n",
              "      border-top-color: var(--fill-color);\n",
              "      border-right-color: var(--fill-color);\n",
              "    }\n",
              "    40% {\n",
              "      border-color: transparent;\n",
              "      border-right-color: var(--fill-color);\n",
              "      border-top-color: var(--fill-color);\n",
              "    }\n",
              "    60% {\n",
              "      border-color: transparent;\n",
              "      border-right-color: var(--fill-color);\n",
              "    }\n",
              "    80% {\n",
              "      border-color: transparent;\n",
              "      border-right-color: var(--fill-color);\n",
              "      border-bottom-color: var(--fill-color);\n",
              "    }\n",
              "    90% {\n",
              "      border-color: transparent;\n",
              "      border-bottom-color: var(--fill-color);\n",
              "    }\n",
              "  }\n",
              "</style>\n",
              "\n",
              "  <script>\n",
              "    async function quickchart(key) {\n",
              "      const quickchartButtonEl =\n",
              "        document.querySelector('#' + key + ' button');\n",
              "      quickchartButtonEl.disabled = true;  // To prevent multiple clicks.\n",
              "      quickchartButtonEl.classList.add('colab-df-spinner');\n",
              "      try {\n",
              "        const charts = await google.colab.kernel.invokeFunction(\n",
              "            'suggestCharts', [key], {});\n",
              "      } catch (error) {\n",
              "        console.error('Error during call to suggestCharts:', error);\n",
              "      }\n",
              "      quickchartButtonEl.classList.remove('colab-df-spinner');\n",
              "      quickchartButtonEl.classList.add('colab-df-quickchart-complete');\n",
              "    }\n",
              "    (() => {\n",
              "      let quickchartButtonEl =\n",
              "        document.querySelector('#df-0dfb9485-2bca-4126-a3a0-26dc34baba54 button');\n",
              "      quickchartButtonEl.style.display =\n",
              "        google.colab.kernel.accessAllowed ? 'block' : 'none';\n",
              "    })();\n",
              "  </script>\n",
              "</div>\n",
              "\n",
              "    </div>\n",
              "  </div>\n"
            ],
            "application/vnd.google.colaboratory.intrinsic+json": {
              "type": "dataframe",
              "summary": "{\n  \"name\": \"df\",\n  \"rows\": 10,\n  \"fields\": [\n    {\n      \"column\": \"count\",\n      \"properties\": {\n        \"dtype\": \"number\",\n        \"std\": 5273.6141138902285,\n        \"min\": 57389.0,\n        \"max\": 74111.0,\n        \"num_unique_values\": 5,\n        \"samples\": [\n          73911.0,\n          73980.0,\n          57389.0\n        ],\n        \"semantic_type\": \"\",\n        \"description\": \"\"\n      }\n    },\n    {\n      \"column\": \"mean\",\n      \"properties\": {\n        \"dtype\": \"number\",\n        \"std\": 3562814.5863990504,\n        \"min\": -92.39752533051391,\n        \"max\": 11266617.10246792,\n        \"num_unique_values\": 10,\n        \"samples\": [\n          1.265793028911105,\n          4.782069108305636,\n          -92.39752533051391\n        ],\n        \"semantic_type\": \"\",\n        \"description\": \"\"\n      }\n    },\n    {\n      \"column\": \"std\",\n      \"properties\": {\n        \"dtype\": \"number\",\n        \"std\": 1923210.7661087967,\n        \"min\": 0.5820440989961096,\n        \"max\": 6081734.886894187,\n        \"num_unique_values\": 10,\n        \"samples\": [\n          0.852143490701749,\n          0.7173937845081536,\n          21.705321883961957\n        ],\n        \"semantic_type\": \"\",\n        \"description\": \"\"\n      }\n    },\n    {\n      \"column\": \"min\",\n      \"properties\": {\n        \"dtype\": \"number\",\n        \"std\": 118.90681434408278,\n        \"min\": -122.51149998987214,\n        \"max\": 344.0,\n        \"num_unique_values\": 6,\n        \"samples\": [\n          344.0,\n          0.0,\n          20.0\n        ],\n        \"semantic_type\": \"\",\n        \"description\": \"\"\n      }\n    },\n    {\n      \"column\": \"25%\",\n      \"properties\": {\n        \"dtype\": \"number\",\n        \"std\": 1980206.4092991664,\n        \"min\": -118.34237382922922,\n        \"max\": 6261964.5,\n        \"num_unique_values\": 7,\n        \"samples\": [\n          6261964.5,\n          4.31748811353631,\n          -118.34237382922922\n        ],\n        \"semantic_type\": \"\",\n        \"description\": \"\"\n      }\n    },\n    {\n      \"column\": \"50%\",\n      \"properties\": {\n        \"dtype\": \"number\",\n        \"std\": 3875098.882087528,\n        \"min\": -76.99696492578188,\n        \"max\": 12254147.0,\n        \"num_unique_values\": 8,\n        \"samples\": [\n          4.709530201312334,\n          -76.99696492578188,\n          12254147.0\n        ],\n        \"semantic_type\": \"\",\n        \"description\": \"\"\n      }\n    },\n    {\n      \"column\": \"75%\",\n      \"properties\": {\n        \"dtype\": \"number\",\n        \"std\": 5186846.576252833,\n        \"min\": -73.95465984993722,\n        \"max\": 16402260.5,\n        \"num_unique_values\": 9,\n        \"samples\": [\n          100.0,\n          5.220355825078324,\n          -73.95465984993722\n        ],\n        \"semantic_type\": \"\",\n        \"description\": \"\"\n      }\n    },\n    {\n      \"column\": \"max\",\n      \"properties\": {\n        \"dtype\": \"number\",\n        \"std\": 6713775.168279359,\n        \"min\": -70.98504659974512,\n        \"max\": 21230903.0,\n        \"num_unique_values\": 10,\n        \"samples\": [\n          10.0,\n          7.6004023345004,\n          -70.98504659974512\n        ],\n        \"semantic_type\": \"\",\n        \"description\": \"\"\n      }\n    }\n  ]\n}"
            }
          },
          "metadata": {},
          "execution_count": 80
        }
      ]
    },
    {
      "cell_type": "code",
      "source": [
        "df.dtypes"
      ],
      "metadata": {
        "colab": {
          "base_uri": "https://localhost:8080/"
        },
        "id": "yWhjAONcM4tj",
        "outputId": "043af683-94d4-4efe-fac3-114f55747370"
      },
      "execution_count": 81,
      "outputs": [
        {
          "output_type": "execute_result",
          "data": {
            "text/plain": [
              "id                          int64\n",
              "log_price                 float64\n",
              "property_type              object\n",
              "room_type                  object\n",
              "amenities                  object\n",
              "accommodates                int64\n",
              "bathrooms                 float64\n",
              "bed_type                   object\n",
              "cancellation_policy        object\n",
              "cleaning_fee                 bool\n",
              "city                       object\n",
              "description                object\n",
              "first_review               object\n",
              "host_has_profile_pic       object\n",
              "host_identity_verified     object\n",
              "host_response_rate         object\n",
              "host_since                 object\n",
              "instant_bookable           object\n",
              "last_review                object\n",
              "latitude                  float64\n",
              "longitude                 float64\n",
              "name                       object\n",
              "neighbourhood              object\n",
              "number_of_reviews           int64\n",
              "review_scores_rating      float64\n",
              "thumbnail_url              object\n",
              "zipcode                    object\n",
              "bedrooms                  float64\n",
              "beds                      float64\n",
              "dtype: object"
            ]
          },
          "metadata": {},
          "execution_count": 81
        }
      ]
    },
    {
      "cell_type": "markdown",
      "source": [
        "### Null Values check"
      ],
      "metadata": {
        "id": "4k5AcVUmLeCL"
      }
    },
    {
      "cell_type": "code",
      "source": [
        "df.isna().sum()[df.isna().sum()>0]"
      ],
      "metadata": {
        "colab": {
          "base_uri": "https://localhost:8080/"
        },
        "id": "rQXFFFnKKww8",
        "outputId": "088b74cd-5532-4850-e92d-88ff1ae15767"
      },
      "execution_count": 82,
      "outputs": [
        {
          "output_type": "execute_result",
          "data": {
            "text/plain": [
              "bathrooms                   200\n",
              "first_review              15864\n",
              "host_has_profile_pic        188\n",
              "host_identity_verified      188\n",
              "host_response_rate        18299\n",
              "host_since                  188\n",
              "last_review               15827\n",
              "neighbourhood              6872\n",
              "review_scores_rating      16722\n",
              "thumbnail_url              8216\n",
              "zipcode                     966\n",
              "bedrooms                     91\n",
              "beds                        131\n",
              "dtype: int64"
            ]
          },
          "metadata": {},
          "execution_count": 82
        }
      ]
    },
    {
      "cell_type": "code",
      "source": [
        "plt.style.use('ggplot')\n",
        "df.isna().sum()[df.isna().sum()>0].plot.barh(color='orange')\n",
        "plt.suptitle('Null Values Comparison')\n",
        "plt.show()"
      ],
      "metadata": {
        "colab": {
          "base_uri": "https://localhost:8080/",
          "height": 478
        },
        "id": "le9zDauCPzOQ",
        "outputId": "4899f41a-cf2c-4995-e3d1-a04558f3eedb"
      },
      "execution_count": 83,
      "outputs": [
        {
          "output_type": "display_data",
          "data": {
            "text/plain": [
              "<Figure size 640x480 with 1 Axes>"
            ],
            "image/png": "[encoded data removed]"
          },
          "metadata": {}
        }
      ]
    },
    {
      "cell_type": "code",
      "source": [
        "missing_percentage = df.isna().mean()[df.isna().mean()>0] * 100\n",
        "\n",
        "non_missing_percentage = 100 - missing_percentage\n",
        "percentages = pd.DataFrame({'Missing': missing_percentage, 'Non-Missing': non_missing_percentage})\n",
        "\n",
        "ax = percentages.plot(kind='bar', stacked=True, color=['orange', 'grey'], figsize=(12, 6))\n",
        "\n",
        "plt.title('Percentage of Missing and Non-Missing Values by Column')\n",
        "plt.xlabel('Columns')\n",
        "plt.ylabel('Percentage')\n",
        "\n",
        "plt.legend(loc='center right',bbox_to_anchor=(1.2,0.5))\n",
        "\n",
        "plt.tight_layout()\n",
        "plt.show()"
      ],
      "metadata": {
        "colab": {
          "base_uri": "https://localhost:8080/",
          "height": 607
        },
        "id": "eP7ULIB8LYfp",
        "outputId": "4aa2305e-508a-4c88-8e28-2c2bb6aeb17e"
      },
      "execution_count": 84,
      "outputs": [
        {
          "output_type": "display_data",
          "data": {
            "text/plain": [
              "<Figure size 1200x600 with 1 Axes>"
            ],
            "image/png": "[encoded data removed]"
          },
          "metadata": {}
        }
      ]
    },
    {
      "cell_type": "markdown",
      "source": [
        "neighbourhood vs price\n",
        "amenities vs price\n",
        "zipcode vs price"
      ],
      "metadata": {
        "id": "0i3NhLvVZ98y"
      }
    },
    {
      "cell_type": "code",
      "source": [
        "plt.figure(figsize=(12,4))\n",
        "\n",
        "sns.boxplot(data=df,y='log_price',x='city',palette='rainbow')\n",
        "plt.suptitle('City vs Price')\n",
        "plt.savefig('City vs Price Distribution.jpeg')\n",
        "plt.show()"
      ],
      "metadata": {
        "colab": {
          "base_uri": "https://localhost:8080/",
          "height": 432
        },
        "id": "OOo4FtA0iqtd",
        "outputId": "4d388da9-e1c3-4091-a046-08823120ea6a"
      },
      "execution_count": 85,
      "outputs": [
        {
          "output_type": "display_data",
          "data": {
            "text/plain": [
              "<Figure size 1200x400 with 1 Axes>"
            ],
            "image/png": "[encoded data removed]"
          },
          "metadata": {}
        }
      ]
    },
    {
      "cell_type": "code",
      "source": [
        "df.groupby('zipcode')['log_price'].transform(lambda x:np.mean(x)).sort_values(ascending=False).head().plot.barh(color='lightgreen')\n",
        "plt.suptitle('Costliest ZipCodes')\n",
        "\n",
        "plt.xlabel('log price')\n",
        "plt.ylabel('Zipcode')\n",
        "\n",
        "plt.savefig('Top 5 Costliest ZipCodes.jpeg')\n",
        "plt.show()"
      ],
      "metadata": {
        "colab": {
          "base_uri": "https://localhost:8080/",
          "height": 501
        },
        "id": "ghu9t6PWjTCm",
        "outputId": "5d81dd71-9a7e-4bdc-b6ec-70b55cfe8c33"
      },
      "execution_count": 86,
      "outputs": [
        {
          "output_type": "display_data",
          "data": {
            "text/plain": [
              "<Figure size 640x480 with 1 Axes>"
            ],
            "image/png": "[encoded data removed]"
          },
          "metadata": {}
        }
      ]
    },
    {
      "cell_type": "markdown",
      "source": [
        "### Data Preprocessing"
      ],
      "metadata": {
        "id": "GrZfbUgTNNsQ"
      }
    },
    {
      "cell_type": "markdown",
      "source": [
        "Removing irrelevent and descriptive elements."
      ],
      "metadata": {
        "id": "NBNCo1kcN9mg"
      }
    },
    {
      "cell_type": "code",
      "source": [
        "df.drop(['id','thumbnail_url','description','name','last_review','first_review'],axis=1,inplace=True)"
      ],
      "metadata": {
        "id": "qNwp5_h_NNHg"
      },
      "execution_count": 87,
      "outputs": []
    },
    {
      "cell_type": "code",
      "source": [
        "df.dtypes"
      ],
      "metadata": {
        "colab": {
          "base_uri": "https://localhost:8080/"
        },
        "id": "3QNkOZ4nLqCO",
        "outputId": "605f2efb-8f93-4843-89d4-0be65f12c6e1"
      },
      "execution_count": 88,
      "outputs": [
        {
          "output_type": "execute_result",
          "data": {
            "text/plain": [
              "log_price                 float64\n",
              "property_type              object\n",
              "room_type                  object\n",
              "amenities                  object\n",
              "accommodates                int64\n",
              "bathrooms                 float64\n",
              "bed_type                   object\n",
              "cancellation_policy        object\n",
              "cleaning_fee                 bool\n",
              "city                       object\n",
              "host_has_profile_pic       object\n",
              "host_identity_verified     object\n",
              "host_response_rate         object\n",
              "host_since                 object\n",
              "instant_bookable           object\n",
              "latitude                  float64\n",
              "longitude                 float64\n",
              "neighbourhood              object\n",
              "number_of_reviews           int64\n",
              "review_scores_rating      float64\n",
              "zipcode                    object\n",
              "bedrooms                  float64\n",
              "beds                      float64\n",
              "dtype: object"
            ]
          },
          "metadata": {},
          "execution_count": 88
        }
      ]
    },
    {
      "cell_type": "code",
      "source": [
        "df['review_scores_rating'].unique()"
      ],
      "metadata": {
        "colab": {
          "base_uri": "https://localhost:8080/"
        },
        "id": "X_Zq8mpnXsif",
        "outputId": "0440b90c-f346-4d70-d063-f807c5480d58"
      },
      "execution_count": 89,
      "outputs": [
        {
          "output_type": "execute_result",
          "data": {
            "text/plain": [
              "array([100.,  93.,  92.,  nan,  40.,  97.,  99.,  90.,  89.,  91.,  88.,\n",
              "        86.,  72.,  98.,  95.,  96.,  84.,  80.,  94.,  87.,  85.,  70.,\n",
              "        60.,  75.,  20.,  76.,  83.,  82.,  78.,  73.,  55.,  81.,  67.,\n",
              "        71.,  77.,  79.,  47.,  74.,  68.,  66.,  63.,  50.,  53.,  65.,\n",
              "        64.,  27.,  69.,  30.,  58.,  35.,  62.,  49.,  57.,  54.,  56.])"
            ]
          },
          "metadata": {},
          "execution_count": 89
        }
      ]
    },
    {
      "cell_type": "code",
      "source": [
        "df['review_scores_rating']=df['review_scores_rating'].fillna(df['review_scores_rating'].mode()[0])"
      ],
      "metadata": {
        "id": "y-E4_oOrXHF_"
      },
      "execution_count": 90,
      "outputs": []
    },
    {
      "cell_type": "code",
      "source": [
        "df['host_response_rate'].unique()"
      ],
      "metadata": {
        "colab": {
          "base_uri": "https://localhost:8080/"
        },
        "id": "LvcNnvi_Yz7k",
        "outputId": "b340f5b9-6fd5-4503-9fc1-28eddb84ba41"
      },
      "execution_count": 91,
      "outputs": [
        {
          "output_type": "execute_result",
          "data": {
            "text/plain": [
              "array([nan, '100%', '71%', '68%', '67%', '83%', '50%', '90%', '86%',\n",
              "       '92%', '82%', '80%', '89%', '93%', '99%', '0%', '88%', '96%',\n",
              "       '70%', '94%', '91%', '25%', '95%', '98%', '62%', '29%', '33%',\n",
              "       '81%', '63%', '38%', '60%', '79%', '78%', '75%', '65%', '97%',\n",
              "       '87%', '40%', '54%', '53%', '58%', '76%', '30%', '64%', '17%',\n",
              "       '20%', '77%', '73%', '41%', '59%', '57%', '85%', '56%', '42%',\n",
              "       '44%', '35%', '14%', '74%', '27%', '10%', '84%', '6%', '72%',\n",
              "       '36%', '55%', '43%', '13%', '39%', '46%', '26%', '61%', '52%',\n",
              "       '23%', '22%', '69%', '66%', '15%', '11%', '31%', '21%', '47%'],\n",
              "      dtype=object)"
            ]
          },
          "metadata": {},
          "execution_count": 91
        }
      ]
    },
    {
      "cell_type": "code",
      "source": [
        "df['host_response_rate']=df['host_response_rate'].str.replace('%','').astype(float)"
      ],
      "metadata": {
        "id": "l71cdwjtY9lm"
      },
      "execution_count": 92,
      "outputs": []
    },
    {
      "cell_type": "code",
      "source": [
        "df['host_response_rate']=df['host_response_rate'].fillna(df['host_response_rate'].mode()[0])"
      ],
      "metadata": {
        "id": "wJYNwSScZRWO"
      },
      "execution_count": 93,
      "outputs": []
    },
    {
      "cell_type": "code",
      "source": [
        "df['neighbourhood'].unique()[:5]"
      ],
      "metadata": {
        "colab": {
          "base_uri": "https://localhost:8080/"
        },
        "id": "c7hcp7lSZrnV",
        "outputId": "1d66eb44-1802-40c7-ab4b-cdbfd492adcc"
      },
      "execution_count": 94,
      "outputs": [
        {
          "output_type": "execute_result",
          "data": {
            "text/plain": [
              "array(['Brooklyn Heights', \"Hell's Kitchen\", 'Harlem', 'Lower Haight',\n",
              "       'Columbia Heights'], dtype=object)"
            ]
          },
          "metadata": {},
          "execution_count": 94
        }
      ]
    },
    {
      "cell_type": "code",
      "source": [
        "df['neighbourhood']=df['neighbourhood'].fillna(df.groupby('city')['neighbourhood'].transform(lambda x: x.mode()[0]))"
      ],
      "metadata": {
        "id": "1_iIET4faKgc"
      },
      "execution_count": 95,
      "outputs": []
    },
    {
      "cell_type": "markdown",
      "source": [
        "Cleaning the zipcode to return only the 5 digit code"
      ],
      "metadata": {
        "id": "vAkkSYh242Qr"
      }
    },
    {
      "cell_type": "code",
      "source": [
        "df['zipcode'].unique()"
      ],
      "metadata": {
        "colab": {
          "base_uri": "https://localhost:8080/"
        },
        "id": "nJpGb2micx1U",
        "outputId": "5605fe41-b6a0-4793-ad1f-de94db78838f"
      },
      "execution_count": 96,
      "outputs": [
        {
          "output_type": "execute_result",
          "data": {
            "text/plain": [
              "array(['11201', '10019', '10027', '94117.0', '20009', '94131', '90292',\n",
              "       '90015', '94121', '91748', '10009.0', '90254', '90277', '90804',\n",
              "       '60622', '02127', '10002', '11226.0', '91401', '11212.0',\n",
              "       '11411.0', nan, '11374', '90028', '10016', '11225', '90036',\n",
              "       '90291', '90046', '90026', '11212', '94118', '11211.0', '10003.0',\n",
              "       '60605', '90068', '90057', '10021', '20037', '11237', '11233',\n",
              "       '60608', '10001.0', '94127', '91403', '11249.0', '10037', '10011',\n",
              "       '10011.0', '10032', '91106', '94107', '20018', '90027', '91601',\n",
              "       '20001', '10022', '91201', '11226', '90013', '11217', '91016',\n",
              "       '10031', '10014', '11101', '94110', '94134', '91501', '10029.0',\n",
              "       '90230', '90039', '11221', '20019', '60647', '20020', '10025',\n",
              "       '10013', '10040', '91604', '94117', '10039', '10038', '60614',\n",
              "       '10003', '20002', '11219', '11222', '90042', '94114', '20008',\n",
              "       '11238', '20007', '11206', '91208', '11223', '02130', '02114',\n",
              "       '94103', '91107', '11355', '11220', '91406', '10036', '10024',\n",
              "       '90004', '10012', '10044', '10023', '10028', '20012', '91205',\n",
              "       '02132', '60611', '10473.0', '11249', '90019', '94133', '60639',\n",
              "       '91423', '11238.0', '11232', '10010', '10002.0', '11377', '11216',\n",
              "       '02129', '91803', '94115.0', '10128', '11207', '02118', '11213',\n",
              "       '11215', '11229', '90064', '90024', '90265', '02134', '11216.0',\n",
              "       '10314', '02111', '10075', '91605', '91331', '02119', '91384',\n",
              "       '11385', '10282', '90405', '20010', '90717', '60601', '91505',\n",
              "       '90012', '90807', '60654', '02120', '10035.0', '91606', '90703',\n",
              "       '11218', '90065', '02135', '91607', '11378', '94102.0', '90018',\n",
              "       '02113', '90404', '11692', '90403', '90014', '11230', '90302',\n",
              "       '10065', '60610', '90212', '02215', '02108', ' ', '90025', '90038',\n",
              "       '90247', '90048', '91411', '91040', '94112', '91214', '91325',\n",
              "       '90802', '20011', '91602', '90731', '94109', '90069', '60660',\n",
              "       '91202', '94102', '11205', '11209', '02109', '91104', '90007',\n",
              "       '90029', '11237.0', '11225.0', '11213.0', '11206.0', '02110',\n",
              "       '11105', '90272', '60642', '91741', '60613', '10034', '10030',\n",
              "       '10005', '90016', '10475', '11231.0', '90077', '11103', '90010',\n",
              "       '10017', '11102', '11361', '02124', '90047', '90250', '60661',\n",
              "       '90232', '91745', '60641', '94124', '20003', '91335', '02116',\n",
              "       '91343', '10455', '91306', '20017', '90505', '20016', '11428',\n",
              "       '02199', '90045', '94115', '10033', '90032', '11370.0', '90266',\n",
              "       '90732', '91405', '91765', '11234.0', '94116', '91711', '60625',\n",
              "       '20015', '11211', '90713', '10305', '11354', '11205.0', '90803',\n",
              "       '60657', '11204', '90056', '02152', '02121', '91001', '90814',\n",
              "       '11372', '60615', '11207.0', '90501', '10314.0', '10466',\n",
              "       '20007-3413', '90062', '90005', '91702', '20005', '90066', '11417',\n",
              "       '10004', '90035', '91324', '90006', '91007', '10026', '90210',\n",
              "       '90034', '11236.0', '90017', '10035', '90290', '11201.0', '11412',\n",
              "       '10006', '11234', '90401', '90020', '91364', '91775', '10468',\n",
              "       '20024', '90043', '10018', '90031', '20006', '11203.0', '60645',\n",
              "       '10301', '90249', '20032', '10304', '91750', '11373', '90260',\n",
              "       '91105', '91316', '90094', '94122', '94108', '10453', '02125',\n",
              "       '60618', '11106', '90402', '90041', '11104', '90660', '94123',\n",
              "       '10457.0', '11210', '94105', '10304.0', '91101', '90303', '60653',\n",
              "       '20036', '91008', '11433', '91776', '90305', '11231', '10456.0',\n",
              "       '02115', '60644', '90746', '02128', '11421', '10001', '10474',\n",
              "       '90815', '90008', '11367', '10452', '11233.0', '90211', '11222.0',\n",
              "       '94109.0', '11419', '91724', '11379', '60607', '60637', '91789',\n",
              "       '90049', '91302', '60640', '10463', '10306', '11434', '11416',\n",
              "       '91356', '90293', '60616', '91344', '91754', '90301', '10310',\n",
              "       '90278', '90745', '11426', '11228', '10013.0', '60612', '90275',\n",
              "       '11208.0', '60606', '60646', '11221.0', '91732', '20743', '91311',\n",
              "       '90033', '90502', '11235', '91770', '02136', '11361.0', '91307',\n",
              "       '91367', '11369.0', '11109', '20004', '60626', '11228.0', '91350',\n",
              "       '10465', '91030', '91352', '91042', '10009', '11418', '10010.0',\n",
              "       '91006', '90245', '99135', '11364', '10003-8623', '11693', '91326',\n",
              "       '91203', '11691', '90808', '60621', '11435', '91381', '07306',\n",
              "       '11413', '02131', '90723', '10037.0', '91746', '90704', '90220',\n",
              "       '11373.0', '94132', '91354', '02467', '11415', '91210', '10460',\n",
              "       '90037', '91206', '10014.0', '60630', '02122', '10464', '90001',\n",
              "       '90813', '11224.0', '91010', '91801', '10456', '02145', '91301',\n",
              "       '60659', '90248', '91361', '90806', '02126', '11436', '60624',\n",
              "       '91766', '90631', '93551', '91733', '91504', '11214', '91755',\n",
              "       '11429', '94014.0', '60634', '11368.0', '91304', '10027.0',\n",
              "       '90021', '10470', '10471', '20712', '10463.0', '91780', '10469',\n",
              "       '90503', '90011', '10462', '11360', '10029', '02210', '91321',\n",
              "       '90810', '11375', '91767', '60602', '60649', '93550', '90058',\n",
              "       '90712', '10461', '90504', '10451.0', '60707', '91011', '11203',\n",
              "       '11365', '10459', '91502', '11414', '91790', '94158', '10007',\n",
              "       '11210.0', '91791', '11356.0', '11422', '60609', '91506', '90044',\n",
              "       '02139', '90280', '94111', '90638', '11217.0', '90063', '91773',\n",
              "       '11432', '11358', '91024', '90710', '90602', '60623', '91103',\n",
              "       '90059', '90262', '10038.0', '11368', '91744', '10026.0', '60619',\n",
              "       '91303', '91355', '91402', '90095', '20064', '11370', '10280',\n",
              "       '90274', '90706', '10472', '91723', '90755', '11219.0', '60629',\n",
              "       '91020', '91207', '93543', '91792', '10281', '10312.0', '10453.0',\n",
              "       '91390', '60302',\n",
              "       '95202\\r\\r\\r\\r\\r\\r\\n\\r\\r\\r\\r\\r\\r\\n\\r\\r\\r\\r\\r\\r\\n94158', '90805',\n",
              "       '94103.0', '10454', '20816', '60632', '93535', '10301.0', '60651',\n",
              "       '10459.0', '02445', '10458', '91768', '10452.0', '10119.0',\n",
              "       '90603', '20748', '10471.0', '02143', '91731', '91436', '10069',\n",
              "       '10048', '90304', '10036.0', '10305.0', '60628', '90061', '94130',\n",
              "       '10467.0', '94118.0', '10467', '90604', '11224', '91342', '11420',\n",
              "       '90650', '10025.0', '90601', '90023', '93536', '11427', '91204',\n",
              "       '60636', '94104', '91108', '11580.0', '91706', '94114.0', '20782',\n",
              "       '91387', '10457', '91362', '60638', '90744', '91740', '90242',\n",
              "       '10475.0', '90640', '90201', '10451', '02163', '20052', '93534',\n",
              "       '10128.0', '90003', '93563', '10019.0', '10065.0', '11694',\n",
              "       '92397', '91340', '10312', '60631', '60620', '10129.0', '91308',\n",
              "       '10018.0', '90255', '90716', '20268', '02446', '91722', '94121.0',\n",
              "       '60656', '90605', '92614', '10303', '91523', '90670', '10460.0',\n",
              "       '91351', '93532', '90715', '11103-3233', '11106.0', '60643',\n",
              "       '94014', '10106', '10302', '90040', '20815', '10473', '10000',\n",
              "       '94129', '11385-2308', '93552', '10118', '94104.0', '90022',\n",
              "       '90701', '11236', '90241', '11366', '60652', '11004', '90840',\n",
              "       '10030.0', '91345', '10550.0', '15074', '20781', '91606-1412',\n",
              "       '20910', '90067', '11249\\r\\r\\r\\r\\r\\r\\n11249', '10308', '90240',\n",
              "       '11004.0', '11426-1175', '11357', '11379.0', '10270', '90221',\n",
              "       '90002', '90606', '11374.0', '11423', '11362.0', '10016.0',\n",
              "       '92880', '91001-2243', '91764', '60617', 'Near 91304', '93105',\n",
              "       '90071', '20229', '10129', '11372.0', '94122.0', '10307',\n",
              "       '11377.0', '10002-2289', '92821', '90039-2715', '90630', '11363.0',\n",
              "       '210', '20001-4044', '11220.0', '11362', '11694.0', '20372',\n",
              "       '90222', '10307.0', '60633', '7302.0', '20912', '60805', '10007.0',\n",
              "       '91786', '10279', '02138', '10704', '91802', '90403-2638', '91377',\n",
              "       '1m', '91708', '11209.0', '90034-2203', '90035-4475', '11509.0',\n",
              "       '11412.0', '11001', '11411', '60660-1448', '90036-2514', '11429.0',\n",
              "       '60603', '10308.0', '94401', '02186', '10162', '02458', '02472',\n",
              "       '11215.0', '10004.0', '10309', '9004', '10282.0', '11239.0',\n",
              "       '10012.0'], dtype=object)"
            ]
          },
          "metadata": {},
          "execution_count": 96
        }
      ]
    },
    {
      "cell_type": "code",
      "source": [
        "import re\n",
        "pattern=r'^\\d{5}$'"
      ],
      "metadata": {
        "id": "cRrUUFJAg1ua"
      },
      "execution_count": 97,
      "outputs": []
    },
    {
      "cell_type": "code",
      "source": [
        "def zip_clean(zip):\n",
        "  zip=str(zip)\n",
        "  match = re.search(pattern, zip)\n",
        "  if match:\n",
        "      return int(match.group())\n",
        "  else:\n",
        "      return None"
      ],
      "metadata": {
        "id": "h33taI-PfnDt"
      },
      "execution_count": 98,
      "outputs": []
    },
    {
      "cell_type": "code",
      "source": [
        "df['zipcode']=df['zipcode'].apply(zip_clean)"
      ],
      "metadata": {
        "id": "I9OSqYtghp0n"
      },
      "execution_count": 99,
      "outputs": []
    },
    {
      "cell_type": "code",
      "source": [
        "df['zipcode'].unique()"
      ],
      "metadata": {
        "colab": {
          "base_uri": "https://localhost:8080/"
        },
        "id": "4snSjYftirHA",
        "outputId": "19f8c335-bf6a-4986-aa5a-1c008a32054d"
      },
      "execution_count": 100,
      "outputs": [
        {
          "output_type": "execute_result",
          "data": {
            "text/plain": [
              "array([11201., 10019., 10027.,    nan, 20009., 94131., 90292., 90015.,\n",
              "       94121., 91748., 90254., 90277., 90804., 60622.,  2127., 10002.,\n",
              "       91401., 11374., 90028., 10016., 11225., 90036., 90291., 90046.,\n",
              "       90026., 11212., 94118., 60605., 90068., 90057., 10021., 20037.,\n",
              "       11237., 11233., 60608., 94127., 91403., 10037., 10011., 10032.,\n",
              "       91106., 94107., 20018., 90027., 91601., 20001., 10022., 91201.,\n",
              "       11226., 90013., 11217., 91016., 10031., 10014., 11101., 94110.,\n",
              "       94134., 91501., 90230., 90039., 11221., 20019., 60647., 20020.,\n",
              "       10025., 10013., 10040., 91604., 94117., 10039., 10038., 60614.,\n",
              "       10003., 20002., 11219., 11222., 90042., 94114., 20008., 11238.,\n",
              "       20007., 11206., 91208., 11223.,  2130.,  2114., 94103., 91107.,\n",
              "       11355., 11220., 91406., 10036., 10024., 90004., 10012., 10044.,\n",
              "       10023., 10028., 20012., 91205.,  2132., 60611., 11249., 90019.,\n",
              "       94133., 60639., 91423., 11232., 10010., 11377., 11216.,  2129.,\n",
              "       91803., 10128., 11207.,  2118., 11213., 11215., 11229., 90064.,\n",
              "       90024., 90265.,  2134., 10314.,  2111., 10075., 91605., 91331.,\n",
              "        2119., 91384., 11385., 10282., 90405., 20010., 90717., 60601.,\n",
              "       91505., 90012., 90807., 60654.,  2120., 91606., 90703., 11218.,\n",
              "       90065.,  2135., 91607., 11378., 90018.,  2113., 90404., 11692.,\n",
              "       90403., 90014., 11230., 90302., 10065., 60610., 90212.,  2215.,\n",
              "        2108., 90025., 90038., 90247., 90048., 91411., 91040., 94112.,\n",
              "       91214., 91325., 90802., 20011., 91602., 90731., 94109., 90069.,\n",
              "       60660., 91202., 94102., 11205., 11209.,  2109., 91104., 90007.,\n",
              "       90029.,  2110., 11105., 90272., 60642., 91741., 60613., 10034.,\n",
              "       10030., 10005., 90016., 10475., 90077., 11103., 90010., 10017.,\n",
              "       11102., 11361.,  2124., 90047., 90250., 60661., 90232., 91745.,\n",
              "       60641., 94124., 20003., 91335.,  2116., 91343., 10455., 91306.,\n",
              "       20017., 90505., 20016., 11428.,  2199., 90045., 94115., 10033.,\n",
              "       90032., 90266., 90732., 91405., 91765., 94116., 91711., 60625.,\n",
              "       20015., 11211., 90713., 10305., 11354., 90803., 60657., 11204.,\n",
              "       90056.,  2152.,  2121., 91001., 90814., 11372., 60615., 90501.,\n",
              "       10466., 90062., 90005., 91702., 20005., 90066., 11417., 10004.,\n",
              "       90035., 91324., 90006., 91007., 10026., 90210., 90034., 90017.,\n",
              "       10035., 90290., 11412., 10006., 11234., 90401., 90020., 91364.,\n",
              "       91775., 10468., 20024., 90043., 10018., 90031., 20006., 60645.,\n",
              "       10301., 90249., 20032., 10304., 91750., 11373., 90260., 91105.,\n",
              "       91316., 90094., 94122., 94108., 10453.,  2125., 60618., 11106.,\n",
              "       90402., 90041., 11104., 90660., 94123., 11210., 94105., 91101.,\n",
              "       90303., 60653., 20036., 91008., 11433., 91776., 90305., 11231.,\n",
              "        2115., 60644., 90746.,  2128., 11421., 10001., 10474., 90815.,\n",
              "       90008., 11367., 10452., 90211., 11419., 91724., 11379., 60607.,\n",
              "       60637., 91789., 90049., 91302., 60640., 10463., 10306., 11434.,\n",
              "       11416., 91356., 90293., 60616., 91344., 91754., 90301., 10310.,\n",
              "       90278., 90745., 11426., 11228., 60612., 90275., 60606., 60646.,\n",
              "       91732., 20743., 91311., 90033., 90502., 11235., 91770.,  2136.,\n",
              "       91307., 91367., 11109., 20004., 60626., 91350., 10465., 91030.,\n",
              "       91352., 91042., 10009., 11418., 91006., 90245., 99135., 11364.,\n",
              "       11693., 91326., 91203., 11691., 90808., 60621., 11435., 91381.,\n",
              "        7306., 11413.,  2131., 90723., 91746., 90704., 90220., 94132.,\n",
              "       91354.,  2467., 11415., 91210., 10460., 90037., 91206., 60630.,\n",
              "        2122., 10464., 90001., 90813., 91010., 91801., 10456.,  2145.,\n",
              "       91301., 60659., 90248., 91361., 90806.,  2126., 11436., 60624.,\n",
              "       91766., 90631., 93551., 91733., 91504., 11214., 91755., 11429.,\n",
              "       60634., 91304., 90021., 10470., 10471., 20712., 91780., 10469.,\n",
              "       90503., 90011., 10462., 11360., 10029.,  2210., 91321., 90810.,\n",
              "       11375., 91767., 60602., 60649., 93550., 90058., 90712., 10461.,\n",
              "       90504., 60707., 91011., 11203., 11365., 10459., 91502., 11414.,\n",
              "       91790., 94158., 10007., 91791., 11422., 60609., 91506., 90044.,\n",
              "        2139., 90280., 94111., 90638., 90063., 91773., 11432., 11358.,\n",
              "       91024., 90710., 90602., 60623., 91103., 90059., 90262., 11368.,\n",
              "       91744., 60619., 91303., 91355., 91402., 90095., 20064., 11370.,\n",
              "       10280., 90274., 90706., 10472., 91723., 90755., 60629., 91020.,\n",
              "       91207., 93543., 91792., 10281., 91390., 60302., 90805., 10454.,\n",
              "       20816., 60632., 93535., 60651.,  2445., 10458., 91768., 90603.,\n",
              "       20748.,  2143., 91731., 91436., 10069., 10048., 90304., 60628.,\n",
              "       90061., 94130., 10467., 90604., 11224., 91342., 11420., 90650.,\n",
              "       90601., 90023., 93536., 11427., 91204., 60636., 94104., 91108.,\n",
              "       91706., 20782., 91387., 10457., 91362., 60638., 90744., 91740.,\n",
              "       90242., 90640., 90201., 10451.,  2163., 20052., 93534., 90003.,\n",
              "       93563., 11694., 92397., 91340., 10312., 60631., 60620., 91308.,\n",
              "       90255., 90716., 20268.,  2446., 91722., 60656., 90605., 92614.,\n",
              "       10303., 91523., 90670., 91351., 93532., 90715., 60643., 94014.,\n",
              "       10106., 10302., 90040., 20815., 10473., 10000., 94129., 93552.,\n",
              "       10118., 90022., 90701., 11236., 90241., 11366., 60652., 11004.,\n",
              "       90840., 91345., 15074., 20781., 20910., 90067., 10308., 90240.,\n",
              "       11357., 10270., 90221., 90002., 90606., 11423., 92880., 91764.,\n",
              "       60617., 93105., 90071., 20229., 10129., 10307., 92821., 90630.,\n",
              "       11362., 20372., 90222., 60633., 20912., 60805., 91786., 10279.,\n",
              "        2138., 10704., 91802., 91377., 91708., 11001., 11411., 60603.,\n",
              "       94401.,  2186., 10162.,  2458.,  2472., 10309.])"
            ]
          },
          "metadata": {},
          "execution_count": 100
        }
      ]
    },
    {
      "cell_type": "code",
      "source": [
        "df['zipcode']=df['zipcode'].fillna(df.groupby('city')['zipcode'].transform(lambda x: x.mode()[0]))"
      ],
      "metadata": {
        "id": "RZkuJrekjHSW"
      },
      "execution_count": 101,
      "outputs": []
    },
    {
      "cell_type": "code",
      "source": [
        "df.isna().sum()"
      ],
      "metadata": {
        "colab": {
          "base_uri": "https://localhost:8080/"
        },
        "id": "h6SCrHVV6IVD",
        "outputId": "08b55fd6-687b-422e-bdcd-0d55ef0ce0a1"
      },
      "execution_count": 102,
      "outputs": [
        {
          "output_type": "execute_result",
          "data": {
            "text/plain": [
              "log_price                   0\n",
              "property_type               0\n",
              "room_type                   0\n",
              "amenities                   0\n",
              "accommodates                0\n",
              "bathrooms                 200\n",
              "bed_type                    0\n",
              "cancellation_policy         0\n",
              "cleaning_fee                0\n",
              "city                        0\n",
              "host_has_profile_pic      188\n",
              "host_identity_verified    188\n",
              "host_response_rate          0\n",
              "host_since                188\n",
              "instant_bookable            0\n",
              "latitude                    0\n",
              "longitude                   0\n",
              "neighbourhood               0\n",
              "number_of_reviews           0\n",
              "review_scores_rating        0\n",
              "zipcode                     0\n",
              "bedrooms                   91\n",
              "beds                      131\n",
              "dtype: int64"
            ]
          },
          "metadata": {},
          "execution_count": 102
        }
      ]
    },
    {
      "cell_type": "markdown",
      "source": [
        "Dropping every other null values as it really low."
      ],
      "metadata": {
        "id": "HbUkxVaf6uAj"
      }
    },
    {
      "cell_type": "code",
      "source": [
        "df.dropna(inplace=True)"
      ],
      "metadata": {
        "id": "stVLZFX0619h"
      },
      "execution_count": 103,
      "outputs": []
    },
    {
      "cell_type": "code",
      "source": [
        "df.isna().sum()"
      ],
      "metadata": {
        "colab": {
          "base_uri": "https://localhost:8080/"
        },
        "id": "SS-dXJQq6kwt",
        "outputId": "11da0ffa-5795-4bb1-e06f-48cb364d6498"
      },
      "execution_count": 104,
      "outputs": [
        {
          "output_type": "execute_result",
          "data": {
            "text/plain": [
              "log_price                 0\n",
              "property_type             0\n",
              "room_type                 0\n",
              "amenities                 0\n",
              "accommodates              0\n",
              "bathrooms                 0\n",
              "bed_type                  0\n",
              "cancellation_policy       0\n",
              "cleaning_fee              0\n",
              "city                      0\n",
              "host_has_profile_pic      0\n",
              "host_identity_verified    0\n",
              "host_response_rate        0\n",
              "host_since                0\n",
              "instant_bookable          0\n",
              "latitude                  0\n",
              "longitude                 0\n",
              "neighbourhood             0\n",
              "number_of_reviews         0\n",
              "review_scores_rating      0\n",
              "zipcode                   0\n",
              "bedrooms                  0\n",
              "beds                      0\n",
              "dtype: int64"
            ]
          },
          "metadata": {},
          "execution_count": 104
        }
      ]
    },
    {
      "cell_type": "markdown",
      "source": [
        "Changing the datatype of host since column to extract the year"
      ],
      "metadata": {
        "id": "T7yL8kIzR-hG"
      }
    },
    {
      "cell_type": "code",
      "source": [
        "df['host_since']=pd.to_datetime(df['host_since']).apply(lambda x:x.year)"
      ],
      "metadata": {
        "id": "I_Gqyl-TR8gi"
      },
      "execution_count": 105,
      "outputs": []
    },
    {
      "cell_type": "code",
      "source": [
        "df['host_since'].unique()"
      ],
      "metadata": {
        "colab": {
          "base_uri": "https://localhost:8080/"
        },
        "id": "NLlw7LqH8CTi",
        "outputId": "27233680-9bee-4ffd-fc33-834e8c276544"
      },
      "execution_count": 106,
      "outputs": [
        {
          "output_type": "execute_result",
          "data": {
            "text/plain": [
              "array([2012, 2017, 2016, 2015, 2013, 2014, 2011, 2010, 2009, 2008])"
            ]
          },
          "metadata": {},
          "execution_count": 106
        }
      ]
    },
    {
      "cell_type": "code",
      "source": [],
      "metadata": {
        "id": "NxnDjDu-beio"
      },
      "execution_count": 106,
      "outputs": []
    },
    {
      "cell_type": "code",
      "source": [
        "df.dtypes"
      ],
      "metadata": {
        "colab": {
          "base_uri": "https://localhost:8080/"
        },
        "id": "voYeunI0SMT3",
        "outputId": "eb0e992f-db58-42da-8d94-29dae61850d2"
      },
      "execution_count": 107,
      "outputs": [
        {
          "output_type": "execute_result",
          "data": {
            "text/plain": [
              "log_price                 float64\n",
              "property_type              object\n",
              "room_type                  object\n",
              "amenities                  object\n",
              "accommodates                int64\n",
              "bathrooms                 float64\n",
              "bed_type                   object\n",
              "cancellation_policy        object\n",
              "cleaning_fee                 bool\n",
              "city                       object\n",
              "host_has_profile_pic       object\n",
              "host_identity_verified     object\n",
              "host_response_rate        float64\n",
              "host_since                  int64\n",
              "instant_bookable           object\n",
              "latitude                  float64\n",
              "longitude                 float64\n",
              "neighbourhood              object\n",
              "number_of_reviews           int64\n",
              "review_scores_rating      float64\n",
              "zipcode                   float64\n",
              "bedrooms                  float64\n",
              "beds                      float64\n",
              "dtype: object"
            ]
          },
          "metadata": {},
          "execution_count": 107
        }
      ]
    },
    {
      "cell_type": "code",
      "source": [
        "df['property_type'].unique()"
      ],
      "metadata": {
        "colab": {
          "base_uri": "https://localhost:8080/"
        },
        "id": "ZdO1DSv2-IWl",
        "outputId": "3ac73b69-1077-48c6-bcf3-58a9fbc88a56"
      },
      "execution_count": 108,
      "outputs": [
        {
          "output_type": "execute_result",
          "data": {
            "text/plain": [
              "array(['Apartment', 'House', 'Condominium', 'Loft', 'Townhouse', 'Hostel',\n",
              "       'Guest suite', 'Bed & Breakfast', 'Bungalow', 'Guesthouse', 'Dorm',\n",
              "       'Other', 'Camper/RV', 'Villa', 'Boutique hotel', 'Timeshare',\n",
              "       'In-law', 'Boat', 'Serviced apartment', 'Castle', 'Cabin',\n",
              "       'Treehouse', 'Tipi', 'Vacation home', 'Tent', 'Hut',\n",
              "       'Casa particular', 'Chalet', 'Yurt', 'Earth House', 'Train',\n",
              "       'Cave', 'Lighthouse', 'Island'], dtype=object)"
            ]
          },
          "metadata": {},
          "execution_count": 108
        }
      ]
    },
    {
      "cell_type": "code",
      "source": [
        "df['room_type'].unique()"
      ],
      "metadata": {
        "colab": {
          "base_uri": "https://localhost:8080/"
        },
        "id": "HfEMR8WtRdT3",
        "outputId": "42f72c0f-4740-47a3-bb9a-aa7ee7fce109"
      },
      "execution_count": 109,
      "outputs": [
        {
          "output_type": "execute_result",
          "data": {
            "text/plain": [
              "array(['Entire home/apt', 'Private room', 'Shared room'], dtype=object)"
            ]
          },
          "metadata": {},
          "execution_count": 109
        }
      ]
    },
    {
      "cell_type": "code",
      "source": [
        "df['bathrooms'].unique()"
      ],
      "metadata": {
        "colab": {
          "base_uri": "https://localhost:8080/"
        },
        "id": "javI5RHDwFIg",
        "outputId": "9177150a-6c03-42ce-c715-6619e335ad1f"
      },
      "execution_count": 110,
      "outputs": [
        {
          "output_type": "execute_result",
          "data": {
            "text/plain": [
              "array([1. , 1.5, 2. , 2.5, 3. , 0.5, 4.5, 5. , 0. , 4. , 3.5, 5.5, 7.5,\n",
              "       6. , 8. , 7. , 6.5])"
            ]
          },
          "metadata": {},
          "execution_count": 110
        }
      ]
    },
    {
      "cell_type": "code",
      "source": [
        "df['bathrooms']=df['bathrooms'].apply(int)"
      ],
      "metadata": {
        "id": "_jQuLjjTwIB1"
      },
      "execution_count": 111,
      "outputs": []
    },
    {
      "cell_type": "markdown",
      "source": [
        "Exploring the amenities column"
      ],
      "metadata": {
        "id": "sef1jReoCcCE"
      }
    },
    {
      "cell_type": "code",
      "source": [
        "df['amenities'][0]"
      ],
      "metadata": {
        "colab": {
          "base_uri": "https://localhost:8080/",
          "height": 36
        },
        "id": "PQz8gUWeCac7",
        "outputId": "2f9b5fe4-1c2d-495f-cc2d-079857b658fd"
      },
      "execution_count": 112,
      "outputs": [
        {
          "output_type": "execute_result",
          "data": {
            "text/plain": [
              "'{\"Wireless Internet\",\"Air conditioning\",Kitchen,Heating,\"Family/kid friendly\",Essentials,\"Hair dryer\",Iron,\"translation missing: en.hosting_amenity_50\"}'"
            ],
            "application/vnd.google.colaboratory.intrinsic+json": {
              "type": "string"
            }
          },
          "metadata": {},
          "execution_count": 112
        }
      ]
    },
    {
      "cell_type": "code",
      "source": [
        "df['amenities'][0].replace('{','').replace('}','').replace('\"','').strip().split(',')"
      ],
      "metadata": {
        "colab": {
          "base_uri": "https://localhost:8080/"
        },
        "id": "ZDHgsqpjBusw",
        "outputId": "acb57171-a7f2-4b95-cffd-e3902d27baa3"
      },
      "execution_count": 113,
      "outputs": [
        {
          "output_type": "execute_result",
          "data": {
            "text/plain": [
              "['Wireless Internet',\n",
              " 'Air conditioning',\n",
              " 'Kitchen',\n",
              " 'Heating',\n",
              " 'Family/kid friendly',\n",
              " 'Essentials',\n",
              " 'Hair dryer',\n",
              " 'Iron',\n",
              " 'translation missing: en.hosting_amenity_50']"
            ]
          },
          "metadata": {},
          "execution_count": 113
        }
      ]
    },
    {
      "cell_type": "code",
      "source": [
        "all_aminities=[]\n",
        "for i in df['amenities']:\n",
        "  k=i.replace('{','').replace('}','').replace('\"','').split(',')\n",
        "  for j in k:\n",
        "    all_aminities.append(j)\n"
      ],
      "metadata": {
        "id": "hxppQwFdC6iK"
      },
      "execution_count": 114,
      "outputs": []
    },
    {
      "cell_type": "code",
      "source": [
        "len(set(all_aminities))"
      ],
      "metadata": {
        "colab": {
          "base_uri": "https://localhost:8080/"
        },
        "id": "X-mp-57nk63r",
        "outputId": "d48d2eda-c820-4ece-9b2c-2d4635228065"
      },
      "execution_count": 115,
      "outputs": [
        {
          "output_type": "execute_result",
          "data": {
            "text/plain": [
              "131"
            ]
          },
          "metadata": {},
          "execution_count": 115
        }
      ]
    },
    {
      "cell_type": "code",
      "source": [
        "from collections import Counter"
      ],
      "metadata": {
        "id": "wIQE8ujoNu-X"
      },
      "execution_count": 116,
      "outputs": []
    },
    {
      "cell_type": "code",
      "source": [
        "feature_counts = Counter(all_aminities)"
      ],
      "metadata": {
        "id": "Nrq3JdgHNfH_"
      },
      "execution_count": 117,
      "outputs": []
    },
    {
      "cell_type": "code",
      "source": [
        "aminity_df=pd.DataFrame(list(feature_counts.items()),columns=['aminity','count'])"
      ],
      "metadata": {
        "id": "aogdnJgWM8Bv"
      },
      "execution_count": 118,
      "outputs": []
    },
    {
      "cell_type": "code",
      "source": [
        "top_7_aminity=aminity_df.sort_values(by='count',ascending=False).head(7)\n",
        "top_7_aminity"
      ],
      "metadata": {
        "colab": {
          "base_uri": "https://localhost:8080/",
          "height": 269
        },
        "id": "dnAoSlBbOh2E",
        "outputId": "1e753fff-01a1-4850-9884-640c548a8810"
      },
      "execution_count": 119,
      "outputs": [
        {
          "output_type": "execute_result",
          "data": {
            "text/plain": [
              "              aminity  count\n",
              "0   Wireless Internet  70790\n",
              "2             Kitchen  67086\n",
              "3             Heating  66633\n",
              "5          Essentials  63702\n",
              "11     Smoke detector  61434\n",
              "1    Air conditioning  54847\n",
              "15                 TV  52166"
            ],
            "text/html": [
              "\n",
              "  <div id=\"df-9049692f-3fa9-4e3c-9791-04c02e7fbf3e\" class=\"colab-df-container\">\n",
              "    <div>\n",
              "<style scoped>\n",
              "    .dataframe tbody tr th:only-of-type {\n",
              "        vertical-align: middle;\n",
              "    }\n",
              "\n",
              "    .dataframe tbody tr th {\n",
              "        vertical-align: top;\n",
              "    }\n",
              "\n",
              "    .dataframe thead th {\n",
              "        text-align: right;\n",
              "    }\n",
              "</style>\n",
              "<table border=\"1\" class=\"dataframe\">\n",
              "  <thead>\n",
              "    <tr style=\"text-align: right;\">\n",
              "      <th></th>\n",
              "      <th>aminity</th>\n",
              "      <th>count</th>\n",
              "    </tr>\n",
              "  </thead>\n",
              "  <tbody>\n",
              "    <tr>\n",
              "      <th>0</th>\n",
              "      <td>Wireless Internet</td>\n",
              "      <td>70790</td>\n",
              "    </tr>\n",
              "    <tr>\n",
              "      <th>2</th>\n",
              "      <td>Kitchen</td>\n",
              "      <td>67086</td>\n",
              "    </tr>\n",
              "    <tr>\n",
              "      <th>3</th>\n",
              "      <td>Heating</td>\n",
              "      <td>66633</td>\n",
              "    </tr>\n",
              "    <tr>\n",
              "      <th>5</th>\n",
              "      <td>Essentials</td>\n",
              "      <td>63702</td>\n",
              "    </tr>\n",
              "    <tr>\n",
              "      <th>11</th>\n",
              "      <td>Smoke detector</td>\n",
              "      <td>61434</td>\n",
              "    </tr>\n",
              "    <tr>\n",
              "      <th>1</th>\n",
              "      <td>Air conditioning</td>\n",
              "      <td>54847</td>\n",
              "    </tr>\n",
              "    <tr>\n",
              "      <th>15</th>\n",
              "      <td>TV</td>\n",
              "      <td>52166</td>\n",
              "    </tr>\n",
              "  </tbody>\n",
              "</table>\n",
              "</div>\n",
              "    <div class=\"colab-df-buttons\">\n",
              "\n",
              "  <div class=\"colab-df-container\">\n",
              "    <button class=\"colab-df-convert\" onclick=\"convertToInteractive('df-9049692f-3fa9-4e3c-9791-04c02e7fbf3e')\"\n",
              "            title=\"Convert this dataframe to an interactive table.\"\n",
              "            style=\"display:none;\">\n",
              "\n",
              "  <svg xmlns=\"http://www.w3.org/2000/svg\" height=\"24px\" viewBox=\"0 -960 960 960\">\n",
              "    <path d=\"M120-120v-720h720v720H120Zm60-500h600v-160H180v160Zm220 220h160v-160H400v160Zm0 220h160v-160H400v160ZM180-400h160v-160H180v160Zm440 0h160v-160H620v160ZM180-180h160v-160H180v160Zm440 0h160v-160H620v160Z\"/>\n",
              "  </svg>\n",
              "    </button>\n",
              "\n",
              "  <style>\n",
              "    .colab-df-container {\n",
              "      display:flex;\n",
              "      gap: 12px;\n",
              "    }\n",
              "\n",
              "    .colab-df-convert {\n",
              "      background-color: #E8F0FE;\n",
              "      border: none;\n",
              "      border-radius: 50%;\n",
              "      cursor: pointer;\n",
              "      display: none;\n",
              "      fill: #1967D2;\n",
              "      height: 32px;\n",
              "      padding: 0 0 0 0;\n",
              "      width: 32px;\n",
              "    }\n",
              "\n",
              "    .colab-df-convert:hover {\n",
              "      background-color: #E2EBFA;\n",
              "      box-shadow: 0px 1px 2px rgba(60, 64, 67, 0.3), 0px 1px 3px 1px rgba(60, 64, 67, 0.15);\n",
              "      fill: #174EA6;\n",
              "    }\n",
              "\n",
              "    .colab-df-buttons div {\n",
              "      margin-bottom: 4px;\n",
              "    }\n",
              "\n",
              "    [theme=dark] .colab-df-convert {\n",
              "      background-color: #3B4455;\n",
              "      fill: #D2E3FC;\n",
              "    }\n",
              "\n",
              "    [theme=dark] .colab-df-convert:hover {\n",
              "      background-color: #434B5C;\n",
              "      box-shadow: 0px 1px 3px 1px rgba(0, 0, 0, 0.15);\n",
              "      filter: drop-shadow(0px 1px 2px rgba(0, 0, 0, 0.3));\n",
              "      fill: #FFFFFF;\n",
              "    }\n",
              "  </style>\n",
              "\n",
              "    <script>\n",
              "      const buttonEl =\n",
              "        document.querySelector('#df-9049692f-3fa9-4e3c-9791-04c02e7fbf3e button.colab-df-convert');\n",
              "      buttonEl.style.display =\n",
              "        google.colab.kernel.accessAllowed ? 'block' : 'none';\n",
              "\n",
              "      async function convertToInteractive(key) {\n",
              "        const element = document.querySelector('#df-9049692f-3fa9-4e3c-9791-04c02e7fbf3e');\n",
              "        const dataTable =\n",
              "          await google.colab.kernel.invokeFunction('convertToInteractive',\n",
              "                                                    [key], {});\n",
              "        if (!dataTable) return;\n",
              "\n",
              "        const docLinkHtml = 'Like what you see? Visit the ' +\n",
              "          '<a target=\"_blank\" href=https://colab.research.google.com/notebooks/data_table.ipynb>data table notebook</a>'\n",
              "          + ' to learn more about interactive tables.';\n",
              "        element.innerHTML = '';\n",
              "        dataTable['output_type'] = 'display_data';\n",
              "        await google.colab.output.renderOutput(dataTable, element);\n",
              "        const docLink = document.createElement('div');\n",
              "        docLink.innerHTML = docLinkHtml;\n",
              "        element.appendChild(docLink);\n",
              "      }\n",
              "    </script>\n",
              "  </div>\n",
              "\n",
              "\n",
              "<div id=\"df-3468b0a1-844d-47f6-8695-5cdfedd8be66\">\n",
              "  <button class=\"colab-df-quickchart\" onclick=\"quickchart('df-3468b0a1-844d-47f6-8695-5cdfedd8be66')\"\n",
              "            title=\"Suggest charts\"\n",
              "            style=\"display:none;\">\n",
              "\n",
              "<svg xmlns=\"http://www.w3.org/2000/svg\" height=\"24px\"viewBox=\"0 0 24 24\"\n",
              "     width=\"24px\">\n",
              "    <g>\n",
              "        <path d=\"M19 3H5c-1.1 0-2 .9-2 2v14c0 1.1.9 2 2 2h14c1.1 0 2-.9 2-2V5c0-1.1-.9-2-2-2zM9 17H7v-7h2v7zm4 0h-2V7h2v10zm4 0h-2v-4h2v4z\"/>\n",
              "    </g>\n",
              "</svg>\n",
              "  </button>\n",
              "\n",
              "<style>\n",
              "  .colab-df-quickchart {\n",
              "      --bg-color: #E8F0FE;\n",
              "      --fill-color: #1967D2;\n",
              "      --hover-bg-color: #E2EBFA;\n",
              "      --hover-fill-color: #174EA6;\n",
              "      --disabled-fill-color: #AAA;\n",
              "      --disabled-bg-color: #DDD;\n",
              "  }\n",
              "\n",
              "  [theme=dark] .colab-df-quickchart {\n",
              "      --bg-color: #3B4455;\n",
              "      --fill-color: #D2E3FC;\n",
              "      --hover-bg-color: #434B5C;\n",
              "      --hover-fill-color: #FFFFFF;\n",
              "      --disabled-bg-color: #3B4455;\n",
              "      --disabled-fill-color: #666;\n",
              "  }\n",
              "\n",
              "  .colab-df-quickchart {\n",
              "    background-color: var(--bg-color);\n",
              "    border: none;\n",
              "    border-radius: 50%;\n",
              "    cursor: pointer;\n",
              "    display: none;\n",
              "    fill: var(--fill-color);\n",
              "    height: 32px;\n",
              "    padding: 0;\n",
              "    width: 32px;\n",
              "  }\n",
              "\n",
              "  .colab-df-quickchart:hover {\n",
              "    background-color: var(--hover-bg-color);\n",
              "    box-shadow: 0 1px 2px rgba(60, 64, 67, 0.3), 0 1px 3px 1px rgba(60, 64, 67, 0.15);\n",
              "    fill: var(--button-hover-fill-color);\n",
              "  }\n",
              "\n",
              "  .colab-df-quickchart-complete:disabled,\n",
              "  .colab-df-quickchart-complete:disabled:hover {\n",
              "    background-color: var(--disabled-bg-color);\n",
              "    fill: var(--disabled-fill-color);\n",
              "    box-shadow: none;\n",
              "  }\n",
              "\n",
              "  .colab-df-spinner {\n",
              "    border: 2px solid var(--fill-color);\n",
              "    border-color: transparent;\n",
              "    border-bottom-color: var(--fill-color);\n",
              "    animation:\n",
              "      spin 1s steps(1) infinite;\n",
              "  }\n",
              "\n",
              "  @keyframes spin {\n",
              "    0% {\n",
              "      border-color: transparent;\n",
              "      border-bottom-color: var(--fill-color);\n",
              "      border-left-color: var(--fill-color);\n",
              "    }\n",
              "    20% {\n",
              "      border-color: transparent;\n",
              "      border-left-color: var(--fill-color);\n",
              "      border-top-color: var(--fill-color);\n",
              "    }\n",
              "    30% {\n",
              "      border-color: transparent;\n",
              "      border-left-color: var(--fill-color);\n",
              "      border-top-color: var(--fill-color);\n",
              "      border-right-color: var(--fill-color);\n",
              "    }\n",
              "    40% {\n",
              "      border-color: transparent;\n",
              "      border-right-color: var(--fill-color);\n",
              "      border-top-color: var(--fill-color);\n",
              "    }\n",
              "    60% {\n",
              "      border-color: transparent;\n",
              "      border-right-color: var(--fill-color);\n",
              "    }\n",
              "    80% {\n",
              "      border-color: transparent;\n",
              "      border-right-color: var(--fill-color);\n",
              "      border-bottom-color: var(--fill-color);\n",
              "    }\n",
              "    90% {\n",
              "      border-color: transparent;\n",
              "      border-bottom-color: var(--fill-color);\n",
              "    }\n",
              "  }\n",
              "</style>\n",
              "\n",
              "  <script>\n",
              "    async function quickchart(key) {\n",
              "      const quickchartButtonEl =\n",
              "        document.querySelector('#' + key + ' button');\n",
              "      quickchartButtonEl.disabled = true;  // To prevent multiple clicks.\n",
              "      quickchartButtonEl.classList.add('colab-df-spinner');\n",
              "      try {\n",
              "        const charts = await google.colab.kernel.invokeFunction(\n",
              "            'suggestCharts', [key], {});\n",
              "      } catch (error) {\n",
              "        console.error('Error during call to suggestCharts:', error);\n",
              "      }\n",
              "      quickchartButtonEl.classList.remove('colab-df-spinner');\n",
              "      quickchartButtonEl.classList.add('colab-df-quickchart-complete');\n",
              "    }\n",
              "    (() => {\n",
              "      let quickchartButtonEl =\n",
              "        document.querySelector('#df-3468b0a1-844d-47f6-8695-5cdfedd8be66 button');\n",
              "      quickchartButtonEl.style.display =\n",
              "        google.colab.kernel.accessAllowed ? 'block' : 'none';\n",
              "    })();\n",
              "  </script>\n",
              "</div>\n",
              "\n",
              "  <div id=\"id_e92fb4aa-32e1-422d-b1ea-1689cfa500bb\">\n",
              "    <style>\n",
              "      .colab-df-generate {\n",
              "        background-color: #E8F0FE;\n",
              "        border: none;\n",
              "        border-radius: 50%;\n",
              "        cursor: pointer;\n",
              "        display: none;\n",
              "        fill: #1967D2;\n",
              "        height: 32px;\n",
              "        padding: 0 0 0 0;\n",
              "        width: 32px;\n",
              "      }\n",
              "\n",
              "      .colab-df-generate:hover {\n",
              "        background-color: #E2EBFA;\n",
              "        box-shadow: 0px 1px 2px rgba(60, 64, 67, 0.3), 0px 1px 3px 1px rgba(60, 64, 67, 0.15);\n",
              "        fill: #174EA6;\n",
              "      }\n",
              "\n",
              "      [theme=dark] .colab-df-generate {\n",
              "        background-color: #3B4455;\n",
              "        fill: #D2E3FC;\n",
              "      }\n",
              "\n",
              "      [theme=dark] .colab-df-generate:hover {\n",
              "        background-color: #434B5C;\n",
              "        box-shadow: 0px 1px 3px 1px rgba(0, 0, 0, 0.15);\n",
              "        filter: drop-shadow(0px 1px 2px rgba(0, 0, 0, 0.3));\n",
              "        fill: #FFFFFF;\n",
              "      }\n",
              "    </style>\n",
              "    <button class=\"colab-df-generate\" onclick=\"generateWithVariable('top_7_aminity')\"\n",
              "            title=\"Generate code using this dataframe.\"\n",
              "            style=\"display:none;\">\n",
              "\n",
              "  <svg xmlns=\"http://www.w3.org/2000/svg\" height=\"24px\"viewBox=\"0 0 24 24\"\n",
              "       width=\"24px\">\n",
              "    <path d=\"M7,19H8.4L18.45,9,17,7.55,7,17.6ZM5,21V16.75L18.45,3.32a2,2,0,0,1,2.83,0l1.4,1.43a1.91,1.91,0,0,1,.58,1.4,1.91,1.91,0,0,1-.58,1.4L9.25,21ZM18.45,9,17,7.55Zm-12,3A5.31,5.31,0,0,0,4.9,8.1,5.31,5.31,0,0,0,1,6.5,5.31,5.31,0,0,0,4.9,4.9,5.31,5.31,0,0,0,6.5,1,5.31,5.31,0,0,0,8.1,4.9,5.31,5.31,0,0,0,12,6.5,5.46,5.46,0,0,0,6.5,12Z\"/>\n",
              "  </svg>\n",
              "    </button>\n",
              "    <script>\n",
              "      (() => {\n",
              "      const buttonEl =\n",
              "        document.querySelector('#id_e92fb4aa-32e1-422d-b1ea-1689cfa500bb button.colab-df-generate');\n",
              "      buttonEl.style.display =\n",
              "        google.colab.kernel.accessAllowed ? 'block' : 'none';\n",
              "\n",
              "      buttonEl.onclick = () => {\n",
              "        google.colab.notebook.generateWithVariable('top_7_aminity');\n",
              "      }\n",
              "      })();\n",
              "    </script>\n",
              "  </div>\n",
              "\n",
              "    </div>\n",
              "  </div>\n"
            ],
            "application/vnd.google.colaboratory.intrinsic+json": {
              "type": "dataframe",
              "variable_name": "top_7_aminity",
              "summary": "{\n  \"name\": \"top_7_aminity\",\n  \"rows\": 7,\n  \"fields\": [\n    {\n      \"column\": \"aminity\",\n      \"properties\": {\n        \"dtype\": \"string\",\n        \"num_unique_values\": 7,\n        \"samples\": [\n          \"Wireless Internet\",\n          \"Kitchen\",\n          \"Air conditioning\"\n        ],\n        \"semantic_type\": \"\",\n        \"description\": \"\"\n      }\n    },\n    {\n      \"column\": \"count\",\n      \"properties\": {\n        \"dtype\": \"number\",\n        \"std\": 6766,\n        \"min\": 52166,\n        \"max\": 70790,\n        \"num_unique_values\": 7,\n        \"samples\": [\n          70790,\n          67086,\n          54847\n        ],\n        \"semantic_type\": \"\",\n        \"description\": \"\"\n      }\n    }\n  ]\n}"
            }
          },
          "metadata": {},
          "execution_count": 119
        }
      ]
    },
    {
      "cell_type": "code",
      "source": [
        "plt.figure(figsize=(12,5))\n",
        "sns.barplot(data=top_7_aminity,x='aminity',y='count',color='green',alpha=0.7)\n",
        "plt.xticks(rotation=45)\n",
        "plt.suptitle('Top 7 Popular Amenities')\n",
        "plt.tight_layout()\n",
        "\n",
        "plt.savefig('Top 7 Popular Amenities.jpeg')\n",
        "plt.show()"
      ],
      "metadata": {
        "colab": {
          "base_uri": "https://localhost:8080/",
          "height": 512
        },
        "id": "RSWW2JO5IDvc",
        "outputId": "f8c90caf-a829-4b5d-c152-9e3e28d62e1a"
      },
      "execution_count": 120,
      "outputs": [
        {
          "output_type": "display_data",
          "data": {
            "text/plain": [
              "<Figure size 1200x500 with 1 Axes>"
            ],
            "image/png": "[encoded data removed]"
          },
          "metadata": {}
        }
      ]
    },
    {
      "cell_type": "markdown",
      "source": [
        "passing the top 7 aminities as features."
      ],
      "metadata": {
        "id": "EA7g6nJSRgxJ"
      }
    },
    {
      "cell_type": "code",
      "source": [
        "top_7_aminities=top_7_aminity['aminity'].values\n",
        "print(top_7_aminities)"
      ],
      "metadata": {
        "colab": {
          "base_uri": "https://localhost:8080/"
        },
        "id": "GmGLRvLtSib3",
        "outputId": "6f5c53df-8094-4443-fcb5-e31d73ab3ac7"
      },
      "execution_count": 122,
      "outputs": [
        {
          "output_type": "stream",
          "name": "stdout",
          "text": [
            "['Wireless Internet' 'Kitchen' 'Heating' 'Essentials' 'Smoke detector'\n",
            " 'Air conditioning' 'TV']\n"
          ]
        }
      ]
    },
    {
      "cell_type": "code",
      "source": [
        "def cleaned_am(am):\n",
        "  k=am.replace('{','').replace('}','').replace('\"','').split(',')\n",
        "  return k\n"
      ],
      "metadata": {
        "id": "PkcwOdp6MEHI"
      },
      "execution_count": 123,
      "outputs": []
    },
    {
      "cell_type": "code",
      "source": [
        "df['amenities']=df['amenities'].apply(cleaned_am)"
      ],
      "metadata": {
        "id": "Tras0N2lL04D"
      },
      "execution_count": 124,
      "outputs": []
    },
    {
      "cell_type": "markdown",
      "source": [
        "Adding a Feature to show the total amenities for each row"
      ],
      "metadata": {
        "id": "EvOnEHr9VXCA"
      }
    },
    {
      "cell_type": "code",
      "source": [
        "df['total amenities']=df['amenities'].apply(len)"
      ],
      "metadata": {
        "id": "ch3snHt7VARq"
      },
      "execution_count": 125,
      "outputs": []
    },
    {
      "cell_type": "code",
      "source": [
        "df['total amenities'].unique()"
      ],
      "metadata": {
        "colab": {
          "base_uri": "https://localhost:8080/"
        },
        "id": "UeDYEvvXVgWC",
        "outputId": "46a668e8-070c-429e-ad57-b6101a8d4a7e"
      },
      "execution_count": 126,
      "outputs": [
        {
          "output_type": "execute_result",
          "data": {
            "text/plain": [
              "array([ 9, 15, 19, 12, 10, 21, 26, 13, 22, 17, 25,  7, 18, 24, 11, 29, 16,\n",
              "       14, 44, 27, 28, 23,  8, 20,  1,  6, 43,  5,  2, 32, 41, 30,  3, 42,\n",
              "       33, 31, 37, 38,  4, 39, 49, 36, 34, 40, 35, 57, 48, 45, 47, 51, 55,\n",
              "       53, 46, 52, 58, 62, 50, 70, 61, 68, 54, 59, 60, 56, 78, 63, 64, 72,\n",
              "       71, 86, 77, 69])"
            ]
          },
          "metadata": {},
          "execution_count": 126
        }
      ]
    },
    {
      "cell_type": "code",
      "source": [
        "for feature in top_7_aminities:\n",
        "    df[f'{feature}'] = df['amenities'].apply(lambda x: feature in x)"
      ],
      "metadata": {
        "id": "Eg8s0ioHMVz_"
      },
      "execution_count": 127,
      "outputs": []
    },
    {
      "cell_type": "code",
      "source": [
        "df.info()"
      ],
      "metadata": {
        "colab": {
          "base_uri": "https://localhost:8080/"
        },
        "id": "GMfiZ8eLZB-n",
        "outputId": "290b7022-b1d3-41b4-d5b9-bacf8ec235ea"
      },
      "execution_count": 128,
      "outputs": [
        {
          "output_type": "stream",
          "name": "stdout",
          "text": [
            "<class 'pandas.core.frame.DataFrame'>\n",
            "Index: 73579 entries, 0 to 74110\n",
            "Data columns (total 31 columns):\n",
            " #   Column                  Non-Null Count  Dtype  \n",
            "---  ------                  --------------  -----  \n",
            " 0   log_price               73579 non-null  float64\n",
            " 1   property_type           73579 non-null  object \n",
            " 2   room_type               73579 non-null  object \n",
            " 3   amenities               73579 non-null  object \n",
            " 4   accommodates            73579 non-null  int64  \n",
            " 5   bathrooms               73579 non-null  int64  \n",
            " 6   bed_type                73579 non-null  object \n",
            " 7   cancellation_policy     73579 non-null  object \n",
            " 8   cleaning_fee            73579 non-null  bool   \n",
            " 9   city                    73579 non-null  object \n",
            " 10  host_has_profile_pic    73579 non-null  object \n",
            " 11  host_identity_verified  73579 non-null  object \n",
            " 12  host_response_rate      73579 non-null  float64\n",
            " 13  host_since              73579 non-null  int64  \n",
            " 14  instant_bookable        73579 non-null  object \n",
            " 15  latitude                73579 non-null  float64\n",
            " 16  longitude               73579 non-null  float64\n",
            " 17  neighbourhood           73579 non-null  object \n",
            " 18  number_of_reviews       73579 non-null  int64  \n",
            " 19  review_scores_rating    73579 non-null  float64\n",
            " 20  zipcode                 73579 non-null  float64\n",
            " 21  bedrooms                73579 non-null  float64\n",
            " 22  beds                    73579 non-null  float64\n",
            " 23  total amenities         73579 non-null  int64  \n",
            " 24  Wireless Internet       73579 non-null  bool   \n",
            " 25  Kitchen                 73579 non-null  bool   \n",
            " 26  Heating                 73579 non-null  bool   \n",
            " 27  Essentials              73579 non-null  bool   \n",
            " 28  Smoke detector          73579 non-null  bool   \n",
            " 29  Air conditioning        73579 non-null  bool   \n",
            " 30  TV                      73579 non-null  bool   \n",
            "dtypes: bool(8), float64(8), int64(5), object(10)\n",
            "memory usage: 16.0+ MB\n"
          ]
        }
      ]
    },
    {
      "cell_type": "code",
      "source": [
        "df.head()"
      ],
      "metadata": {
        "colab": {
          "base_uri": "https://localhost:8080/",
          "height": 568
        },
        "id": "s4eEto4aZDex",
        "outputId": "235f490d-af2b-4be3-9b8c-fe163a3e61e0"
      },
      "execution_count": 129,
      "outputs": [
        {
          "output_type": "execute_result",
          "data": {
            "text/plain": [
              "   log_price property_type        room_type  \\\n",
              "0   5.010635     Apartment  Entire home/apt   \n",
              "1   5.129899     Apartment  Entire home/apt   \n",
              "2   4.976734     Apartment  Entire home/apt   \n",
              "3   6.620073         House  Entire home/apt   \n",
              "4   4.744932     Apartment  Entire home/apt   \n",
              "\n",
              "                                           amenities  accommodates  bathrooms  \\\n",
              "0  [Wireless Internet, Air conditioning, Kitchen,...             3          1   \n",
              "1  [Wireless Internet, Air conditioning, Kitchen,...             7          1   \n",
              "2  [TV, Cable TV, Wireless Internet, Air conditio...             5          1   \n",
              "3  [TV, Cable TV, Internet, Wireless Internet, Ki...             4          1   \n",
              "4  [TV, Internet, Wireless Internet, Air conditio...             2          1   \n",
              "\n",
              "   bed_type cancellation_policy  cleaning_fee city  ... bedrooms beds  \\\n",
              "0  Real Bed              strict          True  NYC  ...      1.0  1.0   \n",
              "1  Real Bed              strict          True  NYC  ...      3.0  3.0   \n",
              "2  Real Bed            moderate          True  NYC  ...      1.0  3.0   \n",
              "3  Real Bed            flexible          True   SF  ...      2.0  2.0   \n",
              "4  Real Bed            moderate          True   DC  ...      0.0  1.0   \n",
              "\n",
              "   total amenities  Wireless Internet Kitchen  Heating  Essentials  \\\n",
              "0                9               True    True     True        True   \n",
              "1               15               True    True     True        True   \n",
              "2               19               True    True     True        True   \n",
              "3               15               True    True     True        True   \n",
              "4               12               True    True     True        True   \n",
              "\n",
              "  Smoke detector  Air conditioning     TV  \n",
              "0          False              True  False  \n",
              "1           True              True  False  \n",
              "2           True              True   True  \n",
              "3           True             False   True  \n",
              "4           True              True   True  \n",
              "\n",
              "[5 rows x 31 columns]"
            ],
            "text/html": [
              "\n",
              "  <div id=\"df-a0dc5207-5a15-4f17-a8cd-9d394569800e\" class=\"colab-df-container\">\n",
              "    <div>\n",
              "<style scoped>\n",
              "    .dataframe tbody tr th:only-of-type {\n",
              "        vertical-align: middle;\n",
              "    }\n",
              "\n",
              "    .dataframe tbody tr th {\n",
              "        vertical-align: top;\n",
              "    }\n",
              "\n",
              "    .dataframe thead th {\n",
              "        text-align: right;\n",
              "    }\n",
              "</style>\n",
              "<table border=\"1\" class=\"dataframe\">\n",
              "  <thead>\n",
              "    <tr style=\"text-align: right;\">\n",
              "      <th></th>\n",
              "      <th>log_price</th>\n",
              "      <th>property_type</th>\n",
              "      <th>room_type</th>\n",
              "      <th>amenities</th>\n",
              "      <th>accommodates</th>\n",
              "      <th>bathrooms</th>\n",
              "      <th>bed_type</th>\n",
              "      <th>cancellation_policy</th>\n",
              "      <th>cleaning_fee</th>\n",
              "      <th>city</th>\n",
              "      <th>...</th>\n",
              "      <th>bedrooms</th>\n",
              "      <th>beds</th>\n",
              "      <th>total amenities</th>\n",
              "      <th>Wireless Internet</th>\n",
              "      <th>Kitchen</th>\n",
              "      <th>Heating</th>\n",
              "      <th>Essentials</th>\n",
              "      <th>Smoke detector</th>\n",
              "      <th>Air conditioning</th>\n",
              "      <th>TV</th>\n",
              "    </tr>\n",
              "  </thead>\n",
              "  <tbody>\n",
              "    <tr>\n",
              "      <th>0</th>\n",
              "      <td>5.010635</td>\n",
              "      <td>Apartment</td>\n",
              "      <td>Entire home/apt</td>\n",
              "      <td>[Wireless Internet, Air conditioning, Kitchen,...</td>\n",
              "      <td>3</td>\n",
              "      <td>1</td>\n",
              "      <td>Real Bed</td>\n",
              "      <td>strict</td>\n",
              "      <td>True</td>\n",
              "      <td>NYC</td>\n",
              "      <td>...</td>\n",
              "      <td>1.0</td>\n",
              "      <td>1.0</td>\n",
              "      <td>9</td>\n",
              "      <td>True</td>\n",
              "      <td>True</td>\n",
              "      <td>True</td>\n",
              "      <td>True</td>\n",
              "      <td>False</td>\n",
              "      <td>True</td>\n",
              "      <td>False</td>\n",
              "    </tr>\n",
              "    <tr>\n",
              "      <th>1</th>\n",
              "      <td>5.129899</td>\n",
              "      <td>Apartment</td>\n",
              "      <td>Entire home/apt</td>\n",
              "      <td>[Wireless Internet, Air conditioning, Kitchen,...</td>\n",
              "      <td>7</td>\n",
              "      <td>1</td>\n",
              "      <td>Real Bed</td>\n",
              "      <td>strict</td>\n",
              "      <td>True</td>\n",
              "      <td>NYC</td>\n",
              "      <td>...</td>\n",
              "      <td>3.0</td>\n",
              "      <td>3.0</td>\n",
              "      <td>15</td>\n",
              "      <td>True</td>\n",
              "      <td>True</td>\n",
              "      <td>True</td>\n",
              "      <td>True</td>\n",
              "      <td>True</td>\n",
              "      <td>True</td>\n",
              "      <td>False</td>\n",
              "    </tr>\n",
              "    <tr>\n",
              "      <th>2</th>\n",
              "      <td>4.976734</td>\n",
              "      <td>Apartment</td>\n",
              "      <td>Entire home/apt</td>\n",
              "      <td>[TV, Cable TV, Wireless Internet, Air conditio...</td>\n",
              "      <td>5</td>\n",
              "      <td>1</td>\n",
              "      <td>Real Bed</td>\n",
              "      <td>moderate</td>\n",
              "      <td>True</td>\n",
              "      <td>NYC</td>\n",
              "      <td>...</td>\n",
              "      <td>1.0</td>\n",
              "      <td>3.0</td>\n",
              "      <td>19</td>\n",
              "      <td>True</td>\n",
              "      <td>True</td>\n",
              "      <td>True</td>\n",
              "      <td>True</td>\n",
              "      <td>True</td>\n",
              "      <td>True</td>\n",
              "      <td>True</td>\n",
              "    </tr>\n",
              "    <tr>\n",
              "      <th>3</th>\n",
              "      <td>6.620073</td>\n",
              "      <td>House</td>\n",
              "      <td>Entire home/apt</td>\n",
              "      <td>[TV, Cable TV, Internet, Wireless Internet, Ki...</td>\n",
              "      <td>4</td>\n",
              "      <td>1</td>\n",
              "      <td>Real Bed</td>\n",
              "      <td>flexible</td>\n",
              "      <td>True</td>\n",
              "      <td>SF</td>\n",
              "      <td>...</td>\n",
              "      <td>2.0</td>\n",
              "      <td>2.0</td>\n",
              "      <td>15</td>\n",
              "      <td>True</td>\n",
              "      <td>True</td>\n",
              "      <td>True</td>\n",
              "      <td>True</td>\n",
              "      <td>True</td>\n",
              "      <td>False</td>\n",
              "      <td>True</td>\n",
              "    </tr>\n",
              "    <tr>\n",
              "      <th>4</th>\n",
              "      <td>4.744932</td>\n",
              "      <td>Apartment</td>\n",
              "      <td>Entire home/apt</td>\n",
              "      <td>[TV, Internet, Wireless Internet, Air conditio...</td>\n",
              "      <td>2</td>\n",
              "      <td>1</td>\n",
              "      <td>Real Bed</td>\n",
              "      <td>moderate</td>\n",
              "      <td>True</td>\n",
              "      <td>DC</td>\n",
              "      <td>...</td>\n",
              "      <td>0.0</td>\n",
              "      <td>1.0</td>\n",
              "      <td>12</td>\n",
              "      <td>True</td>\n",
              "      <td>True</td>\n",
              "      <td>True</td>\n",
              "      <td>True</td>\n",
              "      <td>True</td>\n",
              "      <td>True</td>\n",
              "      <td>True</td>\n",
              "    </tr>\n",
              "  </tbody>\n",
              "</table>\n",
              "<p>5 rows × 31 columns</p>\n",
              "</div>\n",
              "    <div class=\"colab-df-buttons\">\n",
              "\n",
              "  <div class=\"colab-df-container\">\n",
              "    <button class=\"colab-df-convert\" onclick=\"convertToInteractive('df-a0dc5207-5a15-4f17-a8cd-9d394569800e')\"\n",
              "            title=\"Convert this dataframe to an interactive table.\"\n",
              "            style=\"display:none;\">\n",
              "\n",
              "  <svg xmlns=\"http://www.w3.org/2000/svg\" height=\"24px\" viewBox=\"0 -960 960 960\">\n",
              "    <path d=\"M120-120v-720h720v720H120Zm60-500h600v-160H180v160Zm220 220h160v-160H400v160Zm0 220h160v-160H400v160ZM180-400h160v-160H180v160Zm440 0h160v-160H620v160ZM180-180h160v-160H180v160Zm440 0h160v-160H620v160Z\"/>\n",
              "  </svg>\n",
              "    </button>\n",
              "\n",
              "  <style>\n",
              "    .colab-df-container {\n",
              "      display:flex;\n",
              "      gap: 12px;\n",
              "    }\n",
              "\n",
              "    .colab-df-convert {\n",
              "      background-color: #E8F0FE;\n",
              "      border: none;\n",
              "      border-radius: 50%;\n",
              "      cursor: pointer;\n",
              "      display: none;\n",
              "      fill: #1967D2;\n",
              "      height: 32px;\n",
              "      padding: 0 0 0 0;\n",
              "      width: 32px;\n",
              "    }\n",
              "\n",
              "    .colab-df-convert:hover {\n",
              "      background-color: #E2EBFA;\n",
              "      box-shadow: 0px 1px 2px rgba(60, 64, 67, 0.3), 0px 1px 3px 1px rgba(60, 64, 67, 0.15);\n",
              "      fill: #174EA6;\n",
              "    }\n",
              "\n",
              "    .colab-df-buttons div {\n",
              "      margin-bottom: 4px;\n",
              "    }\n",
              "\n",
              "    [theme=dark] .colab-df-convert {\n",
              "      background-color: #3B4455;\n",
              "      fill: #D2E3FC;\n",
              "    }\n",
              "\n",
              "    [theme=dark] .colab-df-convert:hover {\n",
              "      background-color: #434B5C;\n",
              "      box-shadow: 0px 1px 3px 1px rgba(0, 0, 0, 0.15);\n",
              "      filter: drop-shadow(0px 1px 2px rgba(0, 0, 0, 0.3));\n",
              "      fill: #FFFFFF;\n",
              "    }\n",
              "  </style>\n",
              "\n",
              "    <script>\n",
              "      const buttonEl =\n",
              "        document.querySelector('#df-a0dc5207-5a15-4f17-a8cd-9d394569800e button.colab-df-convert');\n",
              "      buttonEl.style.display =\n",
              "        google.colab.kernel.accessAllowed ? 'block' : 'none';\n",
              "\n",
              "      async function convertToInteractive(key) {\n",
              "        const element = document.querySelector('#df-a0dc5207-5a15-4f17-a8cd-9d394569800e');\n",
              "        const dataTable =\n",
              "          await google.colab.kernel.invokeFunction('convertToInteractive',\n",
              "                                                    [key], {});\n",
              "        if (!dataTable) return;\n",
              "\n",
              "        const docLinkHtml = 'Like what you see? Visit the ' +\n",
              "          '<a target=\"_blank\" href=https://colab.research.google.com/notebooks/data_table.ipynb>data table notebook</a>'\n",
              "          + ' to learn more about interactive tables.';\n",
              "        element.innerHTML = '';\n",
              "        dataTable['output_type'] = 'display_data';\n",
              "        await google.colab.output.renderOutput(dataTable, element);\n",
              "        const docLink = document.createElement('div');\n",
              "        docLink.innerHTML = docLinkHtml;\n",
              "        element.appendChild(docLink);\n",
              "      }\n",
              "    </script>\n",
              "  </div>\n",
              "\n",
              "\n",
              "<div id=\"df-2f44cff3-d681-4782-8805-88edfb296370\">\n",
              "  <button class=\"colab-df-quickchart\" onclick=\"quickchart('df-2f44cff3-d681-4782-8805-88edfb296370')\"\n",
              "            title=\"Suggest charts\"\n",
              "            style=\"display:none;\">\n",
              "\n",
              "<svg xmlns=\"http://www.w3.org/2000/svg\" height=\"24px\"viewBox=\"0 0 24 24\"\n",
              "     width=\"24px\">\n",
              "    <g>\n",
              "        <path d=\"M19 3H5c-1.1 0-2 .9-2 2v14c0 1.1.9 2 2 2h14c1.1 0 2-.9 2-2V5c0-1.1-.9-2-2-2zM9 17H7v-7h2v7zm4 0h-2V7h2v10zm4 0h-2v-4h2v4z\"/>\n",
              "    </g>\n",
              "</svg>\n",
              "  </button>\n",
              "\n",
              "<style>\n",
              "  .colab-df-quickchart {\n",
              "      --bg-color: #E8F0FE;\n",
              "      --fill-color: #1967D2;\n",
              "      --hover-bg-color: #E2EBFA;\n",
              "      --hover-fill-color: #174EA6;\n",
              "      --disabled-fill-color: #AAA;\n",
              "      --disabled-bg-color: #DDD;\n",
              "  }\n",
              "\n",
              "  [theme=dark] .colab-df-quickchart {\n",
              "      --bg-color: #3B4455;\n",
              "      --fill-color: #D2E3FC;\n",
              "      --hover-bg-color: #434B5C;\n",
              "      --hover-fill-color: #FFFFFF;\n",
              "      --disabled-bg-color: #3B4455;\n",
              "      --disabled-fill-color: #666;\n",
              "  }\n",
              "\n",
              "  .colab-df-quickchart {\n",
              "    background-color: var(--bg-color);\n",
              "    border: none;\n",
              "    border-radius: 50%;\n",
              "    cursor: pointer;\n",
              "    display: none;\n",
              "    fill: var(--fill-color);\n",
              "    height: 32px;\n",
              "    padding: 0;\n",
              "    width: 32px;\n",
              "  }\n",
              "\n",
              "  .colab-df-quickchart:hover {\n",
              "    background-color: var(--hover-bg-color);\n",
              "    box-shadow: 0 1px 2px rgba(60, 64, 67, 0.3), 0 1px 3px 1px rgba(60, 64, 67, 0.15);\n",
              "    fill: var(--button-hover-fill-color);\n",
              "  }\n",
              "\n",
              "  .colab-df-quickchart-complete:disabled,\n",
              "  .colab-df-quickchart-complete:disabled:hover {\n",
              "    background-color: var(--disabled-bg-color);\n",
              "    fill: var(--disabled-fill-color);\n",
              "    box-shadow: none;\n",
              "  }\n",
              "\n",
              "  .colab-df-spinner {\n",
              "    border: 2px solid var(--fill-color);\n",
              "    border-color: transparent;\n",
              "    border-bottom-color: var(--fill-color);\n",
              "    animation:\n",
              "      spin 1s steps(1) infinite;\n",
              "  }\n",
              "\n",
              "  @keyframes spin {\n",
              "    0% {\n",
              "      border-color: transparent;\n",
              "      border-bottom-color: var(--fill-color);\n",
              "      border-left-color: var(--fill-color);\n",
              "    }\n",
              "    20% {\n",
              "      border-color: transparent;\n",
              "      border-left-color: var(--fill-color);\n",
              "      border-top-color: var(--fill-color);\n",
              "    }\n",
              "    30% {\n",
              "      border-color: transparent;\n",
              "      border-left-color: var(--fill-color);\n",
              "      border-top-color: var(--fill-color);\n",
              "      border-right-color: var(--fill-color);\n",
              "    }\n",
              "    40% {\n",
              "      border-color: transparent;\n",
              "      border-right-color: var(--fill-color);\n",
              "      border-top-color: var(--fill-color);\n",
              "    }\n",
              "    60% {\n",
              "      border-color: transparent;\n",
              "      border-right-color: var(--fill-color);\n",
              "    }\n",
              "    80% {\n",
              "      border-color: transparent;\n",
              "      border-right-color: var(--fill-color);\n",
              "      border-bottom-color: var(--fill-color);\n",
              "    }\n",
              "    90% {\n",
              "      border-color: transparent;\n",
              "      border-bottom-color: var(--fill-color);\n",
              "    }\n",
              "  }\n",
              "</style>\n",
              "\n",
              "  <script>\n",
              "    async function quickchart(key) {\n",
              "      const quickchartButtonEl =\n",
              "        document.querySelector('#' + key + ' button');\n",
              "      quickchartButtonEl.disabled = true;  // To prevent multiple clicks.\n",
              "      quickchartButtonEl.classList.add('colab-df-spinner');\n",
              "      try {\n",
              "        const charts = await google.colab.kernel.invokeFunction(\n",
              "            'suggestCharts', [key], {});\n",
              "      } catch (error) {\n",
              "        console.error('Error during call to suggestCharts:', error);\n",
              "      }\n",
              "      quickchartButtonEl.classList.remove('colab-df-spinner');\n",
              "      quickchartButtonEl.classList.add('colab-df-quickchart-complete');\n",
              "    }\n",
              "    (() => {\n",
              "      let quickchartButtonEl =\n",
              "        document.querySelector('#df-2f44cff3-d681-4782-8805-88edfb296370 button');\n",
              "      quickchartButtonEl.style.display =\n",
              "        google.colab.kernel.accessAllowed ? 'block' : 'none';\n",
              "    })();\n",
              "  </script>\n",
              "</div>\n",
              "\n",
              "    </div>\n",
              "  </div>\n"
            ],
            "application/vnd.google.colaboratory.intrinsic+json": {
              "type": "dataframe",
              "variable_name": "df"
            }
          },
          "metadata": {},
          "execution_count": 129
        }
      ]
    },
    {
      "cell_type": "code",
      "source": [
        "df.drop('amenities',axis=1,inplace=True)"
      ],
      "metadata": {
        "id": "n49VkLBfaR57"
      },
      "execution_count": 130,
      "outputs": []
    },
    {
      "cell_type": "markdown",
      "source": [
        "### Label Encoding the boolian and object data types"
      ],
      "metadata": {
        "id": "DOjXBObaZzy2"
      }
    },
    {
      "cell_type": "code",
      "source": [
        "bool_and_object_cols = df.select_dtypes(include=['bool','object']).columns\n",
        "bool_and_object_cols"
      ],
      "metadata": {
        "colab": {
          "base_uri": "https://localhost:8080/"
        },
        "id": "T1LqY_HbZK8S",
        "outputId": "194cde31-1ad9-4952-92be-0f5f8f11463c"
      },
      "execution_count": 131,
      "outputs": [
        {
          "output_type": "execute_result",
          "data": {
            "text/plain": [
              "Index(['property_type', 'room_type', 'bed_type', 'cancellation_policy',\n",
              "       'cleaning_fee', 'city', 'host_has_profile_pic',\n",
              "       'host_identity_verified', 'instant_bookable', 'neighbourhood',\n",
              "       'Wireless Internet', 'Kitchen', 'Heating', 'Essentials',\n",
              "       'Smoke detector', 'Air conditioning', 'TV'],\n",
              "      dtype='object')"
            ]
          },
          "metadata": {},
          "execution_count": 131
        }
      ]
    },
    {
      "cell_type": "code",
      "source": [
        "from sklearn.preprocessing import LabelEncoder"
      ],
      "metadata": {
        "id": "xdM2wMMNZ-F2"
      },
      "execution_count": 132,
      "outputs": []
    },
    {
      "cell_type": "markdown",
      "source": [
        "Label Encoding and also mapping the encoded values to later use in streamlit."
      ],
      "metadata": {
        "id": "2qlyuQEIC_q7"
      }
    },
    {
      "cell_type": "code",
      "source": [
        "encoders = {}\n",
        "mappings = {}\n",
        "classes={}\n",
        "\n",
        "for col in bool_and_object_cols:\n",
        "    le = LabelEncoder()\n",
        "    df[col] = le.fit_transform(df[col])\n",
        "    encoders[col] = le\n",
        "    classes[col]=le.classes_\n",
        "    mappings[col] = {label: id for id, label in enumerate(le.classes_)}\n",
        "\n",
        "\n",
        "for col, mapping in mappings.items():\n",
        "    print(f\"{col}: {mapping}\")"
      ],
      "metadata": {
        "colab": {
          "base_uri": "https://localhost:8080/"
        },
        "id": "Tsq7FUBL0xxq",
        "outputId": "8f27206f-33bd-4f54-f6b8-6d574de9e053"
      },
      "execution_count": 133,
      "outputs": [
        {
          "output_type": "stream",
          "name": "stdout",
          "text": [
            "property_type: {'Apartment': 0, 'Bed & Breakfast': 1, 'Boat': 2, 'Boutique hotel': 3, 'Bungalow': 4, 'Cabin': 5, 'Camper/RV': 6, 'Casa particular': 7, 'Castle': 8, 'Cave': 9, 'Chalet': 10, 'Condominium': 11, 'Dorm': 12, 'Earth House': 13, 'Guest suite': 14, 'Guesthouse': 15, 'Hostel': 16, 'House': 17, 'Hut': 18, 'In-law': 19, 'Island': 20, 'Lighthouse': 21, 'Loft': 22, 'Other': 23, 'Serviced apartment': 24, 'Tent': 25, 'Timeshare': 26, 'Tipi': 27, 'Townhouse': 28, 'Train': 29, 'Treehouse': 30, 'Vacation home': 31, 'Villa': 32, 'Yurt': 33}\n",
            "room_type: {'Entire home/apt': 0, 'Private room': 1, 'Shared room': 2}\n",
            "bed_type: {'Airbed': 0, 'Couch': 1, 'Futon': 2, 'Pull-out Sofa': 3, 'Real Bed': 4}\n",
            "cancellation_policy: {'flexible': 0, 'moderate': 1, 'strict': 2, 'super_strict_30': 3, 'super_strict_60': 4}\n",
            "cleaning_fee: {False: 0, True: 1}\n",
            "city: {'Boston': 0, 'Chicago': 1, 'DC': 2, 'LA': 3, 'NYC': 4, 'SF': 5}\n",
            "host_has_profile_pic: {'f': 0, 't': 1}\n",
            "host_identity_verified: {'f': 0, 't': 1}\n",
            "instant_bookable: {'f': 0, 't': 1}\n",
            "neighbourhood: {'16th Street Heights': 0, 'Adams Morgan': 1, 'Alamo Square': 2, 'Albany Park': 3, 'Alhambra': 4, 'Allerton': 5, 'Allston-Brighton': 6, 'Alondra Park': 7, 'Alphabet City': 8, 'Altadena': 9, 'American University Park': 10, 'Anacostia': 11, 'Andersonville': 12, 'Annadale': 13, 'Arboretum': 14, 'Arcadia': 15, 'Archer Heights': 16, 'Arleta': 17, 'Armour Square': 18, 'Arrochar': 19, 'Artesia': 20, 'Arts District': 21, 'Ashburn': 22, 'Astoria': 23, 'Atwater Village': 24, 'Auburn Gresham': 25, 'Austin': 26, 'Avondale': 27, 'Azusa': 28, 'Back Bay': 29, 'Back of the Yards': 30, 'Balboa Terrace': 31, 'Baldwin Hills': 32, 'Baldwin Park': 33, 'Barney Circle': 34, 'Barry Farm': 35, 'Bath Beach': 36, 'Battery Park City': 37, 'Bay Ridge': 38, 'Baychester': 39, 'Bayside': 40, 'Bayview': 41, 'Beacon Hill': 42, 'Bedford Park': 43, 'Bedford-Stuyvesant': 44, 'Bel Air/Beverly Crest': 45, 'Bell': 46, 'Bellevue': 47, 'Bellflower': 48, 'Belmont': 49, 'Belmont Cragin': 50, 'Benning': 51, 'Benning Heights': 52, 'Benning Ridge': 53, 'Bensonhurst': 54, 'Bergen Beach': 55, 'Berkley': 56, 'Bernal Heights': 57, 'Bethesda, MD': 58, 'Beverly': 59, 'Beverly Hills': 60, 'Bloomingdale': 61, 'Boerum Hill': 62, 'Borough Park': 63, 'Boyle Heights': 64, 'Boystown': 65, 'Bradbury': 66, 'Brentwood': 67, 'Bridgeport': 68, 'Brighton Beach': 69, 'Brighton Park': 70, 'Brightwood': 71, 'Bronxdale': 72, 'Bronzeville': 73, 'Brookland': 74, 'Brookline': 75, 'Brooklyn': 76, 'Brooklyn Heights': 77, 'Brooklyn Navy Yard': 78, 'Brownsville': 79, 'Bucktown': 80, 'Buena Vista': 81, 'Burbank': 82, 'Burleith': 83, 'Bushwick': 84, 'Cahuenga Pass': 85, 'Cambridge': 86, 'Canarsie': 87, 'Canoga Park': 88, 'Capitol Hill': 89, 'Carroll Gardens': 90, 'Carson': 91, 'Carver Langston': 92, 'Castle Hill ': 93, 'Castleton Corners': 94, 'Cathedral Heights': 95, 'Central Northeast/Mahaning Heights': 96, 'Cerritos': 97, 'Charlestown': 98, 'Chatham': 99, 'Chatsworth': 100, 'Chelsea': 101, 'Chestnut Hill': 102, 'Chevy Chase': 103, 'Chevy Chase, MD': 104, 'Chillum, MD': 105, 'Chinatown': 106, 'City Island': 107, 'Civic Center': 108, 'Claremont': 109, 'Clearing': 110, 'Cleveland Park': 111, 'Clifton': 112, 'Clinton Hill': 113, 'Co-op City': 114, 'Cobble Hill': 115, 'Cole Valley': 116, 'College Point': 117, 'Colonial Village': 118, 'Columbia Heights': 119, 'Columbia Street Waterfront': 120, 'Commerce': 121, 'Compton': 122, 'Concord': 123, 'Concourse': 124, 'Concourse Village': 125, 'Coney Island': 126, 'Congress Heights': 127, 'Coolidge Corner': 128, 'Corona': 129, 'Country Club': 130, 'Covina': 131, 'Cow Hollow': 132, 'Crestwood': 133, 'Crocker Amazon': 134, 'Crotona': 135, 'Crown Heights': 136, 'Culver City': 137, 'Cypress Park': 138, 'DUMBO': 139, 'Daly City': 140, 'Deanwood': 141, 'Del Rey': 142, 'Diamond Heights': 143, 'Ditmars / Steinway': 144, 'Dogpatch': 145, 'Dongan Hills': 146, 'Dorchester': 147, 'Douglass': 148, 'Downey': 149, 'Downtown': 150, 'Downtown Brooklyn': 151, 'Downtown Crossing': 152, 'Downtown/Penn Quarter': 153, 'Duarte': 154, 'Duboce Triangle': 155, 'Dunning': 156, 'Dupont Circle': 157, 'Dupont Park': 158, 'Dyker Heights': 159, 'Eagle Rock': 160, 'East Boston': 161, 'East Corner': 162, 'East Elmhurst': 163, 'East Flatbush': 164, 'East Harlem': 165, 'East Hollywood': 166, 'East Los Angeles': 167, 'East New York': 168, 'East San Gabriel': 169, 'East Village': 170, 'Eastchester': 171, 'Eastland Gardens': 172, 'Echo Park': 173, 'Eckington': 174, 'Edenwald': 175, 'Edgewater': 176, 'Edgewood': 177, 'Edison Park': 178, 'El Monte': 179, 'El Segundo': 180, 'El Sereno': 181, 'Elm Park': 182, 'Elmhurst': 183, 'Eltingville': 184, 'Elysian Valley': 185, 'Emerson Hill': 186, 'Encino': 187, 'Englewood': 188, 'Excelsior': 189, 'Fairlawn': 190, 'Fenway/Kenmore': 191, 'Financial District': 192, \"Fisherman's Wharf\": 193, 'Flatbush': 194, 'Flatiron District': 195, 'Flatlands': 196, 'Florence-Graham': 197, 'Flushing': 198, 'Foggy Bottom': 199, 'Fordham': 200, 'Forest Hill': 201, 'Forest Hills': 202, 'Fort Davis': 203, 'Fort Dupont': 204, 'Fort Greene': 205, 'Fort Lincoln': 206, 'Fort Totten': 207, 'Fort Wadsworth': 208, 'Foxhall': 209, 'Fresh Meadows': 210, 'Friendship Heights': 211, 'Galewood': 212, 'Gallaudet': 213, 'Gardena': 214, 'Garfield Heights': 215, 'Garfield Park': 216, 'Garfield Ridge': 217, 'Gateway': 218, 'Georgetown': 219, 'Gerritsen Beach': 220, 'Glassell Park': 221, 'Glen Park': 222, 'Glendale': 223, 'Glendora': 224, 'Glover Park': 225, 'Gold Coast': 226, 'Good Hope': 227, 'Government Center': 228, 'Gowanus': 229, 'Gramercy Park': 230, 'Granada Hills North': 231, 'Grand Crossing': 232, 'Graniteville': 233, 'Grant City': 234, 'Grasmere': 235, 'Gravesend': 236, 'Great Kills': 237, 'Greenpoint': 238, 'Greenway': 239, 'Greenwich Village': 240, 'Greenwood Heights': 241, 'Grymes Hill': 242, 'Haight-Ashbury': 243, 'Hamilton Heights': 244, 'Harbor City': 245, 'Harbor Gateway': 246, 'Harlem': 247, 'Harvard Square': 248, 'Hawaiian Gardens': 249, 'Hawthorne': 250, 'Hayes Valley': 251, \"Hell's Kitchen\": 252, 'Hermon': 253, 'Hermosa': 254, 'Hermosa Beach': 255, 'Highbridge': 256, 'Highland Park': 257, 'Hilcrest Heights/Marlow Heights, MD': 258, 'Hillbrook': 259, 'Hillcrest': 260, 'Hollywood': 261, 'Hollywood Hills': 262, 'Howard Beach': 263, 'Hudson Square': 264, 'Huguenot': 265, 'Humboldt Park': 266, 'Huntington Park': 267, 'Hunts Point': 268, 'Hyde Park': 269, 'Ingleside': 270, 'Inglewood': 271, 'Inner Sunset': 272, 'Inwood': 273, 'Irving Park': 274, 'Irwindale': 275, 'Ivy City': 276, 'Jackson Heights': 277, 'Jamaica': 278, 'Jamaica Plain': 279, 'Japantown': 280, 'Jefferson Park': 281, 'Judiciary Square': 282, 'Kalorama': 283, 'Kensington': 284, 'Kent': 285, 'Kenwood': 286, 'Kew Garden Hills': 287, 'Kingman Park': 288, 'Kingsbridge': 289, 'Kingsbridge Heights': 290, 'Kips Bay': 291, 'La Canada Flintridge': 292, 'La Crescenta-Montrose': 293, 'La Habra': 294, 'La Mirada': 295, 'La Puente': 296, 'Lake Balboa': 297, 'Lakeshore': 298, 'Lakeview': 299, 'Lakewood': 300, 'Lamond Riggs': 301, 'Langdon': 302, 'Laurel Canyon': 303, 'Lawndale': 304, 'LeDroit Park': 305, 'Leather District': 306, 'Lefferts Garden': 307, 'Lighthouse HIll': 308, 'Lincoln Heights': 309, 'Lincoln Park': 310, 'Lincoln Square': 311, 'Lindenwood': 312, 'Little Italy': 313, 'Little Italy/UIC': 314, 'Little Village': 315, 'Logan Circle': 316, 'Logan Square': 317, 'Lomita': 318, 'Long Beach': 319, 'Long Island City': 320, 'Longwood': 321, 'Loop': 322, 'Los Feliz': 323, 'Lower East Side': 324, 'Lower Haight': 325, 'Lynwood': 326, 'Magnificent Mile': 327, 'Malibu': 328, 'Manhattan': 329, 'Manhattan Beach': 330, 'Manor Park': 331, 'Mar Vista': 332, 'Marble Hill': 333, 'Marina': 334, 'Marina Del Rey': 335, 'Marine Park': 336, 'Mariners Harbor': 337, 'Marshall Heights': 338, 'Maspeth': 339, 'Massachusetts Heights': 340, 'Mattapan': 341, 'McKinley Park': 342, 'Meatpacking District': 343, 'Meiers Corners': 344, 'Melrose': 345, 'Michigan Park': 346, 'Mid-City': 347, 'Mid-Wilshire': 348, 'Middle Village': 349, 'Midland Beach': 350, 'Midtown': 351, 'Midtown East': 352, 'Midwood': 353, 'Mill Basin': 354, 'Mission Bay': 355, 'Mission District': 356, 'Mission Hill': 357, 'Mission Hills': 358, 'Mission Terrace': 359, 'Monrovia': 360, 'Montclare': 361, 'Montebello': 362, 'Montecito Heights': 363, 'Monterey Hills': 364, 'Monterey Park': 365, 'Morgan Park': 366, 'Morningside Heights': 367, 'Morris Heights': 368, 'Morris Park': 369, 'Morrisania': 370, 'Mott Haven': 371, 'Mount Eden': 372, 'Mount Pleasant': 373, 'Mount Vernon Square': 374, 'Mount Washington': 375, 'Mt Rainier/Brentwood, MD': 376, 'Mt. Pleasant': 377, 'Mt. Vernon Square': 378, 'Murray Hill': 379, 'Navy Yard': 380, 'Naylor Gardens': 381, 'Near North Side': 382, 'Near Northeast': 383, 'Near Northeast/H Street Corridor': 384, 'Near West Side': 385, 'New Brighton': 386, 'New Dorp Beach': 387, 'New Springville': 388, 'Newton': 389, 'Nob Hill': 390, 'Noe Valley': 391, 'Noho': 392, 'Nolita': 393, 'North Beach': 394, 'North Center': 395, 'North Cleveland Park': 396, 'North End': 397, 'North Hills East': 398, 'North Hills West': 399, 'North Hollywood': 400, 'North Lawndale': 401, 'North Michigan Park': 402, 'North Park': 403, 'Northridge': 404, 'Norwalk': 405, 'Norwood': 406, 'Norwood Park': 407, \"O'Hare\": 408, 'Oakland': 409, 'Oakwood': 410, 'Observatory Circle': 411, 'Oceanview': 412, \"Old Soldiers' Home\": 413, 'Old Town': 414, 'Outer Sunset': 415, 'Ozone Park': 416, 'Pacific Heights': 417, 'Pacific Palisades': 418, 'Pacoima': 419, 'Palisades': 420, 'Palms': 421, 'Palos Verdes': 422, 'Panorama City': 423, 'Paramount': 424, 'Park Slope': 425, 'Park Versailles': 426, 'Park View': 427, 'Parkchester': 428, 'Parkside': 429, 'Pasadena': 430, 'Pelham Bay': 431, 'Petworth': 432, 'Pico Rivera': 433, 'Pilsen': 434, 'Pleasant Hill': 435, 'Pleasant Plains': 436, 'Port Morris': 437, 'Port Richmond': 438, 'Portage Park': 439, 'Porter Ranch': 440, 'Portola': 441, 'Potrero Hill': 442, 'Presidio': 443, 'Presidio Heights': 444, 'Printers Row': 445, 'Prospect Heights': 446, 'Pullman': 447, 'Queens': 448, 'Rancho Palos Verdes': 449, 'Randall Manor': 450, 'Randle Highlands': 451, 'Red Hook': 452, 'Redondo Beach': 453, 'Rego Park': 454, 'Reseda': 455, 'Richmond District': 456, 'Richmond Hill': 457, 'Ridgewood': 458, 'River North': 459, 'River Terrace': 460, 'River West': 461, 'Riverdale': 462, 'Rogers Park': 463, 'Rolling Hills': 464, 'Rolling Hills Estates': 465, 'Roosevelt Island': 466, 'Roscoe Village': 467, 'Rosebank': 468, 'Roseland': 469, 'Rosemead': 470, 'Roslindale': 471, 'Rossville': 472, 'Roxbury': 473, 'Russian Hill': 474, 'San Gabriel': 475, 'San Marino': 476, 'San Pedro': 477, 'Santa Fe Springs': 478, 'Santa Monica': 479, 'Sea Cliff': 480, 'Sea Gate': 481, 'Shaw': 482, 'Sheepshead Bay': 483, 'Shepherd Park': 484, 'Sherman Oaks': 485, 'Shipley Terrace': 486, 'Sierra Madre': 487, 'Signal Hill': 488, 'Silver Lake': 489, 'Silver Spring, MD': 490, 'Skid Row': 491, 'Skyland': 492, 'SoMa': 493, 'Soho': 494, 'Somerville': 495, 'Soundview': 496, 'South Beach': 497, 'South Boston': 498, 'South Chicago': 499, 'South El Monte': 500, 'South End': 501, 'South Gate': 502, 'South LA': 503, 'South Loop/Printers Row': 504, 'South Ozone Park': 505, 'South Pasadena': 506, 'South Robertson': 507, 'South San Gabriel': 508, 'South Shore': 509, 'South Street Seaport': 510, 'South Whittier': 511, 'Southwest Waterfront': 512, 'Spring Valley': 513, 'Spuyten Duyvil': 514, 'St. Elizabeths': 515, 'St. George': 516, 'Stapleton': 517, 'Streeterville': 518, 'Stronghold': 519, 'Studio City': 520, 'Suitland-Silver Hill, MD': 521, 'Sun Valley': 522, 'Sunland/Tujunga': 523, 'Sunnyside': 524, 'Sunset Park': 525, 'Sylmar': 526, 'Takoma': 527, 'Takoma Park, MD': 528, 'Tarzana': 529, 'Telegraph Hill': 530, 'Temple City': 531, 'Tenderloin': 532, 'The Bronx': 533, 'The Castro': 534, 'The Rockaways': 535, 'Theater District': 536, 'Throgs Neck': 537, 'Times Square/Theatre District': 538, 'Todt Hill': 539, 'Toluca Lake': 540, 'Tompkinsville': 541, 'Topanga': 542, 'Torrance': 543, 'Tottenville': 544, 'Tremont': 545, 'Tribeca': 546, 'Trinidad': 547, 'Truxton Circle': 548, 'Twin Peaks': 549, 'Twining': 550, 'U Street Corridor': 551, 'Ukrainian Village': 552, 'Union Square': 553, 'University Heights': 554, 'Upper East Side': 555, 'Upper West Side': 556, 'Uptown': 557, 'Utopia': 558, 'Valley Glen': 559, 'Valley Village': 560, 'Van Nest': 561, 'Van Nuys': 562, 'Venice': 563, 'Vernon': 564, 'Vinegar Hill': 565, 'Visitacion Valley': 566, 'Wakefield': 567, 'Washington Heights': 568, 'Washington Highlands': 569, 'Washington Park': 570, 'Watertown': 571, 'Watts': 572, 'Wesley Heights': 573, 'West Adams': 574, 'West Athens': 575, 'West Brighton': 576, 'West Covina': 577, 'West Elsdon': 578, 'West End': 579, 'West Farms': 580, 'West Hills': 581, 'West Hollywood': 582, 'West Lawn': 583, 'West Loop/Greektown': 584, 'West Los Angeles': 585, 'West Portal': 586, 'West Puente Valley': 587, 'West Ridge': 588, 'West Roxbury': 589, 'West Town': 590, 'West Town/Noble Square': 591, 'West Village': 592, 'Westchester Village': 593, 'Westchester/Playa Del Rey': 594, 'Westerleigh': 595, 'Western Addition/NOPA': 596, 'Westlake': 597, 'Westmont': 598, 'Westside': 599, 'Westwood': 600, 'Whitestone': 601, 'Whittier': 602, 'Wicker Park': 603, 'Williamsbridge': 604, 'Williamsburg': 605, 'Willowbrook': 606, 'Wilmington': 607, 'Windsor Terrace': 608, 'Winnetka': 609, 'Winthrop': 610, 'Woodhaven': 611, 'Woodland': 612, 'Woodland Hills/Warner Center': 613, 'Woodlawn': 614, 'Woodley Park': 615, 'Woodridge': 616, 'Woodside': 617, 'Wrigleyville': 618}\n",
            "Wireless Internet: {False: 0, True: 1}\n",
            "Kitchen: {False: 0, True: 1}\n",
            "Heating: {False: 0, True: 1}\n",
            "Essentials: {False: 0, True: 1}\n",
            "Smoke detector: {False: 0, True: 1}\n",
            "Air conditioning: {False: 0, True: 1}\n",
            "TV: {False: 0, True: 1}\n"
          ]
        }
      ]
    },
    {
      "cell_type": "code",
      "source": [
        "print(mappings['property_type'])"
      ],
      "metadata": {
        "colab": {
          "base_uri": "https://localhost:8080/"
        },
        "id": "dpV-5aOop1wg",
        "outputId": "7b273a3d-1211-4289-e0a8-cc0024d78171"
      },
      "execution_count": 134,
      "outputs": [
        {
          "output_type": "stream",
          "name": "stdout",
          "text": [
            "{'Apartment': 0, 'Bed & Breakfast': 1, 'Boat': 2, 'Boutique hotel': 3, 'Bungalow': 4, 'Cabin': 5, 'Camper/RV': 6, 'Casa particular': 7, 'Castle': 8, 'Cave': 9, 'Chalet': 10, 'Condominium': 11, 'Dorm': 12, 'Earth House': 13, 'Guest suite': 14, 'Guesthouse': 15, 'Hostel': 16, 'House': 17, 'Hut': 18, 'In-law': 19, 'Island': 20, 'Lighthouse': 21, 'Loft': 22, 'Other': 23, 'Serviced apartment': 24, 'Tent': 25, 'Timeshare': 26, 'Tipi': 27, 'Townhouse': 28, 'Train': 29, 'Treehouse': 30, 'Vacation home': 31, 'Villa': 32, 'Yurt': 33}\n"
          ]
        }
      ]
    },
    {
      "cell_type": "code",
      "source": [
        "classes[col]"
      ],
      "metadata": {
        "colab": {
          "base_uri": "https://localhost:8080/"
        },
        "id": "tSuqgPwNJ_kW",
        "outputId": "6cc21409-110c-4816-f7ef-aee374d33a35"
      },
      "execution_count": 135,
      "outputs": [
        {
          "output_type": "execute_result",
          "data": {
            "text/plain": [
              "array([False,  True])"
            ]
          },
          "metadata": {},
          "execution_count": 135
        }
      ]
    },
    {
      "cell_type": "code",
      "source": [
        "df['review_scores_rating'].unique()"
      ],
      "metadata": {
        "colab": {
          "base_uri": "https://localhost:8080/"
        },
        "id": "CYkrUJLsVcx8",
        "outputId": "2ffc031a-63a3-48c2-9361-c7f122d39ad5"
      },
      "execution_count": 136,
      "outputs": [
        {
          "output_type": "execute_result",
          "data": {
            "text/plain": [
              "array([100.,  93.,  92.,  40.,  97.,  99.,  90.,  89.,  91.,  88.,  86.,\n",
              "        72.,  98.,  95.,  96.,  84.,  80.,  94.,  87.,  85.,  70.,  60.,\n",
              "        75.,  20.,  76.,  83.,  82.,  78.,  73.,  55.,  81.,  67.,  71.,\n",
              "        77.,  79.,  47.,  74.,  68.,  66.,  63.,  50.,  53.,  65.,  64.,\n",
              "        27.,  69.,  30.,  58.,  35.,  62.,  49.,  57.,  54.,  56.])"
            ]
          },
          "metadata": {},
          "execution_count": 136
        }
      ]
    },
    {
      "cell_type": "code",
      "source": [
        "df.dtypes"
      ],
      "metadata": {
        "colab": {
          "base_uri": "https://localhost:8080/"
        },
        "id": "jZdqNE7GaPVg",
        "outputId": "d78f239b-48a1-45be-8ad3-0351f493e217"
      },
      "execution_count": 137,
      "outputs": [
        {
          "output_type": "execute_result",
          "data": {
            "text/plain": [
              "log_price                 float64\n",
              "property_type               int64\n",
              "room_type                   int64\n",
              "accommodates                int64\n",
              "bathrooms                   int64\n",
              "bed_type                    int64\n",
              "cancellation_policy         int64\n",
              "cleaning_fee                int64\n",
              "city                        int64\n",
              "host_has_profile_pic        int64\n",
              "host_identity_verified      int64\n",
              "host_response_rate        float64\n",
              "host_since                  int64\n",
              "instant_bookable            int64\n",
              "latitude                  float64\n",
              "longitude                 float64\n",
              "neighbourhood               int64\n",
              "number_of_reviews           int64\n",
              "review_scores_rating      float64\n",
              "zipcode                   float64\n",
              "bedrooms                  float64\n",
              "beds                      float64\n",
              "total amenities             int64\n",
              "Wireless Internet           int64\n",
              "Kitchen                     int64\n",
              "Heating                     int64\n",
              "Essentials                  int64\n",
              "Smoke detector              int64\n",
              "Air conditioning            int64\n",
              "TV                          int64\n",
              "dtype: object"
            ]
          },
          "metadata": {},
          "execution_count": 137
        }
      ]
    },
    {
      "cell_type": "markdown",
      "source": [
        "Checking the correlation with the target"
      ],
      "metadata": {
        "id": "4LZOyyiStKkM"
      }
    },
    {
      "cell_type": "code",
      "source": [
        "df.corr()['log_price'].sort_values(ascending=False)"
      ],
      "metadata": {
        "colab": {
          "base_uri": "https://localhost:8080/"
        },
        "id": "T6KomDQgab3C",
        "outputId": "a1009bd0-9a6c-4318-8aa7-6117faaf8eca"
      },
      "execution_count": 138,
      "outputs": [
        {
          "output_type": "execute_result",
          "data": {
            "text/plain": [
              "log_price                 1.000000\n",
              "accommodates              0.568098\n",
              "bedrooms                  0.473524\n",
              "beds                      0.442349\n",
              "bathrooms                 0.346812\n",
              "TV                        0.264027\n",
              "total amenities           0.194741\n",
              "cancellation_policy       0.132689\n",
              "cleaning_fee              0.111367\n",
              "Heating                   0.104868\n",
              "Kitchen                   0.101323\n",
              "review_scores_rating      0.098469\n",
              "bed_type                  0.093882\n",
              "neighbourhood             0.068099\n",
              "Air conditioning          0.053215\n",
              "Essentials                0.053075\n",
              "property_type             0.048962\n",
              "Smoke detector            0.046407\n",
              "Wireless Internet         0.035064\n",
              "zipcode                   0.034609\n",
              "city                      0.031378\n",
              "host_identity_verified    0.023667\n",
              "host_response_rate        0.001369\n",
              "latitude                 -0.002191\n",
              "host_has_profile_pic     -0.013220\n",
              "number_of_reviews        -0.032019\n",
              "instant_bookable         -0.043912\n",
              "longitude                -0.047708\n",
              "host_since               -0.077858\n",
              "room_type                -0.607212\n",
              "Name: log_price, dtype: float64"
            ]
          },
          "metadata": {},
          "execution_count": 138
        }
      ]
    },
    {
      "cell_type": "code",
      "source": [
        "plt.figure(figsize=(12,6))\n",
        "df.corr()['log_price'].sort_values(ascending=False)[1:].plot(kind='bar',color='orange')\n",
        "plt.show()"
      ],
      "metadata": {
        "colab": {
          "base_uri": "https://localhost:8080/",
          "height": 658
        },
        "id": "TfcPN8iqa8N0",
        "outputId": "6a9a7260-f1a7-4306-a8bb-3d3c87b2d370"
      },
      "execution_count": 139,
      "outputs": [
        {
          "output_type": "display_data",
          "data": {
            "text/plain": [
              "<Figure size 1200x600 with 1 Axes>"
            ],
            "image/png": "[encoded data removed]"
          },
          "metadata": {}
        }
      ]
    },
    {
      "cell_type": "markdown",
      "source": [
        "### Initial training without feature selection"
      ],
      "metadata": {
        "id": "ojN9k-LVcYmj"
      }
    },
    {
      "cell_type": "code",
      "source": [
        "from sklearn.model_selection import train_test_split, cross_val_score\n",
        "from sklearn.linear_model import LinearRegression, Ridge\n",
        "from sklearn.ensemble import RandomForestRegressor, GradientBoostingRegressor\n",
        "from xgboost import XGBRegressor\n",
        "from sklearn.metrics import mean_squared_error,r2_score,mean_absolute_error"
      ],
      "metadata": {
        "id": "oAq2jofVbF8Z"
      },
      "execution_count": 140,
      "outputs": []
    },
    {
      "cell_type": "code",
      "source": [
        "X=df.drop('log_price',axis=1)\n",
        "y=df['log_price']"
      ],
      "metadata": {
        "id": "JYmNCHAPclgy"
      },
      "execution_count": 141,
      "outputs": []
    },
    {
      "cell_type": "markdown",
      "source": [
        "### Scaling and splitting"
      ],
      "metadata": {
        "id": "QvhPZghtb1TA"
      }
    },
    {
      "cell_type": "code",
      "source": [
        "from sklearn.preprocessing import MinMaxScaler\n",
        "scaler=MinMaxScaler()\n",
        "X_scaled=scaler.fit_transform(X)"
      ],
      "metadata": {
        "id": "jGU3JXBzb0fh"
      },
      "execution_count": 142,
      "outputs": []
    },
    {
      "cell_type": "code",
      "source": [
        "X_train, X_test, y_train, y_test = train_test_split(X_scaled, y, test_size=0.2, random_state=42)"
      ],
      "metadata": {
        "id": "QTJV6bNFcfAn"
      },
      "execution_count": 143,
      "outputs": []
    },
    {
      "cell_type": "code",
      "source": [
        "models = {\n",
        "    'Linear Regression': LinearRegression(),\n",
        "    'Ridge Regression': Ridge(),\n",
        "    'Random Forest': RandomForestRegressor(random_state=42),\n",
        "    'Gradient Boosting': GradientBoostingRegressor(random_state=42),\n",
        "    'XGBRegressor' : XGBRegressor()\n",
        "}"
      ],
      "metadata": {
        "id": "gXWFc0vpcufX"
      },
      "execution_count": 144,
      "outputs": []
    },
    {
      "cell_type": "code",
      "source": [
        "r2_list=[]\n",
        "mse_list=[]\n",
        "kf_list=[]\n",
        "for name, model in models.items():\n",
        "    model.fit(X_train, y_train)\n",
        "    y_pred = model.predict(X_test)\n",
        "    r2=r2_score(y_test,y_pred)\n",
        "    mse = mean_squared_error(y_test, y_pred)\n",
        "    kf = cross_val_score(estimator=model, X=X_train, y=y_train, cv=3)\n",
        "    r2_list.append(r2)\n",
        "    mse_list.append(mse)\n",
        "    kf_list.append(kf.mean())"
      ],
      "metadata": {
        "id": "eDBhFlnkcyb0"
      },
      "execution_count": 145,
      "outputs": []
    },
    {
      "cell_type": "code",
      "source": [
        "score_comparison = pd.DataFrame({'Model': models.keys(), 'R2-Score': r2_list, 'MSE':mse_list, 'K-Fold': kf_list})\n",
        "score_comparison"
      ],
      "metadata": {
        "colab": {
          "base_uri": "https://localhost:8080/",
          "height": 206
        },
        "id": "lNw8gZ_j_g9k",
        "outputId": "0066ce04-19fd-4e9c-c5cc-0e0a75a5c0b7"
      },
      "execution_count": 146,
      "outputs": [
        {
          "output_type": "execute_result",
          "data": {
            "text/plain": [
              "               Model  R2-Score       MSE    K-Fold\n",
              "0  Linear Regression  0.557057  0.225329  0.565525\n",
              "1   Ridge Regression  0.557036  0.225340  0.565514\n",
              "2      Random Forest  0.688113  0.158659  0.697078\n",
              "3  Gradient Boosting  0.658221  0.173866  0.676349\n",
              "4       XGBRegressor  0.700647  0.152284  0.708262"
            ],
            "text/html": [
              "\n",
              "  <div id=\"df-eb8778c2-dee1-4262-8519-fb88b62cb8dd\" class=\"colab-df-container\">\n",
              "    <div>\n",
              "<style scoped>\n",
              "    .dataframe tbody tr th:only-of-type {\n",
              "        vertical-align: middle;\n",
              "    }\n",
              "\n",
              "    .dataframe tbody tr th {\n",
              "        vertical-align: top;\n",
              "    }\n",
              "\n",
              "    .dataframe thead th {\n",
              "        text-align: right;\n",
              "    }\n",
              "</style>\n",
              "<table border=\"1\" class=\"dataframe\">\n",
              "  <thead>\n",
              "    <tr style=\"text-align: right;\">\n",
              "      <th></th>\n",
              "      <th>Model</th>\n",
              "      <th>R2-Score</th>\n",
              "      <th>MSE</th>\n",
              "      <th>K-Fold</th>\n",
              "    </tr>\n",
              "  </thead>\n",
              "  <tbody>\n",
              "    <tr>\n",
              "      <th>0</th>\n",
              "      <td>Linear Regression</td>\n",
              "      <td>0.557057</td>\n",
              "      <td>0.225329</td>\n",
              "      <td>0.565525</td>\n",
              "    </tr>\n",
              "    <tr>\n",
              "      <th>1</th>\n",
              "      <td>Ridge Regression</td>\n",
              "      <td>0.557036</td>\n",
              "      <td>0.225340</td>\n",
              "      <td>0.565514</td>\n",
              "    </tr>\n",
              "    <tr>\n",
              "      <th>2</th>\n",
              "      <td>Random Forest</td>\n",
              "      <td>0.688113</td>\n",
              "      <td>0.158659</td>\n",
              "      <td>0.697078</td>\n",
              "    </tr>\n",
              "    <tr>\n",
              "      <th>3</th>\n",
              "      <td>Gradient Boosting</td>\n",
              "      <td>0.658221</td>\n",
              "      <td>0.173866</td>\n",
              "      <td>0.676349</td>\n",
              "    </tr>\n",
              "    <tr>\n",
              "      <th>4</th>\n",
              "      <td>XGBRegressor</td>\n",
              "      <td>0.700647</td>\n",
              "      <td>0.152284</td>\n",
              "      <td>0.708262</td>\n",
              "    </tr>\n",
              "  </tbody>\n",
              "</table>\n",
              "</div>\n",
              "    <div class=\"colab-df-buttons\">\n",
              "\n",
              "  <div class=\"colab-df-container\">\n",
              "    <button class=\"colab-df-convert\" onclick=\"convertToInteractive('df-eb8778c2-dee1-4262-8519-fb88b62cb8dd')\"\n",
              "            title=\"Convert this dataframe to an interactive table.\"\n",
              "            style=\"display:none;\">\n",
              "\n",
              "  <svg xmlns=\"http://www.w3.org/2000/svg\" height=\"24px\" viewBox=\"0 -960 960 960\">\n",
              "    <path d=\"M120-120v-720h720v720H120Zm60-500h600v-160H180v160Zm220 220h160v-160H400v160Zm0 220h160v-160H400v160ZM180-400h160v-160H180v160Zm440 0h160v-160H620v160ZM180-180h160v-160H180v160Zm440 0h160v-160H620v160Z\"/>\n",
              "  </svg>\n",
              "    </button>\n",
              "\n",
              "  <style>\n",
              "    .colab-df-container {\n",
              "      display:flex;\n",
              "      gap: 12px;\n",
              "    }\n",
              "\n",
              "    .colab-df-convert {\n",
              "      background-color: #E8F0FE;\n",
              "      border: none;\n",
              "      border-radius: 50%;\n",
              "      cursor: pointer;\n",
              "      display: none;\n",
              "      fill: #1967D2;\n",
              "      height: 32px;\n",
              "      padding: 0 0 0 0;\n",
              "      width: 32px;\n",
              "    }\n",
              "\n",
              "    .colab-df-convert:hover {\n",
              "      background-color: #E2EBFA;\n",
              "      box-shadow: 0px 1px 2px rgba(60, 64, 67, 0.3), 0px 1px 3px 1px rgba(60, 64, 67, 0.15);\n",
              "      fill: #174EA6;\n",
              "    }\n",
              "\n",
              "    .colab-df-buttons div {\n",
              "      margin-bottom: 4px;\n",
              "    }\n",
              "\n",
              "    [theme=dark] .colab-df-convert {\n",
              "      background-color: #3B4455;\n",
              "      fill: #D2E3FC;\n",
              "    }\n",
              "\n",
              "    [theme=dark] .colab-df-convert:hover {\n",
              "      background-color: #434B5C;\n",
              "      box-shadow: 0px 1px 3px 1px rgba(0, 0, 0, 0.15);\n",
              "      filter: drop-shadow(0px 1px 2px rgba(0, 0, 0, 0.3));\n",
              "      fill: #FFFFFF;\n",
              "    }\n",
              "  </style>\n",
              "\n",
              "    <script>\n",
              "      const buttonEl =\n",
              "        document.querySelector('#df-eb8778c2-dee1-4262-8519-fb88b62cb8dd button.colab-df-convert');\n",
              "      buttonEl.style.display =\n",
              "        google.colab.kernel.accessAllowed ? 'block' : 'none';\n",
              "\n",
              "      async function convertToInteractive(key) {\n",
              "        const element = document.querySelector('#df-eb8778c2-dee1-4262-8519-fb88b62cb8dd');\n",
              "        const dataTable =\n",
              "          await google.colab.kernel.invokeFunction('convertToInteractive',\n",
              "                                                    [key], {});\n",
              "        if (!dataTable) return;\n",
              "\n",
              "        const docLinkHtml = 'Like what you see? Visit the ' +\n",
              "          '<a target=\"_blank\" href=https://colab.research.google.com/notebooks/data_table.ipynb>data table notebook</a>'\n",
              "          + ' to learn more about interactive tables.';\n",
              "        element.innerHTML = '';\n",
              "        dataTable['output_type'] = 'display_data';\n",
              "        await google.colab.output.renderOutput(dataTable, element);\n",
              "        const docLink = document.createElement('div');\n",
              "        docLink.innerHTML = docLinkHtml;\n",
              "        element.appendChild(docLink);\n",
              "      }\n",
              "    </script>\n",
              "  </div>\n",
              "\n",
              "\n",
              "<div id=\"df-9bd61e46-7196-4ead-bc1f-69baf4143b39\">\n",
              "  <button class=\"colab-df-quickchart\" onclick=\"quickchart('df-9bd61e46-7196-4ead-bc1f-69baf4143b39')\"\n",
              "            title=\"Suggest charts\"\n",
              "            style=\"display:none;\">\n",
              "\n",
              "<svg xmlns=\"http://www.w3.org/2000/svg\" height=\"24px\"viewBox=\"0 0 24 24\"\n",
              "     width=\"24px\">\n",
              "    <g>\n",
              "        <path d=\"M19 3H5c-1.1 0-2 .9-2 2v14c0 1.1.9 2 2 2h14c1.1 0 2-.9 2-2V5c0-1.1-.9-2-2-2zM9 17H7v-7h2v7zm4 0h-2V7h2v10zm4 0h-2v-4h2v4z\"/>\n",
              "    </g>\n",
              "</svg>\n",
              "  </button>\n",
              "\n",
              "<style>\n",
              "  .colab-df-quickchart {\n",
              "      --bg-color: #E8F0FE;\n",
              "      --fill-color: #1967D2;\n",
              "      --hover-bg-color: #E2EBFA;\n",
              "      --hover-fill-color: #174EA6;\n",
              "      --disabled-fill-color: #AAA;\n",
              "      --disabled-bg-color: #DDD;\n",
              "  }\n",
              "\n",
              "  [theme=dark] .colab-df-quickchart {\n",
              "      --bg-color: #3B4455;\n",
              "      --fill-color: #D2E3FC;\n",
              "      --hover-bg-color: #434B5C;\n",
              "      --hover-fill-color: #FFFFFF;\n",
              "      --disabled-bg-color: #3B4455;\n",
              "      --disabled-fill-color: #666;\n",
              "  }\n",
              "\n",
              "  .colab-df-quickchart {\n",
              "    background-color: var(--bg-color);\n",
              "    border: none;\n",
              "    border-radius: 50%;\n",
              "    cursor: pointer;\n",
              "    display: none;\n",
              "    fill: var(--fill-color);\n",
              "    height: 32px;\n",
              "    padding: 0;\n",
              "    width: 32px;\n",
              "  }\n",
              "\n",
              "  .colab-df-quickchart:hover {\n",
              "    background-color: var(--hover-bg-color);\n",
              "    box-shadow: 0 1px 2px rgba(60, 64, 67, 0.3), 0 1px 3px 1px rgba(60, 64, 67, 0.15);\n",
              "    fill: var(--button-hover-fill-color);\n",
              "  }\n",
              "\n",
              "  .colab-df-quickchart-complete:disabled,\n",
              "  .colab-df-quickchart-complete:disabled:hover {\n",
              "    background-color: var(--disabled-bg-color);\n",
              "    fill: var(--disabled-fill-color);\n",
              "    box-shadow: none;\n",
              "  }\n",
              "\n",
              "  .colab-df-spinner {\n",
              "    border: 2px solid var(--fill-color);\n",
              "    border-color: transparent;\n",
              "    border-bottom-color: var(--fill-color);\n",
              "    animation:\n",
              "      spin 1s steps(1) infinite;\n",
              "  }\n",
              "\n",
              "  @keyframes spin {\n",
              "    0% {\n",
              "      border-color: transparent;\n",
              "      border-bottom-color: var(--fill-color);\n",
              "      border-left-color: var(--fill-color);\n",
              "    }\n",
              "    20% {\n",
              "      border-color: transparent;\n",
              "      border-left-color: var(--fill-color);\n",
              "      border-top-color: var(--fill-color);\n",
              "    }\n",
              "    30% {\n",
              "      border-color: transparent;\n",
              "      border-left-color: var(--fill-color);\n",
              "      border-top-color: var(--fill-color);\n",
              "      border-right-color: var(--fill-color);\n",
              "    }\n",
              "    40% {\n",
              "      border-color: transparent;\n",
              "      border-right-color: var(--fill-color);\n",
              "      border-top-color: var(--fill-color);\n",
              "    }\n",
              "    60% {\n",
              "      border-color: transparent;\n",
              "      border-right-color: var(--fill-color);\n",
              "    }\n",
              "    80% {\n",
              "      border-color: transparent;\n",
              "      border-right-color: var(--fill-color);\n",
              "      border-bottom-color: var(--fill-color);\n",
              "    }\n",
              "    90% {\n",
              "      border-color: transparent;\n",
              "      border-bottom-color: var(--fill-color);\n",
              "    }\n",
              "  }\n",
              "</style>\n",
              "\n",
              "  <script>\n",
              "    async function quickchart(key) {\n",
              "      const quickchartButtonEl =\n",
              "        document.querySelector('#' + key + ' button');\n",
              "      quickchartButtonEl.disabled = true;  // To prevent multiple clicks.\n",
              "      quickchartButtonEl.classList.add('colab-df-spinner');\n",
              "      try {\n",
              "        const charts = await google.colab.kernel.invokeFunction(\n",
              "            'suggestCharts', [key], {});\n",
              "      } catch (error) {\n",
              "        console.error('Error during call to suggestCharts:', error);\n",
              "      }\n",
              "      quickchartButtonEl.classList.remove('colab-df-spinner');\n",
              "      quickchartButtonEl.classList.add('colab-df-quickchart-complete');\n",
              "    }\n",
              "    (() => {\n",
              "      let quickchartButtonEl =\n",
              "        document.querySelector('#df-9bd61e46-7196-4ead-bc1f-69baf4143b39 button');\n",
              "      quickchartButtonEl.style.display =\n",
              "        google.colab.kernel.accessAllowed ? 'block' : 'none';\n",
              "    })();\n",
              "  </script>\n",
              "</div>\n",
              "\n",
              "  <div id=\"id_d8c75184-105a-4bbf-a44e-e61e2964d70a\">\n",
              "    <style>\n",
              "      .colab-df-generate {\n",
              "        background-color: #E8F0FE;\n",
              "        border: none;\n",
              "        border-radius: 50%;\n",
              "        cursor: pointer;\n",
              "        display: none;\n",
              "        fill: #1967D2;\n",
              "        height: 32px;\n",
              "        padding: 0 0 0 0;\n",
              "        width: 32px;\n",
              "      }\n",
              "\n",
              "      .colab-df-generate:hover {\n",
              "        background-color: #E2EBFA;\n",
              "        box-shadow: 0px 1px 2px rgba(60, 64, 67, 0.3), 0px 1px 3px 1px rgba(60, 64, 67, 0.15);\n",
              "        fill: #174EA6;\n",
              "      }\n",
              "\n",
              "      [theme=dark] .colab-df-generate {\n",
              "        background-color: #3B4455;\n",
              "        fill: #D2E3FC;\n",
              "      }\n",
              "\n",
              "      [theme=dark] .colab-df-generate:hover {\n",
              "        background-color: #434B5C;\n",
              "        box-shadow: 0px 1px 3px 1px rgba(0, 0, 0, 0.15);\n",
              "        filter: drop-shadow(0px 1px 2px rgba(0, 0, 0, 0.3));\n",
              "        fill: #FFFFFF;\n",
              "      }\n",
              "    </style>\n",
              "    <button class=\"colab-df-generate\" onclick=\"generateWithVariable('score_comparison')\"\n",
              "            title=\"Generate code using this dataframe.\"\n",
              "            style=\"display:none;\">\n",
              "\n",
              "  <svg xmlns=\"http://www.w3.org/2000/svg\" height=\"24px\"viewBox=\"0 0 24 24\"\n",
              "       width=\"24px\">\n",
              "    <path d=\"M7,19H8.4L18.45,9,17,7.55,7,17.6ZM5,21V16.75L18.45,3.32a2,2,0,0,1,2.83,0l1.4,1.43a1.91,1.91,0,0,1,.58,1.4,1.91,1.91,0,0,1-.58,1.4L9.25,21ZM18.45,9,17,7.55Zm-12,3A5.31,5.31,0,0,0,4.9,8.1,5.31,5.31,0,0,0,1,6.5,5.31,5.31,0,0,0,4.9,4.9,5.31,5.31,0,0,0,6.5,1,5.31,5.31,0,0,0,8.1,4.9,5.31,5.31,0,0,0,12,6.5,5.46,5.46,0,0,0,6.5,12Z\"/>\n",
              "  </svg>\n",
              "    </button>\n",
              "    <script>\n",
              "      (() => {\n",
              "      const buttonEl =\n",
              "        document.querySelector('#id_d8c75184-105a-4bbf-a44e-e61e2964d70a button.colab-df-generate');\n",
              "      buttonEl.style.display =\n",
              "        google.colab.kernel.accessAllowed ? 'block' : 'none';\n",
              "\n",
              "      buttonEl.onclick = () => {\n",
              "        google.colab.notebook.generateWithVariable('score_comparison');\n",
              "      }\n",
              "      })();\n",
              "    </script>\n",
              "  </div>\n",
              "\n",
              "    </div>\n",
              "  </div>\n"
            ],
            "application/vnd.google.colaboratory.intrinsic+json": {
              "type": "dataframe",
              "variable_name": "score_comparison",
              "summary": "{\n  \"name\": \"score_comparison\",\n  \"rows\": 5,\n  \"fields\": [\n    {\n      \"column\": \"Model\",\n      \"properties\": {\n        \"dtype\": \"string\",\n        \"num_unique_values\": 5,\n        \"samples\": [\n          \"Ridge Regression\",\n          \"XGBRegressor\",\n          \"Random Forest\"\n        ],\n        \"semantic_type\": \"\",\n        \"description\": \"\"\n      }\n    },\n    {\n      \"column\": \"R2-Score\",\n      \"properties\": {\n        \"dtype\": \"number\",\n        \"std\": 0.07032854651965505,\n        \"min\": 0.5570358642891451,\n        \"max\": 0.7006468417574153,\n        \"num_unique_values\": 5,\n        \"samples\": [\n          0.5570358642891451,\n          0.7006468417574153,\n          0.6881132800811047\n        ],\n        \"semantic_type\": \"\",\n        \"description\": \"\"\n      }\n    },\n    {\n      \"column\": \"MSE\",\n      \"properties\": {\n        \"dtype\": \"number\",\n        \"std\": 0.03577673690835738,\n        \"min\": 0.15228352802851802,\n        \"max\": 0.2253396682773204,\n        \"num_unique_values\": 5,\n        \"samples\": [\n          0.2253396682773204,\n          0.15228352802851802,\n          0.158659458725347\n        ],\n        \"semantic_type\": \"\",\n        \"description\": \"\"\n      }\n    },\n    {\n      \"column\": \"K-Fold\",\n      \"properties\": {\n        \"dtype\": \"number\",\n        \"std\": 0.07124087427316521,\n        \"min\": 0.565514096222127,\n        \"max\": 0.7082620390032973,\n        \"num_unique_values\": 5,\n        \"samples\": [\n          0.565514096222127,\n          0.7082620390032973,\n          0.6970775948778165\n        ],\n        \"semantic_type\": \"\",\n        \"description\": \"\"\n      }\n    }\n  ]\n}"
            }
          },
          "metadata": {},
          "execution_count": 146
        }
      ]
    },
    {
      "cell_type": "code",
      "source": [
        "plt.figure(figsize=(13,7))\n",
        "score_comparison['R2-Score'].plot(kind='bar',color='orange')\n",
        "plt.suptitle('R2_score VS Models')\n",
        "plt.xticks(ticks=range(0,5),labels=models.keys(),rotation=90)\n",
        "plt.tight_layout()\n",
        "plt.show()"
      ],
      "metadata": {
        "colab": {
          "base_uri": "https://localhost:8080/",
          "height": 703
        },
        "id": "G1PYhG5WBhir",
        "outputId": "6185946e-93a3-4437-f450-34e09794b649"
      },
      "execution_count": 147,
      "outputs": [
        {
          "output_type": "display_data",
          "data": {
            "text/plain": [
              "<Figure size 1300x700 with 1 Axes>"
            ],
            "image/png": "[encoded data removed]"
          },
          "metadata": {}
        }
      ]
    },
    {
      "cell_type": "markdown",
      "source": [
        "Since XGBRegressor performed the best, using XGBRegressor as the model to predict the prices."
      ],
      "metadata": {
        "id": "-7sl65Pu6gaf"
      }
    },
    {
      "cell_type": "markdown",
      "source": [
        "### Hyper Parameter Tuning"
      ],
      "metadata": {
        "id": "dxiaQZFaqRi3"
      }
    },
    {
      "cell_type": "code",
      "source": [
        "from sklearn.model_selection import  GridSearchCV\n",
        "xgb=XGBRegressor()"
      ],
      "metadata": {
        "id": "B9n4pLT_p8IM"
      },
      "execution_count": 148,
      "outputs": []
    },
    {
      "cell_type": "code",
      "source": [
        "param_grid = {\n",
        "    'n_estimators': [100, 200, 300],\n",
        "    'max_depth': [3, 4, 5],\n",
        "    'learning_rate': [0.01, 0.1, 0.2],\n",
        "    'subsample': [0.7, 0.8, 0.9]\n",
        "}"
      ],
      "metadata": {
        "id": "Zbeb5_D5p5iV"
      },
      "execution_count": 149,
      "outputs": []
    },
    {
      "cell_type": "code",
      "source": [
        "grid_search = GridSearchCV(estimator=xgb, param_grid=param_grid, cv=3, verbose=2, n_jobs=-1)"
      ],
      "metadata": {
        "id": "OkEtlw8_p85c"
      },
      "execution_count": 150,
      "outputs": []
    },
    {
      "cell_type": "code",
      "source": [
        "grid_search.fit(X_train, y_train)"
      ],
      "metadata": {
        "colab": {
          "base_uri": "https://localhost:8080/",
          "height": 135
        },
        "id": "a1BKsto8p823",
        "outputId": "f9c7a025-19ea-44ad-cfd8-cb1814b74c65"
      },
      "execution_count": 151,
      "outputs": [
        {
          "output_type": "stream",
          "name": "stdout",
          "text": [
            "Fitting 3 folds for each of 81 candidates, totalling 243 fits\n"
          ]
        },
        {
          "output_type": "execute_result",
          "data": {
            "text/plain": [
              "GridSearchCV(cv=3,\n",
              "             estimator=XGBRegressor(base_score=None, booster=None,\n",
              "                                    callbacks=None, colsample_bylevel=None,\n",
              "                                    colsample_bynode=None,\n",
              "                                    colsample_bytree=None, device=None,\n",
              "                                    early_stopping_rounds=None,\n",
              "                                    enable_categorical=False, eval_metric=None,\n",
              "                                    feature_types=None, gamma=None,\n",
              "                                    grow_policy=None, importance_type=None,\n",
              "                                    interaction_constraints=None,\n",
              "                                    learning_rate=None, m...\n",
              "                                    max_cat_to_onehot=None, max_delta_step=None,\n",
              "                                    max_depth=None, max_leaves=None,\n",
              "                                    min_child_weight=None, missing=nan,\n",
              "                                    monotone_constraints=None,\n",
              "                                    multi_strategy=None, n_estimators=None,\n",
              "                                    n_jobs=None, num_parallel_tree=None,\n",
              "                                    random_state=None, ...),\n",
              "             n_jobs=-1,\n",
              "             param_grid={'learning_rate': [0.01, 0.1, 0.2],\n",
              "                         'max_depth': [3, 4, 5],\n",
              "                         'n_estimators': [100, 200, 300],\n",
              "                         'subsample': [0.7, 0.8, 0.9]},\n",
              "             verbose=2)"
            ],
            "text/html": [
              "<style>#sk-container-id-1 {color: black;background-color: white;}#sk-container-id-1 pre{padding: 0;}#sk-container-id-1 div.sk-toggleable {background-color: white;}#sk-container-id-1 label.sk-toggleable__label {cursor: pointer;display: block;width: 100%;margin-bottom: 0;padding: 0.3em;box-sizing: border-box;text-align: center;}#sk-container-id-1 label.sk-toggleable__label-arrow:before {content: \"▸\";float: left;margin-right: 0.25em;color: #696969;}#sk-container-id-1 label.sk-toggleable__label-arrow:hover:before {color: black;}#sk-container-id-1 div.sk-estimator:hover label.sk-toggleable__label-arrow:before {color: black;}#sk-container-id-1 div.sk-toggleable__content {max-height: 0;max-width: 0;overflow: hidden;text-align: left;background-color: #f0f8ff;}#sk-container-id-1 div.sk-toggleable__content pre {margin: 0.2em;color: black;border-radius: 0.25em;background-color: #f0f8ff;}#sk-container-id-1 input.sk-toggleable__control:checked~div.sk-toggleable__content {max-height: 200px;max-width: 100%;overflow: auto;}#sk-container-id-1 input.sk-toggleable__control:checked~label.sk-toggleable__label-arrow:before {content: \"▾\";}#sk-container-id-1 div.sk-estimator input.sk-toggleable__control:checked~label.sk-toggleable__label {background-color: #d4ebff;}#sk-container-id-1 div.sk-label input.sk-toggleable__control:checked~label.sk-toggleable__label {background-color: #d4ebff;}#sk-container-id-1 input.sk-hidden--visually {border: 0;clip: rect(1px 1px 1px 1px);clip: rect(1px, 1px, 1px, 1px);height: 1px;margin: -1px;overflow: hidden;padding: 0;position: absolute;width: 1px;}#sk-container-id-1 div.sk-estimator {font-family: monospace;background-color: #f0f8ff;border: 1px dotted black;border-radius: 0.25em;box-sizing: border-box;margin-bottom: 0.5em;}#sk-container-id-1 div.sk-estimator:hover {background-color: #d4ebff;}#sk-container-id-1 div.sk-parallel-item::after {content: \"\";width: 100%;border-bottom: 1px solid gray;flex-grow: 1;}#sk-container-id-1 div.sk-label:hover label.sk-toggleable__label {background-color: #d4ebff;}#sk-container-id-1 div.sk-serial::before {content: \"\";position: absolute;border-left: 1px solid gray;box-sizing: border-box;top: 0;bottom: 0;left: 50%;z-index: 0;}#sk-container-id-1 div.sk-serial {display: flex;flex-direction: column;align-items: center;background-color: white;padding-right: 0.2em;padding-left: 0.2em;position: relative;}#sk-container-id-1 div.sk-item {position: relative;z-index: 1;}#sk-container-id-1 div.sk-parallel {display: flex;align-items: stretch;justify-content: center;background-color: white;position: relative;}#sk-container-id-1 div.sk-item::before, #sk-container-id-1 div.sk-parallel-item::before {content: \"\";position: absolute;border-left: 1px solid gray;box-sizing: border-box;top: 0;bottom: 0;left: 50%;z-index: -1;}#sk-container-id-1 div.sk-parallel-item {display: flex;flex-direction: column;z-index: 1;position: relative;background-color: white;}#sk-container-id-1 div.sk-parallel-item:first-child::after {align-self: flex-end;width: 50%;}#sk-container-id-1 div.sk-parallel-item:last-child::after {align-self: flex-start;width: 50%;}#sk-container-id-1 div.sk-parallel-item:only-child::after {width: 0;}#sk-container-id-1 div.sk-dashed-wrapped {border: 1px dashed gray;margin: 0 0.4em 0.5em 0.4em;box-sizing: border-box;padding-bottom: 0.4em;background-color: white;}#sk-container-id-1 div.sk-label label {font-family: monospace;font-weight: bold;display: inline-block;line-height: 1.2em;}#sk-container-id-1 div.sk-label-container {text-align: center;}#sk-container-id-1 div.sk-container {/* jupyter's `normalize.less` sets `[hidden] { display: none; }` but bootstrap.min.css set `[hidden] { display: none !important; }` so we also need the `!important` here to be able to override the default hidden behavior on the sphinx rendered scikit-learn.org. See: https://github.com/scikit-learn/scikit-learn/issues/21755 */display: inline-block !important;position: relative;}#sk-container-id-1 div.sk-text-repr-fallback {display: none;}</style><div id=\"sk-container-id-1\" class=\"sk-top-container\"><div class=\"sk-text-repr-fallback\"><pre>GridSearchCV(cv=3,\n",
              "             estimator=XGBRegressor(base_score=None, booster=None,\n",
              "                                    callbacks=None, colsample_bylevel=None,\n",
              "                                    colsample_bynode=None,\n",
              "                                    colsample_bytree=None, device=None,\n",
              "                                    early_stopping_rounds=None,\n",
              "                                    enable_categorical=False, eval_metric=None,\n",
              "                                    feature_types=None, gamma=None,\n",
              "                                    grow_policy=None, importance_type=None,\n",
              "                                    interaction_constraints=None,\n",
              "                                    learning_rate=None, m...\n",
              "                                    max_cat_to_onehot=None, max_delta_step=None,\n",
              "                                    max_depth=None, max_leaves=None,\n",
              "                                    min_child_weight=None, missing=nan,\n",
              "                                    monotone_constraints=None,\n",
              "                                    multi_strategy=None, n_estimators=None,\n",
              "                                    n_jobs=None, num_parallel_tree=None,\n",
              "                                    random_state=None, ...),\n",
              "             n_jobs=-1,\n",
              "             param_grid={&#x27;learning_rate&#x27;: [0.01, 0.1, 0.2],\n",
              "                         &#x27;max_depth&#x27;: [3, 4, 5],\n",
              "                         &#x27;n_estimators&#x27;: [100, 200, 300],\n",
              "                         &#x27;subsample&#x27;: [0.7, 0.8, 0.9]},\n",
              "             verbose=2)</pre><b>In a Jupyter environment, please rerun this cell to show the HTML representation or trust the notebook. <br />On GitHub, the HTML representation is unable to render, please try loading this page with nbviewer.org.</b></div><div class=\"sk-container\" hidden><div class=\"sk-item sk-dashed-wrapped\"><div class=\"sk-label-container\"><div class=\"sk-label sk-toggleable\"><input class=\"sk-toggleable__control sk-hidden--visually\" id=\"sk-estimator-id-1\" type=\"checkbox\" ><label for=\"sk-estimator-id-1\" class=\"sk-toggleable__label sk-toggleable__label-arrow\">GridSearchCV</label><div class=\"sk-toggleable__content\"><pre>GridSearchCV(cv=3,\n",
              "             estimator=XGBRegressor(base_score=None, booster=None,\n",
              "                                    callbacks=None, colsample_bylevel=None,\n",
              "                                    colsample_bynode=None,\n",
              "                                    colsample_bytree=None, device=None,\n",
              "                                    early_stopping_rounds=None,\n",
              "                                    enable_categorical=False, eval_metric=None,\n",
              "                                    feature_types=None, gamma=None,\n",
              "                                    grow_policy=None, importance_type=None,\n",
              "                                    interaction_constraints=None,\n",
              "                                    learning_rate=None, m...\n",
              "                                    max_cat_to_onehot=None, max_delta_step=None,\n",
              "                                    max_depth=None, max_leaves=None,\n",
              "                                    min_child_weight=None, missing=nan,\n",
              "                                    monotone_constraints=None,\n",
              "                                    multi_strategy=None, n_estimators=None,\n",
              "                                    n_jobs=None, num_parallel_tree=None,\n",
              "                                    random_state=None, ...),\n",
              "             n_jobs=-1,\n",
              "             param_grid={&#x27;learning_rate&#x27;: [0.01, 0.1, 0.2],\n",
              "                         &#x27;max_depth&#x27;: [3, 4, 5],\n",
              "                         &#x27;n_estimators&#x27;: [100, 200, 300],\n",
              "                         &#x27;subsample&#x27;: [0.7, 0.8, 0.9]},\n",
              "             verbose=2)</pre></div></div></div><div class=\"sk-parallel\"><div class=\"sk-parallel-item\"><div class=\"sk-item\"><div class=\"sk-label-container\"><div class=\"sk-label sk-toggleable\"><input class=\"sk-toggleable__control sk-hidden--visually\" id=\"sk-estimator-id-2\" type=\"checkbox\" ><label for=\"sk-estimator-id-2\" class=\"sk-toggleable__label sk-toggleable__label-arrow\">estimator: XGBRegressor</label><div class=\"sk-toggleable__content\"><pre>XGBRegressor(base_score=None, booster=None, callbacks=None,\n",
              "             colsample_bylevel=None, colsample_bynode=None,\n",
              "             colsample_bytree=None, device=None, early_stopping_rounds=None,\n",
              "             enable_categorical=False, eval_metric=None, feature_types=None,\n",
              "             gamma=None, grow_policy=None, importance_type=None,\n",
              "             interaction_constraints=None, learning_rate=None, max_bin=None,\n",
              "             max_cat_threshold=None, max_cat_to_onehot=None,\n",
              "             max_delta_step=None, max_depth=None, max_leaves=None,\n",
              "             min_child_weight=None, missing=nan, monotone_constraints=None,\n",
              "             multi_strategy=None, n_estimators=None, n_jobs=None,\n",
              "             num_parallel_tree=None, random_state=None, ...)</pre></div></div></div><div class=\"sk-serial\"><div class=\"sk-item\"><div class=\"sk-estimator sk-toggleable\"><input class=\"sk-toggleable__control sk-hidden--visually\" id=\"sk-estimator-id-3\" type=\"checkbox\" ><label for=\"sk-estimator-id-3\" class=\"sk-toggleable__label sk-toggleable__label-arrow\">XGBRegressor</label><div class=\"sk-toggleable__content\"><pre>XGBRegressor(base_score=None, booster=None, callbacks=None,\n",
              "             colsample_bylevel=None, colsample_bynode=None,\n",
              "             colsample_bytree=None, device=None, early_stopping_rounds=None,\n",
              "             enable_categorical=False, eval_metric=None, feature_types=None,\n",
              "             gamma=None, grow_policy=None, importance_type=None,\n",
              "             interaction_constraints=None, learning_rate=None, max_bin=None,\n",
              "             max_cat_threshold=None, max_cat_to_onehot=None,\n",
              "             max_delta_step=None, max_depth=None, max_leaves=None,\n",
              "             min_child_weight=None, missing=nan, monotone_constraints=None,\n",
              "             multi_strategy=None, n_estimators=None, n_jobs=None,\n",
              "             num_parallel_tree=None, random_state=None, ...)</pre></div></div></div></div></div></div></div></div></div></div>"
            ]
          },
          "metadata": {},
          "execution_count": 151
        }
      ]
    },
    {
      "cell_type": "code",
      "source": [
        "best_params = grid_search.best_params_\n",
        "print(\"Best Hyperparameters:\", best_params)"
      ],
      "metadata": {
        "colab": {
          "base_uri": "https://localhost:8080/"
        },
        "id": "VtOd5uw_p80M",
        "outputId": "dd7ec838-48df-4efd-cb23-4da30bfc38c1"
      },
      "execution_count": 152,
      "outputs": [
        {
          "output_type": "stream",
          "name": "stdout",
          "text": [
            "Best Hyperparameters: {'learning_rate': 0.1, 'max_depth': 5, 'n_estimators': 300, 'subsample': 0.8}\n"
          ]
        }
      ]
    },
    {
      "cell_type": "code",
      "source": [
        "best_model = grid_search.best_estimator_"
      ],
      "metadata": {
        "id": "19pd0P6Qp8xb"
      },
      "execution_count": 153,
      "outputs": []
    },
    {
      "cell_type": "code",
      "source": [
        "y_pred = best_model.predict(X_test)"
      ],
      "metadata": {
        "id": "GAENwf1-qESx"
      },
      "execution_count": 154,
      "outputs": []
    },
    {
      "cell_type": "code",
      "source": [
        "r2=r2_score(y_test,y_pred)\n",
        "mse = mean_squared_error(y_test, y_pred)\n",
        "print('R2: ',r2)\n",
        "print('MSE:',mse)"
      ],
      "metadata": {
        "colab": {
          "base_uri": "https://localhost:8080/"
        },
        "id": "djci9F2wqEr-",
        "outputId": "13b23188-cd5e-4b94-9493-d7e3a81ed453"
      },
      "execution_count": 155,
      "outputs": [
        {
          "output_type": "stream",
          "name": "stdout",
          "text": [
            "R2:  0.7040359929152133\n",
            "MSE: 0.15055943766527827\n"
          ]
        }
      ]
    },
    {
      "cell_type": "markdown",
      "source": [
        "Hyper Parameter Tuning only slightly improved the performance of the model."
      ],
      "metadata": {
        "id": "A3fSxL1Vr6Ce"
      }
    },
    {
      "cell_type": "markdown",
      "source": [
        "### Feature Selection"
      ],
      "metadata": {
        "id": "Owvr5mlY6qlM"
      }
    },
    {
      "cell_type": "code",
      "source": [
        "from sklearn.feature_selection import RFE\n"
      ],
      "metadata": {
        "id": "LOT45eyPiNT9"
      },
      "execution_count": 156,
      "outputs": []
    },
    {
      "cell_type": "code",
      "source": [
        "rfe = RFE(best_model, n_features_to_select=15)"
      ],
      "metadata": {
        "id": "Ba9sZPEcilV2"
      },
      "execution_count": 157,
      "outputs": []
    },
    {
      "cell_type": "code",
      "source": [
        "rfe = rfe.fit(X, y)"
      ],
      "metadata": {
        "id": "DfowUPUtiqXu"
      },
      "execution_count": 158,
      "outputs": []
    },
    {
      "cell_type": "code",
      "source": [
        "rfe.get_feature_names_out()"
      ],
      "metadata": {
        "colab": {
          "base_uri": "https://localhost:8080/"
        },
        "id": "X_oarWw1nm4y",
        "outputId": "ec10792f-bb0e-4acb-8a44-8d1486e59ebe"
      },
      "execution_count": 159,
      "outputs": [
        {
          "output_type": "execute_result",
          "data": {
            "text/plain": [
              "array(['property_type', 'room_type', 'accommodates', 'bathrooms',\n",
              "       'cleaning_fee', 'city', 'latitude', 'longitude',\n",
              "       'number_of_reviews', 'review_scores_rating', 'zipcode', 'bedrooms',\n",
              "       'Kitchen', 'Air conditioning', 'TV'], dtype=object)"
            ]
          },
          "metadata": {},
          "execution_count": 159
        }
      ]
    },
    {
      "cell_type": "code",
      "source": [
        "X_selected = X[rfe.get_feature_names_out()]"
      ],
      "metadata": {
        "id": "RnO1IuGliutt"
      },
      "execution_count": 160,
      "outputs": []
    },
    {
      "cell_type": "code",
      "source": [
        "X_train, X_test, y_train, y_test = train_test_split(X_selected.values, y, test_size=0.2, random_state=42)"
      ],
      "metadata": {
        "id": "zIjd6T-lZlGK"
      },
      "execution_count": 161,
      "outputs": []
    },
    {
      "cell_type": "code",
      "source": [
        "best_model.fit(X_train, y_train)\n",
        "y_pred = best_model.predict(X_test)\n",
        "r2=r2_score(y_test,y_pred)\n",
        "mse = mean_squared_error(y_test, y_pred)\n",
        "print('R2: ',r2)\n",
        "print('MSE:',mse)\n"
      ],
      "metadata": {
        "colab": {
          "base_uri": "https://localhost:8080/"
        },
        "id": "mRS5xWr_537g",
        "outputId": "9b50d0cf-290a-46ab-a3d8-dd82cbb474ed"
      },
      "execution_count": 162,
      "outputs": [
        {
          "output_type": "stream",
          "name": "stdout",
          "text": [
            "R2:  0.6984376188646944\n",
            "MSE: 0.15340737872807297\n"
          ]
        }
      ]
    },
    {
      "cell_type": "markdown",
      "source": [
        "Feature selection did not improve the performance of the model"
      ],
      "metadata": {
        "id": "uaVlWg0ooD3O"
      }
    },
    {
      "cell_type": "code",
      "source": [
        "plt.scatter(y_test,y_pred)\n",
        "plt.xlabel('Actual Answer')\n",
        "plt.ylabel('Prediction')\n",
        "plt.plot(y_test,y_test,color='blue')\n",
        "plt.show()"
      ],
      "metadata": {
        "colab": {
          "base_uri": "https://localhost:8080/",
          "height": 453
        },
        "id": "3orseIRbuYpo",
        "outputId": "b67a8013-09e3-4d2d-cb86-db9ef2a3959c"
      },
      "execution_count": 163,
      "outputs": [
        {
          "output_type": "display_data",
          "data": {
            "text/plain": [
              "<Figure size 640x480 with 1 Axes>"
            ],
            "image/png": "[encoded data removed]"
          },
          "metadata": {}
        }
      ]
    },
    {
      "cell_type": "markdown",
      "source": [
        "Creating a Prediction Function"
      ],
      "metadata": {
        "id": "BB48p3eGHDte"
      }
    },
    {
      "cell_type": "code",
      "source": [
        "def prediction(input):\n",
        "  result=best_model.predict([input])\n",
        "  return result\n"
      ],
      "metadata": {
        "id": "2qKW0cnVCj3r"
      },
      "execution_count": 164,
      "outputs": []
    },
    {
      "cell_type": "code",
      "source": [],
      "metadata": {
        "id": "SrdXqpswGMyZ"
      },
      "execution_count": 164,
      "outputs": []
    },
    {
      "cell_type": "code",
      "source": [
        "example_pred=prediction(X_selected.iloc[0].values)"
      ],
      "metadata": {
        "id": "rAUcMkaiCjzK"
      },
      "execution_count": 165,
      "outputs": []
    },
    {
      "cell_type": "code",
      "source": [
        "print('Predicted:',example_pred[0],'\\nActual:',y_train[0])"
      ],
      "metadata": {
        "colab": {
          "base_uri": "https://localhost:8080/"
        },
        "id": "nHjnPjfaGcD4",
        "outputId": "b37054e4-06e0-4b6f-af71-c1581e4dcff8"
      },
      "execution_count": 166,
      "outputs": [
        {
          "output_type": "stream",
          "name": "stdout",
          "text": [
            "Predicted: 4.9426565 \n",
            "Actual: 5.010635294096256\n"
          ]
        }
      ]
    },
    {
      "cell_type": "code",
      "source": [
        "import pickle\n",
        "pickle.dump(xgb,open('creditcard_eligiblity.sav','wb'))"
      ],
      "metadata": {
        "id": "m33eX3_5xF9_"
      },
      "execution_count": 167,
      "outputs": []
    },
    {
      "cell_type": "code",
      "source": [],
      "metadata": {
        "id": "xzNnhwj-0ly0"
      },
      "execution_count": 168,
      "outputs": []
    }
  ]
}