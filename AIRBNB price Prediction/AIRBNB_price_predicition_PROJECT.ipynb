{
  "nbformat": 4,
  "nbformat_minor": 0,
  "metadata": {
    "colab": {
      "provenance": []
    },
    "kernelspec": {
      "name": "python3",
      "display_name": "Python 3"
    },
    "language_info": {
      "name": "python"
    }
  },
  "cells": [
    {
      "cell_type": "markdown",
      "source": [
        "In this project we take data of Airbnb listings in the US and try to predict the price of stay in that listing.\n",
        "The source of the dataset:\n",
        "https://www.kaggle.com/stevezhenghp/airbnb-price-prediction#train.csv\n",
        "\n",
        "The data includes 74411 listings and 29 columns - including log_price, what we are trying to predict.\n",
        "\n",
        "There was no information about this data so we assume that since all the listings are in the US, the price (or log_price) that we are trying to predict is the general pricing per 1 night stay of the listing, in USD.\n"
      ],
      "metadata": {
        "id": "9kKLKWfhY3tM"
      }
    },
    {
      "cell_type": "markdown",
      "source": [
        "## Importing necessary libraries and packages"
      ],
      "metadata": {
        "id": "xYVFuiYLerzd"
      }
    },
    {
      "cell_type": "code",
      "execution_count": 742,
      "metadata": {
        "id": "0Sd0UGa3EcIx"
      },
      "outputs": [],
      "source": [
        "import pandas as pd\n",
        "import numpy as np\n",
        "import math\n",
        "import matplotlib.pyplot as plt\n",
        "import seaborn as sns\n",
        "import time\n",
        "import warnings\n",
        "import pickle\n",
        "import re\n",
        "from sklearn.model_selection import train_test_split, cross_val_score\n",
        "from sklearn.linear_model import LinearRegression, Ridge\n",
        "from sklearn.ensemble import RandomForestRegressor, GradientBoostingRegressor\n",
        "from xgboost import XGBRegressor\n",
        "from sklearn.metrics import mean_squared_error,r2_score"
      ]
    },
    {
      "cell_type": "code",
      "source": [
        "warnings.filterwarnings('ignore')"
      ],
      "metadata": {
        "id": "szpExL6Nsu75"
      },
      "execution_count": 500,
      "outputs": []
    },
    {
      "cell_type": "markdown",
      "source": [
        "## Reading the Data"
      ],
      "metadata": {
        "id": "BRm0-LYAexxm"
      }
    },
    {
      "cell_type": "code",
      "source": [
        "df=pd.read_csv('/content/drive/MyDrive/PROJECTS DS/AIRBNB/train.csv')"
      ],
      "metadata": {
        "id": "B-A0CE-HID4Q"
      },
      "execution_count": 501,
      "outputs": []
    },
    {
      "cell_type": "markdown",
      "source": [
        "### Data Exploration"
      ],
      "metadata": {
        "id": "GobJE7cIMzWC"
      }
    },
    {
      "cell_type": "code",
      "source": [
        "df.info()"
      ],
      "metadata": {
        "colab": {
          "base_uri": "https://localhost:8080/"
        },
        "id": "qRMiG5TXIIup",
        "outputId": "02d5a4ff-9446-4fef-e71e-13c864329fa4"
      },
      "execution_count": 502,
      "outputs": [
        {
          "output_type": "stream",
          "name": "stdout",
          "text": [
            "<class 'pandas.core.frame.DataFrame'>\n",
            "RangeIndex: 74111 entries, 0 to 74110\n",
            "Data columns (total 29 columns):\n",
            " #   Column                  Non-Null Count  Dtype  \n",
            "---  ------                  --------------  -----  \n",
            " 0   id                      74111 non-null  int64  \n",
            " 1   log_price               74111 non-null  float64\n",
            " 2   property_type           74111 non-null  object \n",
            " 3   room_type               74111 non-null  object \n",
            " 4   amenities               74111 non-null  object \n",
            " 5   accommodates            74111 non-null  int64  \n",
            " 6   bathrooms               73911 non-null  float64\n",
            " 7   bed_type                74111 non-null  object \n",
            " 8   cancellation_policy     74111 non-null  object \n",
            " 9   cleaning_fee            74111 non-null  bool   \n",
            " 10  city                    74111 non-null  object \n",
            " 11  description             74111 non-null  object \n",
            " 12  first_review            58247 non-null  object \n",
            " 13  host_has_profile_pic    73923 non-null  object \n",
            " 14  host_identity_verified  73923 non-null  object \n",
            " 15  host_response_rate      55812 non-null  object \n",
            " 16  host_since              73923 non-null  object \n",
            " 17  instant_bookable        74111 non-null  object \n",
            " 18  last_review             58284 non-null  object \n",
            " 19  latitude                74111 non-null  float64\n",
            " 20  longitude               74111 non-null  float64\n",
            " 21  name                    74111 non-null  object \n",
            " 22  neighbourhood           67239 non-null  object \n",
            " 23  number_of_reviews       74111 non-null  int64  \n",
            " 24  review_scores_rating    57389 non-null  float64\n",
            " 25  thumbnail_url           65895 non-null  object \n",
            " 26  zipcode                 73145 non-null  object \n",
            " 27  bedrooms                74020 non-null  float64\n",
            " 28  beds                    73980 non-null  float64\n",
            "dtypes: bool(1), float64(7), int64(3), object(18)\n",
            "memory usage: 15.9+ MB\n"
          ]
        }
      ]
    },
    {
      "cell_type": "code",
      "source": [
        "df.head()"
      ],
      "metadata": {
        "colab": {
          "base_uri": "https://localhost:8080/",
          "height": 498
        },
        "id": "1D6ByzvIIuFx",
        "outputId": "326e1b50-d0d0-4a34-d8c0-dc5208e160b9"
      },
      "execution_count": 503,
      "outputs": [
        {
          "output_type": "execute_result",
          "data": {
            "text/plain": [
              "         id  log_price property_type        room_type  \\\n",
              "0   6901257   5.010635     Apartment  Entire home/apt   \n",
              "1   6304928   5.129899     Apartment  Entire home/apt   \n",
              "2   7919400   4.976734     Apartment  Entire home/apt   \n",
              "3  13418779   6.620073         House  Entire home/apt   \n",
              "4   3808709   4.744932     Apartment  Entire home/apt   \n",
              "\n",
              "                                           amenities  accommodates  bathrooms  \\\n",
              "0  {\"Wireless Internet\",\"Air conditioning\",Kitche...             3        1.0   \n",
              "1  {\"Wireless Internet\",\"Air conditioning\",Kitche...             7        1.0   \n",
              "2  {TV,\"Cable TV\",\"Wireless Internet\",\"Air condit...             5        1.0   \n",
              "3  {TV,\"Cable TV\",Internet,\"Wireless Internet\",Ki...             4        1.0   \n",
              "4  {TV,Internet,\"Wireless Internet\",\"Air conditio...             2        1.0   \n",
              "\n",
              "   bed_type cancellation_policy  cleaning_fee  ...   latitude   longitude  \\\n",
              "0  Real Bed              strict          True  ...  40.696524  -73.991617   \n",
              "1  Real Bed              strict          True  ...  40.766115  -73.989040   \n",
              "2  Real Bed            moderate          True  ...  40.808110  -73.943756   \n",
              "3  Real Bed            flexible          True  ...  37.772004 -122.431619   \n",
              "4  Real Bed            moderate          True  ...  38.925627  -77.034596   \n",
              "\n",
              "                                       name     neighbourhood  \\\n",
              "0            Beautiful brownstone 1-bedroom  Brooklyn Heights   \n",
              "1  Superb 3BR Apt Located Near Times Square    Hell's Kitchen   \n",
              "2                          The Garden Oasis            Harlem   \n",
              "3        Beautiful Flat in the Heart of SF!      Lower Haight   \n",
              "4                Great studio in midtown DC  Columbia Heights   \n",
              "\n",
              "  number_of_reviews review_scores_rating  \\\n",
              "0                 2                100.0   \n",
              "1                 6                 93.0   \n",
              "2                10                 92.0   \n",
              "3                 0                  NaN   \n",
              "4                 4                 40.0   \n",
              "\n",
              "                                       thumbnail_url  zipcode bedrooms  beds  \n",
              "0  https://a0.muscache.com/im/pictures/6d7cbbf7-c...    11201      1.0   1.0  \n",
              "1  https://a0.muscache.com/im/pictures/348a55fe-4...    10019      3.0   3.0  \n",
              "2  https://a0.muscache.com/im/pictures/6fae5362-9...    10027      1.0   3.0  \n",
              "3  https://a0.muscache.com/im/pictures/72208dad-9...  94117.0      2.0   2.0  \n",
              "4                                                NaN    20009      0.0   1.0  \n",
              "\n",
              "[5 rows x 29 columns]"
            ],
            "text/html": [
              "\n",
              "  <div id=\"df-214a9a79-2676-4042-befb-f29205d4aa90\" class=\"colab-df-container\">\n",
              "    <div>\n",
              "<style scoped>\n",
              "    .dataframe tbody tr th:only-of-type {\n",
              "        vertical-align: middle;\n",
              "    }\n",
              "\n",
              "    .dataframe tbody tr th {\n",
              "        vertical-align: top;\n",
              "    }\n",
              "\n",
              "    .dataframe thead th {\n",
              "        text-align: right;\n",
              "    }\n",
              "</style>\n",
              "<table border=\"1\" class=\"dataframe\">\n",
              "  <thead>\n",
              "    <tr style=\"text-align: right;\">\n",
              "      <th></th>\n",
              "      <th>id</th>\n",
              "      <th>log_price</th>\n",
              "      <th>property_type</th>\n",
              "      <th>room_type</th>\n",
              "      <th>amenities</th>\n",
              "      <th>accommodates</th>\n",
              "      <th>bathrooms</th>\n",
              "      <th>bed_type</th>\n",
              "      <th>cancellation_policy</th>\n",
              "      <th>cleaning_fee</th>\n",
              "      <th>...</th>\n",
              "      <th>latitude</th>\n",
              "      <th>longitude</th>\n",
              "      <th>name</th>\n",
              "      <th>neighbourhood</th>\n",
              "      <th>number_of_reviews</th>\n",
              "      <th>review_scores_rating</th>\n",
              "      <th>thumbnail_url</th>\n",
              "      <th>zipcode</th>\n",
              "      <th>bedrooms</th>\n",
              "      <th>beds</th>\n",
              "    </tr>\n",
              "  </thead>\n",
              "  <tbody>\n",
              "    <tr>\n",
              "      <th>0</th>\n",
              "      <td>6901257</td>\n",
              "      <td>5.010635</td>\n",
              "      <td>Apartment</td>\n",
              "      <td>Entire home/apt</td>\n",
              "      <td>{\"Wireless Internet\",\"Air conditioning\",Kitche...</td>\n",
              "      <td>3</td>\n",
              "      <td>1.0</td>\n",
              "      <td>Real Bed</td>\n",
              "      <td>strict</td>\n",
              "      <td>True</td>\n",
              "      <td>...</td>\n",
              "      <td>40.696524</td>\n",
              "      <td>-73.991617</td>\n",
              "      <td>Beautiful brownstone 1-bedroom</td>\n",
              "      <td>Brooklyn Heights</td>\n",
              "      <td>2</td>\n",
              "      <td>100.0</td>\n",
              "      <td>https://a0.muscache.com/im/pictures/6d7cbbf7-c...</td>\n",
              "      <td>11201</td>\n",
              "      <td>1.0</td>\n",
              "      <td>1.0</td>\n",
              "    </tr>\n",
              "    <tr>\n",
              "      <th>1</th>\n",
              "      <td>6304928</td>\n",
              "      <td>5.129899</td>\n",
              "      <td>Apartment</td>\n",
              "      <td>Entire home/apt</td>\n",
              "      <td>{\"Wireless Internet\",\"Air conditioning\",Kitche...</td>\n",
              "      <td>7</td>\n",
              "      <td>1.0</td>\n",
              "      <td>Real Bed</td>\n",
              "      <td>strict</td>\n",
              "      <td>True</td>\n",
              "      <td>...</td>\n",
              "      <td>40.766115</td>\n",
              "      <td>-73.989040</td>\n",
              "      <td>Superb 3BR Apt Located Near Times Square</td>\n",
              "      <td>Hell's Kitchen</td>\n",
              "      <td>6</td>\n",
              "      <td>93.0</td>\n",
              "      <td>https://a0.muscache.com/im/pictures/348a55fe-4...</td>\n",
              "      <td>10019</td>\n",
              "      <td>3.0</td>\n",
              "      <td>3.0</td>\n",
              "    </tr>\n",
              "    <tr>\n",
              "      <th>2</th>\n",
              "      <td>7919400</td>\n",
              "      <td>4.976734</td>\n",
              "      <td>Apartment</td>\n",
              "      <td>Entire home/apt</td>\n",
              "      <td>{TV,\"Cable TV\",\"Wireless Internet\",\"Air condit...</td>\n",
              "      <td>5</td>\n",
              "      <td>1.0</td>\n",
              "      <td>Real Bed</td>\n",
              "      <td>moderate</td>\n",
              "      <td>True</td>\n",
              "      <td>...</td>\n",
              "      <td>40.808110</td>\n",
              "      <td>-73.943756</td>\n",
              "      <td>The Garden Oasis</td>\n",
              "      <td>Harlem</td>\n",
              "      <td>10</td>\n",
              "      <td>92.0</td>\n",
              "      <td>https://a0.muscache.com/im/pictures/6fae5362-9...</td>\n",
              "      <td>10027</td>\n",
              "      <td>1.0</td>\n",
              "      <td>3.0</td>\n",
              "    </tr>\n",
              "    <tr>\n",
              "      <th>3</th>\n",
              "      <td>13418779</td>\n",
              "      <td>6.620073</td>\n",
              "      <td>House</td>\n",
              "      <td>Entire home/apt</td>\n",
              "      <td>{TV,\"Cable TV\",Internet,\"Wireless Internet\",Ki...</td>\n",
              "      <td>4</td>\n",
              "      <td>1.0</td>\n",
              "      <td>Real Bed</td>\n",
              "      <td>flexible</td>\n",
              "      <td>True</td>\n",
              "      <td>...</td>\n",
              "      <td>37.772004</td>\n",
              "      <td>-122.431619</td>\n",
              "      <td>Beautiful Flat in the Heart of SF!</td>\n",
              "      <td>Lower Haight</td>\n",
              "      <td>0</td>\n",
              "      <td>NaN</td>\n",
              "      <td>https://a0.muscache.com/im/pictures/72208dad-9...</td>\n",
              "      <td>94117.0</td>\n",
              "      <td>2.0</td>\n",
              "      <td>2.0</td>\n",
              "    </tr>\n",
              "    <tr>\n",
              "      <th>4</th>\n",
              "      <td>3808709</td>\n",
              "      <td>4.744932</td>\n",
              "      <td>Apartment</td>\n",
              "      <td>Entire home/apt</td>\n",
              "      <td>{TV,Internet,\"Wireless Internet\",\"Air conditio...</td>\n",
              "      <td>2</td>\n",
              "      <td>1.0</td>\n",
              "      <td>Real Bed</td>\n",
              "      <td>moderate</td>\n",
              "      <td>True</td>\n",
              "      <td>...</td>\n",
              "      <td>38.925627</td>\n",
              "      <td>-77.034596</td>\n",
              "      <td>Great studio in midtown DC</td>\n",
              "      <td>Columbia Heights</td>\n",
              "      <td>4</td>\n",
              "      <td>40.0</td>\n",
              "      <td>NaN</td>\n",
              "      <td>20009</td>\n",
              "      <td>0.0</td>\n",
              "      <td>1.0</td>\n",
              "    </tr>\n",
              "  </tbody>\n",
              "</table>\n",
              "<p>5 rows × 29 columns</p>\n",
              "</div>\n",
              "    <div class=\"colab-df-buttons\">\n",
              "\n",
              "  <div class=\"colab-df-container\">\n",
              "    <button class=\"colab-df-convert\" onclick=\"convertToInteractive('df-214a9a79-2676-4042-befb-f29205d4aa90')\"\n",
              "            title=\"Convert this dataframe to an interactive table.\"\n",
              "            style=\"display:none;\">\n",
              "\n",
              "  <svg xmlns=\"http://www.w3.org/2000/svg\" height=\"24px\" viewBox=\"0 -960 960 960\">\n",
              "    <path d=\"M120-120v-720h720v720H120Zm60-500h600v-160H180v160Zm220 220h160v-160H400v160Zm0 220h160v-160H400v160ZM180-400h160v-160H180v160Zm440 0h160v-160H620v160ZM180-180h160v-160H180v160Zm440 0h160v-160H620v160Z\"/>\n",
              "  </svg>\n",
              "    </button>\n",
              "\n",
              "  <style>\n",
              "    .colab-df-container {\n",
              "      display:flex;\n",
              "      gap: 12px;\n",
              "    }\n",
              "\n",
              "    .colab-df-convert {\n",
              "      background-color: #E8F0FE;\n",
              "      border: none;\n",
              "      border-radius: 50%;\n",
              "      cursor: pointer;\n",
              "      display: none;\n",
              "      fill: #1967D2;\n",
              "      height: 32px;\n",
              "      padding: 0 0 0 0;\n",
              "      width: 32px;\n",
              "    }\n",
              "\n",
              "    .colab-df-convert:hover {\n",
              "      background-color: #E2EBFA;\n",
              "      box-shadow: 0px 1px 2px rgba(60, 64, 67, 0.3), 0px 1px 3px 1px rgba(60, 64, 67, 0.15);\n",
              "      fill: #174EA6;\n",
              "    }\n",
              "\n",
              "    .colab-df-buttons div {\n",
              "      margin-bottom: 4px;\n",
              "    }\n",
              "\n",
              "    [theme=dark] .colab-df-convert {\n",
              "      background-color: #3B4455;\n",
              "      fill: #D2E3FC;\n",
              "    }\n",
              "\n",
              "    [theme=dark] .colab-df-convert:hover {\n",
              "      background-color: #434B5C;\n",
              "      box-shadow: 0px 1px 3px 1px rgba(0, 0, 0, 0.15);\n",
              "      filter: drop-shadow(0px 1px 2px rgba(0, 0, 0, 0.3));\n",
              "      fill: #FFFFFF;\n",
              "    }\n",
              "  </style>\n",
              "\n",
              "    <script>\n",
              "      const buttonEl =\n",
              "        document.querySelector('#df-214a9a79-2676-4042-befb-f29205d4aa90 button.colab-df-convert');\n",
              "      buttonEl.style.display =\n",
              "        google.colab.kernel.accessAllowed ? 'block' : 'none';\n",
              "\n",
              "      async function convertToInteractive(key) {\n",
              "        const element = document.querySelector('#df-214a9a79-2676-4042-befb-f29205d4aa90');\n",
              "        const dataTable =\n",
              "          await google.colab.kernel.invokeFunction('convertToInteractive',\n",
              "                                                    [key], {});\n",
              "        if (!dataTable) return;\n",
              "\n",
              "        const docLinkHtml = 'Like what you see? Visit the ' +\n",
              "          '<a target=\"_blank\" href=https://colab.research.google.com/notebooks/data_table.ipynb>data table notebook</a>'\n",
              "          + ' to learn more about interactive tables.';\n",
              "        element.innerHTML = '';\n",
              "        dataTable['output_type'] = 'display_data';\n",
              "        await google.colab.output.renderOutput(dataTable, element);\n",
              "        const docLink = document.createElement('div');\n",
              "        docLink.innerHTML = docLinkHtml;\n",
              "        element.appendChild(docLink);\n",
              "      }\n",
              "    </script>\n",
              "  </div>\n",
              "\n",
              "\n",
              "<div id=\"df-b1a9c554-aba6-42ee-a99b-5482a39c2799\">\n",
              "  <button class=\"colab-df-quickchart\" onclick=\"quickchart('df-b1a9c554-aba6-42ee-a99b-5482a39c2799')\"\n",
              "            title=\"Suggest charts\"\n",
              "            style=\"display:none;\">\n",
              "\n",
              "<svg xmlns=\"http://www.w3.org/2000/svg\" height=\"24px\"viewBox=\"0 0 24 24\"\n",
              "     width=\"24px\">\n",
              "    <g>\n",
              "        <path d=\"M19 3H5c-1.1 0-2 .9-2 2v14c0 1.1.9 2 2 2h14c1.1 0 2-.9 2-2V5c0-1.1-.9-2-2-2zM9 17H7v-7h2v7zm4 0h-2V7h2v10zm4 0h-2v-4h2v4z\"/>\n",
              "    </g>\n",
              "</svg>\n",
              "  </button>\n",
              "\n",
              "<style>\n",
              "  .colab-df-quickchart {\n",
              "      --bg-color: #E8F0FE;\n",
              "      --fill-color: #1967D2;\n",
              "      --hover-bg-color: #E2EBFA;\n",
              "      --hover-fill-color: #174EA6;\n",
              "      --disabled-fill-color: #AAA;\n",
              "      --disabled-bg-color: #DDD;\n",
              "  }\n",
              "\n",
              "  [theme=dark] .colab-df-quickchart {\n",
              "      --bg-color: #3B4455;\n",
              "      --fill-color: #D2E3FC;\n",
              "      --hover-bg-color: #434B5C;\n",
              "      --hover-fill-color: #FFFFFF;\n",
              "      --disabled-bg-color: #3B4455;\n",
              "      --disabled-fill-color: #666;\n",
              "  }\n",
              "\n",
              "  .colab-df-quickchart {\n",
              "    background-color: var(--bg-color);\n",
              "    border: none;\n",
              "    border-radius: 50%;\n",
              "    cursor: pointer;\n",
              "    display: none;\n",
              "    fill: var(--fill-color);\n",
              "    height: 32px;\n",
              "    padding: 0;\n",
              "    width: 32px;\n",
              "  }\n",
              "\n",
              "  .colab-df-quickchart:hover {\n",
              "    background-color: var(--hover-bg-color);\n",
              "    box-shadow: 0 1px 2px rgba(60, 64, 67, 0.3), 0 1px 3px 1px rgba(60, 64, 67, 0.15);\n",
              "    fill: var(--button-hover-fill-color);\n",
              "  }\n",
              "\n",
              "  .colab-df-quickchart-complete:disabled,\n",
              "  .colab-df-quickchart-complete:disabled:hover {\n",
              "    background-color: var(--disabled-bg-color);\n",
              "    fill: var(--disabled-fill-color);\n",
              "    box-shadow: none;\n",
              "  }\n",
              "\n",
              "  .colab-df-spinner {\n",
              "    border: 2px solid var(--fill-color);\n",
              "    border-color: transparent;\n",
              "    border-bottom-color: var(--fill-color);\n",
              "    animation:\n",
              "      spin 1s steps(1) infinite;\n",
              "  }\n",
              "\n",
              "  @keyframes spin {\n",
              "    0% {\n",
              "      border-color: transparent;\n",
              "      border-bottom-color: var(--fill-color);\n",
              "      border-left-color: var(--fill-color);\n",
              "    }\n",
              "    20% {\n",
              "      border-color: transparent;\n",
              "      border-left-color: var(--fill-color);\n",
              "      border-top-color: var(--fill-color);\n",
              "    }\n",
              "    30% {\n",
              "      border-color: transparent;\n",
              "      border-left-color: var(--fill-color);\n",
              "      border-top-color: var(--fill-color);\n",
              "      border-right-color: var(--fill-color);\n",
              "    }\n",
              "    40% {\n",
              "      border-color: transparent;\n",
              "      border-right-color: var(--fill-color);\n",
              "      border-top-color: var(--fill-color);\n",
              "    }\n",
              "    60% {\n",
              "      border-color: transparent;\n",
              "      border-right-color: var(--fill-color);\n",
              "    }\n",
              "    80% {\n",
              "      border-color: transparent;\n",
              "      border-right-color: var(--fill-color);\n",
              "      border-bottom-color: var(--fill-color);\n",
              "    }\n",
              "    90% {\n",
              "      border-color: transparent;\n",
              "      border-bottom-color: var(--fill-color);\n",
              "    }\n",
              "  }\n",
              "</style>\n",
              "\n",
              "  <script>\n",
              "    async function quickchart(key) {\n",
              "      const quickchartButtonEl =\n",
              "        document.querySelector('#' + key + ' button');\n",
              "      quickchartButtonEl.disabled = true;  // To prevent multiple clicks.\n",
              "      quickchartButtonEl.classList.add('colab-df-spinner');\n",
              "      try {\n",
              "        const charts = await google.colab.kernel.invokeFunction(\n",
              "            'suggestCharts', [key], {});\n",
              "      } catch (error) {\n",
              "        console.error('Error during call to suggestCharts:', error);\n",
              "      }\n",
              "      quickchartButtonEl.classList.remove('colab-df-spinner');\n",
              "      quickchartButtonEl.classList.add('colab-df-quickchart-complete');\n",
              "    }\n",
              "    (() => {\n",
              "      let quickchartButtonEl =\n",
              "        document.querySelector('#df-b1a9c554-aba6-42ee-a99b-5482a39c2799 button');\n",
              "      quickchartButtonEl.style.display =\n",
              "        google.colab.kernel.accessAllowed ? 'block' : 'none';\n",
              "    })();\n",
              "  </script>\n",
              "</div>\n",
              "\n",
              "    </div>\n",
              "  </div>\n"
            ],
            "application/vnd.google.colaboratory.intrinsic+json": {
              "type": "dataframe",
              "variable_name": "df"
            }
          },
          "metadata": {},
          "execution_count": 503
        }
      ]
    },
    {
      "cell_type": "code",
      "source": [
        "df.duplicated().sum()"
      ],
      "metadata": {
        "colab": {
          "base_uri": "https://localhost:8080/"
        },
        "id": "6DxWihPsKk2M",
        "outputId": "1bd054ef-a97c-419d-af12-fd01e28231c4"
      },
      "execution_count": 504,
      "outputs": [
        {
          "output_type": "execute_result",
          "data": {
            "text/plain": [
              "0"
            ]
          },
          "metadata": {},
          "execution_count": 504
        }
      ]
    },
    {
      "cell_type": "code",
      "source": [
        "df.describe().T"
      ],
      "metadata": {
        "colab": {
          "base_uri": "https://localhost:8080/",
          "height": 363
        },
        "id": "DMThSSgKKn7D",
        "outputId": "466dd109-6964-42c4-d319-9209f96cffcd"
      },
      "execution_count": 505,
      "outputs": [
        {
          "output_type": "execute_result",
          "data": {
            "text/plain": [
              "                        count          mean           std         min  \\\n",
              "id                    74111.0  1.126662e+07  6.081735e+06  344.000000   \n",
              "log_price             74111.0  4.782069e+00  7.173938e-01    0.000000   \n",
              "accommodates          74111.0  3.155146e+00  2.153589e+00    1.000000   \n",
              "bathrooms             73911.0  1.235263e+00  5.820441e-01    0.000000   \n",
              "latitude              74111.0  3.844596e+01  3.080167e+00   33.338905   \n",
              "longitude             74111.0 -9.239753e+01  2.170532e+01 -122.511500   \n",
              "number_of_reviews     74111.0  2.090057e+01  3.782864e+01    0.000000   \n",
              "review_scores_rating  57389.0  9.406736e+01  7.836556e+00   20.000000   \n",
              "bedrooms              74020.0  1.265793e+00  8.521435e-01    0.000000   \n",
              "beds                  73980.0  1.710868e+00  1.254142e+00    0.000000   \n",
              "\n",
              "                               25%           50%           75%           max  \n",
              "id                    6.261964e+06  1.225415e+07  1.640226e+07  2.123090e+07  \n",
              "log_price             4.317488e+00  4.709530e+00  5.220356e+00  7.600402e+00  \n",
              "accommodates          2.000000e+00  2.000000e+00  4.000000e+00  1.600000e+01  \n",
              "bathrooms             1.000000e+00  1.000000e+00  1.000000e+00  8.000000e+00  \n",
              "latitude              3.412791e+01  4.066214e+01  4.074610e+01  4.239044e+01  \n",
              "longitude            -1.183424e+02 -7.699696e+01 -7.395466e+01 -7.098505e+01  \n",
              "number_of_reviews     1.000000e+00  6.000000e+00  2.300000e+01  6.050000e+02  \n",
              "review_scores_rating  9.200000e+01  9.600000e+01  1.000000e+02  1.000000e+02  \n",
              "bedrooms              1.000000e+00  1.000000e+00  1.000000e+00  1.000000e+01  \n",
              "beds                  1.000000e+00  1.000000e+00  2.000000e+00  1.800000e+01  "
            ],
            "text/html": [
              "\n",
              "  <div id=\"df-56b426fc-4fc8-4f41-a3c7-6efc6cd96843\" class=\"colab-df-container\">\n",
              "    <div>\n",
              "<style scoped>\n",
              "    .dataframe tbody tr th:only-of-type {\n",
              "        vertical-align: middle;\n",
              "    }\n",
              "\n",
              "    .dataframe tbody tr th {\n",
              "        vertical-align: top;\n",
              "    }\n",
              "\n",
              "    .dataframe thead th {\n",
              "        text-align: right;\n",
              "    }\n",
              "</style>\n",
              "<table border=\"1\" class=\"dataframe\">\n",
              "  <thead>\n",
              "    <tr style=\"text-align: right;\">\n",
              "      <th></th>\n",
              "      <th>count</th>\n",
              "      <th>mean</th>\n",
              "      <th>std</th>\n",
              "      <th>min</th>\n",
              "      <th>25%</th>\n",
              "      <th>50%</th>\n",
              "      <th>75%</th>\n",
              "      <th>max</th>\n",
              "    </tr>\n",
              "  </thead>\n",
              "  <tbody>\n",
              "    <tr>\n",
              "      <th>id</th>\n",
              "      <td>74111.0</td>\n",
              "      <td>1.126662e+07</td>\n",
              "      <td>6.081735e+06</td>\n",
              "      <td>344.000000</td>\n",
              "      <td>6.261964e+06</td>\n",
              "      <td>1.225415e+07</td>\n",
              "      <td>1.640226e+07</td>\n",
              "      <td>2.123090e+07</td>\n",
              "    </tr>\n",
              "    <tr>\n",
              "      <th>log_price</th>\n",
              "      <td>74111.0</td>\n",
              "      <td>4.782069e+00</td>\n",
              "      <td>7.173938e-01</td>\n",
              "      <td>0.000000</td>\n",
              "      <td>4.317488e+00</td>\n",
              "      <td>4.709530e+00</td>\n",
              "      <td>5.220356e+00</td>\n",
              "      <td>7.600402e+00</td>\n",
              "    </tr>\n",
              "    <tr>\n",
              "      <th>accommodates</th>\n",
              "      <td>74111.0</td>\n",
              "      <td>3.155146e+00</td>\n",
              "      <td>2.153589e+00</td>\n",
              "      <td>1.000000</td>\n",
              "      <td>2.000000e+00</td>\n",
              "      <td>2.000000e+00</td>\n",
              "      <td>4.000000e+00</td>\n",
              "      <td>1.600000e+01</td>\n",
              "    </tr>\n",
              "    <tr>\n",
              "      <th>bathrooms</th>\n",
              "      <td>73911.0</td>\n",
              "      <td>1.235263e+00</td>\n",
              "      <td>5.820441e-01</td>\n",
              "      <td>0.000000</td>\n",
              "      <td>1.000000e+00</td>\n",
              "      <td>1.000000e+00</td>\n",
              "      <td>1.000000e+00</td>\n",
              "      <td>8.000000e+00</td>\n",
              "    </tr>\n",
              "    <tr>\n",
              "      <th>latitude</th>\n",
              "      <td>74111.0</td>\n",
              "      <td>3.844596e+01</td>\n",
              "      <td>3.080167e+00</td>\n",
              "      <td>33.338905</td>\n",
              "      <td>3.412791e+01</td>\n",
              "      <td>4.066214e+01</td>\n",
              "      <td>4.074610e+01</td>\n",
              "      <td>4.239044e+01</td>\n",
              "    </tr>\n",
              "    <tr>\n",
              "      <th>longitude</th>\n",
              "      <td>74111.0</td>\n",
              "      <td>-9.239753e+01</td>\n",
              "      <td>2.170532e+01</td>\n",
              "      <td>-122.511500</td>\n",
              "      <td>-1.183424e+02</td>\n",
              "      <td>-7.699696e+01</td>\n",
              "      <td>-7.395466e+01</td>\n",
              "      <td>-7.098505e+01</td>\n",
              "    </tr>\n",
              "    <tr>\n",
              "      <th>number_of_reviews</th>\n",
              "      <td>74111.0</td>\n",
              "      <td>2.090057e+01</td>\n",
              "      <td>3.782864e+01</td>\n",
              "      <td>0.000000</td>\n",
              "      <td>1.000000e+00</td>\n",
              "      <td>6.000000e+00</td>\n",
              "      <td>2.300000e+01</td>\n",
              "      <td>6.050000e+02</td>\n",
              "    </tr>\n",
              "    <tr>\n",
              "      <th>review_scores_rating</th>\n",
              "      <td>57389.0</td>\n",
              "      <td>9.406736e+01</td>\n",
              "      <td>7.836556e+00</td>\n",
              "      <td>20.000000</td>\n",
              "      <td>9.200000e+01</td>\n",
              "      <td>9.600000e+01</td>\n",
              "      <td>1.000000e+02</td>\n",
              "      <td>1.000000e+02</td>\n",
              "    </tr>\n",
              "    <tr>\n",
              "      <th>bedrooms</th>\n",
              "      <td>74020.0</td>\n",
              "      <td>1.265793e+00</td>\n",
              "      <td>8.521435e-01</td>\n",
              "      <td>0.000000</td>\n",
              "      <td>1.000000e+00</td>\n",
              "      <td>1.000000e+00</td>\n",
              "      <td>1.000000e+00</td>\n",
              "      <td>1.000000e+01</td>\n",
              "    </tr>\n",
              "    <tr>\n",
              "      <th>beds</th>\n",
              "      <td>73980.0</td>\n",
              "      <td>1.710868e+00</td>\n",
              "      <td>1.254142e+00</td>\n",
              "      <td>0.000000</td>\n",
              "      <td>1.000000e+00</td>\n",
              "      <td>1.000000e+00</td>\n",
              "      <td>2.000000e+00</td>\n",
              "      <td>1.800000e+01</td>\n",
              "    </tr>\n",
              "  </tbody>\n",
              "</table>\n",
              "</div>\n",
              "    <div class=\"colab-df-buttons\">\n",
              "\n",
              "  <div class=\"colab-df-container\">\n",
              "    <button class=\"colab-df-convert\" onclick=\"convertToInteractive('df-56b426fc-4fc8-4f41-a3c7-6efc6cd96843')\"\n",
              "            title=\"Convert this dataframe to an interactive table.\"\n",
              "            style=\"display:none;\">\n",
              "\n",
              "  <svg xmlns=\"http://www.w3.org/2000/svg\" height=\"24px\" viewBox=\"0 -960 960 960\">\n",
              "    <path d=\"M120-120v-720h720v720H120Zm60-500h600v-160H180v160Zm220 220h160v-160H400v160Zm0 220h160v-160H400v160ZM180-400h160v-160H180v160Zm440 0h160v-160H620v160ZM180-180h160v-160H180v160Zm440 0h160v-160H620v160Z\"/>\n",
              "  </svg>\n",
              "    </button>\n",
              "\n",
              "  <style>\n",
              "    .colab-df-container {\n",
              "      display:flex;\n",
              "      gap: 12px;\n",
              "    }\n",
              "\n",
              "    .colab-df-convert {\n",
              "      background-color: #E8F0FE;\n",
              "      border: none;\n",
              "      border-radius: 50%;\n",
              "      cursor: pointer;\n",
              "      display: none;\n",
              "      fill: #1967D2;\n",
              "      height: 32px;\n",
              "      padding: 0 0 0 0;\n",
              "      width: 32px;\n",
              "    }\n",
              "\n",
              "    .colab-df-convert:hover {\n",
              "      background-color: #E2EBFA;\n",
              "      box-shadow: 0px 1px 2px rgba(60, 64, 67, 0.3), 0px 1px 3px 1px rgba(60, 64, 67, 0.15);\n",
              "      fill: #174EA6;\n",
              "    }\n",
              "\n",
              "    .colab-df-buttons div {\n",
              "      margin-bottom: 4px;\n",
              "    }\n",
              "\n",
              "    [theme=dark] .colab-df-convert {\n",
              "      background-color: #3B4455;\n",
              "      fill: #D2E3FC;\n",
              "    }\n",
              "\n",
              "    [theme=dark] .colab-df-convert:hover {\n",
              "      background-color: #434B5C;\n",
              "      box-shadow: 0px 1px 3px 1px rgba(0, 0, 0, 0.15);\n",
              "      filter: drop-shadow(0px 1px 2px rgba(0, 0, 0, 0.3));\n",
              "      fill: #FFFFFF;\n",
              "    }\n",
              "  </style>\n",
              "\n",
              "    <script>\n",
              "      const buttonEl =\n",
              "        document.querySelector('#df-56b426fc-4fc8-4f41-a3c7-6efc6cd96843 button.colab-df-convert');\n",
              "      buttonEl.style.display =\n",
              "        google.colab.kernel.accessAllowed ? 'block' : 'none';\n",
              "\n",
              "      async function convertToInteractive(key) {\n",
              "        const element = document.querySelector('#df-56b426fc-4fc8-4f41-a3c7-6efc6cd96843');\n",
              "        const dataTable =\n",
              "          await google.colab.kernel.invokeFunction('convertToInteractive',\n",
              "                                                    [key], {});\n",
              "        if (!dataTable) return;\n",
              "\n",
              "        const docLinkHtml = 'Like what you see? Visit the ' +\n",
              "          '<a target=\"_blank\" href=https://colab.research.google.com/notebooks/data_table.ipynb>data table notebook</a>'\n",
              "          + ' to learn more about interactive tables.';\n",
              "        element.innerHTML = '';\n",
              "        dataTable['output_type'] = 'display_data';\n",
              "        await google.colab.output.renderOutput(dataTable, element);\n",
              "        const docLink = document.createElement('div');\n",
              "        docLink.innerHTML = docLinkHtml;\n",
              "        element.appendChild(docLink);\n",
              "      }\n",
              "    </script>\n",
              "  </div>\n",
              "\n",
              "\n",
              "<div id=\"df-ae0cb701-b4d4-4f8e-9054-e456e9a56035\">\n",
              "  <button class=\"colab-df-quickchart\" onclick=\"quickchart('df-ae0cb701-b4d4-4f8e-9054-e456e9a56035')\"\n",
              "            title=\"Suggest charts\"\n",
              "            style=\"display:none;\">\n",
              "\n",
              "<svg xmlns=\"http://www.w3.org/2000/svg\" height=\"24px\"viewBox=\"0 0 24 24\"\n",
              "     width=\"24px\">\n",
              "    <g>\n",
              "        <path d=\"M19 3H5c-1.1 0-2 .9-2 2v14c0 1.1.9 2 2 2h14c1.1 0 2-.9 2-2V5c0-1.1-.9-2-2-2zM9 17H7v-7h2v7zm4 0h-2V7h2v10zm4 0h-2v-4h2v4z\"/>\n",
              "    </g>\n",
              "</svg>\n",
              "  </button>\n",
              "\n",
              "<style>\n",
              "  .colab-df-quickchart {\n",
              "      --bg-color: #E8F0FE;\n",
              "      --fill-color: #1967D2;\n",
              "      --hover-bg-color: #E2EBFA;\n",
              "      --hover-fill-color: #174EA6;\n",
              "      --disabled-fill-color: #AAA;\n",
              "      --disabled-bg-color: #DDD;\n",
              "  }\n",
              "\n",
              "  [theme=dark] .colab-df-quickchart {\n",
              "      --bg-color: #3B4455;\n",
              "      --fill-color: #D2E3FC;\n",
              "      --hover-bg-color: #434B5C;\n",
              "      --hover-fill-color: #FFFFFF;\n",
              "      --disabled-bg-color: #3B4455;\n",
              "      --disabled-fill-color: #666;\n",
              "  }\n",
              "\n",
              "  .colab-df-quickchart {\n",
              "    background-color: var(--bg-color);\n",
              "    border: none;\n",
              "    border-radius: 50%;\n",
              "    cursor: pointer;\n",
              "    display: none;\n",
              "    fill: var(--fill-color);\n",
              "    height: 32px;\n",
              "    padding: 0;\n",
              "    width: 32px;\n",
              "  }\n",
              "\n",
              "  .colab-df-quickchart:hover {\n",
              "    background-color: var(--hover-bg-color);\n",
              "    box-shadow: 0 1px 2px rgba(60, 64, 67, 0.3), 0 1px 3px 1px rgba(60, 64, 67, 0.15);\n",
              "    fill: var(--button-hover-fill-color);\n",
              "  }\n",
              "\n",
              "  .colab-df-quickchart-complete:disabled,\n",
              "  .colab-df-quickchart-complete:disabled:hover {\n",
              "    background-color: var(--disabled-bg-color);\n",
              "    fill: var(--disabled-fill-color);\n",
              "    box-shadow: none;\n",
              "  }\n",
              "\n",
              "  .colab-df-spinner {\n",
              "    border: 2px solid var(--fill-color);\n",
              "    border-color: transparent;\n",
              "    border-bottom-color: var(--fill-color);\n",
              "    animation:\n",
              "      spin 1s steps(1) infinite;\n",
              "  }\n",
              "\n",
              "  @keyframes spin {\n",
              "    0% {\n",
              "      border-color: transparent;\n",
              "      border-bottom-color: var(--fill-color);\n",
              "      border-left-color: var(--fill-color);\n",
              "    }\n",
              "    20% {\n",
              "      border-color: transparent;\n",
              "      border-left-color: var(--fill-color);\n",
              "      border-top-color: var(--fill-color);\n",
              "    }\n",
              "    30% {\n",
              "      border-color: transparent;\n",
              "      border-left-color: var(--fill-color);\n",
              "      border-top-color: var(--fill-color);\n",
              "      border-right-color: var(--fill-color);\n",
              "    }\n",
              "    40% {\n",
              "      border-color: transparent;\n",
              "      border-right-color: var(--fill-color);\n",
              "      border-top-color: var(--fill-color);\n",
              "    }\n",
              "    60% {\n",
              "      border-color: transparent;\n",
              "      border-right-color: var(--fill-color);\n",
              "    }\n",
              "    80% {\n",
              "      border-color: transparent;\n",
              "      border-right-color: var(--fill-color);\n",
              "      border-bottom-color: var(--fill-color);\n",
              "    }\n",
              "    90% {\n",
              "      border-color: transparent;\n",
              "      border-bottom-color: var(--fill-color);\n",
              "    }\n",
              "  }\n",
              "</style>\n",
              "\n",
              "  <script>\n",
              "    async function quickchart(key) {\n",
              "      const quickchartButtonEl =\n",
              "        document.querySelector('#' + key + ' button');\n",
              "      quickchartButtonEl.disabled = true;  // To prevent multiple clicks.\n",
              "      quickchartButtonEl.classList.add('colab-df-spinner');\n",
              "      try {\n",
              "        const charts = await google.colab.kernel.invokeFunction(\n",
              "            'suggestCharts', [key], {});\n",
              "      } catch (error) {\n",
              "        console.error('Error during call to suggestCharts:', error);\n",
              "      }\n",
              "      quickchartButtonEl.classList.remove('colab-df-spinner');\n",
              "      quickchartButtonEl.classList.add('colab-df-quickchart-complete');\n",
              "    }\n",
              "    (() => {\n",
              "      let quickchartButtonEl =\n",
              "        document.querySelector('#df-ae0cb701-b4d4-4f8e-9054-e456e9a56035 button');\n",
              "      quickchartButtonEl.style.display =\n",
              "        google.colab.kernel.accessAllowed ? 'block' : 'none';\n",
              "    })();\n",
              "  </script>\n",
              "</div>\n",
              "\n",
              "    </div>\n",
              "  </div>\n"
            ],
            "application/vnd.google.colaboratory.intrinsic+json": {
              "type": "dataframe",
              "summary": "{\n  \"name\": \"df\",\n  \"rows\": 10,\n  \"fields\": [\n    {\n      \"column\": \"count\",\n      \"properties\": {\n        \"dtype\": \"number\",\n        \"std\": 5273.6141138902285,\n        \"min\": 57389.0,\n        \"max\": 74111.0,\n        \"num_unique_values\": 5,\n        \"samples\": [\n          73911.0,\n          73980.0,\n          57389.0\n        ],\n        \"semantic_type\": \"\",\n        \"description\": \"\"\n      }\n    },\n    {\n      \"column\": \"mean\",\n      \"properties\": {\n        \"dtype\": \"number\",\n        \"std\": 3562814.5863990504,\n        \"min\": -92.39752533051391,\n        \"max\": 11266617.10246792,\n        \"num_unique_values\": 10,\n        \"samples\": [\n          1.265793028911105,\n          4.782069108305636,\n          -92.39752533051391\n        ],\n        \"semantic_type\": \"\",\n        \"description\": \"\"\n      }\n    },\n    {\n      \"column\": \"std\",\n      \"properties\": {\n        \"dtype\": \"number\",\n        \"std\": 1923210.7661087967,\n        \"min\": 0.5820440989961096,\n        \"max\": 6081734.886894187,\n        \"num_unique_values\": 10,\n        \"samples\": [\n          0.852143490701749,\n          0.7173937845081536,\n          21.705321883961957\n        ],\n        \"semantic_type\": \"\",\n        \"description\": \"\"\n      }\n    },\n    {\n      \"column\": \"min\",\n      \"properties\": {\n        \"dtype\": \"number\",\n        \"std\": 118.90681434408278,\n        \"min\": -122.51149998987214,\n        \"max\": 344.0,\n        \"num_unique_values\": 6,\n        \"samples\": [\n          344.0,\n          0.0,\n          20.0\n        ],\n        \"semantic_type\": \"\",\n        \"description\": \"\"\n      }\n    },\n    {\n      \"column\": \"25%\",\n      \"properties\": {\n        \"dtype\": \"number\",\n        \"std\": 1980206.4092991664,\n        \"min\": -118.34237382922922,\n        \"max\": 6261964.5,\n        \"num_unique_values\": 7,\n        \"samples\": [\n          6261964.5,\n          4.31748811353631,\n          -118.34237382922922\n        ],\n        \"semantic_type\": \"\",\n        \"description\": \"\"\n      }\n    },\n    {\n      \"column\": \"50%\",\n      \"properties\": {\n        \"dtype\": \"number\",\n        \"std\": 3875098.882087528,\n        \"min\": -76.99696492578188,\n        \"max\": 12254147.0,\n        \"num_unique_values\": 8,\n        \"samples\": [\n          4.709530201312334,\n          -76.99696492578188,\n          12254147.0\n        ],\n        \"semantic_type\": \"\",\n        \"description\": \"\"\n      }\n    },\n    {\n      \"column\": \"75%\",\n      \"properties\": {\n        \"dtype\": \"number\",\n        \"std\": 5186846.576252833,\n        \"min\": -73.95465984993722,\n        \"max\": 16402260.5,\n        \"num_unique_values\": 9,\n        \"samples\": [\n          100.0,\n          5.220355825078324,\n          -73.95465984993722\n        ],\n        \"semantic_type\": \"\",\n        \"description\": \"\"\n      }\n    },\n    {\n      \"column\": \"max\",\n      \"properties\": {\n        \"dtype\": \"number\",\n        \"std\": 6713775.168279359,\n        \"min\": -70.98504659974512,\n        \"max\": 21230903.0,\n        \"num_unique_values\": 10,\n        \"samples\": [\n          10.0,\n          7.6004023345004,\n          -70.98504659974512\n        ],\n        \"semantic_type\": \"\",\n        \"description\": \"\"\n      }\n    }\n  ]\n}"
            }
          },
          "metadata": {},
          "execution_count": 505
        }
      ]
    },
    {
      "cell_type": "code",
      "source": [
        "df.dtypes"
      ],
      "metadata": {
        "colab": {
          "base_uri": "https://localhost:8080/"
        },
        "id": "yWhjAONcM4tj",
        "outputId": "ff58a3b7-c238-4fef-92b7-7cae2be4e353"
      },
      "execution_count": 506,
      "outputs": [
        {
          "output_type": "execute_result",
          "data": {
            "text/plain": [
              "id                          int64\n",
              "log_price                 float64\n",
              "property_type              object\n",
              "room_type                  object\n",
              "amenities                  object\n",
              "accommodates                int64\n",
              "bathrooms                 float64\n",
              "bed_type                   object\n",
              "cancellation_policy        object\n",
              "cleaning_fee                 bool\n",
              "city                       object\n",
              "description                object\n",
              "first_review               object\n",
              "host_has_profile_pic       object\n",
              "host_identity_verified     object\n",
              "host_response_rate         object\n",
              "host_since                 object\n",
              "instant_bookable           object\n",
              "last_review                object\n",
              "latitude                  float64\n",
              "longitude                 float64\n",
              "name                       object\n",
              "neighbourhood              object\n",
              "number_of_reviews           int64\n",
              "review_scores_rating      float64\n",
              "thumbnail_url              object\n",
              "zipcode                    object\n",
              "bedrooms                  float64\n",
              "beds                      float64\n",
              "dtype: object"
            ]
          },
          "metadata": {},
          "execution_count": 506
        }
      ]
    },
    {
      "cell_type": "markdown",
      "source": [
        "### Null Values check"
      ],
      "metadata": {
        "id": "4k5AcVUmLeCL"
      }
    },
    {
      "cell_type": "code",
      "source": [
        "df.isna().sum()[df.isna().sum()>0]"
      ],
      "metadata": {
        "colab": {
          "base_uri": "https://localhost:8080/"
        },
        "id": "rQXFFFnKKww8",
        "outputId": "1a2deaf0-b7ff-4c14-c840-058be533e3f9"
      },
      "execution_count": 507,
      "outputs": [
        {
          "output_type": "execute_result",
          "data": {
            "text/plain": [
              "bathrooms                   200\n",
              "first_review              15864\n",
              "host_has_profile_pic        188\n",
              "host_identity_verified      188\n",
              "host_response_rate        18299\n",
              "host_since                  188\n",
              "last_review               15827\n",
              "neighbourhood              6872\n",
              "review_scores_rating      16722\n",
              "thumbnail_url              8216\n",
              "zipcode                     966\n",
              "bedrooms                     91\n",
              "beds                        131\n",
              "dtype: int64"
            ]
          },
          "metadata": {},
          "execution_count": 507
        }
      ]
    },
    {
      "cell_type": "code",
      "source": [
        "plt.style.use('ggplot')\n",
        "df.isna().sum()[df.isna().sum()>0].plot.barh(color='orange')\n",
        "plt.suptitle('Null Values Comparison')\n",
        "plt.show()"
      ],
      "metadata": {
        "colab": {
          "base_uri": "https://localhost:8080/",
          "height": 478
        },
        "id": "le9zDauCPzOQ",
        "outputId": "a726621a-6828-4aed-e1a9-0f39d8c0bd04"
      },
      "execution_count": 508,
      "outputs": [
        {
          "output_type": "display_data",
          "data": {
            "text/plain": [
              "<Figure size 640x480 with 1 Axes>"
            ],
            "image/png": "[encoded data removed]"
          },
          "metadata": {}
        }
      ]
    },
    {
      "cell_type": "code",
      "source": [
        "missing_percentage = df.isna().mean()[df.isna().mean()>0] * 100\n",
        "\n",
        "non_missing_percentage = 100 - missing_percentage\n",
        "percentages = pd.DataFrame({'Missing': missing_percentage, 'Non-Missing': non_missing_percentage})\n",
        "\n",
        "ax = percentages.plot(kind='bar', stacked=True, color=['orange', 'grey'], figsize=(12, 6))\n",
        "\n",
        "plt.title('Percentage of Missing and Non-Missing Values by Column')\n",
        "plt.xlabel('Columns')\n",
        "plt.ylabel('Percentage')\n",
        "\n",
        "plt.legend(loc='center right',bbox_to_anchor=(1.2,0.5))\n",
        "\n",
        "plt.tight_layout()\n",
        "plt.show()"
      ],
      "metadata": {
        "colab": {
          "base_uri": "https://localhost:8080/",
          "height": 607
        },
        "id": "eP7ULIB8LYfp",
        "outputId": "0218ff3c-8893-4024-a5ae-aa0309caa7f2"
      },
      "execution_count": 509,
      "outputs": [
        {
          "output_type": "display_data",
          "data": {
            "text/plain": [
              "<Figure size 1200x600 with 1 Axes>"
            ],
            "image/png": "[encoded data removed]"
          },
          "metadata": {}
        }
      ]
    },
    {
      "cell_type": "markdown",
      "source": [
        "neighbourhood vs price\n",
        "amenities vs price\n",
        "zipcode vs price"
      ],
      "metadata": {
        "id": "0i3NhLvVZ98y"
      }
    },
    {
      "cell_type": "code",
      "source": [
        "plt.figure(figsize=(12,4))\n",
        "\n",
        "sns.boxplot(data=df,y='log_price',x='city',palette='rainbow')\n",
        "plt.suptitle('City vs Price')\n",
        "plt.savefig('City vs Price Distribution.jpeg')\n",
        "plt.show()"
      ],
      "metadata": {
        "colab": {
          "base_uri": "https://localhost:8080/",
          "height": 432
        },
        "id": "OOo4FtA0iqtd",
        "outputId": "ed537c64-64d3-4863-b2d9-dc11bc457162"
      },
      "execution_count": 510,
      "outputs": [
        {
          "output_type": "display_data",
          "data": {
            "text/plain": [
              "<Figure size 1200x400 with 1 Axes>"
            ],
            "image/png": "[encoded data removed]"
          },
          "metadata": {}
        }
      ]
    },
    {
      "cell_type": "code",
      "source": [
        "df.groupby('zipcode')['log_price'].transform(lambda x:np.mean(x)).sort_values(ascending=False).head().plot.barh(color='lightgreen')\n",
        "plt.suptitle('Costliest ZipCodes')\n",
        "\n",
        "plt.xlabel('log price')\n",
        "plt.ylabel('Zipcode')\n",
        "\n",
        "plt.savefig('Top 5 Costliest ZipCodes.jpeg')\n",
        "plt.show()"
      ],
      "metadata": {
        "colab": {
          "base_uri": "https://localhost:8080/",
          "height": 501
        },
        "id": "ghu9t6PWjTCm",
        "outputId": "be7a37a7-3899-452b-ca12-06d344fe0998"
      },
      "execution_count": 511,
      "outputs": [
        {
          "output_type": "display_data",
          "data": {
            "text/plain": [
              "<Figure size 640x480 with 1 Axes>"
            ],
            "image/png": "[encoded data removed]"
          },
          "metadata": {}
        }
      ]
    },
    {
      "cell_type": "markdown",
      "source": [
        "### Data Preprocessing"
      ],
      "metadata": {
        "id": "GrZfbUgTNNsQ"
      }
    },
    {
      "cell_type": "markdown",
      "source": [
        "Removing irrelevent and descriptive elements."
      ],
      "metadata": {
        "id": "NBNCo1kcN9mg"
      }
    },
    {
      "cell_type": "code",
      "source": [
        "df.drop(['id','thumbnail_url','description','name','last_review','first_review'],axis=1,inplace=True)"
      ],
      "metadata": {
        "id": "qNwp5_h_NNHg"
      },
      "execution_count": 512,
      "outputs": []
    },
    {
      "cell_type": "code",
      "source": [
        "na_fill=df.isna().sum()[(df.isna().sum()>0) &(df.isna().sum()<500)].keys()\n",
        "na_fill"
      ],
      "metadata": {
        "colab": {
          "base_uri": "https://localhost:8080/"
        },
        "id": "RfRmSoosC2Na",
        "outputId": "3d7d76aa-b8c4-4888-ffbf-396ab89a0821"
      },
      "execution_count": 513,
      "outputs": [
        {
          "output_type": "execute_result",
          "data": {
            "text/plain": [
              "Index(['bathrooms', 'host_has_profile_pic', 'host_identity_verified',\n",
              "       'host_since', 'bedrooms', 'beds'],\n",
              "      dtype='object')"
            ]
          },
          "metadata": {},
          "execution_count": 513
        }
      ]
    },
    {
      "cell_type": "code",
      "source": [
        "for i in na_fill:\n",
        "  df[i]=df[i].fillna(df[i].mode()[0])\n",
        "\n"
      ],
      "metadata": {
        "id": "An64DT3yHBSz"
      },
      "execution_count": 514,
      "outputs": []
    },
    {
      "cell_type": "code",
      "source": [
        "df.isna().sum()"
      ],
      "metadata": {
        "colab": {
          "base_uri": "https://localhost:8080/"
        },
        "id": "UCS4Igir-wrS",
        "outputId": "9efbbfde-fafa-477a-b2e2-d8fa0d955948"
      },
      "execution_count": 515,
      "outputs": [
        {
          "output_type": "execute_result",
          "data": {
            "text/plain": [
              "log_price                     0\n",
              "property_type                 0\n",
              "room_type                     0\n",
              "amenities                     0\n",
              "accommodates                  0\n",
              "bathrooms                     0\n",
              "bed_type                      0\n",
              "cancellation_policy           0\n",
              "cleaning_fee                  0\n",
              "city                          0\n",
              "host_has_profile_pic          0\n",
              "host_identity_verified        0\n",
              "host_response_rate        18299\n",
              "host_since                    0\n",
              "instant_bookable              0\n",
              "latitude                      0\n",
              "longitude                     0\n",
              "neighbourhood              6872\n",
              "number_of_reviews             0\n",
              "review_scores_rating      16722\n",
              "zipcode                     966\n",
              "bedrooms                      0\n",
              "beds                          0\n",
              "dtype: int64"
            ]
          },
          "metadata": {},
          "execution_count": 515
        }
      ]
    },
    {
      "cell_type": "code",
      "source": [
        "df['zipcode'].unique()"
      ],
      "metadata": {
        "colab": {
          "base_uri": "https://localhost:8080/"
        },
        "id": "--uFsnh4JWxa",
        "outputId": "94510933-4b05-468f-af57-5d6905dc3a9a"
      },
      "execution_count": 516,
      "outputs": [
        {
          "output_type": "execute_result",
          "data": {
            "text/plain": [
              "array(['11201', '10019', '10027', '94117.0', '20009', '94131', '90292',\n",
              "       '90015', '94121', '91748', '10009.0', '90254', '90277', '90804',\n",
              "       '60622', '02127', '10002', '11226.0', '91401', '11212.0',\n",
              "       '11411.0', nan, '11374', '90028', '10016', '11225', '90036',\n",
              "       '90291', '90046', '90026', '11212', '94118', '11211.0', '10003.0',\n",
              "       '60605', '90068', '90057', '10021', '20037', '11237', '11233',\n",
              "       '60608', '10001.0', '94127', '91403', '11249.0', '10037', '10011',\n",
              "       '10011.0', '10032', '91106', '94107', '20018', '90027', '91601',\n",
              "       '20001', '10022', '91201', '11226', '90013', '11217', '91016',\n",
              "       '10031', '10014', '11101', '94110', '94134', '91501', '10029.0',\n",
              "       '90230', '90039', '11221', '20019', '60647', '20020', '10025',\n",
              "       '10013', '10040', '91604', '94117', '10039', '10038', '60614',\n",
              "       '10003', '20002', '11219', '11222', '90042', '94114', '20008',\n",
              "       '11238', '20007', '11206', '91208', '11223', '02130', '02114',\n",
              "       '94103', '91107', '11355', '11220', '91406', '10036', '10024',\n",
              "       '90004', '10012', '10044', '10023', '10028', '20012', '91205',\n",
              "       '02132', '60611', '10473.0', '11249', '90019', '94133', '60639',\n",
              "       '91423', '11238.0', '11232', '10010', '10002.0', '11377', '11216',\n",
              "       '02129', '91803', '94115.0', '10128', '11207', '02118', '11213',\n",
              "       '11215', '11229', '90064', '90024', '90265', '02134', '11216.0',\n",
              "       '10314', '02111', '10075', '91605', '91331', '02119', '91384',\n",
              "       '11385', '10282', '90405', '20010', '90717', '60601', '91505',\n",
              "       '90012', '90807', '60654', '02120', '10035.0', '91606', '90703',\n",
              "       '11218', '90065', '02135', '91607', '11378', '94102.0', '90018',\n",
              "       '02113', '90404', '11692', '90403', '90014', '11230', '90302',\n",
              "       '10065', '60610', '90212', '02215', '02108', ' ', '90025', '90038',\n",
              "       '90247', '90048', '91411', '91040', '94112', '91214', '91325',\n",
              "       '90802', '20011', '91602', '90731', '94109', '90069', '60660',\n",
              "       '91202', '94102', '11205', '11209', '02109', '91104', '90007',\n",
              "       '90029', '11237.0', '11225.0', '11213.0', '11206.0', '02110',\n",
              "       '11105', '90272', '60642', '91741', '60613', '10034', '10030',\n",
              "       '10005', '90016', '10475', '11231.0', '90077', '11103', '90010',\n",
              "       '10017', '11102', '11361', '02124', '90047', '90250', '60661',\n",
              "       '90232', '91745', '60641', '94124', '20003', '91335', '02116',\n",
              "       '91343', '10455', '91306', '20017', '90505', '20016', '11428',\n",
              "       '02199', '90045', '94115', '10033', '90032', '11370.0', '90266',\n",
              "       '90732', '91405', '91765', '11234.0', '94116', '91711', '60625',\n",
              "       '20015', '11211', '90713', '10305', '11354', '11205.0', '90803',\n",
              "       '60657', '11204', '90056', '02152', '02121', '91001', '90814',\n",
              "       '11372', '60615', '11207.0', '90501', '10314.0', '10466',\n",
              "       '20007-3413', '90062', '90005', '91702', '20005', '90066', '11417',\n",
              "       '10004', '90035', '91324', '90006', '91007', '10026', '90210',\n",
              "       '90034', '11236.0', '90017', '10035', '90290', '11201.0', '11412',\n",
              "       '10006', '11234', '90401', '90020', '91364', '91775', '10468',\n",
              "       '20024', '90043', '10018', '90031', '20006', '11203.0', '60645',\n",
              "       '10301', '90249', '20032', '10304', '91750', '11373', '90260',\n",
              "       '91105', '91316', '90094', '94122', '94108', '10453', '02125',\n",
              "       '60618', '11106', '90402', '90041', '11104', '90660', '94123',\n",
              "       '10457.0', '11210', '94105', '10304.0', '91101', '90303', '60653',\n",
              "       '20036', '91008', '11433', '91776', '90305', '11231', '10456.0',\n",
              "       '02115', '60644', '90746', '02128', '11421', '10001', '10474',\n",
              "       '90815', '90008', '11367', '10452', '11233.0', '90211', '11222.0',\n",
              "       '94109.0', '11419', '91724', '11379', '60607', '60637', '91789',\n",
              "       '90049', '91302', '60640', '10463', '10306', '11434', '11416',\n",
              "       '91356', '90293', '60616', '91344', '91754', '90301', '10310',\n",
              "       '90278', '90745', '11426', '11228', '10013.0', '60612', '90275',\n",
              "       '11208.0', '60606', '60646', '11221.0', '91732', '20743', '91311',\n",
              "       '90033', '90502', '11235', '91770', '02136', '11361.0', '91307',\n",
              "       '91367', '11369.0', '11109', '20004', '60626', '11228.0', '91350',\n",
              "       '10465', '91030', '91352', '91042', '10009', '11418', '10010.0',\n",
              "       '91006', '90245', '99135', '11364', '10003-8623', '11693', '91326',\n",
              "       '91203', '11691', '90808', '60621', '11435', '91381', '07306',\n",
              "       '11413', '02131', '90723', '10037.0', '91746', '90704', '90220',\n",
              "       '11373.0', '94132', '91354', '02467', '11415', '91210', '10460',\n",
              "       '90037', '91206', '10014.0', '60630', '02122', '10464', '90001',\n",
              "       '90813', '11224.0', '91010', '91801', '10456', '02145', '91301',\n",
              "       '60659', '90248', '91361', '90806', '02126', '11436', '60624',\n",
              "       '91766', '90631', '93551', '91733', '91504', '11214', '91755',\n",
              "       '11429', '94014.0', '60634', '11368.0', '91304', '10027.0',\n",
              "       '90021', '10470', '10471', '20712', '10463.0', '91780', '10469',\n",
              "       '90503', '90011', '10462', '11360', '10029', '02210', '91321',\n",
              "       '90810', '11375', '91767', '60602', '60649', '93550', '90058',\n",
              "       '90712', '10461', '90504', '10451.0', '60707', '91011', '11203',\n",
              "       '11365', '10459', '91502', '11414', '91790', '94158', '10007',\n",
              "       '11210.0', '91791', '11356.0', '11422', '60609', '91506', '90044',\n",
              "       '02139', '90280', '94111', '90638', '11217.0', '90063', '91773',\n",
              "       '11432', '11358', '91024', '90710', '90602', '60623', '91103',\n",
              "       '90059', '90262', '10038.0', '11368', '91744', '10026.0', '60619',\n",
              "       '91303', '91355', '91402', '90095', '20064', '11370', '10280',\n",
              "       '90274', '90706', '10472', '91723', '90755', '11219.0', '60629',\n",
              "       '91020', '91207', '93543', '91792', '10281', '10312.0', '10453.0',\n",
              "       '91390', '60302',\n",
              "       '95202\\r\\r\\r\\r\\r\\r\\n\\r\\r\\r\\r\\r\\r\\n\\r\\r\\r\\r\\r\\r\\n94158', '90805',\n",
              "       '94103.0', '10454', '20816', '60632', '93535', '10301.0', '60651',\n",
              "       '10459.0', '02445', '10458', '91768', '10452.0', '10119.0',\n",
              "       '90603', '20748', '10471.0', '02143', '91731', '91436', '10069',\n",
              "       '10048', '90304', '10036.0', '10305.0', '60628', '90061', '94130',\n",
              "       '10467.0', '94118.0', '10467', '90604', '11224', '91342', '11420',\n",
              "       '90650', '10025.0', '90601', '90023', '93536', '11427', '91204',\n",
              "       '60636', '94104', '91108', '11580.0', '91706', '94114.0', '20782',\n",
              "       '91387', '10457', '91362', '60638', '90744', '91740', '90242',\n",
              "       '10475.0', '90640', '90201', '10451', '02163', '20052', '93534',\n",
              "       '10128.0', '90003', '93563', '10019.0', '10065.0', '11694',\n",
              "       '92397', '91340', '10312', '60631', '60620', '10129.0', '91308',\n",
              "       '10018.0', '90255', '90716', '20268', '02446', '91722', '94121.0',\n",
              "       '60656', '90605', '92614', '10303', '91523', '90670', '10460.0',\n",
              "       '91351', '93532', '90715', '11103-3233', '11106.0', '60643',\n",
              "       '94014', '10106', '10302', '90040', '20815', '10473', '10000',\n",
              "       '94129', '11385-2308', '93552', '10118', '94104.0', '90022',\n",
              "       '90701', '11236', '90241', '11366', '60652', '11004', '90840',\n",
              "       '10030.0', '91345', '10550.0', '15074', '20781', '91606-1412',\n",
              "       '20910', '90067', '11249\\r\\r\\r\\r\\r\\r\\n11249', '10308', '90240',\n",
              "       '11004.0', '11426-1175', '11357', '11379.0', '10270', '90221',\n",
              "       '90002', '90606', '11374.0', '11423', '11362.0', '10016.0',\n",
              "       '92880', '91001-2243', '91764', '60617', 'Near 91304', '93105',\n",
              "       '90071', '20229', '10129', '11372.0', '94122.0', '10307',\n",
              "       '11377.0', '10002-2289', '92821', '90039-2715', '90630', '11363.0',\n",
              "       '210', '20001-4044', '11220.0', '11362', '11694.0', '20372',\n",
              "       '90222', '10307.0', '60633', '7302.0', '20912', '60805', '10007.0',\n",
              "       '91786', '10279', '02138', '10704', '91802', '90403-2638', '91377',\n",
              "       '1m', '91708', '11209.0', '90034-2203', '90035-4475', '11509.0',\n",
              "       '11412.0', '11001', '11411', '60660-1448', '90036-2514', '11429.0',\n",
              "       '60603', '10308.0', '94401', '02186', '10162', '02458', '02472',\n",
              "       '11215.0', '10004.0', '10309', '9004', '10282.0', '11239.0',\n",
              "       '10012.0'], dtype=object)"
            ]
          },
          "metadata": {},
          "execution_count": 516
        }
      ]
    },
    {
      "cell_type": "code",
      "source": [
        "def zip_clean(zip):\n",
        "  zip=str(zip)\n",
        "  match = re.search(r'\\d{5}', zip)\n",
        "  if match:\n",
        "      return int(match.group())\n",
        "  else:\n",
        "      return None"
      ],
      "metadata": {
        "id": "h33taI-PfnDt"
      },
      "execution_count": 518,
      "outputs": []
    },
    {
      "cell_type": "code",
      "source": [
        "df['zipcode']=df['zipcode'].apply(zip_clean)"
      ],
      "metadata": {
        "id": "I9OSqYtghp0n"
      },
      "execution_count": 519,
      "outputs": []
    },
    {
      "cell_type": "code",
      "source": [
        "df['zipcode']=df['zipcode'].fillna(df.groupby('city')['zipcode'].transform(lambda x: x.mode()[0]))\n"
      ],
      "metadata": {
        "id": "wgYzQn2mJDw9"
      },
      "execution_count": 520,
      "outputs": []
    },
    {
      "cell_type": "code",
      "source": [
        "df.isna().sum()"
      ],
      "metadata": {
        "colab": {
          "base_uri": "https://localhost:8080/"
        },
        "id": "h6SCrHVV6IVD",
        "outputId": "6216270a-70e5-487f-b608-e4677dc050e0"
      },
      "execution_count": 522,
      "outputs": [
        {
          "output_type": "execute_result",
          "data": {
            "text/plain": [
              "log_price                     0\n",
              "property_type                 0\n",
              "room_type                     0\n",
              "amenities                     0\n",
              "accommodates                  0\n",
              "bathrooms                     0\n",
              "bed_type                      0\n",
              "cancellation_policy           0\n",
              "cleaning_fee                  0\n",
              "city                          0\n",
              "host_has_profile_pic          0\n",
              "host_identity_verified        0\n",
              "host_response_rate        18299\n",
              "host_since                    0\n",
              "instant_bookable              0\n",
              "latitude                      0\n",
              "longitude                     0\n",
              "neighbourhood              6872\n",
              "number_of_reviews             0\n",
              "review_scores_rating      16722\n",
              "zipcode                       0\n",
              "bedrooms                      0\n",
              "beds                          0\n",
              "dtype: int64"
            ]
          },
          "metadata": {},
          "execution_count": 522
        }
      ]
    },
    {
      "cell_type": "markdown",
      "source": [
        "Dropping the remaining null values as filling a lot of null values may cause the performance to drop."
      ],
      "metadata": {
        "id": "lTHuPztRK5mc"
      }
    },
    {
      "cell_type": "code",
      "source": [
        "df.dropna(inplace=True)"
      ],
      "metadata": {
        "id": "mE1TxUazLGzU"
      },
      "execution_count": 523,
      "outputs": []
    },
    {
      "cell_type": "code",
      "source": [
        "df.head(2)"
      ],
      "metadata": {
        "colab": {
          "base_uri": "https://localhost:8080/",
          "height": 231
        },
        "id": "1_kiWmwrMEvY",
        "outputId": "35c661b6-07e0-4368-fca2-2ff770ef3d76"
      },
      "execution_count": 524,
      "outputs": [
        {
          "output_type": "execute_result",
          "data": {
            "text/plain": [
              "   log_price property_type        room_type  \\\n",
              "1   5.129899     Apartment  Entire home/apt   \n",
              "2   4.976734     Apartment  Entire home/apt   \n",
              "\n",
              "                                           amenities  accommodates  bathrooms  \\\n",
              "1  {\"Wireless Internet\",\"Air conditioning\",Kitche...             7        1.0   \n",
              "2  {TV,\"Cable TV\",\"Wireless Internet\",\"Air condit...             5        1.0   \n",
              "\n",
              "   bed_type cancellation_policy  cleaning_fee city  ...  host_since  \\\n",
              "1  Real Bed              strict          True  NYC  ...  2017-06-19   \n",
              "2  Real Bed            moderate          True  NYC  ...  2016-10-25   \n",
              "\n",
              "  instant_bookable   latitude  longitude   neighbourhood  number_of_reviews  \\\n",
              "1                t  40.766115 -73.989040  Hell's Kitchen                  6   \n",
              "2                t  40.808110 -73.943756          Harlem                 10   \n",
              "\n",
              "   review_scores_rating  zipcode  bedrooms  beds  \n",
              "1                  93.0  10019.0       3.0   3.0  \n",
              "2                  92.0  10027.0       1.0   3.0  \n",
              "\n",
              "[2 rows x 23 columns]"
            ],
            "text/html": [
              "\n",
              "  <div id=\"df-241e2e5d-e6b9-4be0-a8d3-9b8e55849643\" class=\"colab-df-container\">\n",
              "    <div>\n",
              "<style scoped>\n",
              "    .dataframe tbody tr th:only-of-type {\n",
              "        vertical-align: middle;\n",
              "    }\n",
              "\n",
              "    .dataframe tbody tr th {\n",
              "        vertical-align: top;\n",
              "    }\n",
              "\n",
              "    .dataframe thead th {\n",
              "        text-align: right;\n",
              "    }\n",
              "</style>\n",
              "<table border=\"1\" class=\"dataframe\">\n",
              "  <thead>\n",
              "    <tr style=\"text-align: right;\">\n",
              "      <th></th>\n",
              "      <th>log_price</th>\n",
              "      <th>property_type</th>\n",
              "      <th>room_type</th>\n",
              "      <th>amenities</th>\n",
              "      <th>accommodates</th>\n",
              "      <th>bathrooms</th>\n",
              "      <th>bed_type</th>\n",
              "      <th>cancellation_policy</th>\n",
              "      <th>cleaning_fee</th>\n",
              "      <th>city</th>\n",
              "      <th>...</th>\n",
              "      <th>host_since</th>\n",
              "      <th>instant_bookable</th>\n",
              "      <th>latitude</th>\n",
              "      <th>longitude</th>\n",
              "      <th>neighbourhood</th>\n",
              "      <th>number_of_reviews</th>\n",
              "      <th>review_scores_rating</th>\n",
              "      <th>zipcode</th>\n",
              "      <th>bedrooms</th>\n",
              "      <th>beds</th>\n",
              "    </tr>\n",
              "  </thead>\n",
              "  <tbody>\n",
              "    <tr>\n",
              "      <th>1</th>\n",
              "      <td>5.129899</td>\n",
              "      <td>Apartment</td>\n",
              "      <td>Entire home/apt</td>\n",
              "      <td>{\"Wireless Internet\",\"Air conditioning\",Kitche...</td>\n",
              "      <td>7</td>\n",
              "      <td>1.0</td>\n",
              "      <td>Real Bed</td>\n",
              "      <td>strict</td>\n",
              "      <td>True</td>\n",
              "      <td>NYC</td>\n",
              "      <td>...</td>\n",
              "      <td>2017-06-19</td>\n",
              "      <td>t</td>\n",
              "      <td>40.766115</td>\n",
              "      <td>-73.989040</td>\n",
              "      <td>Hell's Kitchen</td>\n",
              "      <td>6</td>\n",
              "      <td>93.0</td>\n",
              "      <td>10019.0</td>\n",
              "      <td>3.0</td>\n",
              "      <td>3.0</td>\n",
              "    </tr>\n",
              "    <tr>\n",
              "      <th>2</th>\n",
              "      <td>4.976734</td>\n",
              "      <td>Apartment</td>\n",
              "      <td>Entire home/apt</td>\n",
              "      <td>{TV,\"Cable TV\",\"Wireless Internet\",\"Air condit...</td>\n",
              "      <td>5</td>\n",
              "      <td>1.0</td>\n",
              "      <td>Real Bed</td>\n",
              "      <td>moderate</td>\n",
              "      <td>True</td>\n",
              "      <td>NYC</td>\n",
              "      <td>...</td>\n",
              "      <td>2016-10-25</td>\n",
              "      <td>t</td>\n",
              "      <td>40.808110</td>\n",
              "      <td>-73.943756</td>\n",
              "      <td>Harlem</td>\n",
              "      <td>10</td>\n",
              "      <td>92.0</td>\n",
              "      <td>10027.0</td>\n",
              "      <td>1.0</td>\n",
              "      <td>3.0</td>\n",
              "    </tr>\n",
              "  </tbody>\n",
              "</table>\n",
              "<p>2 rows × 23 columns</p>\n",
              "</div>\n",
              "    <div class=\"colab-df-buttons\">\n",
              "\n",
              "  <div class=\"colab-df-container\">\n",
              "    <button class=\"colab-df-convert\" onclick=\"convertToInteractive('df-241e2e5d-e6b9-4be0-a8d3-9b8e55849643')\"\n",
              "            title=\"Convert this dataframe to an interactive table.\"\n",
              "            style=\"display:none;\">\n",
              "\n",
              "  <svg xmlns=\"http://www.w3.org/2000/svg\" height=\"24px\" viewBox=\"0 -960 960 960\">\n",
              "    <path d=\"M120-120v-720h720v720H120Zm60-500h600v-160H180v160Zm220 220h160v-160H400v160Zm0 220h160v-160H400v160ZM180-400h160v-160H180v160Zm440 0h160v-160H620v160ZM180-180h160v-160H180v160Zm440 0h160v-160H620v160Z\"/>\n",
              "  </svg>\n",
              "    </button>\n",
              "\n",
              "  <style>\n",
              "    .colab-df-container {\n",
              "      display:flex;\n",
              "      gap: 12px;\n",
              "    }\n",
              "\n",
              "    .colab-df-convert {\n",
              "      background-color: #E8F0FE;\n",
              "      border: none;\n",
              "      border-radius: 50%;\n",
              "      cursor: pointer;\n",
              "      display: none;\n",
              "      fill: #1967D2;\n",
              "      height: 32px;\n",
              "      padding: 0 0 0 0;\n",
              "      width: 32px;\n",
              "    }\n",
              "\n",
              "    .colab-df-convert:hover {\n",
              "      background-color: #E2EBFA;\n",
              "      box-shadow: 0px 1px 2px rgba(60, 64, 67, 0.3), 0px 1px 3px 1px rgba(60, 64, 67, 0.15);\n",
              "      fill: #174EA6;\n",
              "    }\n",
              "\n",
              "    .colab-df-buttons div {\n",
              "      margin-bottom: 4px;\n",
              "    }\n",
              "\n",
              "    [theme=dark] .colab-df-convert {\n",
              "      background-color: #3B4455;\n",
              "      fill: #D2E3FC;\n",
              "    }\n",
              "\n",
              "    [theme=dark] .colab-df-convert:hover {\n",
              "      background-color: #434B5C;\n",
              "      box-shadow: 0px 1px 3px 1px rgba(0, 0, 0, 0.15);\n",
              "      filter: drop-shadow(0px 1px 2px rgba(0, 0, 0, 0.3));\n",
              "      fill: #FFFFFF;\n",
              "    }\n",
              "  </style>\n",
              "\n",
              "    <script>\n",
              "      const buttonEl =\n",
              "        document.querySelector('#df-241e2e5d-e6b9-4be0-a8d3-9b8e55849643 button.colab-df-convert');\n",
              "      buttonEl.style.display =\n",
              "        google.colab.kernel.accessAllowed ? 'block' : 'none';\n",
              "\n",
              "      async function convertToInteractive(key) {\n",
              "        const element = document.querySelector('#df-241e2e5d-e6b9-4be0-a8d3-9b8e55849643');\n",
              "        const dataTable =\n",
              "          await google.colab.kernel.invokeFunction('convertToInteractive',\n",
              "                                                    [key], {});\n",
              "        if (!dataTable) return;\n",
              "\n",
              "        const docLinkHtml = 'Like what you see? Visit the ' +\n",
              "          '<a target=\"_blank\" href=https://colab.research.google.com/notebooks/data_table.ipynb>data table notebook</a>'\n",
              "          + ' to learn more about interactive tables.';\n",
              "        element.innerHTML = '';\n",
              "        dataTable['output_type'] = 'display_data';\n",
              "        await google.colab.output.renderOutput(dataTable, element);\n",
              "        const docLink = document.createElement('div');\n",
              "        docLink.innerHTML = docLinkHtml;\n",
              "        element.appendChild(docLink);\n",
              "      }\n",
              "    </script>\n",
              "  </div>\n",
              "\n",
              "\n",
              "<div id=\"df-f6ced38a-1bb1-41e0-9414-826e3dc83437\">\n",
              "  <button class=\"colab-df-quickchart\" onclick=\"quickchart('df-f6ced38a-1bb1-41e0-9414-826e3dc83437')\"\n",
              "            title=\"Suggest charts\"\n",
              "            style=\"display:none;\">\n",
              "\n",
              "<svg xmlns=\"http://www.w3.org/2000/svg\" height=\"24px\"viewBox=\"0 0 24 24\"\n",
              "     width=\"24px\">\n",
              "    <g>\n",
              "        <path d=\"M19 3H5c-1.1 0-2 .9-2 2v14c0 1.1.9 2 2 2h14c1.1 0 2-.9 2-2V5c0-1.1-.9-2-2-2zM9 17H7v-7h2v7zm4 0h-2V7h2v10zm4 0h-2v-4h2v4z\"/>\n",
              "    </g>\n",
              "</svg>\n",
              "  </button>\n",
              "\n",
              "<style>\n",
              "  .colab-df-quickchart {\n",
              "      --bg-color: #E8F0FE;\n",
              "      --fill-color: #1967D2;\n",
              "      --hover-bg-color: #E2EBFA;\n",
              "      --hover-fill-color: #174EA6;\n",
              "      --disabled-fill-color: #AAA;\n",
              "      --disabled-bg-color: #DDD;\n",
              "  }\n",
              "\n",
              "  [theme=dark] .colab-df-quickchart {\n",
              "      --bg-color: #3B4455;\n",
              "      --fill-color: #D2E3FC;\n",
              "      --hover-bg-color: #434B5C;\n",
              "      --hover-fill-color: #FFFFFF;\n",
              "      --disabled-bg-color: #3B4455;\n",
              "      --disabled-fill-color: #666;\n",
              "  }\n",
              "\n",
              "  .colab-df-quickchart {\n",
              "    background-color: var(--bg-color);\n",
              "    border: none;\n",
              "    border-radius: 50%;\n",
              "    cursor: pointer;\n",
              "    display: none;\n",
              "    fill: var(--fill-color);\n",
              "    height: 32px;\n",
              "    padding: 0;\n",
              "    width: 32px;\n",
              "  }\n",
              "\n",
              "  .colab-df-quickchart:hover {\n",
              "    background-color: var(--hover-bg-color);\n",
              "    box-shadow: 0 1px 2px rgba(60, 64, 67, 0.3), 0 1px 3px 1px rgba(60, 64, 67, 0.15);\n",
              "    fill: var(--button-hover-fill-color);\n",
              "  }\n",
              "\n",
              "  .colab-df-quickchart-complete:disabled,\n",
              "  .colab-df-quickchart-complete:disabled:hover {\n",
              "    background-color: var(--disabled-bg-color);\n",
              "    fill: var(--disabled-fill-color);\n",
              "    box-shadow: none;\n",
              "  }\n",
              "\n",
              "  .colab-df-spinner {\n",
              "    border: 2px solid var(--fill-color);\n",
              "    border-color: transparent;\n",
              "    border-bottom-color: var(--fill-color);\n",
              "    animation:\n",
              "      spin 1s steps(1) infinite;\n",
              "  }\n",
              "\n",
              "  @keyframes spin {\n",
              "    0% {\n",
              "      border-color: transparent;\n",
              "      border-bottom-color: var(--fill-color);\n",
              "      border-left-color: var(--fill-color);\n",
              "    }\n",
              "    20% {\n",
              "      border-color: transparent;\n",
              "      border-left-color: var(--fill-color);\n",
              "      border-top-color: var(--fill-color);\n",
              "    }\n",
              "    30% {\n",
              "      border-color: transparent;\n",
              "      border-left-color: var(--fill-color);\n",
              "      border-top-color: var(--fill-color);\n",
              "      border-right-color: var(--fill-color);\n",
              "    }\n",
              "    40% {\n",
              "      border-color: transparent;\n",
              "      border-right-color: var(--fill-color);\n",
              "      border-top-color: var(--fill-color);\n",
              "    }\n",
              "    60% {\n",
              "      border-color: transparent;\n",
              "      border-right-color: var(--fill-color);\n",
              "    }\n",
              "    80% {\n",
              "      border-color: transparent;\n",
              "      border-right-color: var(--fill-color);\n",
              "      border-bottom-color: var(--fill-color);\n",
              "    }\n",
              "    90% {\n",
              "      border-color: transparent;\n",
              "      border-bottom-color: var(--fill-color);\n",
              "    }\n",
              "  }\n",
              "</style>\n",
              "\n",
              "  <script>\n",
              "    async function quickchart(key) {\n",
              "      const quickchartButtonEl =\n",
              "        document.querySelector('#' + key + ' button');\n",
              "      quickchartButtonEl.disabled = true;  // To prevent multiple clicks.\n",
              "      quickchartButtonEl.classList.add('colab-df-spinner');\n",
              "      try {\n",
              "        const charts = await google.colab.kernel.invokeFunction(\n",
              "            'suggestCharts', [key], {});\n",
              "      } catch (error) {\n",
              "        console.error('Error during call to suggestCharts:', error);\n",
              "      }\n",
              "      quickchartButtonEl.classList.remove('colab-df-spinner');\n",
              "      quickchartButtonEl.classList.add('colab-df-quickchart-complete');\n",
              "    }\n",
              "    (() => {\n",
              "      let quickchartButtonEl =\n",
              "        document.querySelector('#df-f6ced38a-1bb1-41e0-9414-826e3dc83437 button');\n",
              "      quickchartButtonEl.style.display =\n",
              "        google.colab.kernel.accessAllowed ? 'block' : 'none';\n",
              "    })();\n",
              "  </script>\n",
              "</div>\n",
              "\n",
              "    </div>\n",
              "  </div>\n"
            ],
            "application/vnd.google.colaboratory.intrinsic+json": {
              "type": "dataframe",
              "variable_name": "df"
            }
          },
          "metadata": {},
          "execution_count": 524
        }
      ]
    },
    {
      "cell_type": "code",
      "source": [
        "df.reset_index(inplace=True,drop=True)\n",
        "df.head(2)"
      ],
      "metadata": {
        "colab": {
          "base_uri": "https://localhost:8080/",
          "height": 231
        },
        "id": "fB0oIglBMKcc",
        "outputId": "7c3752ef-7322-454a-f7a9-bbf6ca5915f9"
      },
      "execution_count": 525,
      "outputs": [
        {
          "output_type": "execute_result",
          "data": {
            "text/plain": [
              "   log_price property_type        room_type  \\\n",
              "0   5.129899     Apartment  Entire home/apt   \n",
              "1   4.976734     Apartment  Entire home/apt   \n",
              "\n",
              "                                           amenities  accommodates  bathrooms  \\\n",
              "0  {\"Wireless Internet\",\"Air conditioning\",Kitche...             7        1.0   \n",
              "1  {TV,\"Cable TV\",\"Wireless Internet\",\"Air condit...             5        1.0   \n",
              "\n",
              "   bed_type cancellation_policy  cleaning_fee city  ...  host_since  \\\n",
              "0  Real Bed              strict          True  NYC  ...  2017-06-19   \n",
              "1  Real Bed            moderate          True  NYC  ...  2016-10-25   \n",
              "\n",
              "  instant_bookable   latitude  longitude   neighbourhood  number_of_reviews  \\\n",
              "0                t  40.766115 -73.989040  Hell's Kitchen                  6   \n",
              "1                t  40.808110 -73.943756          Harlem                 10   \n",
              "\n",
              "   review_scores_rating  zipcode  bedrooms  beds  \n",
              "0                  93.0  10019.0       3.0   3.0  \n",
              "1                  92.0  10027.0       1.0   3.0  \n",
              "\n",
              "[2 rows x 23 columns]"
            ],
            "text/html": [
              "\n",
              "  <div id=\"df-20fb7593-6c05-4e0b-9948-1e2c64bcd200\" class=\"colab-df-container\">\n",
              "    <div>\n",
              "<style scoped>\n",
              "    .dataframe tbody tr th:only-of-type {\n",
              "        vertical-align: middle;\n",
              "    }\n",
              "\n",
              "    .dataframe tbody tr th {\n",
              "        vertical-align: top;\n",
              "    }\n",
              "\n",
              "    .dataframe thead th {\n",
              "        text-align: right;\n",
              "    }\n",
              "</style>\n",
              "<table border=\"1\" class=\"dataframe\">\n",
              "  <thead>\n",
              "    <tr style=\"text-align: right;\">\n",
              "      <th></th>\n",
              "      <th>log_price</th>\n",
              "      <th>property_type</th>\n",
              "      <th>room_type</th>\n",
              "      <th>amenities</th>\n",
              "      <th>accommodates</th>\n",
              "      <th>bathrooms</th>\n",
              "      <th>bed_type</th>\n",
              "      <th>cancellation_policy</th>\n",
              "      <th>cleaning_fee</th>\n",
              "      <th>city</th>\n",
              "      <th>...</th>\n",
              "      <th>host_since</th>\n",
              "      <th>instant_bookable</th>\n",
              "      <th>latitude</th>\n",
              "      <th>longitude</th>\n",
              "      <th>neighbourhood</th>\n",
              "      <th>number_of_reviews</th>\n",
              "      <th>review_scores_rating</th>\n",
              "      <th>zipcode</th>\n",
              "      <th>bedrooms</th>\n",
              "      <th>beds</th>\n",
              "    </tr>\n",
              "  </thead>\n",
              "  <tbody>\n",
              "    <tr>\n",
              "      <th>0</th>\n",
              "      <td>5.129899</td>\n",
              "      <td>Apartment</td>\n",
              "      <td>Entire home/apt</td>\n",
              "      <td>{\"Wireless Internet\",\"Air conditioning\",Kitche...</td>\n",
              "      <td>7</td>\n",
              "      <td>1.0</td>\n",
              "      <td>Real Bed</td>\n",
              "      <td>strict</td>\n",
              "      <td>True</td>\n",
              "      <td>NYC</td>\n",
              "      <td>...</td>\n",
              "      <td>2017-06-19</td>\n",
              "      <td>t</td>\n",
              "      <td>40.766115</td>\n",
              "      <td>-73.989040</td>\n",
              "      <td>Hell's Kitchen</td>\n",
              "      <td>6</td>\n",
              "      <td>93.0</td>\n",
              "      <td>10019.0</td>\n",
              "      <td>3.0</td>\n",
              "      <td>3.0</td>\n",
              "    </tr>\n",
              "    <tr>\n",
              "      <th>1</th>\n",
              "      <td>4.976734</td>\n",
              "      <td>Apartment</td>\n",
              "      <td>Entire home/apt</td>\n",
              "      <td>{TV,\"Cable TV\",\"Wireless Internet\",\"Air condit...</td>\n",
              "      <td>5</td>\n",
              "      <td>1.0</td>\n",
              "      <td>Real Bed</td>\n",
              "      <td>moderate</td>\n",
              "      <td>True</td>\n",
              "      <td>NYC</td>\n",
              "      <td>...</td>\n",
              "      <td>2016-10-25</td>\n",
              "      <td>t</td>\n",
              "      <td>40.808110</td>\n",
              "      <td>-73.943756</td>\n",
              "      <td>Harlem</td>\n",
              "      <td>10</td>\n",
              "      <td>92.0</td>\n",
              "      <td>10027.0</td>\n",
              "      <td>1.0</td>\n",
              "      <td>3.0</td>\n",
              "    </tr>\n",
              "  </tbody>\n",
              "</table>\n",
              "<p>2 rows × 23 columns</p>\n",
              "</div>\n",
              "    <div class=\"colab-df-buttons\">\n",
              "\n",
              "  <div class=\"colab-df-container\">\n",
              "    <button class=\"colab-df-convert\" onclick=\"convertToInteractive('df-20fb7593-6c05-4e0b-9948-1e2c64bcd200')\"\n",
              "            title=\"Convert this dataframe to an interactive table.\"\n",
              "            style=\"display:none;\">\n",
              "\n",
              "  <svg xmlns=\"http://www.w3.org/2000/svg\" height=\"24px\" viewBox=\"0 -960 960 960\">\n",
              "    <path d=\"M120-120v-720h720v720H120Zm60-500h600v-160H180v160Zm220 220h160v-160H400v160Zm0 220h160v-160H400v160ZM180-400h160v-160H180v160Zm440 0h160v-160H620v160ZM180-180h160v-160H180v160Zm440 0h160v-160H620v160Z\"/>\n",
              "  </svg>\n",
              "    </button>\n",
              "\n",
              "  <style>\n",
              "    .colab-df-container {\n",
              "      display:flex;\n",
              "      gap: 12px;\n",
              "    }\n",
              "\n",
              "    .colab-df-convert {\n",
              "      background-color: #E8F0FE;\n",
              "      border: none;\n",
              "      border-radius: 50%;\n",
              "      cursor: pointer;\n",
              "      display: none;\n",
              "      fill: #1967D2;\n",
              "      height: 32px;\n",
              "      padding: 0 0 0 0;\n",
              "      width: 32px;\n",
              "    }\n",
              "\n",
              "    .colab-df-convert:hover {\n",
              "      background-color: #E2EBFA;\n",
              "      box-shadow: 0px 1px 2px rgba(60, 64, 67, 0.3), 0px 1px 3px 1px rgba(60, 64, 67, 0.15);\n",
              "      fill: #174EA6;\n",
              "    }\n",
              "\n",
              "    .colab-df-buttons div {\n",
              "      margin-bottom: 4px;\n",
              "    }\n",
              "\n",
              "    [theme=dark] .colab-df-convert {\n",
              "      background-color: #3B4455;\n",
              "      fill: #D2E3FC;\n",
              "    }\n",
              "\n",
              "    [theme=dark] .colab-df-convert:hover {\n",
              "      background-color: #434B5C;\n",
              "      box-shadow: 0px 1px 3px 1px rgba(0, 0, 0, 0.15);\n",
              "      filter: drop-shadow(0px 1px 2px rgba(0, 0, 0, 0.3));\n",
              "      fill: #FFFFFF;\n",
              "    }\n",
              "  </style>\n",
              "\n",
              "    <script>\n",
              "      const buttonEl =\n",
              "        document.querySelector('#df-20fb7593-6c05-4e0b-9948-1e2c64bcd200 button.colab-df-convert');\n",
              "      buttonEl.style.display =\n",
              "        google.colab.kernel.accessAllowed ? 'block' : 'none';\n",
              "\n",
              "      async function convertToInteractive(key) {\n",
              "        const element = document.querySelector('#df-20fb7593-6c05-4e0b-9948-1e2c64bcd200');\n",
              "        const dataTable =\n",
              "          await google.colab.kernel.invokeFunction('convertToInteractive',\n",
              "                                                    [key], {});\n",
              "        if (!dataTable) return;\n",
              "\n",
              "        const docLinkHtml = 'Like what you see? Visit the ' +\n",
              "          '<a target=\"_blank\" href=https://colab.research.google.com/notebooks/data_table.ipynb>data table notebook</a>'\n",
              "          + ' to learn more about interactive tables.';\n",
              "        element.innerHTML = '';\n",
              "        dataTable['output_type'] = 'display_data';\n",
              "        await google.colab.output.renderOutput(dataTable, element);\n",
              "        const docLink = document.createElement('div');\n",
              "        docLink.innerHTML = docLinkHtml;\n",
              "        element.appendChild(docLink);\n",
              "      }\n",
              "    </script>\n",
              "  </div>\n",
              "\n",
              "\n",
              "<div id=\"df-3092de9c-ca34-40a2-8345-37b6c78d2998\">\n",
              "  <button class=\"colab-df-quickchart\" onclick=\"quickchart('df-3092de9c-ca34-40a2-8345-37b6c78d2998')\"\n",
              "            title=\"Suggest charts\"\n",
              "            style=\"display:none;\">\n",
              "\n",
              "<svg xmlns=\"http://www.w3.org/2000/svg\" height=\"24px\"viewBox=\"0 0 24 24\"\n",
              "     width=\"24px\">\n",
              "    <g>\n",
              "        <path d=\"M19 3H5c-1.1 0-2 .9-2 2v14c0 1.1.9 2 2 2h14c1.1 0 2-.9 2-2V5c0-1.1-.9-2-2-2zM9 17H7v-7h2v7zm4 0h-2V7h2v10zm4 0h-2v-4h2v4z\"/>\n",
              "    </g>\n",
              "</svg>\n",
              "  </button>\n",
              "\n",
              "<style>\n",
              "  .colab-df-quickchart {\n",
              "      --bg-color: #E8F0FE;\n",
              "      --fill-color: #1967D2;\n",
              "      --hover-bg-color: #E2EBFA;\n",
              "      --hover-fill-color: #174EA6;\n",
              "      --disabled-fill-color: #AAA;\n",
              "      --disabled-bg-color: #DDD;\n",
              "  }\n",
              "\n",
              "  [theme=dark] .colab-df-quickchart {\n",
              "      --bg-color: #3B4455;\n",
              "      --fill-color: #D2E3FC;\n",
              "      --hover-bg-color: #434B5C;\n",
              "      --hover-fill-color: #FFFFFF;\n",
              "      --disabled-bg-color: #3B4455;\n",
              "      --disabled-fill-color: #666;\n",
              "  }\n",
              "\n",
              "  .colab-df-quickchart {\n",
              "    background-color: var(--bg-color);\n",
              "    border: none;\n",
              "    border-radius: 50%;\n",
              "    cursor: pointer;\n",
              "    display: none;\n",
              "    fill: var(--fill-color);\n",
              "    height: 32px;\n",
              "    padding: 0;\n",
              "    width: 32px;\n",
              "  }\n",
              "\n",
              "  .colab-df-quickchart:hover {\n",
              "    background-color: var(--hover-bg-color);\n",
              "    box-shadow: 0 1px 2px rgba(60, 64, 67, 0.3), 0 1px 3px 1px rgba(60, 64, 67, 0.15);\n",
              "    fill: var(--button-hover-fill-color);\n",
              "  }\n",
              "\n",
              "  .colab-df-quickchart-complete:disabled,\n",
              "  .colab-df-quickchart-complete:disabled:hover {\n",
              "    background-color: var(--disabled-bg-color);\n",
              "    fill: var(--disabled-fill-color);\n",
              "    box-shadow: none;\n",
              "  }\n",
              "\n",
              "  .colab-df-spinner {\n",
              "    border: 2px solid var(--fill-color);\n",
              "    border-color: transparent;\n",
              "    border-bottom-color: var(--fill-color);\n",
              "    animation:\n",
              "      spin 1s steps(1) infinite;\n",
              "  }\n",
              "\n",
              "  @keyframes spin {\n",
              "    0% {\n",
              "      border-color: transparent;\n",
              "      border-bottom-color: var(--fill-color);\n",
              "      border-left-color: var(--fill-color);\n",
              "    }\n",
              "    20% {\n",
              "      border-color: transparent;\n",
              "      border-left-color: var(--fill-color);\n",
              "      border-top-color: var(--fill-color);\n",
              "    }\n",
              "    30% {\n",
              "      border-color: transparent;\n",
              "      border-left-color: var(--fill-color);\n",
              "      border-top-color: var(--fill-color);\n",
              "      border-right-color: var(--fill-color);\n",
              "    }\n",
              "    40% {\n",
              "      border-color: transparent;\n",
              "      border-right-color: var(--fill-color);\n",
              "      border-top-color: var(--fill-color);\n",
              "    }\n",
              "    60% {\n",
              "      border-color: transparent;\n",
              "      border-right-color: var(--fill-color);\n",
              "    }\n",
              "    80% {\n",
              "      border-color: transparent;\n",
              "      border-right-color: var(--fill-color);\n",
              "      border-bottom-color: var(--fill-color);\n",
              "    }\n",
              "    90% {\n",
              "      border-color: transparent;\n",
              "      border-bottom-color: var(--fill-color);\n",
              "    }\n",
              "  }\n",
              "</style>\n",
              "\n",
              "  <script>\n",
              "    async function quickchart(key) {\n",
              "      const quickchartButtonEl =\n",
              "        document.querySelector('#' + key + ' button');\n",
              "      quickchartButtonEl.disabled = true;  // To prevent multiple clicks.\n",
              "      quickchartButtonEl.classList.add('colab-df-spinner');\n",
              "      try {\n",
              "        const charts = await google.colab.kernel.invokeFunction(\n",
              "            'suggestCharts', [key], {});\n",
              "      } catch (error) {\n",
              "        console.error('Error during call to suggestCharts:', error);\n",
              "      }\n",
              "      quickchartButtonEl.classList.remove('colab-df-spinner');\n",
              "      quickchartButtonEl.classList.add('colab-df-quickchart-complete');\n",
              "    }\n",
              "    (() => {\n",
              "      let quickchartButtonEl =\n",
              "        document.querySelector('#df-3092de9c-ca34-40a2-8345-37b6c78d2998 button');\n",
              "      quickchartButtonEl.style.display =\n",
              "        google.colab.kernel.accessAllowed ? 'block' : 'none';\n",
              "    })();\n",
              "  </script>\n",
              "</div>\n",
              "\n",
              "    </div>\n",
              "  </div>\n"
            ],
            "application/vnd.google.colaboratory.intrinsic+json": {
              "type": "dataframe",
              "variable_name": "df"
            }
          },
          "metadata": {},
          "execution_count": 525
        }
      ]
    },
    {
      "cell_type": "code",
      "source": [
        "df['host_response_rate'].unique()"
      ],
      "metadata": {
        "colab": {
          "base_uri": "https://localhost:8080/"
        },
        "id": "LvcNnvi_Yz7k",
        "outputId": "b0a5b9a7-0ab8-47fe-a79a-9669ce33fb17"
      },
      "execution_count": 526,
      "outputs": [
        {
          "output_type": "execute_result",
          "data": {
            "text/plain": [
              "array(['100%', '71%', '68%', '67%', '90%', '86%', '92%', '82%', '80%',\n",
              "       '89%', '93%', '99%', '50%', '88%', '96%', '70%', '91%', '25%',\n",
              "       '83%', '95%', '98%', '62%', '29%', '81%', '63%', '60%', '79%',\n",
              "       '78%', '75%', '65%', '94%', '97%', '87%', '40%', '33%', '58%',\n",
              "       '0%', '76%', '30%', '64%', '17%', '20%', '77%', '53%', '54%',\n",
              "       '73%', '41%', '57%', '85%', '56%', '42%', '44%', '14%', '10%',\n",
              "       '72%', '36%', '84%', '55%', '43%', '38%', '74%', '39%', '46%',\n",
              "       '26%', '61%', '59%', '52%', '22%', '15%', '69%', '27%', '11%',\n",
              "       '35%', '31%', '21%', '47%', '66%'], dtype=object)"
            ]
          },
          "metadata": {},
          "execution_count": 526
        }
      ]
    },
    {
      "cell_type": "code",
      "source": [
        "df['host_response_rate']=df['host_response_rate'].str.replace('%','').astype(float)"
      ],
      "metadata": {
        "id": "l71cdwjtY9lm"
      },
      "execution_count": 527,
      "outputs": []
    },
    {
      "cell_type": "markdown",
      "source": [
        "Changing the datatype of host since column to extract the year"
      ],
      "metadata": {
        "id": "T7yL8kIzR-hG"
      }
    },
    {
      "cell_type": "code",
      "source": [
        "df['host_since']=pd.to_datetime(df['host_since']).apply(lambda x:x.year)"
      ],
      "metadata": {
        "id": "I_Gqyl-TR8gi"
      },
      "execution_count": 528,
      "outputs": []
    },
    {
      "cell_type": "code",
      "source": [
        "df['host_since'].unique()"
      ],
      "metadata": {
        "colab": {
          "base_uri": "https://localhost:8080/"
        },
        "id": "NLlw7LqH8CTi",
        "outputId": "c5149233-c524-4380-af26-2645f7a60221"
      },
      "execution_count": 529,
      "outputs": [
        {
          "output_type": "execute_result",
          "data": {
            "text/plain": [
              "array([2017, 2016, 2015, 2013, 2012, 2014, 2011, 2010, 2009, 2008])"
            ]
          },
          "metadata": {},
          "execution_count": 529
        }
      ]
    },
    {
      "cell_type": "code",
      "source": [
        "df.dtypes"
      ],
      "metadata": {
        "colab": {
          "base_uri": "https://localhost:8080/"
        },
        "id": "voYeunI0SMT3",
        "outputId": "cf3eebf5-733f-4e54-91e6-c979c97bbbc4"
      },
      "execution_count": 530,
      "outputs": [
        {
          "output_type": "execute_result",
          "data": {
            "text/plain": [
              "log_price                 float64\n",
              "property_type              object\n",
              "room_type                  object\n",
              "amenities                  object\n",
              "accommodates                int64\n",
              "bathrooms                 float64\n",
              "bed_type                   object\n",
              "cancellation_policy        object\n",
              "cleaning_fee                 bool\n",
              "city                       object\n",
              "host_has_profile_pic       object\n",
              "host_identity_verified     object\n",
              "host_response_rate        float64\n",
              "host_since                  int64\n",
              "instant_bookable           object\n",
              "latitude                  float64\n",
              "longitude                 float64\n",
              "neighbourhood              object\n",
              "number_of_reviews           int64\n",
              "review_scores_rating      float64\n",
              "zipcode                   float64\n",
              "bedrooms                  float64\n",
              "beds                      float64\n",
              "dtype: object"
            ]
          },
          "metadata": {},
          "execution_count": 530
        }
      ]
    },
    {
      "cell_type": "code",
      "source": [
        "df['property_type'].unique()"
      ],
      "metadata": {
        "colab": {
          "base_uri": "https://localhost:8080/"
        },
        "id": "ZdO1DSv2-IWl",
        "outputId": "1c1adbf3-8117-4e8f-e06c-2ddd0a341d31"
      },
      "execution_count": 531,
      "outputs": [
        {
          "output_type": "execute_result",
          "data": {
            "text/plain": [
              "array(['Apartment', 'Condominium', 'House', 'Townhouse', 'Loft', 'Hostel',\n",
              "       'Guest suite', 'Bungalow', 'Guesthouse', 'Dorm', 'Other',\n",
              "       'Bed & Breakfast', 'Boutique hotel', 'Villa', 'Timeshare',\n",
              "       'In-law', 'Boat', 'Serviced apartment', 'Camper/RV', 'Castle',\n",
              "       'Cabin', 'Treehouse', 'Tipi', 'Hut', 'Vacation home', 'Tent',\n",
              "       'Chalet', 'Yurt', 'Earth House', 'Train', 'Cave'], dtype=object)"
            ]
          },
          "metadata": {},
          "execution_count": 531
        }
      ]
    },
    {
      "cell_type": "code",
      "source": [
        "df['room_type'].unique()"
      ],
      "metadata": {
        "colab": {
          "base_uri": "https://localhost:8080/"
        },
        "id": "HfEMR8WtRdT3",
        "outputId": "5b2a603c-7aa2-40fd-d265-3a99ce5517c8"
      },
      "execution_count": 532,
      "outputs": [
        {
          "output_type": "execute_result",
          "data": {
            "text/plain": [
              "array(['Entire home/apt', 'Private room', 'Shared room'], dtype=object)"
            ]
          },
          "metadata": {},
          "execution_count": 532
        }
      ]
    },
    {
      "cell_type": "code",
      "source": [
        "df['bathrooms'].unique()"
      ],
      "metadata": {
        "colab": {
          "base_uri": "https://localhost:8080/"
        },
        "id": "javI5RHDwFIg",
        "outputId": "e3dbe523-fe49-447a-b3f3-37cfd82b2701"
      },
      "execution_count": 533,
      "outputs": [
        {
          "output_type": "execute_result",
          "data": {
            "text/plain": [
              "array([1. , 1.5, 2. , 3. , 2.5, 0. , 4. , 3.5, 0.5, 5.5, 4.5, 5. , 6.5,\n",
              "       8. , 6. , 7.5, 7. ])"
            ]
          },
          "metadata": {},
          "execution_count": 533
        }
      ]
    },
    {
      "cell_type": "code",
      "source": [
        "df['bathrooms']=df['bathrooms'].apply(int)"
      ],
      "metadata": {
        "id": "_jQuLjjTwIB1"
      },
      "execution_count": 534,
      "outputs": []
    },
    {
      "cell_type": "markdown",
      "source": [
        "Exploring the amenities column"
      ],
      "metadata": {
        "id": "sef1jReoCcCE"
      }
    },
    {
      "cell_type": "code",
      "source": [
        "df['amenities'][0]"
      ],
      "metadata": {
        "colab": {
          "base_uri": "https://localhost:8080/",
          "height": 54
        },
        "id": "PQz8gUWeCac7",
        "outputId": "54e47a6c-518c-4f27-a321-2a5b6e3c6b91"
      },
      "execution_count": 535,
      "outputs": [
        {
          "output_type": "execute_result",
          "data": {
            "text/plain": [
              "'{\"Wireless Internet\",\"Air conditioning\",Kitchen,Heating,\"Family/kid friendly\",Washer,Dryer,\"Smoke detector\",\"Fire extinguisher\",Essentials,Shampoo,Hangers,\"Hair dryer\",Iron,\"translation missing: en.hosting_amenity_50\"}'"
            ],
            "application/vnd.google.colaboratory.intrinsic+json": {
              "type": "string"
            }
          },
          "metadata": {},
          "execution_count": 535
        }
      ]
    },
    {
      "cell_type": "code",
      "source": [
        "df['amenities'][0].replace('{','').replace('}','').replace('\"','').strip().split(',')"
      ],
      "metadata": {
        "colab": {
          "base_uri": "https://localhost:8080/"
        },
        "id": "ZDHgsqpjBusw",
        "outputId": "34404e70-40e2-47e0-e870-141b09efc982"
      },
      "execution_count": 536,
      "outputs": [
        {
          "output_type": "execute_result",
          "data": {
            "text/plain": [
              "['Wireless Internet',\n",
              " 'Air conditioning',\n",
              " 'Kitchen',\n",
              " 'Heating',\n",
              " 'Family/kid friendly',\n",
              " 'Washer',\n",
              " 'Dryer',\n",
              " 'Smoke detector',\n",
              " 'Fire extinguisher',\n",
              " 'Essentials',\n",
              " 'Shampoo',\n",
              " 'Hangers',\n",
              " 'Hair dryer',\n",
              " 'Iron',\n",
              " 'translation missing: en.hosting_amenity_50']"
            ]
          },
          "metadata": {},
          "execution_count": 536
        }
      ]
    },
    {
      "cell_type": "code",
      "source": [
        "all_aminities=[]\n",
        "for i in df['amenities']:\n",
        "  k=i.replace('{','').replace('}','').replace('\"','').split(',')\n",
        "  for j in k:\n",
        "    all_aminities.append(j)\n"
      ],
      "metadata": {
        "id": "hxppQwFdC6iK"
      },
      "execution_count": 537,
      "outputs": []
    },
    {
      "cell_type": "code",
      "source": [
        "len(set(all_aminities))"
      ],
      "metadata": {
        "colab": {
          "base_uri": "https://localhost:8080/"
        },
        "id": "X-mp-57nk63r",
        "outputId": "00bc0e12-f9ab-4a08-945e-1695bc3a199c"
      },
      "execution_count": 538,
      "outputs": [
        {
          "output_type": "execute_result",
          "data": {
            "text/plain": [
              "131"
            ]
          },
          "metadata": {},
          "execution_count": 538
        }
      ]
    },
    {
      "cell_type": "code",
      "source": [
        "from collections import Counter"
      ],
      "metadata": {
        "id": "wIQE8ujoNu-X"
      },
      "execution_count": 539,
      "outputs": []
    },
    {
      "cell_type": "code",
      "source": [
        "feature_counts = Counter(all_aminities)"
      ],
      "metadata": {
        "id": "Nrq3JdgHNfH_"
      },
      "execution_count": 540,
      "outputs": []
    },
    {
      "cell_type": "code",
      "source": [
        "amenity_df=pd.DataFrame(list(feature_counts.items()),columns=['amenity','count'])"
      ],
      "metadata": {
        "id": "aogdnJgWM8Bv"
      },
      "execution_count": 541,
      "outputs": []
    },
    {
      "cell_type": "code",
      "source": [
        "top_8_amenity=amenity_df.sort_values(by='count',ascending=False).head(8)\n",
        "top_8_amenity"
      ],
      "metadata": {
        "colab": {
          "base_uri": "https://localhost:8080/",
          "height": 300
        },
        "id": "dnAoSlBbOh2E",
        "outputId": "b232618d-90ab-40b7-8b78-bf79403f052b"
      },
      "execution_count": 542,
      "outputs": [
        {
          "output_type": "execute_result",
          "data": {
            "text/plain": [
              "              amenity  count\n",
              "0   Wireless Internet  42491\n",
              "3             Heating  40744\n",
              "2             Kitchen  39582\n",
              "9          Essentials  38918\n",
              "7      Smoke detector  37483\n",
              "1    Air conditioning  33117\n",
              "11            Hangers  32274\n",
              "15                 TV  31567"
            ],
            "text/html": [
              "\n",
              "  <div id=\"df-7efbb666-37f1-4665-b38a-52428b6d5317\" class=\"colab-df-container\">\n",
              "    <div>\n",
              "<style scoped>\n",
              "    .dataframe tbody tr th:only-of-type {\n",
              "        vertical-align: middle;\n",
              "    }\n",
              "\n",
              "    .dataframe tbody tr th {\n",
              "        vertical-align: top;\n",
              "    }\n",
              "\n",
              "    .dataframe thead th {\n",
              "        text-align: right;\n",
              "    }\n",
              "</style>\n",
              "<table border=\"1\" class=\"dataframe\">\n",
              "  <thead>\n",
              "    <tr style=\"text-align: right;\">\n",
              "      <th></th>\n",
              "      <th>amenity</th>\n",
              "      <th>count</th>\n",
              "    </tr>\n",
              "  </thead>\n",
              "  <tbody>\n",
              "    <tr>\n",
              "      <th>0</th>\n",
              "      <td>Wireless Internet</td>\n",
              "      <td>42491</td>\n",
              "    </tr>\n",
              "    <tr>\n",
              "      <th>3</th>\n",
              "      <td>Heating</td>\n",
              "      <td>40744</td>\n",
              "    </tr>\n",
              "    <tr>\n",
              "      <th>2</th>\n",
              "      <td>Kitchen</td>\n",
              "      <td>39582</td>\n",
              "    </tr>\n",
              "    <tr>\n",
              "      <th>9</th>\n",
              "      <td>Essentials</td>\n",
              "      <td>38918</td>\n",
              "    </tr>\n",
              "    <tr>\n",
              "      <th>7</th>\n",
              "      <td>Smoke detector</td>\n",
              "      <td>37483</td>\n",
              "    </tr>\n",
              "    <tr>\n",
              "      <th>1</th>\n",
              "      <td>Air conditioning</td>\n",
              "      <td>33117</td>\n",
              "    </tr>\n",
              "    <tr>\n",
              "      <th>11</th>\n",
              "      <td>Hangers</td>\n",
              "      <td>32274</td>\n",
              "    </tr>\n",
              "    <tr>\n",
              "      <th>15</th>\n",
              "      <td>TV</td>\n",
              "      <td>31567</td>\n",
              "    </tr>\n",
              "  </tbody>\n",
              "</table>\n",
              "</div>\n",
              "    <div class=\"colab-df-buttons\">\n",
              "\n",
              "  <div class=\"colab-df-container\">\n",
              "    <button class=\"colab-df-convert\" onclick=\"convertToInteractive('df-7efbb666-37f1-4665-b38a-52428b6d5317')\"\n",
              "            title=\"Convert this dataframe to an interactive table.\"\n",
              "            style=\"display:none;\">\n",
              "\n",
              "  <svg xmlns=\"http://www.w3.org/2000/svg\" height=\"24px\" viewBox=\"0 -960 960 960\">\n",
              "    <path d=\"M120-120v-720h720v720H120Zm60-500h600v-160H180v160Zm220 220h160v-160H400v160Zm0 220h160v-160H400v160ZM180-400h160v-160H180v160Zm440 0h160v-160H620v160ZM180-180h160v-160H180v160Zm440 0h160v-160H620v160Z\"/>\n",
              "  </svg>\n",
              "    </button>\n",
              "\n",
              "  <style>\n",
              "    .colab-df-container {\n",
              "      display:flex;\n",
              "      gap: 12px;\n",
              "    }\n",
              "\n",
              "    .colab-df-convert {\n",
              "      background-color: #E8F0FE;\n",
              "      border: none;\n",
              "      border-radius: 50%;\n",
              "      cursor: pointer;\n",
              "      display: none;\n",
              "      fill: #1967D2;\n",
              "      height: 32px;\n",
              "      padding: 0 0 0 0;\n",
              "      width: 32px;\n",
              "    }\n",
              "\n",
              "    .colab-df-convert:hover {\n",
              "      background-color: #E2EBFA;\n",
              "      box-shadow: 0px 1px 2px rgba(60, 64, 67, 0.3), 0px 1px 3px 1px rgba(60, 64, 67, 0.15);\n",
              "      fill: #174EA6;\n",
              "    }\n",
              "\n",
              "    .colab-df-buttons div {\n",
              "      margin-bottom: 4px;\n",
              "    }\n",
              "\n",
              "    [theme=dark] .colab-df-convert {\n",
              "      background-color: #3B4455;\n",
              "      fill: #D2E3FC;\n",
              "    }\n",
              "\n",
              "    [theme=dark] .colab-df-convert:hover {\n",
              "      background-color: #434B5C;\n",
              "      box-shadow: 0px 1px 3px 1px rgba(0, 0, 0, 0.15);\n",
              "      filter: drop-shadow(0px 1px 2px rgba(0, 0, 0, 0.3));\n",
              "      fill: #FFFFFF;\n",
              "    }\n",
              "  </style>\n",
              "\n",
              "    <script>\n",
              "      const buttonEl =\n",
              "        document.querySelector('#df-7efbb666-37f1-4665-b38a-52428b6d5317 button.colab-df-convert');\n",
              "      buttonEl.style.display =\n",
              "        google.colab.kernel.accessAllowed ? 'block' : 'none';\n",
              "\n",
              "      async function convertToInteractive(key) {\n",
              "        const element = document.querySelector('#df-7efbb666-37f1-4665-b38a-52428b6d5317');\n",
              "        const dataTable =\n",
              "          await google.colab.kernel.invokeFunction('convertToInteractive',\n",
              "                                                    [key], {});\n",
              "        if (!dataTable) return;\n",
              "\n",
              "        const docLinkHtml = 'Like what you see? Visit the ' +\n",
              "          '<a target=\"_blank\" href=https://colab.research.google.com/notebooks/data_table.ipynb>data table notebook</a>'\n",
              "          + ' to learn more about interactive tables.';\n",
              "        element.innerHTML = '';\n",
              "        dataTable['output_type'] = 'display_data';\n",
              "        await google.colab.output.renderOutput(dataTable, element);\n",
              "        const docLink = document.createElement('div');\n",
              "        docLink.innerHTML = docLinkHtml;\n",
              "        element.appendChild(docLink);\n",
              "      }\n",
              "    </script>\n",
              "  </div>\n",
              "\n",
              "\n",
              "<div id=\"df-d4669c02-e54e-4e19-9c3d-5e512b25d6fa\">\n",
              "  <button class=\"colab-df-quickchart\" onclick=\"quickchart('df-d4669c02-e54e-4e19-9c3d-5e512b25d6fa')\"\n",
              "            title=\"Suggest charts\"\n",
              "            style=\"display:none;\">\n",
              "\n",
              "<svg xmlns=\"http://www.w3.org/2000/svg\" height=\"24px\"viewBox=\"0 0 24 24\"\n",
              "     width=\"24px\">\n",
              "    <g>\n",
              "        <path d=\"M19 3H5c-1.1 0-2 .9-2 2v14c0 1.1.9 2 2 2h14c1.1 0 2-.9 2-2V5c0-1.1-.9-2-2-2zM9 17H7v-7h2v7zm4 0h-2V7h2v10zm4 0h-2v-4h2v4z\"/>\n",
              "    </g>\n",
              "</svg>\n",
              "  </button>\n",
              "\n",
              "<style>\n",
              "  .colab-df-quickchart {\n",
              "      --bg-color: #E8F0FE;\n",
              "      --fill-color: #1967D2;\n",
              "      --hover-bg-color: #E2EBFA;\n",
              "      --hover-fill-color: #174EA6;\n",
              "      --disabled-fill-color: #AAA;\n",
              "      --disabled-bg-color: #DDD;\n",
              "  }\n",
              "\n",
              "  [theme=dark] .colab-df-quickchart {\n",
              "      --bg-color: #3B4455;\n",
              "      --fill-color: #D2E3FC;\n",
              "      --hover-bg-color: #434B5C;\n",
              "      --hover-fill-color: #FFFFFF;\n",
              "      --disabled-bg-color: #3B4455;\n",
              "      --disabled-fill-color: #666;\n",
              "  }\n",
              "\n",
              "  .colab-df-quickchart {\n",
              "    background-color: var(--bg-color);\n",
              "    border: none;\n",
              "    border-radius: 50%;\n",
              "    cursor: pointer;\n",
              "    display: none;\n",
              "    fill: var(--fill-color);\n",
              "    height: 32px;\n",
              "    padding: 0;\n",
              "    width: 32px;\n",
              "  }\n",
              "\n",
              "  .colab-df-quickchart:hover {\n",
              "    background-color: var(--hover-bg-color);\n",
              "    box-shadow: 0 1px 2px rgba(60, 64, 67, 0.3), 0 1px 3px 1px rgba(60, 64, 67, 0.15);\n",
              "    fill: var(--button-hover-fill-color);\n",
              "  }\n",
              "\n",
              "  .colab-df-quickchart-complete:disabled,\n",
              "  .colab-df-quickchart-complete:disabled:hover {\n",
              "    background-color: var(--disabled-bg-color);\n",
              "    fill: var(--disabled-fill-color);\n",
              "    box-shadow: none;\n",
              "  }\n",
              "\n",
              "  .colab-df-spinner {\n",
              "    border: 2px solid var(--fill-color);\n",
              "    border-color: transparent;\n",
              "    border-bottom-color: var(--fill-color);\n",
              "    animation:\n",
              "      spin 1s steps(1) infinite;\n",
              "  }\n",
              "\n",
              "  @keyframes spin {\n",
              "    0% {\n",
              "      border-color: transparent;\n",
              "      border-bottom-color: var(--fill-color);\n",
              "      border-left-color: var(--fill-color);\n",
              "    }\n",
              "    20% {\n",
              "      border-color: transparent;\n",
              "      border-left-color: var(--fill-color);\n",
              "      border-top-color: var(--fill-color);\n",
              "    }\n",
              "    30% {\n",
              "      border-color: transparent;\n",
              "      border-left-color: var(--fill-color);\n",
              "      border-top-color: var(--fill-color);\n",
              "      border-right-color: var(--fill-color);\n",
              "    }\n",
              "    40% {\n",
              "      border-color: transparent;\n",
              "      border-right-color: var(--fill-color);\n",
              "      border-top-color: var(--fill-color);\n",
              "    }\n",
              "    60% {\n",
              "      border-color: transparent;\n",
              "      border-right-color: var(--fill-color);\n",
              "    }\n",
              "    80% {\n",
              "      border-color: transparent;\n",
              "      border-right-color: var(--fill-color);\n",
              "      border-bottom-color: var(--fill-color);\n",
              "    }\n",
              "    90% {\n",
              "      border-color: transparent;\n",
              "      border-bottom-color: var(--fill-color);\n",
              "    }\n",
              "  }\n",
              "</style>\n",
              "\n",
              "  <script>\n",
              "    async function quickchart(key) {\n",
              "      const quickchartButtonEl =\n",
              "        document.querySelector('#' + key + ' button');\n",
              "      quickchartButtonEl.disabled = true;  // To prevent multiple clicks.\n",
              "      quickchartButtonEl.classList.add('colab-df-spinner');\n",
              "      try {\n",
              "        const charts = await google.colab.kernel.invokeFunction(\n",
              "            'suggestCharts', [key], {});\n",
              "      } catch (error) {\n",
              "        console.error('Error during call to suggestCharts:', error);\n",
              "      }\n",
              "      quickchartButtonEl.classList.remove('colab-df-spinner');\n",
              "      quickchartButtonEl.classList.add('colab-df-quickchart-complete');\n",
              "    }\n",
              "    (() => {\n",
              "      let quickchartButtonEl =\n",
              "        document.querySelector('#df-d4669c02-e54e-4e19-9c3d-5e512b25d6fa button');\n",
              "      quickchartButtonEl.style.display =\n",
              "        google.colab.kernel.accessAllowed ? 'block' : 'none';\n",
              "    })();\n",
              "  </script>\n",
              "</div>\n",
              "\n",
              "  <div id=\"id_72c1ce2c-b716-4ff5-8a89-11adc886a5c4\">\n",
              "    <style>\n",
              "      .colab-df-generate {\n",
              "        background-color: #E8F0FE;\n",
              "        border: none;\n",
              "        border-radius: 50%;\n",
              "        cursor: pointer;\n",
              "        display: none;\n",
              "        fill: #1967D2;\n",
              "        height: 32px;\n",
              "        padding: 0 0 0 0;\n",
              "        width: 32px;\n",
              "      }\n",
              "\n",
              "      .colab-df-generate:hover {\n",
              "        background-color: #E2EBFA;\n",
              "        box-shadow: 0px 1px 2px rgba(60, 64, 67, 0.3), 0px 1px 3px 1px rgba(60, 64, 67, 0.15);\n",
              "        fill: #174EA6;\n",
              "      }\n",
              "\n",
              "      [theme=dark] .colab-df-generate {\n",
              "        background-color: #3B4455;\n",
              "        fill: #D2E3FC;\n",
              "      }\n",
              "\n",
              "      [theme=dark] .colab-df-generate:hover {\n",
              "        background-color: #434B5C;\n",
              "        box-shadow: 0px 1px 3px 1px rgba(0, 0, 0, 0.15);\n",
              "        filter: drop-shadow(0px 1px 2px rgba(0, 0, 0, 0.3));\n",
              "        fill: #FFFFFF;\n",
              "      }\n",
              "    </style>\n",
              "    <button class=\"colab-df-generate\" onclick=\"generateWithVariable('top_8_amenity')\"\n",
              "            title=\"Generate code using this dataframe.\"\n",
              "            style=\"display:none;\">\n",
              "\n",
              "  <svg xmlns=\"http://www.w3.org/2000/svg\" height=\"24px\"viewBox=\"0 0 24 24\"\n",
              "       width=\"24px\">\n",
              "    <path d=\"M7,19H8.4L18.45,9,17,7.55,7,17.6ZM5,21V16.75L18.45,3.32a2,2,0,0,1,2.83,0l1.4,1.43a1.91,1.91,0,0,1,.58,1.4,1.91,1.91,0,0,1-.58,1.4L9.25,21ZM18.45,9,17,7.55Zm-12,3A5.31,5.31,0,0,0,4.9,8.1,5.31,5.31,0,0,0,1,6.5,5.31,5.31,0,0,0,4.9,4.9,5.31,5.31,0,0,0,6.5,1,5.31,5.31,0,0,0,8.1,4.9,5.31,5.31,0,0,0,12,6.5,5.46,5.46,0,0,0,6.5,12Z\"/>\n",
              "  </svg>\n",
              "    </button>\n",
              "    <script>\n",
              "      (() => {\n",
              "      const buttonEl =\n",
              "        document.querySelector('#id_72c1ce2c-b716-4ff5-8a89-11adc886a5c4 button.colab-df-generate');\n",
              "      buttonEl.style.display =\n",
              "        google.colab.kernel.accessAllowed ? 'block' : 'none';\n",
              "\n",
              "      buttonEl.onclick = () => {\n",
              "        google.colab.notebook.generateWithVariable('top_8_amenity');\n",
              "      }\n",
              "      })();\n",
              "    </script>\n",
              "  </div>\n",
              "\n",
              "    </div>\n",
              "  </div>\n"
            ],
            "application/vnd.google.colaboratory.intrinsic+json": {
              "type": "dataframe",
              "variable_name": "top_8_amenity",
              "summary": "{\n  \"name\": \"top_8_amenity\",\n  \"rows\": 8,\n  \"fields\": [\n    {\n      \"column\": \"amenity\",\n      \"properties\": {\n        \"dtype\": \"string\",\n        \"num_unique_values\": 8,\n        \"samples\": [\n          \"Heating\",\n          \"Air conditioning\",\n          \"Wireless Internet\"\n        ],\n        \"semantic_type\": \"\",\n        \"description\": \"\"\n      }\n    },\n    {\n      \"column\": \"count\",\n      \"properties\": {\n        \"dtype\": \"number\",\n        \"std\": 4169,\n        \"min\": 31567,\n        \"max\": 42491,\n        \"num_unique_values\": 8,\n        \"samples\": [\n          40744,\n          33117,\n          42491\n        ],\n        \"semantic_type\": \"\",\n        \"description\": \"\"\n      }\n    }\n  ]\n}"
            }
          },
          "metadata": {},
          "execution_count": 542
        }
      ]
    },
    {
      "cell_type": "code",
      "source": [
        "plt.figure(figsize=(12,5))\n",
        "sns.barplot(data=top_8_amenity,x='amenity',y='count',color='green',alpha=0.7)\n",
        "plt.xticks(rotation=45)\n",
        "plt.suptitle('Top 8 Popular Amenities')\n",
        "plt.tight_layout()\n",
        "\n",
        "plt.savefig('Top 8 Popular Amenities.jpeg')\n",
        "plt.show()"
      ],
      "metadata": {
        "colab": {
          "base_uri": "https://localhost:8080/",
          "height": 512
        },
        "id": "RSWW2JO5IDvc",
        "outputId": "9484e55a-b9f1-4b1b-d2d5-4707b01fe914"
      },
      "execution_count": 543,
      "outputs": [
        {
          "output_type": "display_data",
          "data": {
            "text/plain": [
              "<Figure size 1200x500 with 1 Axes>"
            ],
            "image/png": "[encoded data removed]"
          },
          "metadata": {}
        }
      ]
    },
    {
      "cell_type": "markdown",
      "source": [
        "passing the top 8 aminities as features."
      ],
      "metadata": {
        "id": "EA7g6nJSRgxJ"
      }
    },
    {
      "cell_type": "code",
      "source": [
        "top_8_amenities=top_8_amenity['amenity'].values\n",
        "print(top_8_amenities)"
      ],
      "metadata": {
        "colab": {
          "base_uri": "https://localhost:8080/"
        },
        "id": "GmGLRvLtSib3",
        "outputId": "532447c8-cdfb-45cc-b94b-0f28bf20843d"
      },
      "execution_count": 544,
      "outputs": [
        {
          "output_type": "stream",
          "name": "stdout",
          "text": [
            "['Wireless Internet' 'Heating' 'Kitchen' 'Essentials' 'Smoke detector'\n",
            " 'Air conditioning' 'Hangers' 'TV']\n"
          ]
        }
      ]
    },
    {
      "cell_type": "code",
      "source": [
        "def cleaned_am(am):\n",
        "  k=am.replace('{','').replace('}','').replace('\"','').split(',')\n",
        "  return k\n"
      ],
      "metadata": {
        "id": "PkcwOdp6MEHI"
      },
      "execution_count": 545,
      "outputs": []
    },
    {
      "cell_type": "code",
      "source": [
        "df['amenities']=df['amenities'].apply(cleaned_am)"
      ],
      "metadata": {
        "id": "Tras0N2lL04D"
      },
      "execution_count": 546,
      "outputs": []
    },
    {
      "cell_type": "markdown",
      "source": [
        "Adding a Feature to show the total amenities for each row"
      ],
      "metadata": {
        "id": "EvOnEHr9VXCA"
      }
    },
    {
      "cell_type": "code",
      "source": [
        "df['total amenities']=df['amenities'].apply(len)"
      ],
      "metadata": {
        "id": "ch3snHt7VARq"
      },
      "execution_count": 547,
      "outputs": []
    },
    {
      "cell_type": "code",
      "source": [
        "df['total amenities'].unique()"
      ],
      "metadata": {
        "colab": {
          "base_uri": "https://localhost:8080/"
        },
        "id": "UeDYEvvXVgWC",
        "outputId": "a771a584-37f7-4157-9ac6-3686724efea5"
      },
      "execution_count": 548,
      "outputs": [
        {
          "output_type": "execute_result",
          "data": {
            "text/plain": [
              "array([15, 19, 12, 10, 26, 21, 22, 25, 18, 24, 11, 29, 44, 27, 14, 17, 28,\n",
              "       20, 16, 23,  8, 13, 43,  5,  7,  9, 32,  6, 41, 30,  3, 42, 33, 31,\n",
              "        1, 37, 38,  2,  4, 39, 49, 36, 34, 40, 35, 57, 48, 45, 47, 51, 55,\n",
              "       53, 46, 58, 62, 50, 70, 61, 52, 68, 54, 59, 60, 56, 63, 64, 72, 71,\n",
              "       77, 69])"
            ]
          },
          "metadata": {},
          "execution_count": 548
        }
      ]
    },
    {
      "cell_type": "code",
      "source": [
        "for feature in top_8_amenities:\n",
        "    df[f'{feature}'] = df['amenities'].apply(lambda x: feature in x)"
      ],
      "metadata": {
        "id": "Eg8s0ioHMVz_"
      },
      "execution_count": 549,
      "outputs": []
    },
    {
      "cell_type": "code",
      "source": [
        "df.info()"
      ],
      "metadata": {
        "colab": {
          "base_uri": "https://localhost:8080/"
        },
        "id": "GMfiZ8eLZB-n",
        "outputId": "f2fed7ce-c78b-4a7b-bd7e-8885d9844176"
      },
      "execution_count": 550,
      "outputs": [
        {
          "output_type": "stream",
          "name": "stdout",
          "text": [
            "<class 'pandas.core.frame.DataFrame'>\n",
            "RangeIndex: 43295 entries, 0 to 43294\n",
            "Data columns (total 32 columns):\n",
            " #   Column                  Non-Null Count  Dtype  \n",
            "---  ------                  --------------  -----  \n",
            " 0   log_price               43295 non-null  float64\n",
            " 1   property_type           43295 non-null  object \n",
            " 2   room_type               43295 non-null  object \n",
            " 3   amenities               43295 non-null  object \n",
            " 4   accommodates            43295 non-null  int64  \n",
            " 5   bathrooms               43295 non-null  int64  \n",
            " 6   bed_type                43295 non-null  object \n",
            " 7   cancellation_policy     43295 non-null  object \n",
            " 8   cleaning_fee            43295 non-null  bool   \n",
            " 9   city                    43295 non-null  object \n",
            " 10  host_has_profile_pic    43295 non-null  object \n",
            " 11  host_identity_verified  43295 non-null  object \n",
            " 12  host_response_rate      43295 non-null  float64\n",
            " 13  host_since              43295 non-null  int64  \n",
            " 14  instant_bookable        43295 non-null  object \n",
            " 15  latitude                43295 non-null  float64\n",
            " 16  longitude               43295 non-null  float64\n",
            " 17  neighbourhood           43295 non-null  object \n",
            " 18  number_of_reviews       43295 non-null  int64  \n",
            " 19  review_scores_rating    43295 non-null  float64\n",
            " 20  zipcode                 43295 non-null  float64\n",
            " 21  bedrooms                43295 non-null  float64\n",
            " 22  beds                    43295 non-null  float64\n",
            " 23  total amenities         43295 non-null  int64  \n",
            " 24  Wireless Internet       43295 non-null  bool   \n",
            " 25  Heating                 43295 non-null  bool   \n",
            " 26  Kitchen                 43295 non-null  bool   \n",
            " 27  Essentials              43295 non-null  bool   \n",
            " 28  Smoke detector          43295 non-null  bool   \n",
            " 29  Air conditioning        43295 non-null  bool   \n",
            " 30  Hangers                 43295 non-null  bool   \n",
            " 31  TV                      43295 non-null  bool   \n",
            "dtypes: bool(9), float64(8), int64(5), object(10)\n",
            "memory usage: 8.0+ MB\n"
          ]
        }
      ]
    },
    {
      "cell_type": "code",
      "source": [
        "df.head()"
      ],
      "metadata": {
        "colab": {
          "base_uri": "https://localhost:8080/",
          "height": 602
        },
        "id": "s4eEto4aZDex",
        "outputId": "44526701-60d1-40d2-9335-e10c485522d0"
      },
      "execution_count": 551,
      "outputs": [
        {
          "output_type": "execute_result",
          "data": {
            "text/plain": [
              "   log_price property_type        room_type  \\\n",
              "0   5.129899     Apartment  Entire home/apt   \n",
              "1   4.976734     Apartment  Entire home/apt   \n",
              "2   4.744932     Apartment  Entire home/apt   \n",
              "3   4.442651     Apartment     Private room   \n",
              "4   4.787492   Condominium  Entire home/apt   \n",
              "\n",
              "                                           amenities  accommodates  bathrooms  \\\n",
              "0  [Wireless Internet, Air conditioning, Kitchen,...             7          1   \n",
              "1  [TV, Cable TV, Wireless Internet, Air conditio...             5          1   \n",
              "2  [TV, Internet, Wireless Internet, Air conditio...             2          1   \n",
              "3  [TV, Wireless Internet, Heating, Smoke detecto...             2          1   \n",
              "4  [TV, Cable TV, Wireless Internet, Wheelchair a...             2          1   \n",
              "\n",
              "   bed_type cancellation_policy  cleaning_fee city  ... beds total amenities  \\\n",
              "0  Real Bed              strict          True  NYC  ...  3.0              15   \n",
              "1  Real Bed            moderate          True  NYC  ...  3.0              19   \n",
              "2  Real Bed            moderate          True   DC  ...  1.0              12   \n",
              "3  Real Bed              strict          True   SF  ...  1.0              10   \n",
              "4  Real Bed            moderate          True   LA  ...  1.0              26   \n",
              "\n",
              "   Wireless Internet  Heating Kitchen  Essentials  Smoke detector  \\\n",
              "0               True     True    True        True            True   \n",
              "1               True     True    True        True            True   \n",
              "2               True     True    True        True            True   \n",
              "3               True     True   False        True            True   \n",
              "4               True     True    True        True            True   \n",
              "\n",
              "  Air conditioning  Hangers     TV  \n",
              "0             True     True  False  \n",
              "1             True     True   True  \n",
              "2             True    False   True  \n",
              "3            False     True   True  \n",
              "4            False     True   True  \n",
              "\n",
              "[5 rows x 32 columns]"
            ],
            "text/html": [
              "\n",
              "  <div id=\"df-57651cfe-c927-4f6a-b142-db1e9624919c\" class=\"colab-df-container\">\n",
              "    <div>\n",
              "<style scoped>\n",
              "    .dataframe tbody tr th:only-of-type {\n",
              "        vertical-align: middle;\n",
              "    }\n",
              "\n",
              "    .dataframe tbody tr th {\n",
              "        vertical-align: top;\n",
              "    }\n",
              "\n",
              "    .dataframe thead th {\n",
              "        text-align: right;\n",
              "    }\n",
              "</style>\n",
              "<table border=\"1\" class=\"dataframe\">\n",
              "  <thead>\n",
              "    <tr style=\"text-align: right;\">\n",
              "      <th></th>\n",
              "      <th>log_price</th>\n",
              "      <th>property_type</th>\n",
              "      <th>room_type</th>\n",
              "      <th>amenities</th>\n",
              "      <th>accommodates</th>\n",
              "      <th>bathrooms</th>\n",
              "      <th>bed_type</th>\n",
              "      <th>cancellation_policy</th>\n",
              "      <th>cleaning_fee</th>\n",
              "      <th>city</th>\n",
              "      <th>...</th>\n",
              "      <th>beds</th>\n",
              "      <th>total amenities</th>\n",
              "      <th>Wireless Internet</th>\n",
              "      <th>Heating</th>\n",
              "      <th>Kitchen</th>\n",
              "      <th>Essentials</th>\n",
              "      <th>Smoke detector</th>\n",
              "      <th>Air conditioning</th>\n",
              "      <th>Hangers</th>\n",
              "      <th>TV</th>\n",
              "    </tr>\n",
              "  </thead>\n",
              "  <tbody>\n",
              "    <tr>\n",
              "      <th>0</th>\n",
              "      <td>5.129899</td>\n",
              "      <td>Apartment</td>\n",
              "      <td>Entire home/apt</td>\n",
              "      <td>[Wireless Internet, Air conditioning, Kitchen,...</td>\n",
              "      <td>7</td>\n",
              "      <td>1</td>\n",
              "      <td>Real Bed</td>\n",
              "      <td>strict</td>\n",
              "      <td>True</td>\n",
              "      <td>NYC</td>\n",
              "      <td>...</td>\n",
              "      <td>3.0</td>\n",
              "      <td>15</td>\n",
              "      <td>True</td>\n",
              "      <td>True</td>\n",
              "      <td>True</td>\n",
              "      <td>True</td>\n",
              "      <td>True</td>\n",
              "      <td>True</td>\n",
              "      <td>True</td>\n",
              "      <td>False</td>\n",
              "    </tr>\n",
              "    <tr>\n",
              "      <th>1</th>\n",
              "      <td>4.976734</td>\n",
              "      <td>Apartment</td>\n",
              "      <td>Entire home/apt</td>\n",
              "      <td>[TV, Cable TV, Wireless Internet, Air conditio...</td>\n",
              "      <td>5</td>\n",
              "      <td>1</td>\n",
              "      <td>Real Bed</td>\n",
              "      <td>moderate</td>\n",
              "      <td>True</td>\n",
              "      <td>NYC</td>\n",
              "      <td>...</td>\n",
              "      <td>3.0</td>\n",
              "      <td>19</td>\n",
              "      <td>True</td>\n",
              "      <td>True</td>\n",
              "      <td>True</td>\n",
              "      <td>True</td>\n",
              "      <td>True</td>\n",
              "      <td>True</td>\n",
              "      <td>True</td>\n",
              "      <td>True</td>\n",
              "    </tr>\n",
              "    <tr>\n",
              "      <th>2</th>\n",
              "      <td>4.744932</td>\n",
              "      <td>Apartment</td>\n",
              "      <td>Entire home/apt</td>\n",
              "      <td>[TV, Internet, Wireless Internet, Air conditio...</td>\n",
              "      <td>2</td>\n",
              "      <td>1</td>\n",
              "      <td>Real Bed</td>\n",
              "      <td>moderate</td>\n",
              "      <td>True</td>\n",
              "      <td>DC</td>\n",
              "      <td>...</td>\n",
              "      <td>1.0</td>\n",
              "      <td>12</td>\n",
              "      <td>True</td>\n",
              "      <td>True</td>\n",
              "      <td>True</td>\n",
              "      <td>True</td>\n",
              "      <td>True</td>\n",
              "      <td>True</td>\n",
              "      <td>False</td>\n",
              "      <td>True</td>\n",
              "    </tr>\n",
              "    <tr>\n",
              "      <th>3</th>\n",
              "      <td>4.442651</td>\n",
              "      <td>Apartment</td>\n",
              "      <td>Private room</td>\n",
              "      <td>[TV, Wireless Internet, Heating, Smoke detecto...</td>\n",
              "      <td>2</td>\n",
              "      <td>1</td>\n",
              "      <td>Real Bed</td>\n",
              "      <td>strict</td>\n",
              "      <td>True</td>\n",
              "      <td>SF</td>\n",
              "      <td>...</td>\n",
              "      <td>1.0</td>\n",
              "      <td>10</td>\n",
              "      <td>True</td>\n",
              "      <td>True</td>\n",
              "      <td>False</td>\n",
              "      <td>True</td>\n",
              "      <td>True</td>\n",
              "      <td>False</td>\n",
              "      <td>True</td>\n",
              "      <td>True</td>\n",
              "    </tr>\n",
              "    <tr>\n",
              "      <th>4</th>\n",
              "      <td>4.787492</td>\n",
              "      <td>Condominium</td>\n",
              "      <td>Entire home/apt</td>\n",
              "      <td>[TV, Cable TV, Wireless Internet, Wheelchair a...</td>\n",
              "      <td>2</td>\n",
              "      <td>1</td>\n",
              "      <td>Real Bed</td>\n",
              "      <td>moderate</td>\n",
              "      <td>True</td>\n",
              "      <td>LA</td>\n",
              "      <td>...</td>\n",
              "      <td>1.0</td>\n",
              "      <td>26</td>\n",
              "      <td>True</td>\n",
              "      <td>True</td>\n",
              "      <td>True</td>\n",
              "      <td>True</td>\n",
              "      <td>True</td>\n",
              "      <td>False</td>\n",
              "      <td>True</td>\n",
              "      <td>True</td>\n",
              "    </tr>\n",
              "  </tbody>\n",
              "</table>\n",
              "<p>5 rows × 32 columns</p>\n",
              "</div>\n",
              "    <div class=\"colab-df-buttons\">\n",
              "\n",
              "  <div class=\"colab-df-container\">\n",
              "    <button class=\"colab-df-convert\" onclick=\"convertToInteractive('df-57651cfe-c927-4f6a-b142-db1e9624919c')\"\n",
              "            title=\"Convert this dataframe to an interactive table.\"\n",
              "            style=\"display:none;\">\n",
              "\n",
              "  <svg xmlns=\"http://www.w3.org/2000/svg\" height=\"24px\" viewBox=\"0 -960 960 960\">\n",
              "    <path d=\"M120-120v-720h720v720H120Zm60-500h600v-160H180v160Zm220 220h160v-160H400v160Zm0 220h160v-160H400v160ZM180-400h160v-160H180v160Zm440 0h160v-160H620v160ZM180-180h160v-160H180v160Zm440 0h160v-160H620v160Z\"/>\n",
              "  </svg>\n",
              "    </button>\n",
              "\n",
              "  <style>\n",
              "    .colab-df-container {\n",
              "      display:flex;\n",
              "      gap: 12px;\n",
              "    }\n",
              "\n",
              "    .colab-df-convert {\n",
              "      background-color: #E8F0FE;\n",
              "      border: none;\n",
              "      border-radius: 50%;\n",
              "      cursor: pointer;\n",
              "      display: none;\n",
              "      fill: #1967D2;\n",
              "      height: 32px;\n",
              "      padding: 0 0 0 0;\n",
              "      width: 32px;\n",
              "    }\n",
              "\n",
              "    .colab-df-convert:hover {\n",
              "      background-color: #E2EBFA;\n",
              "      box-shadow: 0px 1px 2px rgba(60, 64, 67, 0.3), 0px 1px 3px 1px rgba(60, 64, 67, 0.15);\n",
              "      fill: #174EA6;\n",
              "    }\n",
              "\n",
              "    .colab-df-buttons div {\n",
              "      margin-bottom: 4px;\n",
              "    }\n",
              "\n",
              "    [theme=dark] .colab-df-convert {\n",
              "      background-color: #3B4455;\n",
              "      fill: #D2E3FC;\n",
              "    }\n",
              "\n",
              "    [theme=dark] .colab-df-convert:hover {\n",
              "      background-color: #434B5C;\n",
              "      box-shadow: 0px 1px 3px 1px rgba(0, 0, 0, 0.15);\n",
              "      filter: drop-shadow(0px 1px 2px rgba(0, 0, 0, 0.3));\n",
              "      fill: #FFFFFF;\n",
              "    }\n",
              "  </style>\n",
              "\n",
              "    <script>\n",
              "      const buttonEl =\n",
              "        document.querySelector('#df-57651cfe-c927-4f6a-b142-db1e9624919c button.colab-df-convert');\n",
              "      buttonEl.style.display =\n",
              "        google.colab.kernel.accessAllowed ? 'block' : 'none';\n",
              "\n",
              "      async function convertToInteractive(key) {\n",
              "        const element = document.querySelector('#df-57651cfe-c927-4f6a-b142-db1e9624919c');\n",
              "        const dataTable =\n",
              "          await google.colab.kernel.invokeFunction('convertToInteractive',\n",
              "                                                    [key], {});\n",
              "        if (!dataTable) return;\n",
              "\n",
              "        const docLinkHtml = 'Like what you see? Visit the ' +\n",
              "          '<a target=\"_blank\" href=https://colab.research.google.com/notebooks/data_table.ipynb>data table notebook</a>'\n",
              "          + ' to learn more about interactive tables.';\n",
              "        element.innerHTML = '';\n",
              "        dataTable['output_type'] = 'display_data';\n",
              "        await google.colab.output.renderOutput(dataTable, element);\n",
              "        const docLink = document.createElement('div');\n",
              "        docLink.innerHTML = docLinkHtml;\n",
              "        element.appendChild(docLink);\n",
              "      }\n",
              "    </script>\n",
              "  </div>\n",
              "\n",
              "\n",
              "<div id=\"df-df44fc81-ec66-4af7-947b-482c1ff850c2\">\n",
              "  <button class=\"colab-df-quickchart\" onclick=\"quickchart('df-df44fc81-ec66-4af7-947b-482c1ff850c2')\"\n",
              "            title=\"Suggest charts\"\n",
              "            style=\"display:none;\">\n",
              "\n",
              "<svg xmlns=\"http://www.w3.org/2000/svg\" height=\"24px\"viewBox=\"0 0 24 24\"\n",
              "     width=\"24px\">\n",
              "    <g>\n",
              "        <path d=\"M19 3H5c-1.1 0-2 .9-2 2v14c0 1.1.9 2 2 2h14c1.1 0 2-.9 2-2V5c0-1.1-.9-2-2-2zM9 17H7v-7h2v7zm4 0h-2V7h2v10zm4 0h-2v-4h2v4z\"/>\n",
              "    </g>\n",
              "</svg>\n",
              "  </button>\n",
              "\n",
              "<style>\n",
              "  .colab-df-quickchart {\n",
              "      --bg-color: #E8F0FE;\n",
              "      --fill-color: #1967D2;\n",
              "      --hover-bg-color: #E2EBFA;\n",
              "      --hover-fill-color: #174EA6;\n",
              "      --disabled-fill-color: #AAA;\n",
              "      --disabled-bg-color: #DDD;\n",
              "  }\n",
              "\n",
              "  [theme=dark] .colab-df-quickchart {\n",
              "      --bg-color: #3B4455;\n",
              "      --fill-color: #D2E3FC;\n",
              "      --hover-bg-color: #434B5C;\n",
              "      --hover-fill-color: #FFFFFF;\n",
              "      --disabled-bg-color: #3B4455;\n",
              "      --disabled-fill-color: #666;\n",
              "  }\n",
              "\n",
              "  .colab-df-quickchart {\n",
              "    background-color: var(--bg-color);\n",
              "    border: none;\n",
              "    border-radius: 50%;\n",
              "    cursor: pointer;\n",
              "    display: none;\n",
              "    fill: var(--fill-color);\n",
              "    height: 32px;\n",
              "    padding: 0;\n",
              "    width: 32px;\n",
              "  }\n",
              "\n",
              "  .colab-df-quickchart:hover {\n",
              "    background-color: var(--hover-bg-color);\n",
              "    box-shadow: 0 1px 2px rgba(60, 64, 67, 0.3), 0 1px 3px 1px rgba(60, 64, 67, 0.15);\n",
              "    fill: var(--button-hover-fill-color);\n",
              "  }\n",
              "\n",
              "  .colab-df-quickchart-complete:disabled,\n",
              "  .colab-df-quickchart-complete:disabled:hover {\n",
              "    background-color: var(--disabled-bg-color);\n",
              "    fill: var(--disabled-fill-color);\n",
              "    box-shadow: none;\n",
              "  }\n",
              "\n",
              "  .colab-df-spinner {\n",
              "    border: 2px solid var(--fill-color);\n",
              "    border-color: transparent;\n",
              "    border-bottom-color: var(--fill-color);\n",
              "    animation:\n",
              "      spin 1s steps(1) infinite;\n",
              "  }\n",
              "\n",
              "  @keyframes spin {\n",
              "    0% {\n",
              "      border-color: transparent;\n",
              "      border-bottom-color: var(--fill-color);\n",
              "      border-left-color: var(--fill-color);\n",
              "    }\n",
              "    20% {\n",
              "      border-color: transparent;\n",
              "      border-left-color: var(--fill-color);\n",
              "      border-top-color: var(--fill-color);\n",
              "    }\n",
              "    30% {\n",
              "      border-color: transparent;\n",
              "      border-left-color: var(--fill-color);\n",
              "      border-top-color: var(--fill-color);\n",
              "      border-right-color: var(--fill-color);\n",
              "    }\n",
              "    40% {\n",
              "      border-color: transparent;\n",
              "      border-right-color: var(--fill-color);\n",
              "      border-top-color: var(--fill-color);\n",
              "    }\n",
              "    60% {\n",
              "      border-color: transparent;\n",
              "      border-right-color: var(--fill-color);\n",
              "    }\n",
              "    80% {\n",
              "      border-color: transparent;\n",
              "      border-right-color: var(--fill-color);\n",
              "      border-bottom-color: var(--fill-color);\n",
              "    }\n",
              "    90% {\n",
              "      border-color: transparent;\n",
              "      border-bottom-color: var(--fill-color);\n",
              "    }\n",
              "  }\n",
              "</style>\n",
              "\n",
              "  <script>\n",
              "    async function quickchart(key) {\n",
              "      const quickchartButtonEl =\n",
              "        document.querySelector('#' + key + ' button');\n",
              "      quickchartButtonEl.disabled = true;  // To prevent multiple clicks.\n",
              "      quickchartButtonEl.classList.add('colab-df-spinner');\n",
              "      try {\n",
              "        const charts = await google.colab.kernel.invokeFunction(\n",
              "            'suggestCharts', [key], {});\n",
              "      } catch (error) {\n",
              "        console.error('Error during call to suggestCharts:', error);\n",
              "      }\n",
              "      quickchartButtonEl.classList.remove('colab-df-spinner');\n",
              "      quickchartButtonEl.classList.add('colab-df-quickchart-complete');\n",
              "    }\n",
              "    (() => {\n",
              "      let quickchartButtonEl =\n",
              "        document.querySelector('#df-df44fc81-ec66-4af7-947b-482c1ff850c2 button');\n",
              "      quickchartButtonEl.style.display =\n",
              "        google.colab.kernel.accessAllowed ? 'block' : 'none';\n",
              "    })();\n",
              "  </script>\n",
              "</div>\n",
              "\n",
              "    </div>\n",
              "  </div>\n"
            ],
            "application/vnd.google.colaboratory.intrinsic+json": {
              "type": "dataframe",
              "variable_name": "df"
            }
          },
          "metadata": {},
          "execution_count": 551
        }
      ]
    },
    {
      "cell_type": "code",
      "source": [
        "df.drop('amenities',axis=1,inplace=True)"
      ],
      "metadata": {
        "id": "n49VkLBfaR57"
      },
      "execution_count": 552,
      "outputs": []
    },
    {
      "cell_type": "markdown",
      "source": [
        "### Label Encoding the boolian and object data types"
      ],
      "metadata": {
        "id": "DOjXBObaZzy2"
      }
    },
    {
      "cell_type": "code",
      "source": [
        "bool_and_object_cols = df.select_dtypes(include=['bool','object']).columns\n",
        "bool_and_object_cols"
      ],
      "metadata": {
        "colab": {
          "base_uri": "https://localhost:8080/"
        },
        "id": "T1LqY_HbZK8S",
        "outputId": "24c5d90b-98f9-4456-9536-611bdaaf1e59"
      },
      "execution_count": 553,
      "outputs": [
        {
          "output_type": "execute_result",
          "data": {
            "text/plain": [
              "Index(['property_type', 'room_type', 'bed_type', 'cancellation_policy',\n",
              "       'cleaning_fee', 'city', 'host_has_profile_pic',\n",
              "       'host_identity_verified', 'instant_bookable', 'neighbourhood',\n",
              "       'Wireless Internet', 'Heating', 'Kitchen', 'Essentials',\n",
              "       'Smoke detector', 'Air conditioning', 'Hangers', 'TV'],\n",
              "      dtype='object')"
            ]
          },
          "metadata": {},
          "execution_count": 553
        }
      ]
    },
    {
      "cell_type": "code",
      "source": [
        "from sklearn.preprocessing import LabelEncoder"
      ],
      "metadata": {
        "id": "xdM2wMMNZ-F2"
      },
      "execution_count": 554,
      "outputs": []
    },
    {
      "cell_type": "markdown",
      "source": [
        "Label Encoding and also mapping the encoded values to later use in streamlit."
      ],
      "metadata": {
        "id": "2qlyuQEIC_q7"
      }
    },
    {
      "cell_type": "code",
      "source": [
        "encoders = {}\n",
        "mappings = {}\n",
        "classes={}\n",
        "\n",
        "for col in bool_and_object_cols:\n",
        "    le = LabelEncoder()\n",
        "    df[col] = le.fit_transform(df[col])\n",
        "    encoders[col] = le\n",
        "    classes[col]=le.classes_\n",
        "    mappings[col] = {label: id for id, label in enumerate(le.classes_)}\n",
        "\n",
        "\n",
        "for col, mapping in mappings.items():\n",
        "    print(f\"{col}: {mapping}\")"
      ],
      "metadata": {
        "colab": {
          "base_uri": "https://localhost:8080/"
        },
        "id": "Tsq7FUBL0xxq",
        "outputId": "d1123978-2614-4d53-94ea-58b916dc2be4"
      },
      "execution_count": 555,
      "outputs": [
        {
          "output_type": "stream",
          "name": "stdout",
          "text": [
            "property_type: {'Apartment': 0, 'Bed & Breakfast': 1, 'Boat': 2, 'Boutique hotel': 3, 'Bungalow': 4, 'Cabin': 5, 'Camper/RV': 6, 'Castle': 7, 'Cave': 8, 'Chalet': 9, 'Condominium': 10, 'Dorm': 11, 'Earth House': 12, 'Guest suite': 13, 'Guesthouse': 14, 'Hostel': 15, 'House': 16, 'Hut': 17, 'In-law': 18, 'Loft': 19, 'Other': 20, 'Serviced apartment': 21, 'Tent': 22, 'Timeshare': 23, 'Tipi': 24, 'Townhouse': 25, 'Train': 26, 'Treehouse': 27, 'Vacation home': 28, 'Villa': 29, 'Yurt': 30}\n",
            "room_type: {'Entire home/apt': 0, 'Private room': 1, 'Shared room': 2}\n",
            "bed_type: {'Airbed': 0, 'Couch': 1, 'Futon': 2, 'Pull-out Sofa': 3, 'Real Bed': 4}\n",
            "cancellation_policy: {'flexible': 0, 'moderate': 1, 'strict': 2, 'super_strict_30': 3, 'super_strict_60': 4}\n",
            "cleaning_fee: {False: 0, True: 1}\n",
            "city: {'Boston': 0, 'Chicago': 1, 'DC': 2, 'LA': 3, 'NYC': 4, 'SF': 5}\n",
            "host_has_profile_pic: {'f': 0, 't': 1}\n",
            "host_identity_verified: {'f': 0, 't': 1}\n",
            "instant_bookable: {'f': 0, 't': 1}\n",
            "neighbourhood: {'16th Street Heights': 0, 'Adams Morgan': 1, 'Alamo Square': 2, 'Albany Park': 3, 'Alhambra': 4, 'Allerton': 5, 'Allston-Brighton': 6, 'Alphabet City': 7, 'Altadena': 8, 'American University Park': 9, 'Anacostia': 10, 'Andersonville': 11, 'Annadale': 12, 'Arboretum': 13, 'Arcadia': 14, 'Archer Heights': 15, 'Arleta': 16, 'Armour Square': 17, 'Arts District': 18, 'Ashburn': 19, 'Astoria': 20, 'Atwater Village': 21, 'Auburn Gresham': 22, 'Austin': 23, 'Avondale': 24, 'Azusa': 25, 'Back Bay': 26, 'Back of the Yards': 27, 'Balboa Terrace': 28, 'Baldwin Hills': 29, 'Baldwin Park': 30, 'Barney Circle': 31, 'Barry Farm': 32, 'Bath Beach': 33, 'Battery Park City': 34, 'Bay Ridge': 35, 'Baychester': 36, 'Bayside': 37, 'Bayview': 38, 'Beacon Hill': 39, 'Bedford Park': 40, 'Bedford-Stuyvesant': 41, 'Bel Air/Beverly Crest': 42, 'Bell': 43, 'Bellevue': 44, 'Bellflower': 45, 'Belmont': 46, 'Belmont Cragin': 47, 'Benning': 48, 'Benning Heights': 49, 'Benning Ridge': 50, 'Bensonhurst': 51, 'Bergen Beach': 52, 'Berkley': 53, 'Bernal Heights': 54, 'Beverly': 55, 'Beverly Hills': 56, 'Bloomingdale': 57, 'Boerum Hill': 58, 'Borough Park': 59, 'Boyle Heights': 60, 'Boystown': 61, 'Bradbury': 62, 'Brentwood': 63, 'Bridgeport': 64, 'Brighton Beach': 65, 'Brighton Park': 66, 'Brightwood': 67, 'Bronxdale': 68, 'Bronzeville': 69, 'Brookland': 70, 'Brooklyn': 71, 'Brooklyn Heights': 72, 'Brooklyn Navy Yard': 73, 'Brownsville': 74, 'Bucktown': 75, 'Buena Vista': 76, 'Burbank': 77, 'Burleith': 78, 'Bushwick': 79, 'Cahuenga Pass': 80, 'Canarsie': 81, 'Canoga Park': 82, 'Capitol Hill': 83, 'Carroll Gardens': 84, 'Carson': 85, 'Carver Langston': 86, 'Castle Hill ': 87, 'Castleton Corners': 88, 'Cathedral Heights': 89, 'Central Northeast/Mahaning Heights': 90, 'Cerritos': 91, 'Charlestown': 92, 'Chatham': 93, 'Chatsworth': 94, 'Chelsea': 95, 'Chestnut Hill': 96, 'Chevy Chase': 97, 'Chevy Chase, MD': 98, 'Chinatown': 99, 'City Island': 100, 'Civic Center': 101, 'Claremont': 102, 'Cleveland Park': 103, 'Clifton': 104, 'Clinton Hill': 105, 'Co-op City': 106, 'Cobble Hill': 107, 'Cole Valley': 108, 'College Point': 109, 'Colonial Village': 110, 'Columbia Heights': 111, 'Columbia Street Waterfront': 112, 'Commerce': 113, 'Compton': 114, 'Concord': 115, 'Concourse': 116, 'Concourse Village': 117, 'Coney Island': 118, 'Congress Heights': 119, 'Corona': 120, 'Country Club': 121, 'Covina': 122, 'Cow Hollow': 123, 'Crestwood': 124, 'Crocker Amazon': 125, 'Crotona': 126, 'Crown Heights': 127, 'Culver City': 128, 'Cypress Park': 129, 'DUMBO': 130, 'Deanwood': 131, 'Del Rey': 132, 'Diamond Heights': 133, 'Ditmars / Steinway': 134, 'Dogpatch': 135, 'Dongan Hills': 136, 'Dorchester': 137, 'Douglass': 138, 'Downey': 139, 'Downtown': 140, 'Downtown Brooklyn': 141, 'Downtown Crossing': 142, 'Downtown/Penn Quarter': 143, 'Duarte': 144, 'Duboce Triangle': 145, 'Dunning': 146, 'Dupont Circle': 147, 'Dupont Park': 148, 'Dyker Heights': 149, 'Eagle Rock': 150, 'East Boston': 151, 'East Corner': 152, 'East Elmhurst': 153, 'East Flatbush': 154, 'East Harlem': 155, 'East Hollywood': 156, 'East Los Angeles': 157, 'East New York': 158, 'East San Gabriel': 159, 'East Village': 160, 'Eastchester': 161, 'Eastland Gardens': 162, 'Echo Park': 163, 'Eckington': 164, 'Edenwald': 165, 'Edgewater': 166, 'Edgewood': 167, 'Edison Park': 168, 'El Monte': 169, 'El Segundo': 170, 'El Sereno': 171, 'Elm Park': 172, 'Elmhurst': 173, 'Eltingville': 174, 'Elysian Valley': 175, 'Encino': 176, 'Englewood': 177, 'Excelsior': 178, 'Fairlawn': 179, 'Fenway/Kenmore': 180, 'Financial District': 181, \"Fisherman's Wharf\": 182, 'Flatbush': 183, 'Flatiron District': 184, 'Flatlands': 185, 'Florence-Graham': 186, 'Flushing': 187, 'Foggy Bottom': 188, 'Fordham': 189, 'Forest Hill': 190, 'Forest Hills': 191, 'Fort Davis': 192, 'Fort Dupont': 193, 'Fort Greene': 194, 'Fort Lincoln': 195, 'Fort Totten': 196, 'Fort Wadsworth': 197, 'Foxhall': 198, 'Fresh Meadows': 199, 'Friendship Heights': 200, 'Galewood': 201, 'Gallaudet': 202, 'Gardena': 203, 'Garfield Heights': 204, 'Garfield Park': 205, 'Garfield Ridge': 206, 'Gateway': 207, 'Georgetown': 208, 'Glassell Park': 209, 'Glen Park': 210, 'Glendale': 211, 'Glendora': 212, 'Glover Park': 213, 'Gold Coast': 214, 'Good Hope': 215, 'Government Center': 216, 'Gowanus': 217, 'Gramercy Park': 218, 'Granada Hills North': 219, 'Grand Crossing': 220, 'Grant City': 221, 'Grasmere': 222, 'Gravesend': 223, 'Great Kills': 224, 'Greenpoint': 225, 'Greenway': 226, 'Greenwich Village': 227, 'Greenwood Heights': 228, 'Grymes Hill': 229, 'Haight-Ashbury': 230, 'Hamilton Heights': 231, 'Harbor City': 232, 'Harbor Gateway': 233, 'Harlem': 234, 'Hawaiian Gardens': 235, 'Hawthorne': 236, 'Hayes Valley': 237, \"Hell's Kitchen\": 238, 'Hermon': 239, 'Hermosa': 240, 'Hermosa Beach': 241, 'Highbridge': 242, 'Highland Park': 243, 'Hillbrook': 244, 'Hillcrest': 245, 'Hollywood': 246, 'Hollywood Hills': 247, 'Howard Beach': 248, 'Hudson Square': 249, 'Humboldt Park': 250, 'Huntington Park': 251, 'Hunts Point': 252, 'Hyde Park': 253, 'Ingleside': 254, 'Inglewood': 255, 'Inner Sunset': 256, 'Inwood': 257, 'Irving Park': 258, 'Irwindale': 259, 'Ivy City': 260, 'Jackson Heights': 261, 'Jamaica': 262, 'Jamaica Plain': 263, 'Japantown': 264, 'Jefferson Park': 265, 'Judiciary Square': 266, 'Kalorama': 267, 'Kensington': 268, 'Kent': 269, 'Kenwood': 270, 'Kew Garden Hills': 271, 'Kingman Park': 272, 'Kingsbridge': 273, 'Kingsbridge Heights': 274, 'Kips Bay': 275, 'La Canada Flintridge': 276, 'La Crescenta-Montrose': 277, 'La Mirada': 278, 'La Puente': 279, 'Lake Balboa': 280, 'Lakeshore': 281, 'Lakeview': 282, 'Lakewood': 283, 'Lamond Riggs': 284, 'Langdon': 285, 'Laurel Canyon': 286, 'Lawndale': 287, 'LeDroit Park': 288, 'Leather District': 289, 'Lefferts Garden': 290, 'Lighthouse HIll': 291, 'Lincoln Heights': 292, 'Lincoln Park': 293, 'Lincoln Square': 294, 'Lindenwood': 295, 'Little Italy': 296, 'Little Italy/UIC': 297, 'Little Village': 298, 'Logan Circle': 299, 'Logan Square': 300, 'Lomita': 301, 'Long Beach': 302, 'Long Island City': 303, 'Longwood': 304, 'Loop': 305, 'Los Feliz': 306, 'Lower East Side': 307, 'Lower Haight': 308, 'Lynwood': 309, 'Magnificent Mile': 310, 'Malibu': 311, 'Manhattan': 312, 'Manhattan Beach': 313, 'Manor Park': 314, 'Mar Vista': 315, 'Marble Hill': 316, 'Marina': 317, 'Marina Del Rey': 318, 'Marine Park': 319, 'Mariners Harbor': 320, 'Marshall Heights': 321, 'Maspeth': 322, 'Massachusetts Heights': 323, 'Mattapan': 324, 'McKinley Park': 325, 'Meatpacking District': 326, 'Meiers Corners': 327, 'Melrose': 328, 'Michigan Park': 329, 'Mid-City': 330, 'Mid-Wilshire': 331, 'Middle Village': 332, 'Midland Beach': 333, 'Midtown': 334, 'Midtown East': 335, 'Midwood': 336, 'Mill Basin': 337, 'Mission Bay': 338, 'Mission District': 339, 'Mission Hill': 340, 'Mission Hills': 341, 'Mission Terrace': 342, 'Monrovia': 343, 'Montclare': 344, 'Montebello': 345, 'Montecito Heights': 346, 'Monterey Hills': 347, 'Monterey Park': 348, 'Morgan Park': 349, 'Morningside Heights': 350, 'Morris Heights': 351, 'Morris Park': 352, 'Morrisania': 353, 'Mott Haven': 354, 'Mount Eden': 355, 'Mount Pleasant': 356, 'Mount Vernon Square': 357, 'Mount Washington': 358, 'Mt Rainier/Brentwood, MD': 359, 'Mt. Vernon Square': 360, 'Murray Hill': 361, 'Navy Yard': 362, 'Naylor Gardens': 363, 'Near North Side': 364, 'Near Northeast/H Street Corridor': 365, 'Near West Side': 366, 'New Brighton': 367, 'New Springville': 368, 'Nob Hill': 369, 'Noe Valley': 370, 'Noho': 371, 'Nolita': 372, 'North Beach': 373, 'North Center': 374, 'North Cleveland Park': 375, 'North End': 376, 'North Hills East': 377, 'North Hills West': 378, 'North Hollywood': 379, 'North Lawndale': 380, 'North Michigan Park': 381, 'North Park': 382, 'Northridge': 383, 'Norwalk': 384, 'Norwood': 385, 'Norwood Park': 386, \"O'Hare\": 387, 'Oakland': 388, 'Oakwood': 389, 'Observatory Circle': 390, 'Oceanview': 391, \"Old Soldiers' Home\": 392, 'Old Town': 393, 'Outer Sunset': 394, 'Ozone Park': 395, 'Pacific Heights': 396, 'Pacific Palisades': 397, 'Pacoima': 398, 'Palisades': 399, 'Palms': 400, 'Palos Verdes': 401, 'Panorama City': 402, 'Paramount': 403, 'Park Slope': 404, 'Park Versailles': 405, 'Park View': 406, 'Parkchester': 407, 'Parkside': 408, 'Pasadena': 409, 'Pelham Bay': 410, 'Petworth': 411, 'Pico Rivera': 412, 'Pilsen': 413, 'Pleasant Hill': 414, 'Pleasant Plains': 415, 'Port Morris': 416, 'Port Richmond': 417, 'Portage Park': 418, 'Porter Ranch': 419, 'Portola': 420, 'Potrero Hill': 421, 'Presidio': 422, 'Presidio Heights': 423, 'Printers Row': 424, 'Prospect Heights': 425, 'Pullman': 426, 'Queens': 427, 'Rancho Palos Verdes': 428, 'Randall Manor': 429, 'Randle Highlands': 430, 'Red Hook': 431, 'Redondo Beach': 432, 'Rego Park': 433, 'Reseda': 434, 'Richmond District': 435, 'Richmond Hill': 436, 'Ridgewood': 437, 'River North': 438, 'River Terrace': 439, 'River West': 440, 'Riverdale': 441, 'Rogers Park': 442, 'Rolling Hills': 443, 'Rolling Hills Estates': 444, 'Roosevelt Island': 445, 'Roscoe Village': 446, 'Rosebank': 447, 'Roseland': 448, 'Rosemead': 449, 'Roslindale': 450, 'Rossville': 451, 'Roxbury': 452, 'Russian Hill': 453, 'San Gabriel': 454, 'San Marino': 455, 'San Pedro': 456, 'Santa Fe Springs': 457, 'Santa Monica': 458, 'Sea Cliff': 459, 'Sea Gate': 460, 'Shaw': 461, 'Sheepshead Bay': 462, 'Shepherd Park': 463, 'Sherman Oaks': 464, 'Shipley Terrace': 465, 'Sierra Madre': 466, 'Signal Hill': 467, 'Silver Lake': 468, 'Silver Spring, MD': 469, 'Skid Row': 470, 'Skyland': 471, 'SoMa': 472, 'Soho': 473, 'Somerville': 474, 'Soundview': 475, 'South Beach': 476, 'South Boston': 477, 'South Chicago': 478, 'South El Monte': 479, 'South End': 480, 'South Gate': 481, 'South LA': 482, 'South Loop/Printers Row': 483, 'South Ozone Park': 484, 'South Pasadena': 485, 'South Robertson': 486, 'South San Gabriel': 487, 'South Shore': 488, 'South Street Seaport': 489, 'South Whittier': 490, 'Southwest Waterfront': 491, 'Spuyten Duyvil': 492, 'St. Elizabeths': 493, 'St. George': 494, 'Stapleton': 495, 'Streeterville': 496, 'Stronghold': 497, 'Studio City': 498, 'Sun Valley': 499, 'Sunland/Tujunga': 500, 'Sunnyside': 501, 'Sunset Park': 502, 'Sylmar': 503, 'Takoma': 504, 'Takoma Park, MD': 505, 'Tarzana': 506, 'Telegraph Hill': 507, 'Temple City': 508, 'Tenderloin': 509, 'The Bronx': 510, 'The Castro': 511, 'The Rockaways': 512, 'Theater District': 513, 'Throgs Neck': 514, 'Times Square/Theatre District': 515, 'Toluca Lake': 516, 'Tompkinsville': 517, 'Topanga': 518, 'Torrance': 519, 'Tottenville': 520, 'Tremont': 521, 'Tribeca': 522, 'Trinidad': 523, 'Truxton Circle': 524, 'Twin Peaks': 525, 'Twining': 526, 'U Street Corridor': 527, 'Ukrainian Village': 528, 'Union Square': 529, 'University Heights': 530, 'Upper East Side': 531, 'Upper West Side': 532, 'Uptown': 533, 'Utopia': 534, 'Valley Glen': 535, 'Valley Village': 536, 'Van Nest': 537, 'Van Nuys': 538, 'Venice': 539, 'Vinegar Hill': 540, 'Visitacion Valley': 541, 'Wakefield': 542, 'Washington Heights': 543, 'Washington Highlands': 544, 'Washington Park': 545, 'Watts': 546, 'Wesley Heights': 547, 'West Adams': 548, 'West Athens': 549, 'West Brighton': 550, 'West Covina': 551, 'West Elsdon': 552, 'West End': 553, 'West Hills': 554, 'West Hollywood': 555, 'West Lawn': 556, 'West Loop/Greektown': 557, 'West Los Angeles': 558, 'West Portal': 559, 'West Puente Valley': 560, 'West Ridge': 561, 'West Roxbury': 562, 'West Town': 563, 'West Town/Noble Square': 564, 'West Village': 565, 'Westchester Village': 566, 'Westchester/Playa Del Rey': 567, 'Westerleigh': 568, 'Western Addition/NOPA': 569, 'Westlake': 570, 'Westmont': 571, 'Westside': 572, 'Westwood': 573, 'Whitestone': 574, 'Whittier': 575, 'Wicker Park': 576, 'Williamsbridge': 577, 'Williamsburg': 578, 'Willowbrook': 579, 'Windsor Terrace': 580, 'Winnetka': 581, 'Woodhaven': 582, 'Woodland': 583, 'Woodland Hills/Warner Center': 584, 'Woodlawn': 585, 'Woodley Park': 586, 'Woodridge': 587, 'Woodside': 588, 'Wrigleyville': 589}\n",
            "Wireless Internet: {False: 0, True: 1}\n",
            "Heating: {False: 0, True: 1}\n",
            "Kitchen: {False: 0, True: 1}\n",
            "Essentials: {False: 0, True: 1}\n",
            "Smoke detector: {False: 0, True: 1}\n",
            "Air conditioning: {False: 0, True: 1}\n",
            "Hangers: {False: 0, True: 1}\n",
            "TV: {False: 0, True: 1}\n"
          ]
        }
      ]
    },
    {
      "cell_type": "code",
      "source": [
        "print(mappings['property_type'])"
      ],
      "metadata": {
        "colab": {
          "base_uri": "https://localhost:8080/"
        },
        "id": "dpV-5aOop1wg",
        "outputId": "4716cf18-8a83-4fbf-e0bc-ca769d35c33e"
      },
      "execution_count": 556,
      "outputs": [
        {
          "output_type": "stream",
          "name": "stdout",
          "text": [
            "{'Apartment': 0, 'Bed & Breakfast': 1, 'Boat': 2, 'Boutique hotel': 3, 'Bungalow': 4, 'Cabin': 5, 'Camper/RV': 6, 'Castle': 7, 'Cave': 8, 'Chalet': 9, 'Condominium': 10, 'Dorm': 11, 'Earth House': 12, 'Guest suite': 13, 'Guesthouse': 14, 'Hostel': 15, 'House': 16, 'Hut': 17, 'In-law': 18, 'Loft': 19, 'Other': 20, 'Serviced apartment': 21, 'Tent': 22, 'Timeshare': 23, 'Tipi': 24, 'Townhouse': 25, 'Train': 26, 'Treehouse': 27, 'Vacation home': 28, 'Villa': 29, 'Yurt': 30}\n"
          ]
        }
      ]
    },
    {
      "cell_type": "code",
      "source": [
        "df.dtypes"
      ],
      "metadata": {
        "colab": {
          "base_uri": "https://localhost:8080/"
        },
        "id": "jZdqNE7GaPVg",
        "outputId": "60d43cea-c3dc-4e02-93f8-8644e899c977"
      },
      "execution_count": 557,
      "outputs": [
        {
          "output_type": "execute_result",
          "data": {
            "text/plain": [
              "log_price                 float64\n",
              "property_type               int64\n",
              "room_type                   int64\n",
              "accommodates                int64\n",
              "bathrooms                   int64\n",
              "bed_type                    int64\n",
              "cancellation_policy         int64\n",
              "cleaning_fee                int64\n",
              "city                        int64\n",
              "host_has_profile_pic        int64\n",
              "host_identity_verified      int64\n",
              "host_response_rate        float64\n",
              "host_since                  int64\n",
              "instant_bookable            int64\n",
              "latitude                  float64\n",
              "longitude                 float64\n",
              "neighbourhood               int64\n",
              "number_of_reviews           int64\n",
              "review_scores_rating      float64\n",
              "zipcode                   float64\n",
              "bedrooms                  float64\n",
              "beds                      float64\n",
              "total amenities             int64\n",
              "Wireless Internet           int64\n",
              "Heating                     int64\n",
              "Kitchen                     int64\n",
              "Essentials                  int64\n",
              "Smoke detector              int64\n",
              "Air conditioning            int64\n",
              "Hangers                     int64\n",
              "TV                          int64\n",
              "dtype: object"
            ]
          },
          "metadata": {},
          "execution_count": 557
        }
      ]
    },
    {
      "cell_type": "markdown",
      "source": [
        "Checking the correlation with the target"
      ],
      "metadata": {
        "id": "4LZOyyiStKkM"
      }
    },
    {
      "cell_type": "code",
      "source": [
        "df.corr()['log_price'].sort_values(ascending=False)"
      ],
      "metadata": {
        "colab": {
          "base_uri": "https://localhost:8080/"
        },
        "id": "T6KomDQgab3C",
        "outputId": "fa368301-8c89-4e61-ee4b-b1c148b42d81"
      },
      "execution_count": 558,
      "outputs": [
        {
          "output_type": "execute_result",
          "data": {
            "text/plain": [
              "log_price                 1.000000\n",
              "accommodates              0.594425\n",
              "bedrooms                  0.502222\n",
              "beds                      0.462160\n",
              "bathrooms                 0.336784\n",
              "TV                        0.272948\n",
              "total amenities           0.226060\n",
              "cancellation_policy       0.189390\n",
              "cleaning_fee              0.170622\n",
              "Kitchen                   0.126888\n",
              "bed_type                  0.113759\n",
              "Heating                   0.095970\n",
              "neighbourhood             0.091204\n",
              "Hangers                   0.085088\n",
              "review_scores_rating      0.076137\n",
              "zipcode                   0.061762\n",
              "Smoke detector            0.057646\n",
              "Essentials                0.056843\n",
              "Wireless Internet         0.049092\n",
              "city                      0.047510\n",
              "host_identity_verified    0.045469\n",
              "Air conditioning          0.037875\n",
              "property_type             0.025419\n",
              "host_response_rate        0.002757\n",
              "host_has_profile_pic     -0.013996\n",
              "number_of_reviews        -0.021697\n",
              "latitude                 -0.033373\n",
              "instant_bookable         -0.047840\n",
              "host_since               -0.076454\n",
              "longitude                -0.079944\n",
              "room_type                -0.643212\n",
              "Name: log_price, dtype: float64"
            ]
          },
          "metadata": {},
          "execution_count": 558
        }
      ]
    },
    {
      "cell_type": "code",
      "source": [
        "plt.figure(figsize=(12,6))\n",
        "df.corr()['log_price'].sort_values(ascending=False)[1:].plot(kind='bar',color='orange')\n",
        "plt.show()"
      ],
      "metadata": {
        "colab": {
          "base_uri": "https://localhost:8080/",
          "height": 658
        },
        "id": "TfcPN8iqa8N0",
        "outputId": "1a2cd799-e93a-4f43-9ac4-02e6100d4463"
      },
      "execution_count": 559,
      "outputs": [
        {
          "output_type": "display_data",
          "data": {
            "text/plain": [
              "<Figure size 1200x600 with 1 Axes>"
            ],
            "image/png": "[encoded data removed]"
          },
          "metadata": {}
        }
      ]
    },
    {
      "cell_type": "markdown",
      "source": [
        "### Initial training without feature selection"
      ],
      "metadata": {
        "id": "ojN9k-LVcYmj"
      }
    },
    {
      "cell_type": "code",
      "source": [
        "X=df.drop('log_price',axis=1)\n",
        "y=df['log_price']"
      ],
      "metadata": {
        "id": "JYmNCHAPclgy"
      },
      "execution_count": 561,
      "outputs": []
    },
    {
      "cell_type": "markdown",
      "source": [
        "### Scaling and splitting"
      ],
      "metadata": {
        "id": "QvhPZghtb1TA"
      }
    },
    {
      "cell_type": "code",
      "source": [
        "from sklearn.preprocessing import MinMaxScaler\n",
        "scaler=MinMaxScaler()\n",
        "X_scaled=scaler.fit_transform(X)"
      ],
      "metadata": {
        "id": "jGU3JXBzb0fh"
      },
      "execution_count": 677,
      "outputs": []
    },
    {
      "cell_type": "code",
      "source": [
        "X_train, X_test, y_train, y_test = train_test_split(X_scaled, y, test_size=0.2, random_state=18)"
      ],
      "metadata": {
        "id": "QTJV6bNFcfAn"
      },
      "execution_count": 707,
      "outputs": []
    },
    {
      "cell_type": "code",
      "source": [
        "models = {\n",
        "    'Linear Regression': LinearRegression(),\n",
        "    'Ridge Regression': Ridge(),\n",
        "    'Random Forest': RandomForestRegressor(random_state=42),\n",
        "    'Gradient Boosting': GradientBoostingRegressor(random_state=42),\n",
        "    'XGBRegressor' : XGBRegressor()\n",
        "}"
      ],
      "metadata": {
        "id": "gXWFc0vpcufX"
      },
      "execution_count": 708,
      "outputs": []
    },
    {
      "cell_type": "code",
      "source": [
        "r2_list=[]\n",
        "mse_list=[]\n",
        "kf_list=[]\n",
        "for name, model in models.items():\n",
        "    model.fit(X_train, y_train)\n",
        "    y_pred = model.predict(X_test)\n",
        "    r2=r2_score(y_test,y_pred)\n",
        "    mse = mean_squared_error(y_test, y_pred)\n",
        "    kf = cross_val_score(estimator=model, X=X_train, y=y_train, cv=3)\n",
        "    r2_list.append(r2)\n",
        "    mse_list.append(mse)\n",
        "    kf_list.append(kf.mean())"
      ],
      "metadata": {
        "id": "eDBhFlnkcyb0"
      },
      "execution_count": 709,
      "outputs": []
    },
    {
      "cell_type": "code",
      "source": [
        "score_comparison = pd.DataFrame({'Model': models.keys(), 'R2-Score': r2_list, 'MSE':mse_list, 'K-Fold': kf_list})\n",
        "score_comparison"
      ],
      "metadata": {
        "colab": {
          "base_uri": "https://localhost:8080/",
          "height": 206
        },
        "id": "lNw8gZ_j_g9k",
        "outputId": "464d3078-79e5-4a20-fda9-83520b9fcc11"
      },
      "execution_count": 710,
      "outputs": [
        {
          "output_type": "execute_result",
          "data": {
            "text/plain": [
              "               Model  R2-Score       MSE    K-Fold\n",
              "0  Linear Regression  0.629681  0.164000  0.628531\n",
              "1   Ridge Regression  0.629556  0.164055  0.628499\n",
              "2      Random Forest  0.764298  0.104383  0.752205\n",
              "3  Gradient Boosting  0.733754  0.117910  0.730575\n",
              "4       XGBRegressor  0.771552  0.101170  0.759900"
            ],
            "text/html": [
              "\n",
              "  <div id=\"df-d6741f96-1ef3-44c8-ae4f-83a468c49e9b\" class=\"colab-df-container\">\n",
              "    <div>\n",
              "<style scoped>\n",
              "    .dataframe tbody tr th:only-of-type {\n",
              "        vertical-align: middle;\n",
              "    }\n",
              "\n",
              "    .dataframe tbody tr th {\n",
              "        vertical-align: top;\n",
              "    }\n",
              "\n",
              "    .dataframe thead th {\n",
              "        text-align: right;\n",
              "    }\n",
              "</style>\n",
              "<table border=\"1\" class=\"dataframe\">\n",
              "  <thead>\n",
              "    <tr style=\"text-align: right;\">\n",
              "      <th></th>\n",
              "      <th>Model</th>\n",
              "      <th>R2-Score</th>\n",
              "      <th>MSE</th>\n",
              "      <th>K-Fold</th>\n",
              "    </tr>\n",
              "  </thead>\n",
              "  <tbody>\n",
              "    <tr>\n",
              "      <th>0</th>\n",
              "      <td>Linear Regression</td>\n",
              "      <td>0.629681</td>\n",
              "      <td>0.164000</td>\n",
              "      <td>0.628531</td>\n",
              "    </tr>\n",
              "    <tr>\n",
              "      <th>1</th>\n",
              "      <td>Ridge Regression</td>\n",
              "      <td>0.629556</td>\n",
              "      <td>0.164055</td>\n",
              "      <td>0.628499</td>\n",
              "    </tr>\n",
              "    <tr>\n",
              "      <th>2</th>\n",
              "      <td>Random Forest</td>\n",
              "      <td>0.764298</td>\n",
              "      <td>0.104383</td>\n",
              "      <td>0.752205</td>\n",
              "    </tr>\n",
              "    <tr>\n",
              "      <th>3</th>\n",
              "      <td>Gradient Boosting</td>\n",
              "      <td>0.733754</td>\n",
              "      <td>0.117910</td>\n",
              "      <td>0.730575</td>\n",
              "    </tr>\n",
              "    <tr>\n",
              "      <th>4</th>\n",
              "      <td>XGBRegressor</td>\n",
              "      <td>0.771552</td>\n",
              "      <td>0.101170</td>\n",
              "      <td>0.759900</td>\n",
              "    </tr>\n",
              "  </tbody>\n",
              "</table>\n",
              "</div>\n",
              "    <div class=\"colab-df-buttons\">\n",
              "\n",
              "  <div class=\"colab-df-container\">\n",
              "    <button class=\"colab-df-convert\" onclick=\"convertToInteractive('df-d6741f96-1ef3-44c8-ae4f-83a468c49e9b')\"\n",
              "            title=\"Convert this dataframe to an interactive table.\"\n",
              "            style=\"display:none;\">\n",
              "\n",
              "  <svg xmlns=\"http://www.w3.org/2000/svg\" height=\"24px\" viewBox=\"0 -960 960 960\">\n",
              "    <path d=\"M120-120v-720h720v720H120Zm60-500h600v-160H180v160Zm220 220h160v-160H400v160Zm0 220h160v-160H400v160ZM180-400h160v-160H180v160Zm440 0h160v-160H620v160ZM180-180h160v-160H180v160Zm440 0h160v-160H620v160Z\"/>\n",
              "  </svg>\n",
              "    </button>\n",
              "\n",
              "  <style>\n",
              "    .colab-df-container {\n",
              "      display:flex;\n",
              "      gap: 12px;\n",
              "    }\n",
              "\n",
              "    .colab-df-convert {\n",
              "      background-color: #E8F0FE;\n",
              "      border: none;\n",
              "      border-radius: 50%;\n",
              "      cursor: pointer;\n",
              "      display: none;\n",
              "      fill: #1967D2;\n",
              "      height: 32px;\n",
              "      padding: 0 0 0 0;\n",
              "      width: 32px;\n",
              "    }\n",
              "\n",
              "    .colab-df-convert:hover {\n",
              "      background-color: #E2EBFA;\n",
              "      box-shadow: 0px 1px 2px rgba(60, 64, 67, 0.3), 0px 1px 3px 1px rgba(60, 64, 67, 0.15);\n",
              "      fill: #174EA6;\n",
              "    }\n",
              "\n",
              "    .colab-df-buttons div {\n",
              "      margin-bottom: 4px;\n",
              "    }\n",
              "\n",
              "    [theme=dark] .colab-df-convert {\n",
              "      background-color: #3B4455;\n",
              "      fill: #D2E3FC;\n",
              "    }\n",
              "\n",
              "    [theme=dark] .colab-df-convert:hover {\n",
              "      background-color: #434B5C;\n",
              "      box-shadow: 0px 1px 3px 1px rgba(0, 0, 0, 0.15);\n",
              "      filter: drop-shadow(0px 1px 2px rgba(0, 0, 0, 0.3));\n",
              "      fill: #FFFFFF;\n",
              "    }\n",
              "  </style>\n",
              "\n",
              "    <script>\n",
              "      const buttonEl =\n",
              "        document.querySelector('#df-d6741f96-1ef3-44c8-ae4f-83a468c49e9b button.colab-df-convert');\n",
              "      buttonEl.style.display =\n",
              "        google.colab.kernel.accessAllowed ? 'block' : 'none';\n",
              "\n",
              "      async function convertToInteractive(key) {\n",
              "        const element = document.querySelector('#df-d6741f96-1ef3-44c8-ae4f-83a468c49e9b');\n",
              "        const dataTable =\n",
              "          await google.colab.kernel.invokeFunction('convertToInteractive',\n",
              "                                                    [key], {});\n",
              "        if (!dataTable) return;\n",
              "\n",
              "        const docLinkHtml = 'Like what you see? Visit the ' +\n",
              "          '<a target=\"_blank\" href=https://colab.research.google.com/notebooks/data_table.ipynb>data table notebook</a>'\n",
              "          + ' to learn more about interactive tables.';\n",
              "        element.innerHTML = '';\n",
              "        dataTable['output_type'] = 'display_data';\n",
              "        await google.colab.output.renderOutput(dataTable, element);\n",
              "        const docLink = document.createElement('div');\n",
              "        docLink.innerHTML = docLinkHtml;\n",
              "        element.appendChild(docLink);\n",
              "      }\n",
              "    </script>\n",
              "  </div>\n",
              "\n",
              "\n",
              "<div id=\"df-be2d064c-86f0-4624-b5a2-220357f8754b\">\n",
              "  <button class=\"colab-df-quickchart\" onclick=\"quickchart('df-be2d064c-86f0-4624-b5a2-220357f8754b')\"\n",
              "            title=\"Suggest charts\"\n",
              "            style=\"display:none;\">\n",
              "\n",
              "<svg xmlns=\"http://www.w3.org/2000/svg\" height=\"24px\"viewBox=\"0 0 24 24\"\n",
              "     width=\"24px\">\n",
              "    <g>\n",
              "        <path d=\"M19 3H5c-1.1 0-2 .9-2 2v14c0 1.1.9 2 2 2h14c1.1 0 2-.9 2-2V5c0-1.1-.9-2-2-2zM9 17H7v-7h2v7zm4 0h-2V7h2v10zm4 0h-2v-4h2v4z\"/>\n",
              "    </g>\n",
              "</svg>\n",
              "  </button>\n",
              "\n",
              "<style>\n",
              "  .colab-df-quickchart {\n",
              "      --bg-color: #E8F0FE;\n",
              "      --fill-color: #1967D2;\n",
              "      --hover-bg-color: #E2EBFA;\n",
              "      --hover-fill-color: #174EA6;\n",
              "      --disabled-fill-color: #AAA;\n",
              "      --disabled-bg-color: #DDD;\n",
              "  }\n",
              "\n",
              "  [theme=dark] .colab-df-quickchart {\n",
              "      --bg-color: #3B4455;\n",
              "      --fill-color: #D2E3FC;\n",
              "      --hover-bg-color: #434B5C;\n",
              "      --hover-fill-color: #FFFFFF;\n",
              "      --disabled-bg-color: #3B4455;\n",
              "      --disabled-fill-color: #666;\n",
              "  }\n",
              "\n",
              "  .colab-df-quickchart {\n",
              "    background-color: var(--bg-color);\n",
              "    border: none;\n",
              "    border-radius: 50%;\n",
              "    cursor: pointer;\n",
              "    display: none;\n",
              "    fill: var(--fill-color);\n",
              "    height: 32px;\n",
              "    padding: 0;\n",
              "    width: 32px;\n",
              "  }\n",
              "\n",
              "  .colab-df-quickchart:hover {\n",
              "    background-color: var(--hover-bg-color);\n",
              "    box-shadow: 0 1px 2px rgba(60, 64, 67, 0.3), 0 1px 3px 1px rgba(60, 64, 67, 0.15);\n",
              "    fill: var(--button-hover-fill-color);\n",
              "  }\n",
              "\n",
              "  .colab-df-quickchart-complete:disabled,\n",
              "  .colab-df-quickchart-complete:disabled:hover {\n",
              "    background-color: var(--disabled-bg-color);\n",
              "    fill: var(--disabled-fill-color);\n",
              "    box-shadow: none;\n",
              "  }\n",
              "\n",
              "  .colab-df-spinner {\n",
              "    border: 2px solid var(--fill-color);\n",
              "    border-color: transparent;\n",
              "    border-bottom-color: var(--fill-color);\n",
              "    animation:\n",
              "      spin 1s steps(1) infinite;\n",
              "  }\n",
              "\n",
              "  @keyframes spin {\n",
              "    0% {\n",
              "      border-color: transparent;\n",
              "      border-bottom-color: var(--fill-color);\n",
              "      border-left-color: var(--fill-color);\n",
              "    }\n",
              "    20% {\n",
              "      border-color: transparent;\n",
              "      border-left-color: var(--fill-color);\n",
              "      border-top-color: var(--fill-color);\n",
              "    }\n",
              "    30% {\n",
              "      border-color: transparent;\n",
              "      border-left-color: var(--fill-color);\n",
              "      border-top-color: var(--fill-color);\n",
              "      border-right-color: var(--fill-color);\n",
              "    }\n",
              "    40% {\n",
              "      border-color: transparent;\n",
              "      border-right-color: var(--fill-color);\n",
              "      border-top-color: var(--fill-color);\n",
              "    }\n",
              "    60% {\n",
              "      border-color: transparent;\n",
              "      border-right-color: var(--fill-color);\n",
              "    }\n",
              "    80% {\n",
              "      border-color: transparent;\n",
              "      border-right-color: var(--fill-color);\n",
              "      border-bottom-color: var(--fill-color);\n",
              "    }\n",
              "    90% {\n",
              "      border-color: transparent;\n",
              "      border-bottom-color: var(--fill-color);\n",
              "    }\n",
              "  }\n",
              "</style>\n",
              "\n",
              "  <script>\n",
              "    async function quickchart(key) {\n",
              "      const quickchartButtonEl =\n",
              "        document.querySelector('#' + key + ' button');\n",
              "      quickchartButtonEl.disabled = true;  // To prevent multiple clicks.\n",
              "      quickchartButtonEl.classList.add('colab-df-spinner');\n",
              "      try {\n",
              "        const charts = await google.colab.kernel.invokeFunction(\n",
              "            'suggestCharts', [key], {});\n",
              "      } catch (error) {\n",
              "        console.error('Error during call to suggestCharts:', error);\n",
              "      }\n",
              "      quickchartButtonEl.classList.remove('colab-df-spinner');\n",
              "      quickchartButtonEl.classList.add('colab-df-quickchart-complete');\n",
              "    }\n",
              "    (() => {\n",
              "      let quickchartButtonEl =\n",
              "        document.querySelector('#df-be2d064c-86f0-4624-b5a2-220357f8754b button');\n",
              "      quickchartButtonEl.style.display =\n",
              "        google.colab.kernel.accessAllowed ? 'block' : 'none';\n",
              "    })();\n",
              "  </script>\n",
              "</div>\n",
              "\n",
              "  <div id=\"id_4aa3a988-2265-44fa-b4b1-d062767dd730\">\n",
              "    <style>\n",
              "      .colab-df-generate {\n",
              "        background-color: #E8F0FE;\n",
              "        border: none;\n",
              "        border-radius: 50%;\n",
              "        cursor: pointer;\n",
              "        display: none;\n",
              "        fill: #1967D2;\n",
              "        height: 32px;\n",
              "        padding: 0 0 0 0;\n",
              "        width: 32px;\n",
              "      }\n",
              "\n",
              "      .colab-df-generate:hover {\n",
              "        background-color: #E2EBFA;\n",
              "        box-shadow: 0px 1px 2px rgba(60, 64, 67, 0.3), 0px 1px 3px 1px rgba(60, 64, 67, 0.15);\n",
              "        fill: #174EA6;\n",
              "      }\n",
              "\n",
              "      [theme=dark] .colab-df-generate {\n",
              "        background-color: #3B4455;\n",
              "        fill: #D2E3FC;\n",
              "      }\n",
              "\n",
              "      [theme=dark] .colab-df-generate:hover {\n",
              "        background-color: #434B5C;\n",
              "        box-shadow: 0px 1px 3px 1px rgba(0, 0, 0, 0.15);\n",
              "        filter: drop-shadow(0px 1px 2px rgba(0, 0, 0, 0.3));\n",
              "        fill: #FFFFFF;\n",
              "      }\n",
              "    </style>\n",
              "    <button class=\"colab-df-generate\" onclick=\"generateWithVariable('score_comparison')\"\n",
              "            title=\"Generate code using this dataframe.\"\n",
              "            style=\"display:none;\">\n",
              "\n",
              "  <svg xmlns=\"http://www.w3.org/2000/svg\" height=\"24px\"viewBox=\"0 0 24 24\"\n",
              "       width=\"24px\">\n",
              "    <path d=\"M7,19H8.4L18.45,9,17,7.55,7,17.6ZM5,21V16.75L18.45,3.32a2,2,0,0,1,2.83,0l1.4,1.43a1.91,1.91,0,0,1,.58,1.4,1.91,1.91,0,0,1-.58,1.4L9.25,21ZM18.45,9,17,7.55Zm-12,3A5.31,5.31,0,0,0,4.9,8.1,5.31,5.31,0,0,0,1,6.5,5.31,5.31,0,0,0,4.9,4.9,5.31,5.31,0,0,0,6.5,1,5.31,5.31,0,0,0,8.1,4.9,5.31,5.31,0,0,0,12,6.5,5.46,5.46,0,0,0,6.5,12Z\"/>\n",
              "  </svg>\n",
              "    </button>\n",
              "    <script>\n",
              "      (() => {\n",
              "      const buttonEl =\n",
              "        document.querySelector('#id_4aa3a988-2265-44fa-b4b1-d062767dd730 button.colab-df-generate');\n",
              "      buttonEl.style.display =\n",
              "        google.colab.kernel.accessAllowed ? 'block' : 'none';\n",
              "\n",
              "      buttonEl.onclick = () => {\n",
              "        google.colab.notebook.generateWithVariable('score_comparison');\n",
              "      }\n",
              "      })();\n",
              "    </script>\n",
              "  </div>\n",
              "\n",
              "    </div>\n",
              "  </div>\n"
            ],
            "application/vnd.google.colaboratory.intrinsic+json": {
              "type": "dataframe",
              "variable_name": "score_comparison",
              "summary": "{\n  \"name\": \"score_comparison\",\n  \"rows\": 5,\n  \"fields\": [\n    {\n      \"column\": \"Model\",\n      \"properties\": {\n        \"dtype\": \"string\",\n        \"num_unique_values\": 5,\n        \"samples\": [\n          \"Ridge Regression\",\n          \"XGBRegressor\",\n          \"Random Forest\"\n        ],\n        \"semantic_type\": \"\",\n        \"description\": \"\"\n      }\n    },\n    {\n      \"column\": \"R2-Score\",\n      \"properties\": {\n        \"dtype\": \"number\",\n        \"std\": 0.07094722526445905,\n        \"min\": 0.6295561858620138,\n        \"max\": 0.77155221369971,\n        \"num_unique_values\": 5,\n        \"samples\": [\n          0.6295561858620138,\n          0.77155221369971,\n          0.7642975678627126\n        ],\n        \"semantic_type\": \"\",\n        \"description\": \"\"\n      }\n    },\n    {\n      \"column\": \"MSE\",\n      \"properties\": {\n        \"dtype\": \"number\",\n        \"std\": 0.03141972093361994,\n        \"min\": 0.10117049210455936,\n        \"max\": 0.1640549185456582,\n        \"num_unique_values\": 5,\n        \"samples\": [\n          0.1640549185456582,\n          0.10117049210455936,\n          0.10438328790906126\n        ],\n        \"semantic_type\": \"\",\n        \"description\": \"\"\n      }\n    },\n    {\n      \"column\": \"K-Fold\",\n      \"properties\": {\n        \"dtype\": \"number\",\n        \"std\": 0.06608387712632169,\n        \"min\": 0.6284991501053312,\n        \"max\": 0.7598997198502033,\n        \"num_unique_values\": 5,\n        \"samples\": [\n          0.6284991501053312,\n          0.7598997198502033,\n          0.7522051586536348\n        ],\n        \"semantic_type\": \"\",\n        \"description\": \"\"\n      }\n    }\n  ]\n}"
            }
          },
          "metadata": {},
          "execution_count": 710
        }
      ]
    },
    {
      "cell_type": "code",
      "source": [
        "plt.figure(figsize=(13,7))\n",
        "sns.barplot(data=score_comparison,x='Model',y='R2-Score',palette='rainbow')\n",
        "plt.suptitle('R2_score VS Models')\n",
        "plt.xticks(ticks=range(0,5),labels=models.keys(),rotation=90)\n",
        "plt.tight_layout()\n",
        "plt.savefig('R2_score VS Models.jpeg')\n",
        "plt.show()\n"
      ],
      "metadata": {
        "colab": {
          "base_uri": "https://localhost:8080/",
          "height": 708
        },
        "id": "G1PYhG5WBhir",
        "outputId": "d120b313-4284-4523-98f2-e29298be3fe9"
      },
      "execution_count": 748,
      "outputs": [
        {
          "output_type": "display_data",
          "data": {
            "text/plain": [
              "<Figure size 1300x700 with 1 Axes>"
            ],
            "image/png": "[encoded data removed]"
          },
          "metadata": {}
        }
      ]
    },
    {
      "cell_type": "markdown",
      "source": [
        "Since XGBRegressor performed the best, using XGBRegressor as the model to predict the prices."
      ],
      "metadata": {
        "id": "-7sl65Pu6gaf"
      }
    },
    {
      "cell_type": "markdown",
      "source": [
        "### Hyper Parameter Tuning"
      ],
      "metadata": {
        "id": "dxiaQZFaqRi3"
      }
    },
    {
      "cell_type": "code",
      "source": [
        "from sklearn.model_selection import  GridSearchCV\n",
        "xgb=XGBRegressor()"
      ],
      "metadata": {
        "id": "B9n4pLT_p8IM"
      },
      "execution_count": 712,
      "outputs": []
    },
    {
      "cell_type": "code",
      "source": [
        "param_grid = {\n",
        "    'n_estimators': [100, 200, 300],\n",
        "    'max_depth': [3, 4, 5],\n",
        "    'learning_rate': [0.01, 0.1, 0.2],\n",
        "    'subsample': [0.7, 0.8, 0.9]\n",
        "}"
      ],
      "metadata": {
        "id": "Zbeb5_D5p5iV"
      },
      "execution_count": 713,
      "outputs": []
    },
    {
      "cell_type": "code",
      "source": [
        "grid_search = GridSearchCV(estimator=xgb, param_grid=param_grid, cv=3, verbose=2, n_jobs=-1)"
      ],
      "metadata": {
        "id": "OkEtlw8_p85c"
      },
      "execution_count": 714,
      "outputs": []
    },
    {
      "cell_type": "code",
      "source": [
        "grid_search.fit(X_train, y_train)"
      ],
      "metadata": {
        "colab": {
          "base_uri": "https://localhost:8080/",
          "height": 135
        },
        "id": "a1BKsto8p823",
        "outputId": "cb211207-45d1-4d7e-9903-40dbdde94875"
      },
      "execution_count": 715,
      "outputs": [
        {
          "output_type": "stream",
          "name": "stdout",
          "text": [
            "Fitting 3 folds for each of 81 candidates, totalling 243 fits\n"
          ]
        },
        {
          "output_type": "execute_result",
          "data": {
            "text/plain": [
              "GridSearchCV(cv=3,\n",
              "             estimator=XGBRegressor(base_score=None, booster=None,\n",
              "                                    callbacks=None, colsample_bylevel=None,\n",
              "                                    colsample_bynode=None,\n",
              "                                    colsample_bytree=None, device=None,\n",
              "                                    early_stopping_rounds=None,\n",
              "                                    enable_categorical=False, eval_metric=None,\n",
              "                                    feature_types=None, gamma=None,\n",
              "                                    grow_policy=None, importance_type=None,\n",
              "                                    interaction_constraints=None,\n",
              "                                    learning_rate=None, m...\n",
              "                                    max_cat_to_onehot=None, max_delta_step=None,\n",
              "                                    max_depth=None, max_leaves=None,\n",
              "                                    min_child_weight=None, missing=nan,\n",
              "                                    monotone_constraints=None,\n",
              "                                    multi_strategy=None, n_estimators=None,\n",
              "                                    n_jobs=None, num_parallel_tree=None,\n",
              "                                    random_state=None, ...),\n",
              "             n_jobs=-1,\n",
              "             param_grid={'learning_rate': [0.01, 0.1, 0.2],\n",
              "                         'max_depth': [3, 4, 5],\n",
              "                         'n_estimators': [100, 200, 300],\n",
              "                         'subsample': [0.7, 0.8, 0.9]},\n",
              "             verbose=2)"
            ],
            "text/html": [
              "<style>#sk-container-id-4 {color: black;background-color: white;}#sk-container-id-4 pre{padding: 0;}#sk-container-id-4 div.sk-toggleable {background-color: white;}#sk-container-id-4 label.sk-toggleable__label {cursor: pointer;display: block;width: 100%;margin-bottom: 0;padding: 0.3em;box-sizing: border-box;text-align: center;}#sk-container-id-4 label.sk-toggleable__label-arrow:before {content: \"▸\";float: left;margin-right: 0.25em;color: #696969;}#sk-container-id-4 label.sk-toggleable__label-arrow:hover:before {color: black;}#sk-container-id-4 div.sk-estimator:hover label.sk-toggleable__label-arrow:before {color: black;}#sk-container-id-4 div.sk-toggleable__content {max-height: 0;max-width: 0;overflow: hidden;text-align: left;background-color: #f0f8ff;}#sk-container-id-4 div.sk-toggleable__content pre {margin: 0.2em;color: black;border-radius: 0.25em;background-color: #f0f8ff;}#sk-container-id-4 input.sk-toggleable__control:checked~div.sk-toggleable__content {max-height: 200px;max-width: 100%;overflow: auto;}#sk-container-id-4 input.sk-toggleable__control:checked~label.sk-toggleable__label-arrow:before {content: \"▾\";}#sk-container-id-4 div.sk-estimator input.sk-toggleable__control:checked~label.sk-toggleable__label {background-color: #d4ebff;}#sk-container-id-4 div.sk-label input.sk-toggleable__control:checked~label.sk-toggleable__label {background-color: #d4ebff;}#sk-container-id-4 input.sk-hidden--visually {border: 0;clip: rect(1px 1px 1px 1px);clip: rect(1px, 1px, 1px, 1px);height: 1px;margin: -1px;overflow: hidden;padding: 0;position: absolute;width: 1px;}#sk-container-id-4 div.sk-estimator {font-family: monospace;background-color: #f0f8ff;border: 1px dotted black;border-radius: 0.25em;box-sizing: border-box;margin-bottom: 0.5em;}#sk-container-id-4 div.sk-estimator:hover {background-color: #d4ebff;}#sk-container-id-4 div.sk-parallel-item::after {content: \"\";width: 100%;border-bottom: 1px solid gray;flex-grow: 1;}#sk-container-id-4 div.sk-label:hover label.sk-toggleable__label {background-color: #d4ebff;}#sk-container-id-4 div.sk-serial::before {content: \"\";position: absolute;border-left: 1px solid gray;box-sizing: border-box;top: 0;bottom: 0;left: 50%;z-index: 0;}#sk-container-id-4 div.sk-serial {display: flex;flex-direction: column;align-items: center;background-color: white;padding-right: 0.2em;padding-left: 0.2em;position: relative;}#sk-container-id-4 div.sk-item {position: relative;z-index: 1;}#sk-container-id-4 div.sk-parallel {display: flex;align-items: stretch;justify-content: center;background-color: white;position: relative;}#sk-container-id-4 div.sk-item::before, #sk-container-id-4 div.sk-parallel-item::before {content: \"\";position: absolute;border-left: 1px solid gray;box-sizing: border-box;top: 0;bottom: 0;left: 50%;z-index: -1;}#sk-container-id-4 div.sk-parallel-item {display: flex;flex-direction: column;z-index: 1;position: relative;background-color: white;}#sk-container-id-4 div.sk-parallel-item:first-child::after {align-self: flex-end;width: 50%;}#sk-container-id-4 div.sk-parallel-item:last-child::after {align-self: flex-start;width: 50%;}#sk-container-id-4 div.sk-parallel-item:only-child::after {width: 0;}#sk-container-id-4 div.sk-dashed-wrapped {border: 1px dashed gray;margin: 0 0.4em 0.5em 0.4em;box-sizing: border-box;padding-bottom: 0.4em;background-color: white;}#sk-container-id-4 div.sk-label label {font-family: monospace;font-weight: bold;display: inline-block;line-height: 1.2em;}#sk-container-id-4 div.sk-label-container {text-align: center;}#sk-container-id-4 div.sk-container {/* jupyter's `normalize.less` sets `[hidden] { display: none; }` but bootstrap.min.css set `[hidden] { display: none !important; }` so we also need the `!important` here to be able to override the default hidden behavior on the sphinx rendered scikit-learn.org. See: https://github.com/scikit-learn/scikit-learn/issues/21755 */display: inline-block !important;position: relative;}#sk-container-id-4 div.sk-text-repr-fallback {display: none;}</style><div id=\"sk-container-id-4\" class=\"sk-top-container\"><div class=\"sk-text-repr-fallback\"><pre>GridSearchCV(cv=3,\n",
              "             estimator=XGBRegressor(base_score=None, booster=None,\n",
              "                                    callbacks=None, colsample_bylevel=None,\n",
              "                                    colsample_bynode=None,\n",
              "                                    colsample_bytree=None, device=None,\n",
              "                                    early_stopping_rounds=None,\n",
              "                                    enable_categorical=False, eval_metric=None,\n",
              "                                    feature_types=None, gamma=None,\n",
              "                                    grow_policy=None, importance_type=None,\n",
              "                                    interaction_constraints=None,\n",
              "                                    learning_rate=None, m...\n",
              "                                    max_cat_to_onehot=None, max_delta_step=None,\n",
              "                                    max_depth=None, max_leaves=None,\n",
              "                                    min_child_weight=None, missing=nan,\n",
              "                                    monotone_constraints=None,\n",
              "                                    multi_strategy=None, n_estimators=None,\n",
              "                                    n_jobs=None, num_parallel_tree=None,\n",
              "                                    random_state=None, ...),\n",
              "             n_jobs=-1,\n",
              "             param_grid={&#x27;learning_rate&#x27;: [0.01, 0.1, 0.2],\n",
              "                         &#x27;max_depth&#x27;: [3, 4, 5],\n",
              "                         &#x27;n_estimators&#x27;: [100, 200, 300],\n",
              "                         &#x27;subsample&#x27;: [0.7, 0.8, 0.9]},\n",
              "             verbose=2)</pre><b>In a Jupyter environment, please rerun this cell to show the HTML representation or trust the notebook. <br />On GitHub, the HTML representation is unable to render, please try loading this page with nbviewer.org.</b></div><div class=\"sk-container\" hidden><div class=\"sk-item sk-dashed-wrapped\"><div class=\"sk-label-container\"><div class=\"sk-label sk-toggleable\"><input class=\"sk-toggleable__control sk-hidden--visually\" id=\"sk-estimator-id-8\" type=\"checkbox\" ><label for=\"sk-estimator-id-8\" class=\"sk-toggleable__label sk-toggleable__label-arrow\">GridSearchCV</label><div class=\"sk-toggleable__content\"><pre>GridSearchCV(cv=3,\n",
              "             estimator=XGBRegressor(base_score=None, booster=None,\n",
              "                                    callbacks=None, colsample_bylevel=None,\n",
              "                                    colsample_bynode=None,\n",
              "                                    colsample_bytree=None, device=None,\n",
              "                                    early_stopping_rounds=None,\n",
              "                                    enable_categorical=False, eval_metric=None,\n",
              "                                    feature_types=None, gamma=None,\n",
              "                                    grow_policy=None, importance_type=None,\n",
              "                                    interaction_constraints=None,\n",
              "                                    learning_rate=None, m...\n",
              "                                    max_cat_to_onehot=None, max_delta_step=None,\n",
              "                                    max_depth=None, max_leaves=None,\n",
              "                                    min_child_weight=None, missing=nan,\n",
              "                                    monotone_constraints=None,\n",
              "                                    multi_strategy=None, n_estimators=None,\n",
              "                                    n_jobs=None, num_parallel_tree=None,\n",
              "                                    random_state=None, ...),\n",
              "             n_jobs=-1,\n",
              "             param_grid={&#x27;learning_rate&#x27;: [0.01, 0.1, 0.2],\n",
              "                         &#x27;max_depth&#x27;: [3, 4, 5],\n",
              "                         &#x27;n_estimators&#x27;: [100, 200, 300],\n",
              "                         &#x27;subsample&#x27;: [0.7, 0.8, 0.9]},\n",
              "             verbose=2)</pre></div></div></div><div class=\"sk-parallel\"><div class=\"sk-parallel-item\"><div class=\"sk-item\"><div class=\"sk-label-container\"><div class=\"sk-label sk-toggleable\"><input class=\"sk-toggleable__control sk-hidden--visually\" id=\"sk-estimator-id-9\" type=\"checkbox\" ><label for=\"sk-estimator-id-9\" class=\"sk-toggleable__label sk-toggleable__label-arrow\">estimator: XGBRegressor</label><div class=\"sk-toggleable__content\"><pre>XGBRegressor(base_score=None, booster=None, callbacks=None,\n",
              "             colsample_bylevel=None, colsample_bynode=None,\n",
              "             colsample_bytree=None, device=None, early_stopping_rounds=None,\n",
              "             enable_categorical=False, eval_metric=None, feature_types=None,\n",
              "             gamma=None, grow_policy=None, importance_type=None,\n",
              "             interaction_constraints=None, learning_rate=None, max_bin=None,\n",
              "             max_cat_threshold=None, max_cat_to_onehot=None,\n",
              "             max_delta_step=None, max_depth=None, max_leaves=None,\n",
              "             min_child_weight=None, missing=nan, monotone_constraints=None,\n",
              "             multi_strategy=None, n_estimators=None, n_jobs=None,\n",
              "             num_parallel_tree=None, random_state=None, ...)</pre></div></div></div><div class=\"sk-serial\"><div class=\"sk-item\"><div class=\"sk-estimator sk-toggleable\"><input class=\"sk-toggleable__control sk-hidden--visually\" id=\"sk-estimator-id-10\" type=\"checkbox\" ><label for=\"sk-estimator-id-10\" class=\"sk-toggleable__label sk-toggleable__label-arrow\">XGBRegressor</label><div class=\"sk-toggleable__content\"><pre>XGBRegressor(base_score=None, booster=None, callbacks=None,\n",
              "             colsample_bylevel=None, colsample_bynode=None,\n",
              "             colsample_bytree=None, device=None, early_stopping_rounds=None,\n",
              "             enable_categorical=False, eval_metric=None, feature_types=None,\n",
              "             gamma=None, grow_policy=None, importance_type=None,\n",
              "             interaction_constraints=None, learning_rate=None, max_bin=None,\n",
              "             max_cat_threshold=None, max_cat_to_onehot=None,\n",
              "             max_delta_step=None, max_depth=None, max_leaves=None,\n",
              "             min_child_weight=None, missing=nan, monotone_constraints=None,\n",
              "             multi_strategy=None, n_estimators=None, n_jobs=None,\n",
              "             num_parallel_tree=None, random_state=None, ...)</pre></div></div></div></div></div></div></div></div></div></div>"
            ]
          },
          "metadata": {},
          "execution_count": 715
        }
      ]
    },
    {
      "cell_type": "code",
      "source": [
        "best_params = grid_search.best_params_\n",
        "print(\"Best Hyperparameters:\", best_params)"
      ],
      "metadata": {
        "colab": {
          "base_uri": "https://localhost:8080/"
        },
        "id": "VtOd5uw_p80M",
        "outputId": "14c7ef3a-eef8-4ee5-bc03-edc52954d195"
      },
      "execution_count": 716,
      "outputs": [
        {
          "output_type": "stream",
          "name": "stdout",
          "text": [
            "Best Hyperparameters: {'learning_rate': 0.1, 'max_depth': 5, 'n_estimators': 300, 'subsample': 0.8}\n"
          ]
        }
      ]
    },
    {
      "cell_type": "code",
      "source": [
        "best_model = grid_search.best_estimator_"
      ],
      "metadata": {
        "id": "19pd0P6Qp8xb"
      },
      "execution_count": 717,
      "outputs": []
    },
    {
      "cell_type": "code",
      "source": [
        "y_pred = best_model.predict(X_test)"
      ],
      "metadata": {
        "id": "GAENwf1-qESx"
      },
      "execution_count": 718,
      "outputs": []
    },
    {
      "cell_type": "code",
      "source": [
        "r2=r2_score(y_test,y_pred)\n",
        "mse = mean_squared_error(y_test, y_pred)\n",
        "print('R2: ',r2)\n",
        "print('MSE:',mse)"
      ],
      "metadata": {
        "colab": {
          "base_uri": "https://localhost:8080/"
        },
        "id": "djci9F2wqEr-",
        "outputId": "93843441-4aa0-473c-c424-e27dc78a01a6"
      },
      "execution_count": 719,
      "outputs": [
        {
          "output_type": "stream",
          "name": "stdout",
          "text": [
            "R2:  0.7778353095021389\n",
            "MSE: 0.09838795739688554\n"
          ]
        }
      ]
    },
    {
      "cell_type": "markdown",
      "source": [
        "Hyper Parameter Tuning only slightly improved the performance of the model."
      ],
      "metadata": {
        "id": "A3fSxL1Vr6Ce"
      }
    },
    {
      "cell_type": "markdown",
      "source": [
        "### Feature Selection"
      ],
      "metadata": {
        "id": "Owvr5mlY6qlM"
      }
    },
    {
      "cell_type": "code",
      "source": [
        "from sklearn.feature_selection import RFE\n"
      ],
      "metadata": {
        "id": "LOT45eyPiNT9"
      },
      "execution_count": 720,
      "outputs": []
    },
    {
      "cell_type": "code",
      "source": [
        "rfe = RFE(best_model, n_features_to_select=10)"
      ],
      "metadata": {
        "id": "Ba9sZPEcilV2"
      },
      "execution_count": 721,
      "outputs": []
    },
    {
      "cell_type": "code",
      "source": [
        "rfe = rfe.fit(X, y)"
      ],
      "metadata": {
        "id": "DfowUPUtiqXu"
      },
      "execution_count": 722,
      "outputs": []
    },
    {
      "cell_type": "code",
      "source": [
        "rfe.get_feature_names_out()"
      ],
      "metadata": {
        "colab": {
          "base_uri": "https://localhost:8080/"
        },
        "id": "X_oarWw1nm4y",
        "outputId": "fd68e6a6-046a-4c20-ff0d-276476c37779"
      },
      "execution_count": 723,
      "outputs": [
        {
          "output_type": "execute_result",
          "data": {
            "text/plain": [
              "array(['room_type', 'accommodates', 'bathrooms', 'city', 'latitude',\n",
              "       'longitude', 'review_scores_rating', 'zipcode', 'bedrooms', 'TV'],\n",
              "      dtype=object)"
            ]
          },
          "metadata": {},
          "execution_count": 723
        }
      ]
    },
    {
      "cell_type": "code",
      "source": [
        "X_selected = X[rfe.get_feature_names_out()]"
      ],
      "metadata": {
        "id": "RnO1IuGliutt"
      },
      "execution_count": 724,
      "outputs": []
    },
    {
      "cell_type": "code",
      "source": [
        "X_train, X_test, y_train, y_test = train_test_split(X_selected, y, test_size=0.2, random_state=18)"
      ],
      "metadata": {
        "id": "zIjd6T-lZlGK"
      },
      "execution_count": 725,
      "outputs": []
    },
    {
      "cell_type": "code",
      "source": [
        "best_model.fit(X_train, y_train)\n",
        "y_pred = best_model.predict(X_test)\n",
        "r2=r2_score(y_test,y_pred)\n",
        "mse = mean_squared_error(y_test, y_pred)\n",
        "print('R2: ',r2)\n",
        "print('MSE:',mse)\n"
      ],
      "metadata": {
        "colab": {
          "base_uri": "https://localhost:8080/"
        },
        "id": "mRS5xWr_537g",
        "outputId": "6cb437ac-269f-4ba5-abd3-5cc978503db7"
      },
      "execution_count": 726,
      "outputs": [
        {
          "output_type": "stream",
          "name": "stdout",
          "text": [
            "R2:  0.7633358699554296\n",
            "MSE: 0.10611916147427924\n"
          ]
        }
      ]
    },
    {
      "cell_type": "markdown",
      "source": [
        "Feature selection did not improve the performance of the model"
      ],
      "metadata": {
        "id": "uaVlWg0ooD3O"
      }
    },
    {
      "cell_type": "code",
      "source": [
        "plt.scatter(y_test,y_pred)\n",
        "plt.xlabel('Actual Answer')\n",
        "plt.ylabel('Prediction')\n",
        "plt.plot(y_test,y_test,color='blue')\n",
        "plt.show()"
      ],
      "metadata": {
        "colab": {
          "base_uri": "https://localhost:8080/",
          "height": 453
        },
        "id": "3orseIRbuYpo",
        "outputId": "43a245e0-e7e8-4fe8-dd57-76f19632bebe"
      },
      "execution_count": 727,
      "outputs": [
        {
          "output_type": "display_data",
          "data": {
            "text/plain": [
              "<Figure size 640x480 with 1 Axes>"
            ],
            "image/png": "[encoded data removed]"
          },
          "metadata": {}
        }
      ]
    },
    {
      "cell_type": "markdown",
      "source": [
        "Creating a Prediction Function"
      ],
      "metadata": {
        "id": "BB48p3eGHDte"
      }
    },
    {
      "cell_type": "code",
      "source": [
        "def prediction(input):\n",
        "  result=best_model.predict([input])\n",
        "  return result\n"
      ],
      "metadata": {
        "id": "2qKW0cnVCj3r"
      },
      "execution_count": 728,
      "outputs": []
    },
    {
      "cell_type": "code",
      "source": [
        "y[3]"
      ],
      "metadata": {
        "colab": {
          "base_uri": "https://localhost:8080/"
        },
        "id": "XBk_nod_eBcJ",
        "outputId": "547b0d54-56e2-495a-b9ec-2167a94f66cc"
      },
      "execution_count": 737,
      "outputs": [
        {
          "output_type": "execute_result",
          "data": {
            "text/plain": [
              "4.442651256490317"
            ]
          },
          "metadata": {},
          "execution_count": 737
        }
      ]
    },
    {
      "cell_type": "code",
      "source": [
        "X_selected.iloc[3]"
      ],
      "metadata": {
        "colab": {
          "base_uri": "https://localhost:8080/"
        },
        "id": "HI9MbeSFeE3J",
        "outputId": "6158a7a4-1a9c-4414-c1bc-128a1e3a2c31"
      },
      "execution_count": 738,
      "outputs": [
        {
          "output_type": "execute_result",
          "data": {
            "text/plain": [
              "room_type                   1.000000\n",
              "accommodates                2.000000\n",
              "bathrooms                   1.000000\n",
              "city                        5.000000\n",
              "latitude                   37.753164\n",
              "longitude                -122.429526\n",
              "review_scores_rating      100.000000\n",
              "zipcode                 94131.000000\n",
              "bedrooms                    1.000000\n",
              "TV                          1.000000\n",
              "Name: 3, dtype: float64"
            ]
          },
          "metadata": {},
          "execution_count": 738
        }
      ]
    },
    {
      "cell_type": "code",
      "source": [
        "example_pred=prediction(X_selected.iloc[3].values)"
      ],
      "metadata": {
        "id": "rAUcMkaiCjzK"
      },
      "execution_count": 735,
      "outputs": []
    },
    {
      "cell_type": "code",
      "source": [
        "print('Predicted:',example_pred[0],'\\nActual:',y[3])"
      ],
      "metadata": {
        "colab": {
          "base_uri": "https://localhost:8080/"
        },
        "id": "nHjnPjfaGcD4",
        "outputId": "07072c61-02ac-4e4e-bab1-c52b0a24a8fb"
      },
      "execution_count": 740,
      "outputs": [
        {
          "output_type": "stream",
          "name": "stdout",
          "text": [
            "Predicted: 4.900045 \n",
            "Actual: 4.442651256490317\n"
          ]
        }
      ]
    },
    {
      "cell_type": "code",
      "source": [
        "import pickle\n",
        "pickle.dump(best_model,open('airbnb.sav','wb'))"
      ],
      "metadata": {
        "id": "m33eX3_5xF9_"
      },
      "execution_count": 749,
      "outputs": []
    },
    {
      "cell_type": "code",
      "source": [],
      "metadata": {
        "id": "xzNnhwj-0ly0"
      },
      "execution_count": 734,
      "outputs": []
    }
  ]
}